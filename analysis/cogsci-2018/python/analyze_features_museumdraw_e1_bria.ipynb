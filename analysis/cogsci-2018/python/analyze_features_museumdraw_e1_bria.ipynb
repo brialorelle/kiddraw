{
 "cells": [
  {
   "cell_type": "markdown",
   "metadata": {},
   "source": [
    "### Load required libraries"
   ]
  },
  {
   "cell_type": "code",
   "execution_count": 1,
   "metadata": {
    "collapsed": true
   },
   "outputs": [],
   "source": [
    "import os\n",
    "import urllib, cStringIO\n",
    "\n",
    "import pymongo as pm\n",
    "\n",
    "import matplotlib\n",
    "from matplotlib import pylab, mlab, pyplot\n",
    "%matplotlib inline\n",
    "from IPython.core.pylabtools import figsize, getfigs\n",
    "plt = pyplot\n",
    "import seaborn as sns\n",
    "sns.set_context('poster')\n",
    "sns.set_style('white')\n",
    "\n",
    "import numpy as np\n",
    "from __future__ import division\n",
    "import scipy.stats as stats\n",
    "\n",
    "import pandas as pd\n",
    "import json\n",
    "import re\n",
    "\n",
    "from PIL import Image\n",
    "import base64\n",
    "\n",
    "import seaborn as sns"
   ]
  },
  {
   "cell_type": "markdown",
   "metadata": {},
   "source": [
    "### Retrieve preprocessed drawing session metadata"
   ]
  },
  {
   "cell_type": "code",
   "execution_count": 2,
   "metadata": {},
   "outputs": [
    {
     "name": "stdout",
     "output_type": "stream",
     "text": [
      "Number of sketches in metadata = 467\n"
     ]
    }
   ],
   "source": [
    "## define some paths\n",
    "top_level_dir = '/home/jefan/kiddraw'\n",
    "path_to_preprocessed_data = 'analysis/museumdraw/preprocessed_data/museumdraw_E1cd_data.csv'\n",
    "\n",
    "## load in preprocessed csv\n",
    "x = pd.read_csv(os.path.join(top_level_dir,path_to_preprocessed_data))\n",
    "x = x.drop(['Unnamed: 0'], axis=1)\n",
    "print 'Number of sketches in metadata = {}'.format(np.shape(x)[0])\n",
    "metadata_sketch_count = np.shape(x)[0]"
   ]
  },
  {
   "cell_type": "markdown",
   "metadata": {},
   "source": [
    "### Load VGG feature analysis libraries and scripts"
   ]
  },
  {
   "cell_type": "code",
   "execution_count": 3,
   "metadata": {
    "collapsed": true
   },
   "outputs": [],
   "source": [
    "import torch\n",
    "import torchvision.models as models\n",
    "import torch.nn as nn\n",
    "import torchvision.transforms as transforms\n",
    "import torch.nn.functional as F\n",
    "from torch.autograd import Variable\n",
    "\n",
    "import scipy.stats as stats\n",
    "from scipy.stats import norm\n",
    "import sklearn\n",
    "from sklearn.model_selection import train_test_split, cross_val_score\n",
    "from sklearn import svm\n",
    "from sklearn import linear_model, datasets, neighbors\n",
    "\n",
    "from sklearn.cluster import AffinityPropagation\n",
    "from sklearn import metrics\n",
    "\n",
    "from glob import glob\n",
    "import os\n",
    "\n",
    "import embedding as emb\n",
    "reload(emb)\n",
    "from embedding import *"
   ]
  },
  {
   "cell_type": "code",
   "execution_count": 4,
   "metadata": {},
   "outputs": [
    {
     "name": "stdout",
     "output_type": "stream",
     "text": [
      "Number of sketch paths = 467\n"
     ]
    }
   ],
   "source": [
    "# Retrieve sketch paths -- pngs rendered out in another step\n",
    "def list_files(path, ext='png'):\n",
    "    result = [y for x in os.walk(path) for y in glob(os.path.join(x[0], '*.%s' % ext))]\n",
    "    return result\n",
    "\n",
    "# extract metadata\n",
    "path_to_sketches = '/home/jefan/kiddraw/analysis/museumdraw/sketches'\n",
    "sketch_paths = sorted(list_files(path_to_sketches))\n",
    "\n",
    "## number of sketch paths \n",
    "print 'Number of sketch paths = {}'.format(len(sketch_paths))\n",
    "\n",
    "png_sketch_count = len(sketch_paths)"
   ]
  },
  {
   "cell_type": "markdown",
   "metadata": {},
   "source": [
    "## extract features"
   ]
  },
  {
   "cell_type": "markdown",
   "metadata": {},
   "source": [
    "**Dec 28 2017 (updated Jan 14 2018):** <br>\n",
    " - From command line, extract features using `extract_features.py`. The default arguments are for the kid's drawings. <br>\n",
    " - To extract kid's drawings, just run: `python extract_features.py` <br>\n",
    " - To extract (mini verison of) adult drawings, run: `python extract_features.py --data='/data2/jefan/quickDraw/png_mini' --layer_ind=6 --cohort='adult' --spatial_avg=True`"
   ]
  },
  {
   "cell_type": "code",
   "execution_count": 5,
   "metadata": {
    "collapsed": true
   },
   "outputs": [],
   "source": [
    "# z-score normalization to \"center\" the sketch embeddings\n",
    "def normalize(X):\n",
    "    X = X - X.mean(0)\n",
    "    X = X / np.maximum(X.std(0), 1e-5)\n",
    "    return X\n",
    "\n",
    "def get_class_means(X, labels):    \n",
    "    # load in and normalize features \n",
    "    _mu = np.zeros((len(np.unique(labels)), np.shape(X)[1]))        \n",
    "    X = normalize(X)\n",
    "    for vi, v in enumerate(np.unique(np.asarray(labels))):\n",
    "        Xv = X[labels == v]\n",
    "        nv = float(Xv.shape[0])\n",
    "        if nv > 0:\n",
    "            _mu[vi] = Xv.mean(0)\n",
    "    return _mu\n",
    "\n",
    "def get_class_means_not_normalized(X, labels):    \n",
    "    # load in and normalize features \n",
    "    _mu = np.zeros((len(np.unique(labels)), np.shape(X)[1]))        \n",
    "    for vi, v in enumerate(np.unique(np.asarray(labels))):\n",
    "        Xv = X[labels == v]\n",
    "        nv = float(Xv.shape[0])\n",
    "        if nv > 0:\n",
    "            _mu[vi] = Xv.mean(0)\n",
    "    return _mu\n",
    "\n",
    "def normalize_RDM(MAT):\n",
    "    X = MAT - MAT.mean(0).mean(0)\n",
    "    X = X / np.maximum(MAT.std(0).std(0), 1e-5)\n",
    "    return X\n",
    "\n",
    "def plot_rdm_by_class(Features,X,layer_num):\n",
    "    layers = ['P1','P2','P3','P4','P5','FC6','FC7']        \n",
    "    sns.set_style('white')\n",
    "    fig = plt.figure(figsize=(6,6))\n",
    "    labels = X.label.values\n",
    "    means = get_class_means(Features, labels)\n",
    "    CORRMAT = np.corrcoef(means)\n",
    "    plt.matshow(CORRMAT)\n",
    "    plt.colorbar()\n",
    "    if not os.path.exists('./plots'):\n",
    "        os.makedirs('./plots')\n",
    "    plt.savefig('./plots/RDM_by_view_{}.pdf'.format(layers[layer_num]))\n",
    "    \n",
    "def load_features(cohort, layer_num):\n",
    "    layers = ['P1','P2','P3','P4','P5','FC6','FC7']    \n",
    "    F = np.load('/home/jefan/kiddraw/analysis/museumdraw/python/features/FEATURES_{}_{}.npy'.format(layers[layer_num],cohort))\n",
    "    M = pd.read_csv('/home/jefan/kiddraw/analysis/museumdraw/python/features/METADATA_{}.csv'.format(cohort)) \n",
    "    M = M[['label','age','session']]\n",
    "    return F, M\n",
    "\n",
    "def remove_practice_trials(KF,KM):\n",
    "    '''\n",
    "    remove \"circle\" and \"triangle\" trials from dataset\n",
    "    '''\n",
    "    practice_objects = ['circle','triangle']\n",
    "    _KF = KF[~KM['label'].isin(practice_objects),:]\n",
    "    _KM = KM[~KM['label'].isin(practice_objects)]\n",
    "    return _KF, _KM"
   ]
  },
  {
   "cell_type": "code",
   "execution_count": 6,
   "metadata": {},
   "outputs": [
    {
     "name": "stdout",
     "output_type": "stream",
     "text": [
      "Number of features for 462 images in layer 3 = 512\n"
     ]
    }
   ],
   "source": [
    "## CHOOSE LAYER IND\n",
    "layer_ind = 3\n",
    "\n",
    "## load in kid features\n",
    "KF, KM = load_features('kid',layer_ind)\n",
    "KF, KM = remove_practice_trials(KF, KM)\n",
    "KM = KM.reset_index(drop=True)\n",
    "\n",
    "print 'Number of features for {} images in layer {} = {}'.format(np.shape(KF)[0], layer_ind, np.shape(KF)[1])\n",
    "feature_sketch_count = np.shape(KF)[0]"
   ]
  },
  {
   "cell_type": "code",
   "execution_count": 7,
   "metadata": {
    "collapsed": true
   },
   "outputs": [],
   "source": [
    "## Check that we have the right number of skethces\n",
    "numInvalidSketches = 5 ## see invalid_sketches .txt file\n",
    "assert(feature_sketch_count == png_sketch_count - numInvalidSketches) # features get rid of some invalid sketches\n",
    "assert(metadata_sketch_count == png_sketch_count) # these should be the same"
   ]
  },
  {
   "cell_type": "markdown",
   "metadata": {},
   "source": [
    "### Separate drawings according to the coarse age of the child"
   ]
  },
  {
   "cell_type": "code",
   "execution_count": 8,
   "metadata": {
    "collapsed": true
   },
   "outputs": [],
   "source": [
    "## add additional column that coarse grains age\n",
    "def coarse_grain_age(row):\n",
    "    if row['age'] > 6:\n",
    "        val = 'older'\n",
    "    elif row['age'] <= 6:\n",
    "        val = 'younger'\n",
    "    return val\n",
    "\n",
    "KM['coarse_age'] = KM.apply(coarse_grain_age, axis=1)"
   ]
  },
  {
   "cell_type": "code",
   "execution_count": 9,
   "metadata": {},
   "outputs": [
    {
     "name": "stdout",
     "output_type": "stream",
     "text": [
      "We have 37 labels that are common to both younger and older kid cohorts.\n"
     ]
    }
   ],
   "source": [
    "## subset labels that have at least some drawings of them from each age category\n",
    "younger_labels = KM[KM['coarse_age'] == 'younger']['label'].values\n",
    "older_labels = KM[KM['coarse_age'] == 'older']['label'].values\n",
    "\n",
    "## list of labels that are in both younger and older age categories\n",
    "common_labels = list(np.intersect1d(younger_labels,older_labels))\n",
    "\n",
    "print 'We have {} labels that are common to both younger and older kid cohorts.'.format(len(common_labels))"
   ]
  },
  {
   "cell_type": "code",
   "execution_count": null,
   "metadata": {
    "collapsed": true
   },
   "outputs": [],
   "source": []
  },
  {
   "cell_type": "code",
   "execution_count": 10,
   "metadata": {},
   "outputs": [
    {
     "name": "stdout",
     "output_type": "stream",
     "text": [
      "We have 27 classes with sufficient data.\n"
     ]
    }
   ],
   "source": [
    "def subset_labels(F,M, labels):\n",
    "    '''\n",
    "    if labels == common_labels, then only include labels that are common to younger and older cohort\n",
    "    if labels == sufficient_data_labels, then subset by list of labels in which we have 'sufficient data', i.e., have >=thresh drawings/class\n",
    "    '''\n",
    "    _F = F[M['label'].isin(labels),:]\n",
    "    _M = M[M['label'].isin(labels)]\n",
    "    return _F, _M\n",
    "\n",
    "## get list of labels in which we have 'sufficient data', i.e., have >=3 drawings/class\n",
    "thresh = 3\n",
    "sufficient_data_labels = [] \n",
    "for cl in common_labels:\n",
    "    num_young_sketches = len(np.where(KM[KM.label==cl]['coarse_age'].values=='younger')[0])\n",
    "    num_older_sketches = len(np.where(KM[KM.label==cl]['coarse_age'].values=='older')[0])\n",
    "    if (num_young_sketches>=thresh) & (num_older_sketches>=thresh):\n",
    "        sufficient_data_labels.append(cl)        \n",
    "       \n",
    "print 'We have {} classes with sufficient data.'.format(len(sufficient_data_labels))\n"
   ]
  },
  {
   "cell_type": "code",
   "execution_count": 11,
   "metadata": {},
   "outputs": [
    {
     "name": "stdout",
     "output_type": "stream",
     "text": [
      "We have 205 drawings in the older cohort\n",
      "We have 191 drawings in the younger cohort\n"
     ]
    }
   ],
   "source": [
    "## subset to only use the labels with either COMMON LABELS or SUFFICIENT DATA (see cell above)\n",
    "KF, KM = subset_labels(KF, KM, sufficient_data_labels)\n",
    "KM = KM.reset_index(drop=True)\n",
    "\n",
    "## output final number of drawings\n",
    "older=KM[KM['coarse_age'] == 'older']\n",
    "younger=KM[KM['coarse_age'] == 'younger']\n",
    "\n",
    "print 'We have {} drawings in the older cohort'.format(np.shape(older)[0])\n",
    "print 'We have {} drawings in the younger cohort'.format(np.shape(younger)[0])\n"
   ]
  },
  {
   "cell_type": "code",
   "execution_count": null,
   "metadata": {
    "collapsed": true
   },
   "outputs": [],
   "source": []
  },
  {
   "cell_type": "code",
   "execution_count": 12,
   "metadata": {
    "collapsed": true
   },
   "outputs": [],
   "source": [
    "## Load sets for older vs. younger children\n",
    "ind = KM.index[KM['coarse_age'] == 'older']\n",
    "KM_older = KM.loc[ind]\n",
    "KF_older = KF[ind.tolist()]\n",
    "\n",
    "ind2 = KM.index[KM['coarse_age'] == 'younger']\n",
    "KM_younger = KM.loc[ind2]\n",
    "KF_younger = KF[ind2.tolist()]"
   ]
  },
  {
   "cell_type": "markdown",
   "metadata": {},
   "source": [
    "#### Get distribution of drawings across label and coarse age category "
   ]
  },
  {
   "cell_type": "code",
   "execution_count": null,
   "metadata": {
    "collapsed": true
   },
   "outputs": [],
   "source": [
    "sns.set_context('poster')\n",
    "plt.figure(figsize=(20,6))\n",
    "sns.countplot(data=KM,\n",
    "           x='label',\n",
    "           hue='coarse_age')\n",
    "labels = np.unique(KM.label.values)\n",
    "h = plt.xticks(range(len(labels)), labels, fontsize=16,rotation='vertical')\n",
    "plt.axhline(3,linestyle='dashed',color='black')\n",
    "plt.axhline(5,linestyle='dashed',color='gray')\n",
    "plt.ylim(0,18)\n",
    "if not os.path.exists('./plots'):\n",
    "    os.makedirs('./plots')\n",
    "plt.savefig('./plots/drawing_counts_by_label_and_coarse_age.pdf', bbox_inches=\"tight\")"
   ]
  },
  {
   "cell_type": "code",
   "execution_count": 33,
   "metadata": {},
   "outputs": [
    {
     "data": {
      "image/png": "[encoded data removed]",
      "text/plain": [
       "<matplotlib.figure.Figure at 0x7ff538a61dd0>"
      ]
     },
     "metadata": {},
     "output_type": "display_data"
    }
   ],
   "source": [
    "sns.set_context('poster')\n",
    "plt.figure(figsize=(20,6))\n",
    "ax = sns.barplot(x=\"label\", y=\"age\", hue='coarse_age',data=KM)\n",
    "\n",
    "labels = np.unique(KM.label.values)\n",
    "h = plt.xticks(range(len(labels)), labels, fontsize=16,rotation='vertical')\n",
    "plt.ylim(0,18)\n",
    "if not os.path.exists('./plots'):\n",
    "    os.makedirs('./plots')\n",
    "plt.savefig('./plots/distribution_of_age_by_label.pdf', bbox_inches=\"tight\")"
   ]
  },
  {
   "cell_type": "code",
   "execution_count": null,
   "metadata": {
    "collapsed": true
   },
   "outputs": [],
   "source": [
    "## print list of classes for which we have \"fewer than X\" drawings in each age cohort and were thus excluded\n",
    "thresh = 3\n",
    "labels = np.unique(KM.label.values)\n",
    "age_bins = ['younger','older']\n",
    "labels_in_need = []\n",
    "y_counter = []\n",
    "o_counter = []\n",
    "for lab in labels:\n",
    "    y_count = sum(KM[KM['label']==lab]['coarse_age'] == 'younger')\n",
    "    o_count = sum(KM[KM['label']==lab]['coarse_age'] == 'older')\n",
    "    if (y_count<=thresh) | (o_count<=thresh):\n",
    "        labels_in_need.append(lab)\n",
    "        y_counter.append(y_count)\n",
    "        o_counter.append(o_count)\n",
    "o = pd.DataFrame([labels_in_need,y_counter,o_counter])\n",
    "o = o.transpose()\n",
    "o.columns = ['label','younger','older']\n",
    "o = o.sort_values(by=['younger','older'],ascending=False)\n",
    "o"
   ]
  },
  {
   "cell_type": "markdown",
   "metadata": {
    "collapsed": true
   },
   "source": [
    "### Extract adult drawing features"
   ]
  },
  {
   "cell_type": "code",
   "execution_count": 13,
   "metadata": {
    "collapsed": true
   },
   "outputs": [],
   "source": [
    "def load_adult_features(layer_ind,sufficient_data_labels):\n",
    "    ## load in adult features\n",
    "    AF, AM = load_features('adult',layer_ind)\n",
    "    AF, AM = remove_practice_trials(AF, AM)\n",
    "    AM = AM.reset_index(drop=True)\n",
    "    \n",
    "    ## set up lookup table to cover discrepancies in category label assignments\n",
    "    lookup = dict(zip(sufficient_data_labels,sufficient_data_labels))\n",
    "    if 'bike' in lookup.keys():\n",
    "        lookup['bike'] = 'bicycle'\n",
    "\n",
    "    ## subset adult feature matrix and metadata matrix by appropriate labelset\n",
    "    AF, AM = subset_labels(AF, AM, [lookup[i] for i in sufficient_data_labels])\n",
    "    AM = AM.reset_index(drop=True)  \n",
    "    \n",
    "    return AF, AM\n",
    "\n",
    "## apply clustering to organize RDM so that we can see some block diagonal structure\n",
    "def flatten(x):\n",
    "    return [item for sublist in x for item in sublist]"
   ]
  },
  {
   "cell_type": "code",
   "execution_count": 62,
   "metadata": {
    "collapsed": true
   },
   "outputs": [],
   "source": [
    "AF, AM = load_adult_features(layer_ind,sufficient_data_labels)"
   ]
  },
  {
   "cell_type": "code",
   "execution_count": null,
   "metadata": {
    "collapsed": true
   },
   "outputs": [],
   "source": []
  },
  {
   "cell_type": "markdown",
   "metadata": {
    "collapsed": true
   },
   "source": [
    "### Correlations between features in each layer by each class (e.g., object category)"
   ]
  },
  {
   "cell_type": "code",
   "execution_count": 40,
   "metadata": {},
   "outputs": [
    {
     "data": {
      "text/plain": [
       "[array(['apple', 'banana', 'bear', 'bicycle', 'bird', 'boat', 'bus', 'car',\n",
       "        'carrot', 'chair', 'cookie', 'couch', 'cup', 'dog', 'flower',\n",
       "        'foot', 'fork', 'frog', 'hat', 'ice cream', 'keys', 'phone',\n",
       "        'rabbit', 'shark', 'sheep', 'shoe', 'train'], dtype=object),\n",
       " array(['apple', 'banana', 'bear', 'bike', 'bird', 'boat', 'bus', 'car',\n",
       "        'carrot', 'chair', 'cookie', 'couch', 'cup', 'dog', 'flower',\n",
       "        'foot', 'fork', 'frog', 'hat', 'ice cream', 'keys', 'phone',\n",
       "        'rabbit', 'shark', 'sheep', 'shoe', 'train'], dtype=object)]"
      ]
     },
     "execution_count": 40,
     "metadata": {},
     "output_type": "execute_result"
    }
   ],
   "source": [
    "test=[np.unique(AM.label.values),np.unique(KM.label.values)]\n",
    "test"
   ]
  },
  {
   "cell_type": "code",
   "execution_count": 69,
   "metadata": {},
   "outputs": [
    {
     "name": "stdout",
     "output_type": "stream",
     "text": [
      "['bird' 'keys' 'dog' 'bus' 'bear' 'shoe' 'cup' 'car' 'shark' 'couch' 'bike'\n",
      " 'sheep' 'train' 'boat' 'apple' 'phone' 'foot' 'cookie' 'fork' 'frog'\n",
      " 'rabbit' 'banana' 'carrot' 'ice cream' 'hat' 'chair' 'flower']\n",
      "[ 0.00636296  0.04789547  0.21604111  0.26436677  0.26971228  0.27272856\n",
      "  0.28664406  0.29531705  0.30400687  0.32468963  0.34000327  0.36656945\n",
      "  0.37399087  0.40676172  0.43816397  0.45995385  0.46323938  0.53316696\n",
      "  0.54510301  0.56556441  0.56690864  0.57324989  0.57632355  0.58489432\n",
      "  0.59838522  0.70323266  0.73036304]\n"
     ]
    }
   ],
   "source": [
    "reallyRun = 1\n",
    "if reallyRun:\n",
    "    # make general function\n",
    "    def corr_cohort_classes(cohort1,cohort2,uniqueLabels):\n",
    "        if  np.shape(cohort1)==np.shape(cohort2): ## make sure same shape\n",
    "            classCor=np.zeros(np.shape(uniqueLabels)[0]) # open variable\n",
    "            for vi, v in enumerate(np.asarray(uniqueLabels)):\n",
    "                cohort1Vec = cohort1[uniqueLabels == v,:]\n",
    "                cohort2Vec = cohort2[uniqueLabels == v,:]\n",
    "                cohort1Vec=np.reshape(cohort1Vec,np.shape(cohort1Vec)[1],np.shape(cohort1Vec)[0]) # resahpe for corr\n",
    "                cohort2Vec=np.reshape(cohort2Vec,np.shape(cohort2Vec)[1],np.shape(cohort2Vec)[0])# resahpe for corr\n",
    "                classCor[vi]=stats.pearsonr(cohort1Vec,cohort2Vec)[0]\n",
    "            return classCor\n",
    "\n",
    "    uniqueLabels=np.unique(KM.label.values)\n",
    "    means_adult = get_class_means(AF, AM.label.values)\n",
    "    means_kid = get_class_means(KF, KM.label.values)\n",
    "    classCor=corr_cohort_classes(means_adult,means_kid,np.unique(KM.label.values))\n",
    "    sortInd=np.argsort(classCor)\n",
    "    print uniqueLabels[sortInd]\n",
    "    print classCor[sortInd]\n",
    "    \n",
    "    means_older = get_class_means(KF_older, KM_older.label.values)\n",
    "    means_younger = get_class_means(KF_younger, KM_younger.label.values)    \n",
    "    \n",
    "    classCor_Younger=corr_cohort_classes(means_adult,means_younger,np.unique(KM.label.values))\n",
    "    sortIndYounger=np.argsort(classCor_Younger)\n",
    "\n",
    "    classCor_Older=corr_cohort_classes(means_adult,means_older,np.unique(KM.label.values))\n",
    "    sortIndOlder=np.argsort(classCor_Older)\n",
    "\n",
    "    df = pd.DataFrame({\n",
    "        'Labels-Older':  uniqueLabels[sortIndOlder],\n",
    "        'Correlations-Older': classCor_Older[sortIndOlder],\n",
    "        'Labels-Younger': uniqueLabels[sortIndYounger],\n",
    "        'Correlations-Younger': classCor_Younger[sortIndYounger],\n",
    "        'Labels-AllKids':uniqueLabels[sortInd],\n",
    "        'Correlations-AllKids':classCor[sortInd],\n",
    "    })\n"
   ]
  },
  {
   "cell_type": "code",
   "execution_count": 70,
   "metadata": {},
   "outputs": [
    {
     "data": {
      "image/png": "[encoded data removed]",
      "text/plain": [
       "<matplotlib.figure.Figure at 0x7ff5376d1d50>"
      ]
     },
     "metadata": {},
     "output_type": "display_data"
    }
   ],
   "source": [
    "sns.set_context('talk')\n",
    "sns.set_style('white')\n",
    "fig, ax = plt.subplots(figsize=(10,5))\n",
    "width=.5\n",
    "ax.bar(np.arange(0,27)+width,classCor_Older[sortInd], width-.1, color=[0.3, 0.3, 0.3])\n",
    "ax.bar(np.arange(0,27),classCor_Younger[sortInd], width-.1, color=[0.6, 0.6, 0.6])\n",
    "ax.set_xticks(np.arange(0,27))\n",
    "ax.set_xticklabels(uniqueLabels[sortInd],fontsize=16,rotation='vertical')\n",
    "\n",
    "# ax.xticks(range(len(uniqueLabels[sortInd])), uniqueLabels[sortInd], fontsize=16,rotation='vertical')\n",
    "plt.savefig('./plots/SimpleCorr_{}.pdf'.format(layer_ind),bbox_inches=\"tight\")"
   ]
  },
  {
   "cell_type": "markdown",
   "metadata": {},
   "source": [
    "### Get varilaibty across classes"
   ]
  },
  {
   "cell_type": "code",
   "execution_count": 41,
   "metadata": {},
   "outputs": [
    {
     "data": {
      "text/plain": [
       "(27, 4096)"
      ]
     },
     "execution_count": 41,
     "metadata": {},
     "output_type": "execute_result"
    }
   ],
   "source": [
    "def get_class_ed(X, labels):    \n",
    "    # load in and normalize features \n",
    "    _mu = np.zeros((len(np.unique(labels)), np.shape(X)[1]))        \n",
    "    X = normalize(X)\n",
    "    for vi, v in enumerate(np.unique(np.asarray(labels))):\n",
    "        Xv = X[labels == v]\n",
    "        nv = float(Xv.shape[0])\n",
    "        if nv > 0:\n",
    "            _mu[vi] = Xv.std(0)\n",
    "    return _mu"
   ]
  },
  {
   "cell_type": "code",
   "execution_count": 46,
   "metadata": {
    "collapsed": true
   },
   "outputs": [],
   "source": [
    "std_adult = get_class_std(AF, AM.label.values)\n",
    "avg_std_adult = np.mean(std_adult,1)\n",
    "\n",
    "std_older = get_class_std(KF_older, KM_older.label.values)\n",
    "avg_std_older = np.mean(std_older,1)\n",
    "\n",
    "std_younger = get_class_std(KF_younger, KM_younger.label.values)\n",
    "avg_std_younger = np.mean(std_younger,1)\n"
   ]
  },
  {
   "cell_type": "code",
   "execution_count": 53,
   "metadata": {},
   "outputs": [
    {
     "data": {
      "text/plain": [
       "[<matplotlib.text.Text at 0x7ff537df2ed0>,\n",
       " <matplotlib.text.Text at 0x7ff537dc9390>,\n",
       " <matplotlib.text.Text at 0x7ff537bb5510>,\n",
       " <matplotlib.text.Text at 0x7ff537bb5c10>,\n",
       " <matplotlib.text.Text at 0x7ff537bbf350>,\n",
       " <matplotlib.text.Text at 0x7ff537bbfa50>,\n",
       " <matplotlib.text.Text at 0x7ff537bcc190>,\n",
       " <matplotlib.text.Text at 0x7ff537bcc890>,\n",
       " <matplotlib.text.Text at 0x7ff537bccf90>,\n",
       " <matplotlib.text.Text at 0x7ff537bd76d0>,\n",
       " <matplotlib.text.Text at 0x7ff537bd7dd0>,\n",
       " <matplotlib.text.Text at 0x7ff537be3510>,\n",
       " <matplotlib.text.Text at 0x7ff537be3c10>,\n",
       " <matplotlib.text.Text at 0x7ff537b6e350>,\n",
       " <matplotlib.text.Text at 0x7ff537b6ea50>,\n",
       " <matplotlib.text.Text at 0x7ff537b79190>,\n",
       " <matplotlib.text.Text at 0x7ff537b79890>,\n",
       " <matplotlib.text.Text at 0x7ff537b79f90>,\n",
       " <matplotlib.text.Text at 0x7ff537b846d0>,\n",
       " <matplotlib.text.Text at 0x7ff537b84dd0>,\n",
       " <matplotlib.text.Text at 0x7ff537b90510>,\n",
       " <matplotlib.text.Text at 0x7ff537b90c10>,\n",
       " <matplotlib.text.Text at 0x7ff537b9b350>,\n",
       " <matplotlib.text.Text at 0x7ff537b9ba50>,\n",
       " <matplotlib.text.Text at 0x7ff537ba5190>,\n",
       " <matplotlib.text.Text at 0x7ff537ba5890>,\n",
       " <matplotlib.text.Text at 0x7ff537ba5f90>]"
      ]
     },
     "execution_count": 53,
     "metadata": {},
     "output_type": "execute_result"
    },
    {
     "data": {
      "image/png": "[encoded data removed]",
      "text/plain": [
       "<matplotlib.figure.Figure at 0x7ff537e36bd0>"
      ]
     },
     "metadata": {},
     "output_type": "display_data"
    }
   ],
   "source": [
    "sns.set_context('talk')\n",
    "sns.set_style('white')\n",
    "fig, ax = plt.subplots(figsize=(10,5))\n",
    "width=.5\n",
    "\n",
    "ax.bar(np.arange(0,27)+width*2/3,avg_std_younger[sortInd], width/3, color=[0.3, 0.3, 0.3])\n",
    "ax.bar(np.arange(0,27)+width*1/3,avg_std_older[sortInd], width/3, color=[0.6, 0.6, 0.6])\n",
    "ax.bar(np.arange(0,27),avg_std_adult[sortInd], width/3, color=[0, 0, 1])\n",
    "ax.set_xticks(np.arange(0,27))\n",
    "ax.set_xticklabels(uniqueLabels[sortInd],fontsize=16,rotation='vertical')\n"
   ]
  },
  {
   "cell_type": "markdown",
   "metadata": {},
   "source": [
    "### Get sorting indexes for ploting RMDS"
   ]
  },
  {
   "cell_type": "code",
   "execution_count": null,
   "metadata": {
    "collapsed": true
   },
   "outputs": [],
   "source": [
    "## Load layer 6 features for adults and use these to sort\n",
    "AF_S, AM_S = load_adult_features(6,sufficient_data_labels)\n",
    "\n",
    "## retrieve alpha sorted labels from meta\n",
    "_labels = np.unique(AM_S.label.values)\n",
    "means = get_class_means(AF_S, AM_S.label.values)\n",
    "af = AffinityPropagation(damping=0.5).fit(means)\n",
    "labels = af.labels_\n",
    "cluster_centers_indices = af.cluster_centers_indices_\n",
    "n_clusters_ = len(cluster_centers_indices)\n",
    "\n",
    "ordered_objs = []\n",
    "print('Clusters')\n",
    "for k in range(n_clusters_):\n",
    "    class_members = labels == k\n",
    "    print _labels[class_members]\n",
    "    ordered_objs.append(list(_labels[class_members]))\n",
    "    \n",
    "ordered_objs = np.array(flatten(ordered_objs))\n",
    "\n",
    "# define standard order to be used for RDM's across layers\n",
    "standard_order = ordered_objs\n",
    "\n",
    "## index for sorting the alphabetical list of labels INTO the order specified by ordered_objs (clustered)\n",
    "sort_inds = [np.where(_labels==ordered_objs[i])[0][0] for i in np.arange(len(ordered_objs))]"
   ]
  },
  {
   "cell_type": "markdown",
   "metadata": {
    "collapsed": true
   },
   "source": [
    "### Representational Similarity Analyses"
   ]
  },
  {
   "cell_type": "code",
   "execution_count": null,
   "metadata": {
    "collapsed": true
   },
   "outputs": [],
   "source": [
    "layer_ind"
   ]
  },
  {
   "cell_type": "code",
   "execution_count": null,
   "metadata": {
    "collapsed": true
   },
   "outputs": [],
   "source": [
    "def get_and_plot_RDM(M,F,cohort,sort_inds, layer_ind):\n",
    "    ## sorted adult RDMs\n",
    "    labels = M.label.values\n",
    "    means = get_class_means(F, labels)\n",
    "    ordered_means = means[sort_inds,:]\n",
    "    sns.set_style('white')\n",
    "    CORRMAT = np.corrcoef(ordered_means)\n",
    "\n",
    "    sns.set_context('paper')\n",
    "    fig = plt.figure(figsize=(30,30))\n",
    "    plt.matshow(1-CORRMAT, vmin=0, vmax=2)\n",
    "    plt.xticks(range(len(ordered_objs)), ordered_objs, rotation=90);\n",
    "    plt.yticks(range(len(ordered_objs)), ordered_objs); \n",
    "    plt.colorbar()\n",
    "    for tick in pylab.gca().xaxis.iter_ticks():\n",
    "        tick[0].label2On = True\n",
    "        tick[0].label1On = False\n",
    "        tick[0].label2.set_rotation('vertical')\n",
    "        tick[0].tick1On = False\n",
    "        tick[0].tick2On = False\n",
    "    for tick in pylab.gca().yaxis.iter_ticks():\n",
    "        tick[0].tick1On = False\n",
    "        tick[0].tick2On = False  \n",
    "    RDM = CORRMAT\n",
    "    plt.gcf().subplots_adjust(left=0.5) \n",
    "    plt.savefig('./plots/RDM_{}_Layer_{}.pdf'.format(cohort, layer_ind), bbox_inches=\"tight\")\n",
    "    return RDM\n",
    "\n",
    "def showRDM(RDM,ordered_objs):\n",
    "    sns.set_context('paper')\n",
    "    fig = plt.figure(figsize=(30,30))\n",
    "    plt.matshow(RDM, vmin=0, vmax=2)\n",
    "    plt.xticks(range(len(ordered_objs)), ordered_objs, rotation=90);\n",
    "    plt.yticks(range(len(ordered_objs)), ordered_objs); \n",
    "    plt.colorbar()\n",
    "    for tick in pylab.gca().xaxis.iter_ticks():\n",
    "        tick[0].label2On = True\n",
    "        tick[0].label1On = False\n",
    "        tick[0].label2.set_rotation('vertical')\n",
    "        tick[0].tick1On = False\n",
    "        tick[0].tick2On = False\n",
    "    for tick in pylab.gca().yaxis.iter_ticks():\n",
    "        tick[0].tick1On = False\n",
    "        tick[0].tick2On = False  \n",
    "\n",
    "def get_RDM(M,F,sort_inds):\n",
    "    ## sorted adult RDMs\n",
    "    labels = M.label.values\n",
    "    means = get_class_means(F, labels)\n",
    "    ordered_means = means[sort_inds,:]    \n",
    "    RDM = np.corrcoef(ordered_means)\n",
    "    return RDM"
   ]
  },
  {
   "cell_type": "code",
   "execution_count": null,
   "metadata": {
    "collapsed": true
   },
   "outputs": [],
   "source": [
    "layer_ind"
   ]
  },
  {
   "cell_type": "code",
   "execution_count": null,
   "metadata": {
    "collapsed": true
   },
   "outputs": [],
   "source": [
    "## get and plot sorted adult RDM\n",
    "ARDM = get_and_plot_RDM(AM, AF,'adult',sort_inds,layer_ind)"
   ]
  },
  {
   "cell_type": "code",
   "execution_count": null,
   "metadata": {
    "collapsed": true
   },
   "outputs": [],
   "source": [
    "## get and plot sorted kid RDM collapsing across all ages\n",
    "KRDM = get_and_plot_RDM(KM, KF,'kid',sort_inds,layer_ind)"
   ]
  },
  {
   "cell_type": "code",
   "execution_count": null,
   "metadata": {
    "collapsed": true
   },
   "outputs": [],
   "source": [
    "## get RDM for older kids (7,8,9,10)\n",
    "ind = KM.index[KM['coarse_age'] == 'older']\n",
    "meta = KM.loc[ind]\n",
    "feat = KF[ind.tolist()]\n",
    "ORDM = get_and_plot_RDM(meta, feat,'older',sort_inds,layer_ind)"
   ]
  },
  {
   "cell_type": "code",
   "execution_count": null,
   "metadata": {
    "collapsed": true
   },
   "outputs": [],
   "source": [
    "## get RDM for younger kids (3,4,5,6)\n",
    "ind = KM.index[KM['coarse_age'] == 'younger']\n",
    "meta = KM.loc[ind]\n",
    "feat = KF[ind.tolist()]\n",
    "YRDM = get_and_plot_RDM(meta, feat,'younger',sort_inds,layer_ind)"
   ]
  },
  {
   "cell_type": "code",
   "execution_count": null,
   "metadata": {
    "collapsed": true
   },
   "outputs": [],
   "source": [
    "## print fc7 cross-cohort correlations\n",
    "\n",
    "dim = KRDM.shape[0]\n",
    "cor = stats.spearmanr(np.ravel(KRDM[np.triu_indices(dim,k=1)]),np.ravel(ARDM[np.triu_indices(dim,k=1)]))[0]\n",
    "print 'Correlation between adult and overall kid RDM: {}'.format(cor)\n",
    "print ' '\n",
    "dim = ORDM.shape[0]\n",
    "cor = stats.spearmanr(np.ravel(ORDM[np.triu_indices(dim,k=1)]),np.ravel(ARDM[np.triu_indices(dim,k=1)]))[0]\n",
    "print 'Correlation between adult and OLDER kid RDM: {}'.format(cor)\n",
    "print ' '\n",
    "dim = YRDM.shape[0]\n",
    "cor = stats.spearmanr(np.ravel(YRDM[np.triu_indices(dim,k=1)]),np.ravel(ARDM[np.triu_indices(dim,k=1)]))[0]\n",
    "print 'Correlation between adult and YOUNGER kid RDM: {}'.format(cor)\n",
    "print ' '\n",
    "dim = YRDM.shape[0]\n",
    "cor = stats.spearmanr(np.ravel(YRDM[np.triu_indices(dim,k=1)]),np.ravel(ORDM[np.triu_indices(dim,k=1)]))[0]\n",
    "print 'Correlation between OLDER and YOUNGER kid RDM: {}'.format(cor)"
   ]
  },
  {
   "cell_type": "markdown",
   "metadata": {},
   "source": [
    "## Classification Tests"
   ]
  },
  {
   "cell_type": "code",
   "execution_count": null,
   "metadata": {
    "collapsed": true
   },
   "outputs": [],
   "source": []
  },
  {
   "cell_type": "code",
   "execution_count": null,
   "metadata": {
    "collapsed": true
   },
   "outputs": [],
   "source": [
    "####  Classification test -- all children\n",
    "FEAT = KF\n",
    "LABELS = KM.label.values\n",
    "AGES = KM.age.values\n",
    "\n",
    "# single train/test split\n",
    "X_train, X_test, y_train, y_test = train_test_split(\n",
    "    FEAT, LABELS, test_size=0.25, random_state=0)\n",
    "# clf = svm.SVC(kernel='linear', C=1).fit(X_train, y_train) # ? not used, leaving for future use\n",
    "clf = linear_model.LogisticRegression(penalty='l2',C=1).fit(X_train, y_train)\n",
    "print clf.score(X_test, y_test)\n",
    "\n",
    "run_this = 0\n",
    "if run_this:\n",
    "    # cross-validated\n",
    "    clf = linear_model.LogisticRegression(penalty='l2')\n",
    "    scores = cross_val_score(clf, FEAT, LABELS, cv=3)\n",
    "    print(\"All children accuracy: %0.2f (SD = %0.2f)\" % (scores.mean(), scores.std())) # not sure why multiplying by 2, reporting just SD for now\n",
    "    "
   ]
  },
  {
   "cell_type": "code",
   "execution_count": null,
   "metadata": {
    "collapsed": true
   },
   "outputs": [],
   "source": []
  },
  {
   "cell_type": "code",
   "execution_count": null,
   "metadata": {
    "collapsed": true
   },
   "outputs": [],
   "source": [
    "### Make animacy lookup table and insert into dataframes"
   ]
  },
  {
   "cell_type": "code",
   "execution_count": null,
   "metadata": {
    "collapsed": true
   },
   "outputs": [],
   "source": [
    "animacy_lookup={'apple': 'inanimate',\n",
    " 'banana': 'inanimate',\n",
    " 'bear': 'animate',\n",
    " 'bicycle': 'inanimate',\n",
    " 'bike': 'inanimate',\n",
    " 'bird': 'animate',\n",
    " 'boat': 'inanimate',\n",
    " 'bus': 'inanimate',\n",
    " 'car': 'inanimate',\n",
    " 'carrot': 'inanimate',\n",
    " 'chair': 'inanimate',\n",
    " 'cookie': 'inanimate',\n",
    " 'couch': 'inanimate',\n",
    " 'cup': 'inanimate',\n",
    " 'dog': 'animate',\n",
    " 'flower': 'inanimate',\n",
    " 'foot': 'animate',\n",
    " 'fork': 'inanimate',\n",
    " 'frog': 'animate',\n",
    " 'hat': 'inanimate',\n",
    " 'ice cream': 'inanimate',\n",
    " 'keys': 'inanimate',\n",
    " 'phone': 'inanimate',\n",
    " 'rabbit': 'animate',\n",
    " 'shark': 'animate',\n",
    " 'sheep': 'animate',\n",
    " 'shoe': 'inanimate',\n",
    " 'train': 'inanimate'}\n",
    "\n",
    "##\n",
    "tripartite_lookup={'apple': 'small_inanimate',\n",
    " 'banana': 'small_inanimate',\n",
    " 'bear': 'animate',\n",
    " 'bicycle': 'big_inanimate',\n",
    " 'bike': 'big_inanimate',\n",
    " 'bird': 'animate',\n",
    " 'boat': 'big_inanimate',\n",
    " 'bus': 'big_inanimate',\n",
    " 'car': 'big_inanimate',\n",
    " 'carrot': 'small_inanimate',\n",
    " 'chair': 'big_inanimate',\n",
    " 'cookie': 'small_inanimate',\n",
    " 'couch': 'big_inanimate',\n",
    " 'cup': 'small_inanimate',\n",
    " 'dog': 'animate',\n",
    " 'flower': 'small_inanimate',\n",
    " 'foot': 'animate',\n",
    " 'fork': 'small_inanimate',\n",
    " 'frog': 'animate',\n",
    " 'hat': 'small_inanimate',\n",
    " 'ice cream': 'small_inanimate',\n",
    " 'keys': 'small_inanimate',\n",
    " 'phone': 'small_inanimate',\n",
    " 'rabbit': 'animate',\n",
    " 'shark': 'animate',\n",
    " 'sheep': 'animate',\n",
    " 'shoe': 'inanimate',\n",
    " 'train': 'big_inanimate'}\n"
   ]
  },
  {
   "cell_type": "code",
   "execution_count": null,
   "metadata": {
    "collapsed": true
   },
   "outputs": [],
   "source": [
    "## first for adults\n",
    "animacy = []\n",
    "tripartite = [] \n",
    "for vi, v in enumerate(np.asarray(AM.label)):\n",
    "      animacy.append(animacy_lookup[v])\n",
    "      tripartite.append(tripartite_lookup[v])\n",
    "AM['animacy'] = animacy\n",
    "AM['tripartite'] = tripartite\n",
    "\n",
    "## and for kids\n",
    "animacy=[]\n",
    "tripartite = [] \n",
    "for vi, v in enumerate(np.asarray(KM.label)):\n",
    "      animacy.append(animacy_lookup[v])\n",
    "      tripartite.append(tripartite_lookup[v])\n",
    "KM['animacy'] = animacy       \n",
    "KM['tripartite'] = tripartite     "
   ]
  },
  {
   "cell_type": "code",
   "execution_count": null,
   "metadata": {
    "collapsed": true
   },
   "outputs": [],
   "source": [
    "####  Classification tests - ANIMACY\n",
    "from sklearn.utils import shuffle ## for shuffle permutation testing"
   ]
  },
  {
   "cell_type": "code",
   "execution_count": null,
   "metadata": {
    "collapsed": true
   },
   "outputs": [],
   "source": [
    "FEAT = AF\n",
    "LABELS = AM.label.values\n",
    "AGES = AM.age.values\n",
    "print LABELS\n",
    "\n",
    "# single train/test split\n",
    "X_train, X_test, y_train, y_test = train_test_split(\n",
    "    FEAT, LABELS, test_size=0.25, random_state=0)\n",
    "# clf = svm.SVC(kernel='linear', C=1).fit(X_train, y_train) # ? not used, leaving for future use\n",
    "clf = linear_model.LogisticRegression(penalty='l2',C=1).fit(X_train, y_train)\n",
    "print clf.score(X_test, y_test)\n",
    "\n",
    "run_this = 1\n",
    "if run_this:\n",
    "    # cross-validated\n",
    "    clf = linear_model.LogisticRegression(penalty='l2')\n",
    "    scores = cross_val_score(clf, FEAT, LABELS, cv=3)\n",
    "    print(\"All adults animacy accuracy: %0.2f (SD = %0.2f)\" % (scores.mean(), scores.std())) # not sure why multiplying by 2, reporting just SD for now\n"
   ]
  },
  {
   "cell_type": "code",
   "execution_count": null,
   "metadata": {
    "collapsed": true
   },
   "outputs": [],
   "source": [
    "####  Classification test -- all kids ANIMACY\n",
    "FEAT = KF\n",
    "LABELS = KM.label.values\n",
    "# LABELS = shuffle(KM.animacy.values)\n",
    "AGES = KM.age.values\n",
    "\n",
    "# single train/test split\n",
    "X_train, X_test, y_train, y_test = train_test_split(\n",
    "    FEAT, LABELS, test_size=0.25, random_state=0)\n",
    "# clf = svm.SVC(kernel='linear', C=1).fit(X_train, y_train) # ? not used, leaving for future use\n",
    "clf = linear_model.LogisticRegression(penalty='l2',C=1).fit(X_train, y_train)\n",
    "print clf.score(X_test, y_test)\n",
    "\n",
    "run_this = 1\n",
    "if run_this:\n",
    "    # cross-validated\n",
    "    clf = linear_model.LogisticRegression(penalty='l2')\n",
    "    scores = cross_val_score(clf, FEAT, LABELS, cv=3)\n",
    "    print(\"All children animacy accuracy: %0.2f (SD = %0.2f)\" % (scores.mean(), scores.std())) # not sure why multiplying by 2, reporting just SD for now\n",
    "    "
   ]
  },
  {
   "cell_type": "code",
   "execution_count": null,
   "metadata": {
    "collapsed": true
   },
   "outputs": [],
   "source": [
    "stats.ttest_1samp(scores,1/27)"
   ]
  },
  {
   "cell_type": "markdown",
   "metadata": {},
   "source": [
    "### How does similarity differ across layers?"
   ]
  },
  {
   "cell_type": "markdown",
   "metadata": {},
   "source": [
    "#### Set variables, paths, and define preprocessing functinos"
   ]
  },
  {
   "cell_type": "code",
   "execution_count": null,
   "metadata": {
    "collapsed": true
   },
   "outputs": [],
   "source": [
    "## which label set are we using? common_labels or sufficient_data_labels\n",
    "these_labels = sufficient_data_labels\n",
    "\n",
    "## make sure directory for RDM exists\n",
    "if not os.path.exists('./rdm'):\n",
    "    os.makedirs('./rdm')\n",
    "\n",
    "## function to apply various cleanup operations to adult feat/meta, including deborkifying and subsetting by appropriate labelset\n",
    "def adult_preproc(AF, AM, these_labels):\n",
    "    ## set up lookup table to cover discrepancies in category label assignments\n",
    "    lookup = dict(zip(these_labels,these_labels))\n",
    "    if 'bike' in lookup.keys():\n",
    "        lookup['bike'] = 'bicycle'\n",
    "\n",
    "    ## subset adult feature matrix and metadata matrix by appropriate labelset\n",
    "    AF, AM = subset_labels(AF, AM, [lookup[i] for i in these_labels])\n",
    "    AM = AM.reset_index(drop=True)    \n",
    "    return AF, AM\n",
    "\n",
    "## function to add coarse grain age and subset according to proper labelset\n",
    "def preproc_kid(KF, KM,these_labels):    \n",
    "    KM['coarse_age'] = KM.apply(coarse_grain_age, axis=1)\n",
    "    ## subset labels that have at least some drawings of them from each age category\n",
    "    younger_labels = KM[KM['coarse_age'] == 'younger']['label'].values\n",
    "    older_labels = KM[KM['coarse_age'] == 'older']['label'].values\n",
    "    \n",
    "    ## subset to only use the labels with either COMMON LABELS or SUFFICIENT DATA (see cell above)\n",
    "    KF, KM = subset_labels(KF, KM, these_labels)\n",
    "    KM = KM.reset_index(drop=True)    \n",
    "    return KF, KM\n",
    "\n",
    "\n",
    "def get_RDM_resampled(M,F,sort_inds,iteration):\n",
    "    ## sorted adult RDMs\n",
    "    labels = M.label.values\n",
    "    means = get_class_means(F, labels)\n",
    "    ordered_means = means[sort_inds,:] \n",
    "    ### JACKKNIFE RESAMPLING OVER CLASSES (https://en.wikipedia.org/wiki/Jackknife_resampling)    \n",
    "    # 1: exhaustively subset 15 of 16 categories, and compute cross-domain similarity in each case\n",
    "    # 2: variance estimate = (n-1)/n  *   Sum([xi - x.i]^2)\n",
    "    #          where x.i = (1/n) * Sum(xi), the average of all subsamples    \n",
    "    jacks = np.roll(range(ordered_means.shape[0]),iteration)[:ordered_means.shape[0]-1]\n",
    "    ordered_means = ordered_means[jacks,:]\n",
    "    RDM = np.corrcoef(ordered_means)\n",
    "    return RDM\n",
    "\n",
    "def get_rdm_similarity(A,B):\n",
    "    '''\n",
    "    A is RDM for one population\n",
    "    B is RDM for another population, of same dimensionality\n",
    "    '''\n",
    "    dim = A.shape[0]\n",
    "    return stats.spearmanr(np.ravel(A[np.triu_indices(dim,k=1)]),np.ravel(B[np.triu_indices(dim,k=1)]))[0]\n",
    "\n",
    "def subsample_rdm(RDM,i):\n",
    "    '''\n",
    "    If you have a 16 objects x 16 objects RDM, and want to remove one of the objects,\n",
    "    yielding a 15x15 RDM, in order to compare to a jackknife RDM, apply this function.\n",
    "    \n",
    "    Generally speaking, it removes the i-th colum and row from the RDM.\n",
    "\n",
    "    '''\n",
    "    num_obj = RDM.shape[0]\n",
    "    keep = sorted(np.roll(range(num_obj),i)[:num_obj-1])\n",
    "    tmp = RDM[keep,:]\n",
    "    tmp = tmp[:,keep]   \n",
    "    return tmp\n",
    "\n"
   ]
  },
  {
   "cell_type": "code",
   "execution_count": null,
   "metadata": {
    "collapsed": true
   },
   "outputs": [],
   "source": []
  },
  {
   "cell_type": "markdown",
   "metadata": {},
   "source": [
    "##### Generate and save out RDMs as separate npy files for adults"
   ]
  },
  {
   "cell_type": "code",
   "execution_count": null,
   "metadata": {
    "collapsed": true
   },
   "outputs": [],
   "source": [
    "## subsampling on or off?\n",
    "subsample_on = 0\n",
    "# really run or not\n",
    "really_run = 0\n",
    "\n",
    "if really_run:\n",
    "    for layer_num in np.arange(7):\n",
    "        print 'Loading in adult features for layer {}...'.format(layer_num)\n",
    "        AF, AM = load_features('adult',layer_num)\n",
    "        AF, AM = remove_practice_trials(AF, AM)\n",
    "        AM = AM.reset_index(drop=True)\n",
    "        AF, AM = adult_preproc(AF, AM, these_labels)\n",
    "        ## subsample features especially for lower layers\n",
    "        if subsample_on:\n",
    "            num_features = AF.shape[1]\n",
    "            size_subsample = 100000\n",
    "            if num_features>size_subsample:\n",
    "                feat_inds = np.random.RandomState(0).permutation(num_features)[:size_subsample]\n",
    "                AF = AF[:,feat_inds]         \n",
    "        \n",
    "        print 'Shape of adult feature tensor: {}'.format(np.shape(AF))\n",
    "\n",
    "        ## get RDM\n",
    "        cohort = 'adult'\n",
    "        print 'Getting and saving RDM...'\n",
    "        \n",
    "        RDM = get_RDM(AM, AF,sort_inds)\n",
    "        print np.shape(RDM)\n",
    "        ## save out RDM as npy\n",
    "        np.save('./rdm/RDM_{}_{}.npy'.format(cohort,layer_num),RDM) # was saving ADRM here, not RDM -- so not updating and was pulling last updated ADRM from above.\n",
    "        \n",
    "    print 'All done!'"
   ]
  },
  {
   "cell_type": "markdown",
   "metadata": {},
   "source": [
    "##### Generate and save out RDMs as separate npy files for KIDS"
   ]
  },
  {
   "cell_type": "code",
   "execution_count": null,
   "metadata": {
    "collapsed": true
   },
   "outputs": [],
   "source": [
    "## subsampling on or off?\n",
    "subsample_on = 0\n",
    "subsample_size = 100000\n",
    "really_run = 0\n",
    "lb = 0\n",
    "ub = 7\n",
    "\n",
    "if really_run:\n",
    "    ## loop through all kid layers and save out their RDM\n",
    "    for layer_num in np.arange(lb,ub):\n",
    "        ## load in kid features\n",
    "        KF, KM = load_features('kid',layer_num)\n",
    "        KF, KM = remove_practice_trials(KF, KM)\n",
    "        KM = KM.reset_index(drop=True)\n",
    "        KF, KM = preproc_kid(KF, KM, these_labels)\n",
    "        ## subsample features especially for lower layers\n",
    "        if subsample_on:        \n",
    "            num_features = KF.shape[1]\n",
    "            size_subsample = subsample_size\n",
    "            if num_features>size_subsample:\n",
    "                feat_inds = np.random.RandomState(0).permutation(num_features)[:size_subsample]\n",
    "                KF = KF[:,feat_inds]           \n",
    "        print 'Shape of kid feature tensor: {}'.format(np.shape(KF))\n",
    "        \n",
    "        ## get RDM\n",
    "        print 'Getting and saving RDM...'\n",
    "        cohort = 'kid'\n",
    "        KRDM = get_RDM(KM, KF,sort_inds)\n",
    "        ## save out RDM as npy\n",
    "        np.save('./rdm/RDM_{}_{}.npy'.format(cohort,layer_num),KRDM)\n",
    "        \n",
    "        print 'Saved OVERALL KID RDMs for layer {}!'.format(layer_num)        \n",
    "                \n",
    "    ## loop through all kid layers and save out their RDM\n",
    "    for layer_num in np.arange(lb,ub):\n",
    "        ## load in kid features\n",
    "        KF, KM = load_features('kid',layer_num)\n",
    "        KF, KM = remove_practice_trials(KF, KM)\n",
    "        KM = KM.reset_index(drop=True)\n",
    "        KF, KM = preproc_kid(KF, KM, these_labels)\n",
    "        ## subsample features especially for lower layers\n",
    "        if subsample_on:\n",
    "            num_features = KF.shape[1]\n",
    "            size_subsample = subsample_size\n",
    "            if num_features>size_subsample:\n",
    "                feat_inds = np.random.RandomState(0).permutation(num_features)[:size_subsample]\n",
    "                KF = KF[:,feat_inds]              \n",
    "        \n",
    "        ## get RDM for older kids (7,8,9,10)\n",
    "        ind = KM.index[KM['coarse_age'] == 'older']\n",
    "        meta = KM.loc[ind]\n",
    "        feat = KF[ind.tolist()]\n",
    "        print 'Shape of older kid feature tensor: {}'.format(np.shape(feat))        \n",
    "        ORDM = get_RDM(meta, feat,sort_inds)\n",
    "        np.save('./rdm/RDM_{}_{}.npy'.format('older',layer_num),ORDM)            \n",
    "        print 'Saved OLDER KID RDMs for layer {}!'.format(layer_num)        \n",
    "            \n",
    "    for layer_num in np.arange(lb,ub):\n",
    "        ## load in kid features\n",
    "        KF, KM = load_features('kid',layer_num)\n",
    "        KF, KM = remove_practice_trials(KF, KM)\n",
    "        KM = KM.reset_index(drop=True)\n",
    "        KF, KM = preproc_kid(KF, KM, these_labels)\n",
    "        ## subsample features especially for lower layers\n",
    "        if subsample_on:\n",
    "            num_features = KF.shape[1]\n",
    "            size_subsample = subsample_size\n",
    "            if num_features>size_subsample:\n",
    "                feat_inds = np.random.RandomState(0).permutation(num_features)[:size_subsample]\n",
    "                KF = KF[:,feat_inds]         \n",
    "                        \n",
    "        ## get RDM for younger kids (3,4,5,6)            \n",
    "        ind = KM.index[KM['coarse_age'] == 'younger']\n",
    "        meta = KM.loc[ind]\n",
    "        feat = KF[ind.tolist()]\n",
    "        print 'Shape of younger kid feature tensor: {}'.format(np.shape(feat))                \n",
    "        YRDM = get_RDM(meta, feat,sort_inds)\n",
    "        np.save('./rdm/RDM_{}_{}.npy'.format('younger',layer_num),YRDM)             \n",
    "        print 'Saved YOUNGER KID RDMs for layer {}!'.format(layer_num)\n",
    "                "
   ]
  },
  {
   "cell_type": "markdown",
   "metadata": {},
   "source": [
    "##### Compute and plot layer-wise cross-cohort similarity (first without error bars)"
   ]
  },
  {
   "cell_type": "code",
   "execution_count": null,
   "metadata": {
    "collapsed": true
   },
   "outputs": [],
   "source": [
    "def plot_RDM(corrmat,cohort,sort_inds, layer_ind):    \n",
    "    sns.set_style('white')\n",
    "    sns.set_context('paper')\n",
    "    fig = plt.figure(figsize=(30,30))\n",
    "    plt.matshow(1-corrmat, vmin=0, vmax=2)\n",
    "    plt.xticks(range(len(ordered_objs)), ordered_objs, rotation=90);\n",
    "    plt.yticks(range(len(ordered_objs)), ordered_objs); \n",
    "    plt.colorbar()\n",
    "    for tick in pylab.gca().xaxis.iter_ticks():\n",
    "        tick[0].label2On = True\n",
    "        tick[0].label1On = False\n",
    "        tick[0].label2.set_rotation('vertical')\n",
    "        tick[0].tick1On = False\n",
    "        tick[0].tick2On = False\n",
    "    for tick in pylab.gca().yaxis.iter_ticks():\n",
    "        tick[0].tick1On = False\n",
    "        tick[0].tick2On = False  \n",
    "    plt.gcf().subplots_adjust(left=0.5) \n",
    "    plt.savefig('./plots/RDM_{}_Layer_{}_check.pdf'.format(cohort, layer_ind), bbox_inches=\"tight\")\n"
   ]
  },
  {
   "cell_type": "code",
   "execution_count": null,
   "metadata": {
    "collapsed": true
   },
   "outputs": [],
   "source": [
    "## Compute layer-wise correlations using pre-computed RDMs\n",
    "corOA = []\n",
    "corYA = []\n",
    "corKA = []\n",
    "\n",
    "for layer_num in np.arange(7):\n",
    "    print layer_num\n",
    "    Y = np.load('./rdm/RDM_younger_{}.npy'.format(layer_num))\n",
    "    O = np.load('./rdm/RDM_older_{}.npy'.format(layer_num))\n",
    "    A = np.load('./rdm/RDM_adult_{}.npy'.format(layer_num))\n",
    "    K = np.load('./rdm/RDM_kid_{}.npy'.format(layer_num))\n",
    "    \n",
    "#     plot_RDM(A,'adult',sort_inds, layer_num)  \n",
    "#     plot_RDM(O,'older',sort_inds, layer_num)  \n",
    "#     plot_RDM(Y,'younger',sort_inds, layer_num)  \n",
    "        \n",
    "    dim = O.shape[0]\n",
    "    rOA = stats.spearmanr(np.ravel(O[np.triu_indices(dim,k=1)]),np.ravel(A[np.triu_indices(dim,k=1)]))[0]\n",
    "    rYA = stats.spearmanr(np.ravel(Y[np.triu_indices(dim,k=1)]),np.ravel(A[np.triu_indices(dim,k=1)]))[0]\n",
    "    rKA = stats.spearmanr(np.ravel(K[np.triu_indices(dim,k=1)]),np.ravel(A[np.triu_indices(dim,k=1)]))[0]\n",
    "    \n",
    "    corOA.append(rOA)\n",
    "    corYA.append(rYA)\n",
    "    corKA.append(rKA)\n"
   ]
  },
  {
   "cell_type": "code",
   "execution_count": null,
   "metadata": {
    "collapsed": true
   },
   "outputs": [],
   "source": [
    "## Plot it\n",
    "sns.set_context('talk')\n",
    "sns.set_style('white')\n",
    "plt.figure(figsize=(6,6))\n",
    "plt.plot(np.arange(1,8),corYA,label='younger vs. adult',color=(0.6,0.6,0.6))\n",
    "plt.plot(np.arange(1,8),corOA,label='older vs. adult',color=(0.2,0.2,0.2))\n",
    "# plt.plot(np.arange(1,8),corKA,label='all kids vs. adult',color=(0.6,0.2,0.2))\n",
    "plt.xlabel('model layer')\n",
    "plt.ylabel('between-cohort similarity')\n",
    "plt.legend()\n",
    "plt.savefig('./plots/btw_cohort_similarity.pdf')"
   ]
  },
  {
   "cell_type": "code",
   "execution_count": null,
   "metadata": {
    "collapsed": true
   },
   "outputs": [],
   "source": []
  },
  {
   "cell_type": "markdown",
   "metadata": {
    "collapsed": true
   },
   "source": [
    "#### Get errorbars for cross-cohort similarity plot (jackknife resampling over classes)"
   ]
  },
  {
   "cell_type": "code",
   "execution_count": null,
   "metadata": {
    "collapsed": true
   },
   "outputs": [],
   "source": [
    "## which layers\n",
    "lb = 0\n",
    "ub = 7\n",
    "nIter = len(these_labels)\n",
    "\n",
    "reallyrun = 0\n",
    "cohorts = ['younger','older']\n",
    "CORMAT = []\n",
    "if reallyrun:\n",
    "    for cohort in cohorts:\n",
    "        ## loop through all kid layers and save out their RDM\n",
    "        Cormat = [] ## cohort-level grouping of cross-cohort similarity\n",
    "        for layer_num in np.arange(lb,ub):\n",
    "            print 'Loading in kid features for layer {}...'.format(layer_num)    \n",
    "            ## load in kid features\n",
    "            KF, KM = load_features('kid',layer_num)\n",
    "            KF, KM = remove_practice_trials(KF, KM)\n",
    "            KM = KM.reset_index(drop=True)\n",
    "            KF, KM = preproc_kid(KF, KM, these_labels)\n",
    "            print 'Shape of kid feature tensor: {}'.format(np.shape(KF))    \n",
    "\n",
    "            print 'Loading in adult features for layer {}...'.format(layer_num)\n",
    "            AF, AM = load_features('adult',layer_num)\n",
    "            AF, AM = remove_practice_trials(AF, AM)\n",
    "            AM = AM.reset_index(drop=True)\n",
    "            AF, AM = adult_preproc(AF, AM, these_labels)\n",
    "            print 'Shape of adult feature tensor: {}'.format(np.shape(KF))    \n",
    "\n",
    "            ## subsample features especially for lower layers\n",
    "            if subsample_on:\n",
    "                num_features = AF.shape[1]\n",
    "                size_subsample = 100000\n",
    "                if num_features>size_subsample:\n",
    "                    feat_inds = np.random.RandomState(0).permutation(num_features)[:size_subsample]\n",
    "                    AF = AF[:,feat_inds]         \n",
    "\n",
    "            print 'Shape of adult feature tensor: {}'.format(np.shape(AF)) \n",
    "\n",
    "            ## get older kid RDM\n",
    "            print 'Getting and saving kid and adult RDMs ...'\n",
    "            KRDM = []\n",
    "            ARDM = []\n",
    "            cormat = [] ## layer-level grouping of cross-cohort similarity\n",
    "            for i in range(nIter):\n",
    "                print 'Iteration {} of {}'.format(i,nIter)\n",
    "                ## get RDM for this cohort, i.e., {'older', 'younger'}\n",
    "                ind = KM.index[KM['coarse_age'] == cohort]\n",
    "                meta = KM.loc[ind]\n",
    "                feat = KF[ind.tolist()]                    \n",
    "                krdm = get_RDM_resampled(meta, feat,sort_inds,i)\n",
    "                ## get RDM adult for adults, aggregate across iterations\n",
    "                ardm = get_RDM_resampled(AM, AF,sort_inds,i)        \n",
    "                if len(KRDM)==0:\n",
    "                    KRDM = krdm\n",
    "                    ARDM = ardm\n",
    "                else:\n",
    "                    KRDM = np.dstack((KRDM,krdm))\n",
    "                    ARDM = np.dstack((ARDM,ardm))                                  \n",
    "                ## compute similarity between RDMs\n",
    "                cormat.append(get_rdm_similarity(krdm,ardm))\n",
    "            ## layer level aggregation    \n",
    "            Cormat.append(cormat)\n",
    "            KRDM = np.array(KRDM)\n",
    "            ARDM = np.array(ARDM)\n",
    "            np.save('./rdm/RDM_jackknife_{}_{}.npy'.format(cohort,layer_num),KRDM)             \n",
    "            np.save('./rdm/RDM_jackknife_{}_{}.npy'.format('adult',layer_num),ARDM)         \n",
    "        ## cohort level aggregation    \n",
    "        CORMAT.append(Cormat)\n",
    "        \n",
    "        ## save CORMAT \n",
    "        CORMAT = np.array(CORMAT)\n",
    "        np.save('./rdm/CORMAT.npy',CORMAT)\n",
    "\n",
    "                  "
   ]
  },
  {
   "cell_type": "code",
   "execution_count": null,
   "metadata": {
    "collapsed": true
   },
   "outputs": [],
   "source": [
    "#  Load CORMAT if we didn't just compute it \n",
    "CORMAT = np.load('./rdm/CORMAT.npy')\n",
    "## CORMAT has dimensionality: num_cohorts x num_layers x num_objects\n",
    "num_categories = np.shape(np.array(CORMAT))[2]\n",
    "np.shape(np.array(CORMAT)) \n"
   ]
  },
  {
   "cell_type": "markdown",
   "metadata": {},
   "source": [
    "### Compute jacknife SEM based on simulations"
   ]
  },
  {
   "cell_type": "code",
   "execution_count": null,
   "metadata": {
    "collapsed": true
   },
   "outputs": [],
   "source": [
    "\n",
    "## JACKKNIFE RESAMPLING OVER CLASSES (https://en.wikipedia.org/wiki/Jackknife_resampling)    \n",
    "# 1: exhaustively subset 15 of 16 categories, and compute cross-domain similarity in each case\n",
    "# 2: variance estimate = (n-1)/n  *   Sum([xi - x.i]^2)\n",
    "#          where x.i = (1/n) * Sum(xi), the average of all subsamples \n",
    "cohorts = ['younger','older']\n",
    "SEM_JACK = []\n",
    "\n",
    "for c,cohort in enumerate(cohorts):\n",
    "    sem_jack = []\n",
    "    for layer_num in np.arange(7):\n",
    "        jackvals = CORMAT[c,layer_num,:]\n",
    "        jackmean = np.mean(jackvals)\n",
    "        sem_jack.append(np.sqrt( (num_categories-1)/(num_categories) * np.array([(i-jackmean)**2 for i in jackvals]).sum()))\n",
    "    SEM_JACK.append(sem_jack)\n",
    "SEM_JACK = np.array(SEM_JACK)"
   ]
  },
  {
   "cell_type": "code",
   "execution_count": null,
   "metadata": {
    "collapsed": true
   },
   "outputs": [],
   "source": [
    "### Make layer-wise plot now with errorbars\n",
    "corYA"
   ]
  },
  {
   "cell_type": "code",
   "execution_count": null,
   "metadata": {
    "collapsed": true
   },
   "outputs": [],
   "source": [
    "## dimensionality of SEM_JACK is num_cohorts x num_layers\n",
    "sem_ya = SEM_JACK[0,:]\n",
    "sem_oa = SEM_JACK[1,:]\n",
    "\n",
    "##\n",
    "sns.set_context('talk')\n",
    "sns.set_style('white')\n",
    "plt.figure(figsize=(6,6))\n",
    "# h = plt.errorbar(np.arange(1,8),corYA,yerr=[sem_ya,sem_ya], color=[0.6, 0.6, 0.6], ecolor=[0.6, 0.6, 0.6],label='younger vs. adult')\n",
    "# h = plt.errorbar(np.arange(1,8),corOA,yerr=[sem_oa,sem_oa], color=[0.2, 0.2, 0.2], ecolor=[0.2, 0.2, 0.2],label='older vs. adult')\n",
    "h = plt.errorbar(np.arange(1,8),corYA,yerr=[sem_ya,sem_ya], color=[0.6, 0.6, 0.6], ecolor=[0.6, 0.6, 0.6])\n",
    "h = plt.errorbar(np.arange(1,8),corOA,yerr=[sem_oa,sem_oa], color=[0.2, 0.2, 0.2], ecolor=[0.2, 0.2, 0.2])\n",
    "plt.xlabel('model layer')\n",
    "plt.ylabel('between-cohort similarity')\n",
    "plt.ylim(0,1)\n",
    "# plt.legend()\n",
    "plt.savefig('./plots/btw_cohort_similarity.pdf')"
   ]
  },
  {
   "cell_type": "code",
   "execution_count": null,
   "metadata": {
    "collapsed": true
   },
   "outputs": [],
   "source": [
    "## save out cohort similarity csv for plotting in R\n",
    "df = pd.DataFrame({\n",
    "    'CorrYoungAdult':  corYA,\n",
    "    'SEMYoungAdult':sem_ya,\n",
    "    'CorrOldAdult':  corOA,\n",
    "    'SEMOldAdult':  sem_oa,\n",
    "})\n",
    "df.to_csv('./rdm/CohortSimilarity.csv') \n",
    "\n",
    "corYA\n",
    "# corOA"
   ]
  },
  {
   "cell_type": "markdown",
   "metadata": {},
   "source": [
    "### Compute adult-adult noise ceiling"
   ]
  },
  {
   "cell_type": "code",
   "execution_count": null,
   "metadata": {
    "collapsed": true
   },
   "outputs": [],
   "source": [
    "## How many sketches do we have from each class in kids? Take this number, divide by 2, to get approx number \n",
    "## in adults for consistency analysis. Divide by 2, because we already are dividing kid drawing dataset\n",
    "## into younger and older subcategories.\n",
    "\n",
    "## edit Jan 30 2018: Bria asked about estimating adult-adult consistency in a way that is \n",
    "## directly comparable in terms of dataset size to the kid-adult RDM correlations.\n",
    "## so to do this, we will estimate an RDM based on correlating noisy sub-sampled adult with \n",
    "## same rock-solid adult RDM on every go.\n",
    "\n",
    "## load in kid dataset in order to get num kid drawings per class\n",
    "YF, YM = load_features('kid',6)\n",
    "kid_num_per_class = zip(np.unique(YM.label.values),np.round(YM.groupby('label').count()['age'].values/2))\n",
    "knpc = dict(kid_num_per_class)\n",
    "knpc['bicycle'] = knpc.pop('bike') # deal with naming inconsistency\n",
    "\n",
    "## load in adult features by layer and get internal consistency\n",
    "CORR = [] ## overall \n",
    "CORR2 = []\n",
    "first_layer = 0\n",
    "num_layers = 7\n",
    "\n",
    "for layer_num in np.arange(first_layer,num_layers):\n",
    "    print('Layer {} of {}'.format(layer_num,num_layers))\n",
    "    AF, AM = load_features('adult',layer_num)    \n",
    "    AF, AM = remove_practice_trials(AF, AM)\n",
    "    AM = AM.reset_index(drop=True)\n",
    "    AF, AM = adult_preproc(AF, AM, these_labels)    \n",
    "    qats = np.unique(AM.label.values)\n",
    "    nIter = 10\n",
    "\n",
    "    Cor = [] ## correlation between split RDM's\n",
    "    Cor2 = [] ## correlation between small RDM and noisy RDM\n",
    "    \n",
    "    ## load in rock-solid RDM estimated on 100 drawings per class\n",
    "    adult_rock_RDM = []\n",
    "#     adult_rock_RDM = np.load('./rdm/RDM_adult_{}.npy'.format(layer_num) ## BLL:  this was also before the layer_num loop\n",
    "    adult_rock_RDM = get_RDM(AM,AF,sort_inds) ## BLL changed here -- the saved features were actually all FC7 features\n",
    "                             \n",
    "    for it in np.arange(nIter):\n",
    "        Meta = [] # initialize adult subsampled metadata csv -- same for both halves\n",
    "        Feat1 = [] # initialize adult subsampled feature matrix -- constitutes first half\n",
    "        Feat2 = [] # initialize adult subsampled feature matrix -- constitutes second half\n",
    "        if it%5==0:\n",
    "            print('Iteration {} of {}'.format(it,nIter))\n",
    "        for q in qats:\n",
    "            ind = AM.index[AM['label'] == q] # get indexes\n",
    "            meta = AM.loc[ind] # get metadata for this category\n",
    "            meta = meta.reset_index(drop=True)\n",
    "            feat = AF[ind.tolist()] # get features for this category\n",
    "            how_many = int(knpc[q]) ## look up approx(!) how many younger/older kid sketches we have from this class\n",
    "\n",
    "            ## Randomly sample\n",
    "            row_inds = np.random.RandomState(it).permutation(meta.shape[0])[:how_many]\n",
    "            metasamp = meta.loc[row_inds]\n",
    "            featsamp = feat[row_inds.tolist()] ## subsample first \"split-half\" feature mat\n",
    "\n",
    "            row_inds_2 = np.random.RandomState(it).permutation(meta.shape[0])[how_many*2:how_many*3] ## get the next drawings in the permuted list\n",
    "            featsamp2 = feat[row_inds_2.tolist()] ## subsample second \"split-half\" feature mat\n",
    "            metasamp2 = meta.loc[row_inds_2]\n",
    "\n",
    "            if len(Meta)==0:        \n",
    "                Meta = metasamp\n",
    "                Meta2 = metasamp2\n",
    "                Feat1 = featsamp\n",
    "                Feat2 = featsamp2\n",
    "            else:\n",
    "                Meta = pd.concat((Meta,metasamp))\n",
    "                Meta2 = pd.concat((Meta2,metasamp2))\n",
    "                Feat1 = np.vstack((Feat1,featsamp)) \n",
    "                Feat2 = np.vstack((Feat2,featsamp2))\n",
    "            \n",
    "        ## get class means        \n",
    "        Meta = Meta.reset_index(drop=True)\n",
    "        Meta2 = Meta2.reset_index(drop=True)\n",
    "        print np.shape(Feat1)\n",
    "        means1 = get_class_means(Feat1, Meta.label.values)\n",
    "        means2 = get_class_means(Feat2, Meta2.label.values)\n",
    "\n",
    "        ## get RDM for each half\n",
    "        print np.shape(Meta)\n",
    "        print np.shape(Feat2)\n",
    "        rdm1 = get_RDM(Meta,Feat1,sort_inds)\n",
    "        rdm2 = get_RDM(Meta,Feat2,sort_inds)\n",
    "                \n",
    "        dim = rdm1.shape[0]\n",
    "        cor = stats.spearmanr(np.ravel(rdm1[np.triu_indices(dim,k=1)]), \\\n",
    "                              np.ravel(adult_rock_RDM[np.triu_indices(dim,k=1)]))[0]\n",
    "        cor2 = stats.spearmanr(np.ravel(rdm1[np.triu_indices(dim,k=1)]), \\\n",
    "                              np.ravel(rdm2[np.triu_indices(dim,k=1)]))[0]\n",
    "        Cor.append(cor)\n",
    "        Cor2.append(cor2)\n",
    "    CORR.append(Cor)\n",
    "    CORR2.append(Cor2)"
   ]
  },
  {
   "cell_type": "code",
   "execution_count": null,
   "metadata": {
    "collapsed": true
   },
   "outputs": [],
   "source": [
    "## save out average values & rename variables\n",
    "adult_noisy_rock_layerwise = np.asarray(CORR)\n",
    "adult_noisy_noisy_layerwise = np.asarray(CORR2)\n",
    "np.save('./rdm/adult_noisy_rock_layerwise.npy',adult_noisy_rock_layerwise)  \n",
    "np.save('./rdm/adult_noisy_noisy_layerwise.npy',adult_noisy_noisy_layerwise)  \n",
    "\n",
    "adult_noisy_rock_layerwise.mean(1)\n"
   ]
  },
  {
   "cell_type": "markdown",
   "metadata": {},
   "source": [
    "### Jackknife resampling on class for noisy adult"
   ]
  },
  {
   "cell_type": "code",
   "execution_count": null,
   "metadata": {
    "collapsed": true
   },
   "outputs": [],
   "source": [
    "###### jackknife resampling on class for noisy adult -- rock-solid adult RDM similarity\n",
    "lb = 0\n",
    "ub = 7\n",
    "nIter = len(these_labels)\n",
    "Cormat = [] \n",
    "\n",
    "for layer_num in np.arange(lb,ub):\n",
    "    ARDM = [] \n",
    "    NARDM = []\n",
    "    \n",
    "    ### loading in all adult features\n",
    "    print 'Loading in adult features for layer {}...'.format(layer_num)\n",
    "    AF, AM = load_features('adult',layer_num)\n",
    "    AF, AM = remove_practice_trials(AF, AM)\n",
    "    AM = AM.reset_index(drop=True)\n",
    "    AF, AM = adult_preproc(AF, AM, these_labels)\n",
    "    print 'Shape of adult feature tensor: {}'.format(np.shape(AF)) \n",
    "\n",
    "    ## get categories\n",
    "    qats = np.unique(AM.label.values)\n",
    "    nIter = 1\n",
    "\n",
    "    Cor = [] ## correlation between split RDM's\n",
    "    for it in np.arange(nIter):\n",
    "        Meta = [] # initialize adult subsampled metadata csv -- same for both halves\n",
    "        Feat1 = [] # initialize adult subsampled feature matrix -- constitutes first half\n",
    "        Feat2 = [] # initialize adult subsampled feature matrix -- constitutes second half\n",
    "        if it%5==0:\n",
    "            print('Iteration {} of {}'.format(it,nIter))\n",
    "        for q in qats:\n",
    "            ind = AM.index[AM['label'] == q]\n",
    "            meta = AM.loc[ind]\n",
    "            meta = meta.reset_index(drop=True)\n",
    "            feat = AF[ind.tolist()]\n",
    "\n",
    "            how_many = int(knpc[q]) ## look up approx(!) how many younger/older kid sketches we have from this class\n",
    "            row_inds = np.random.RandomState(it).permutation(meta.shape[0])[:how_many]\n",
    "            metasamp = meta.loc[row_inds]\n",
    "            featsamp = feat[row_inds.tolist()] ## subsample first \"split-half\" feature mat\n",
    "\n",
    "            if len(Meta)==0:\n",
    "                Meta = metasamp\n",
    "                Feat1 = featsamp\n",
    "            else:\n",
    "                Meta = pd.concat((Meta,metasamp))\n",
    "                Feat1 = np.vstack((Feat1,featsamp)) \n",
    "\n",
    "        ## define feature matrix and metadata         \n",
    "        NAM = Meta.reset_index(drop=True)\n",
    "        NAF = Feat1\n",
    "        print 'Shape of adult feature tensor: {}'.format(np.shape(NAF)) \n",
    "\n",
    "        ## jackknife resample through classes\n",
    "        print 'Performing jackknife resampling ...'\n",
    "        ARDM = []\n",
    "        NARDM = []\n",
    "        cormat = [] ## layer-level grouping of cross-cohort similarity\n",
    "        num_cats = 27\n",
    "        for i in range(num_cats):\n",
    "            if i%4==0:\n",
    "                print 'Iteration {} of {}'.format(i,num_cats)\n",
    "\n",
    "            ## get RDM adult for adults, aggregate across iterations\n",
    "            nardm = get_RDM_resampled(NAM, NAF,sort_inds,i) \n",
    "            ardm = get_RDM_resampled(AM,AF,sort_inds,i)\n",
    "            if len(ARDM)==0:\n",
    "                ARDM = ardm\n",
    "                NARDM = nardm\n",
    "            else:\n",
    "                ARDM = np.dstack((ARDM,ardm))   \n",
    "                NARDM = np.dstack((NARDM,nardm)) \n",
    "                \n",
    "            ## compute similarity between noisy-adult RDM and rock-solid RDM                                                \n",
    "            cormat.append(get_rdm_similarity(nardm,ardm))\n",
    "            \n",
    "        ## layer level aggregation    \n",
    "        Cormat.append(cormat)\n",
    "        ARDM = np.array(ARDM)  \n",
    "        NARDM = np.array(NARDM)\n",
    "        \n",
    "        ## save out jackknifed RDM        \n",
    "        np.save('./rdm/RDM_jackknife_{}_{}.npy'.format('noisy_adult',layer_num),NARDM)  \n",
    "        np.save('./rdm/RDM_jackknife_{}_{}.npy'.format('adult_micro',layer_num),ARDM)\n",
    "\n",
    "Cormat = np.array(Cormat)                      "
   ]
  },
  {
   "cell_type": "markdown",
   "metadata": {
    "collapsed": true
   },
   "source": [
    "#### Recreate averages and sems from jacknifed samples\n"
   ]
  },
  {
   "cell_type": "code",
   "execution_count": null,
   "metadata": {
    "collapsed": true
   },
   "outputs": [],
   "source": [
    "\n",
    "lb = 0\n",
    "up = 7\n",
    "iteration = 27\n",
    "# intialize\n",
    "older_younger = np.zeros((up,iteration))\n",
    "noisy_micro = np.zeros((up,iteration))\n",
    "older_noisy_adult = np.zeros((up,iteration))\n",
    "younger_noisy_adult = np.zeros((up,iteration))\n",
    "older_micro_adult = np.zeros((up,iteration))\n",
    "younger_micro_adult = np.zeros((up,iteration))\n",
    "\n",
    "for layer_num in np.arange(lb,ub):\n",
    "    YRDM = np.load('./rdm/RDM_jackknife_younger_{}.npy'.format(layer_num))\n",
    "    ORDM = np.load('./rdm/RDM_jackknife_older_{}.npy'.format(layer_num))\n",
    "    NARDM = np.load('./rdm/RDM_jackknife_noisy_adult_{}.npy'.format(layer_num))\n",
    "    ARDM = np.load('./rdm/RDM_jackknife_adult_micro_{}.npy'.format(layer_num))\n",
    "    \n",
    "    for iteration in np.arange(0,27):\n",
    "        yrdm = YRDM[:,:,iteration]\n",
    "        ordm = ORDM[:,:,iteration]\n",
    "        nardm = NARDM[:,:,iteration]\n",
    "        ardm = ARDM[:,:,iteration]\n",
    "        \n",
    "        older_younger[layer_num, iteration] = get_rdm_similarity(yrdm,ordm)\n",
    "        noisy_micro[layer_num, iteration] = get_rdm_similarity(ardm,nardm)\n",
    "        \n",
    "        older_noisy_adult[layer_num, iteration] = get_rdm_similarity(ordm,nardm)\n",
    "        younger_noisy_adult[layer_num, iteration] = get_rdm_similarity(yrdm,nardm)\n",
    "        \n",
    "        older_micro_adult[layer_num, iteration] = get_rdm_similarity(ordm,ardm)\n",
    "        younger_micro_adult[layer_num, iteration] = get_rdm_similarity(yrdm,ardm)\n",
    "        \n",
    "def get_jacknife_sem(cormat,num_categories):\n",
    "    sem_jack = []\n",
    "    for layer_num in np.arange(7):\n",
    "        jackvals = cormat[layer_num,:]\n",
    "        jackmean = np.mean(jackvals)\n",
    "        sem_jack.append(np.sqrt( (num_categories-1)/(num_categories) * np.array([(i-jackmean)**2 for i in jackvals]).sum()))\n",
    "    sem_jack=np.asarray(sem_jack)\n",
    "    return sem_jack\n",
    "\n",
    "num_categories = 27\n",
    "older_younger_sem = get_jacknife_sem(older_younger,num_categories)\n",
    "noisy_micro_sem = get_jacknife_sem(noisy_micro,num_categories)   \n",
    "older_noisy_adult_sem = get_jacknife_sem(older_noisy_adult,num_categories)   \n",
    "younger_noisy_adult_sem = get_jacknife_sem(younger_noisy_adult,num_categories)   \n",
    "older_micro_adult_sem = get_jacknife_sem(older_micro_adult,num_categories)   \n",
    "younger_micro_adult_sem = get_jacknife_sem(younger_micro_adult,num_categories)   "
   ]
  },
  {
   "cell_type": "code",
   "execution_count": null,
   "metadata": {
    "collapsed": true
   },
   "outputs": [],
   "source": []
  },
  {
   "cell_type": "markdown",
   "metadata": {},
   "source": [
    "#### Make diagnostic plots"
   ]
  },
  {
   "cell_type": "code",
   "execution_count": null,
   "metadata": {
    "collapsed": true
   },
   "outputs": [],
   "source": [
    "sns.set_context('talk')\n",
    "sns.set_style('white')\n",
    "plt.figure(figsize=(6,6))\n",
    "\n",
    "# kids vs rock adults\n",
    "h = plt.errorbar(np.arange(1,8),younger_micro_adult.mean(1),yerr=[younger_micro_adult_sem,younger_micro_adult_sem], color=[0.6, 0.6, 0.6], ecolor=[0.6, 0.6, 0.6],label='younger vs. rock-solid adult')\n",
    "h = plt.errorbar(np.arange(1,8),older_micro_adult.mean(1),yerr=[older_micro_adult_sem,older_micro_adult_sem], color=[0.2, 0.2, 0.2], ecolor=[0.2, 0.2, 0.2],label='older vs. rock-solid adult')\n",
    "\n",
    "# kids vs noisy adults\n",
    "# h = plt.errorbar(np.arange(1,8),younger_noisy_adult.mean(1),yerr=[younger_noisy_adult_sem,younger_noisy_adult_sem], color=[0.6, 0.6, 0.8], ecolor=[0.6, 0.6, 0.8],label='younger vs. noisy adult')\n",
    "# h = plt.errorbar(np.arange(1,8),older_noisy_adult.mean(1),yerr=[older_noisy_adult_sem,older_noisy_adult_sem], color=[0.2, 0.2, 0.2], ecolor=[0.2, 0.2, 0.4],label='older vs. noisy adult')\n",
    "\n",
    "# adults v adults\n",
    "h = plt.errorbar(np.arange(1,8),noisy_micro.mean(1),yerr=[noisy_micro_sem,noisy_micro_sem], color=[0.6, 0.2, 0.2], ecolor=[0.6, 0.2, 0.2],label='noisy vs. rock-solid adult')\n",
    "\n",
    "# younger vs older kids\n",
    "h = plt.errorbar(np.arange(1,8),older_younger.mean(1),yerr=[older_younger_sem,older_younger_sem], color=[0.2, 0.2, 0.6], ecolor=[0.2, 0.2, 0.6],label='older vs. younger kids ')\n",
    "\n",
    "\n",
    "plt.xlabel('model layer')\n",
    "plt.ylabel('between-cohort similarity')\n",
    "plt.legend()"
   ]
  },
  {
   "cell_type": "code",
   "execution_count": null,
   "metadata": {
    "collapsed": true
   },
   "outputs": [],
   "source": [
    "plt.matshow(NARDM_1[:,:,1])\n",
    "plt.colorbar()\n",
    "\n",
    "plt.matshow(ARDM_1[:,:,1])\n",
    "plt.colorbar()\n",
    "\n",
    "plt.matshow(YRDM_1[:,:,1])\n",
    "plt.colorbar()\n",
    "\n",
    "plt.matshow(ORDM_1[:,:,1])\n",
    "plt.colorbar()"
   ]
  },
  {
   "cell_type": "code",
   "execution_count": null,
   "metadata": {
    "collapsed": true
   },
   "outputs": [],
   "source": []
  },
  {
   "cell_type": "code",
   "execution_count": null,
   "metadata": {
    "collapsed": true
   },
   "outputs": [],
   "source": []
  },
  {
   "cell_type": "code",
   "execution_count": null,
   "metadata": {
    "collapsed": true
   },
   "outputs": [],
   "source": []
  },
  {
   "cell_type": "code",
   "execution_count": null,
   "metadata": {
    "collapsed": true
   },
   "outputs": [],
   "source": []
  },
  {
   "cell_type": "code",
   "execution_count": null,
   "metadata": {
    "collapsed": true
   },
   "outputs": [],
   "source": [
    "# ## this is a (7,10) matrix that is num_layers x numIterations\n",
    "# x = np.load('./rdm/adult_split_reliability_by_layer.npy')\n",
    "# noisy_adult_6 = np.load('./rdm/RDM_jackknife_noisy_adult_6.npy')"
   ]
  },
  {
   "cell_type": "code",
   "execution_count": null,
   "metadata": {
    "collapsed": true
   },
   "outputs": [],
   "source": []
  },
  {
   "cell_type": "code",
   "execution_count": null,
   "metadata": {
    "collapsed": true
   },
   "outputs": [],
   "source": []
  },
  {
   "cell_type": "code",
   "execution_count": null,
   "metadata": {
    "collapsed": true
   },
   "outputs": [],
   "source": []
  },
  {
   "cell_type": "code",
   "execution_count": null,
   "metadata": {
    "collapsed": true
   },
   "outputs": [],
   "source": []
  },
  {
   "cell_type": "code",
   "execution_count": null,
   "metadata": {
    "collapsed": true
   },
   "outputs": [],
   "source": []
  },
  {
   "cell_type": "code",
   "execution_count": null,
   "metadata": {
    "collapsed": true
   },
   "outputs": [],
   "source": []
  },
  {
   "cell_type": "code",
   "execution_count": null,
   "metadata": {
    "collapsed": true
   },
   "outputs": [],
   "source": []
  },
  {
   "cell_type": "code",
   "execution_count": null,
   "metadata": {
    "collapsed": true
   },
   "outputs": [],
   "source": [
    "\n"
   ]
  },
  {
   "cell_type": "code",
   "execution_count": null,
   "metadata": {
    "collapsed": true
   },
   "outputs": [],
   "source": []
  },
  {
   "cell_type": "code",
   "execution_count": null,
   "metadata": {
    "collapsed": true
   },
   "outputs": [],
   "source": []
  },
  {
   "cell_type": "code",
   "execution_count": null,
   "metadata": {
    "collapsed": true
   },
   "outputs": [],
   "source": []
  },
  {
   "cell_type": "code",
   "execution_count": null,
   "metadata": {
    "collapsed": true
   },
   "outputs": [],
   "source": []
  },
  {
   "cell_type": "code",
   "execution_count": null,
   "metadata": {
    "collapsed": true
   },
   "outputs": [],
   "source": []
  },
  {
   "cell_type": "code",
   "execution_count": null,
   "metadata": {
    "collapsed": true
   },
   "outputs": [],
   "source": []
  },
  {
   "cell_type": "code",
   "execution_count": null,
   "metadata": {
    "collapsed": true
   },
   "outputs": [],
   "source": []
  },
  {
   "cell_type": "code",
   "execution_count": null,
   "metadata": {
    "collapsed": true
   },
   "outputs": [],
   "source": []
  },
  {
   "cell_type": "code",
   "execution_count": null,
   "metadata": {
    "collapsed": true
   },
   "outputs": [],
   "source": []
  },
  {
   "cell_type": "code",
   "execution_count": null,
   "metadata": {
    "collapsed": true
   },
   "outputs": [],
   "source": [
    "# ## load in kid features by layer and get consistency\n",
    "# CORR = [] ## overall \n",
    "# first_layer = 0\n",
    "# num_layers = 7\n",
    "# cohorts = ['younger','older']\n",
    "\n",
    "# for cohort in cohorts:\n",
    "#     for layer_num in np.arange(first_layer,num_layers):\n",
    "#         print('Layer {} of {}'.format(layer_num,num_layers))\n",
    "#         KF, KM = load_features('kid',layer_num)\n",
    "\n",
    "#         qats = np.unique(KM.label.values)\n",
    "#         Meta = [] # initialize adult subsampled metadata csv -- same for both halves\n",
    "#         Feat1 = [] # initialize adult subsampled feature matrix -- constitutes first half\n",
    "#         Feat2 = [] # initialize adult subsampled feature matrix -- constitutes second half\n",
    "\n",
    "#         nIter = 10\n",
    "\n",
    "#         Cor = [] ## correlation between split RDM's\n",
    "#         for it in np.arange(nIter):\n",
    "#             if it%5==0:\n",
    "#                 print('Iteration {} of {}'.format(it,nIter))\n",
    "#             for q in qats:\n",
    "#                 ind = KM.index[(KM['label'] == q) & (KM['coarse_age']==cohort)]\n",
    "#                 meta = KM.loc[ind]\n",
    "#                 meta = meta.reset_index(drop=True)\n",
    "#                 feat = KF[ind.tolist()]\n",
    "\n",
    "#                 how_many = np.floor(meta.shape[0]/2)\n",
    "\n",
    "#                 row_inds = np.random.RandomState(it).permutation(meta.shape[0])[:how_many]\n",
    "#                 metasamp = meta.loc[row_inds]\n",
    "#                 featsamp = feat[row_inds.tolist()] ## subsample first \"split-half\" feature mat\n",
    "\n",
    "#                 row_inds_2 = np.random.RandomState(it).permutation(meta.shape[0])[how_many:how_many*2] ## get the next drawings in the permuted list\n",
    "#                 featsamp2 = feat[row_inds_2.tolist()] ## subsample second \"split-half\" feature mat\n",
    "\n",
    "#                 if len(Meta)==0:\n",
    "#                     Meta = metasamp\n",
    "#                     Feat1 = featsamp\n",
    "#                     Feat2 = featsamp2\n",
    "#                 else:\n",
    "#                     Meta = pd.concat((Meta,metasamp))\n",
    "#                     Feat1 = np.vstack((Feat1,featsamp)) \n",
    "#                     Feat2 = np.vstack((Feat2,featsamp2))\n",
    "\n",
    "#             ## get class means        \n",
    "#             Meta = Meta.reset_index(drop=True)\n",
    "#             means1 = get_class_means(Feat1, Meta.label.values)\n",
    "#             means2 = get_class_means(Feat2, Meta.label.values)\n",
    "\n",
    "#             ## get RDM for each half\n",
    "#             rdm1 = get_RDM(Meta,Feat1,sort_inds)\n",
    "#             rdm2 = get_RDM(Meta,Feat2,sort_inds)\n",
    "\n",
    "#             dim = rdm1.shape[0]\n",
    "#             cor = stats.spearmanr(np.ravel(rdm1[np.triu_indices(dim,k=1)]),np.ravel(rdm2[np.triu_indices(dim,k=1)]))[0]\n",
    "#             Cor.append(cor)\n",
    "#         CORR.append(Cor)"
   ]
  },
  {
   "cell_type": "code",
   "execution_count": null,
   "metadata": {
    "collapsed": true
   },
   "outputs": [],
   "source": [
    "# CORR = np.array(CORR)\n",
    "# np.save('./rdm/kid_split_reliability_by_layer.npy',CORR)"
   ]
  },
  {
   "cell_type": "code",
   "execution_count": null,
   "metadata": {
    "collapsed": true
   },
   "outputs": [],
   "source": []
  },
  {
   "cell_type": "code",
   "execution_count": null,
   "metadata": {
    "collapsed": true
   },
   "outputs": [],
   "source": []
  },
  {
   "cell_type": "code",
   "execution_count": null,
   "metadata": {
    "collapsed": true
   },
   "outputs": [],
   "source": [
    "y = x.mean(1)"
   ]
  },
  {
   "cell_type": "code",
   "execution_count": null,
   "metadata": {
    "collapsed": true
   },
   "outputs": [],
   "source": [
    "### notes 1/22/18:\n",
    "## preprocessing -- bounding box, remove drawings that have 0 mean pixel intensity, have text in them\n",
    "  ## make invalid sketches file\n",
    "## make human vs. model confusion matrix?\n",
    "## make adult -- grab 5 per class \"split-half\" reliability -- but can actually just take two wholes, and correlate them\n",
    "## estimate kids' variability -- within-class as well as across class."
   ]
  },
  {
   "cell_type": "code",
   "execution_count": null,
   "metadata": {
    "collapsed": true
   },
   "outputs": [],
   "source": [
    "### check preprocessing on images\n",
    "### older-younger consistency\n",
    "### pixel rdm similarity\n",
    "### variance within classes "
   ]
  },
  {
   "cell_type": "code",
   "execution_count": null,
   "metadata": {
    "collapsed": true
   },
   "outputs": [],
   "source": [
    "####  Classification test -- all children\n",
    "FEAT = KF\n",
    "LABELS = KM.label.values\n",
    "AGES = KM.age.values\n",
    "\n",
    "# single train/test split\n",
    "X_train, X_test, y_train, y_test = train_test_split(\n",
    "    FEAT, LABELS, test_size=0.25, random_state=0)\n",
    "# clf = svm.SVC(kernel='linear', C=1).fit(X_train, y_train) # ? not used, leaving for future use\n",
    "clf = linear_model.LogisticRegression(penalty='l2',C=1).fit(X_train, y_train)\n",
    "print clf.score(X_test, y_test)\n",
    "\n",
    "run_this = 0\n",
    "if run_this:\n",
    "    # cross-validated\n",
    "    clf = linear_model.LogisticRegression(penalty='l2')\n",
    "    scores = cross_val_score(clf, FEAT, LABELS, cv=3)\n",
    "    print(\"All children accuracy: %0.2f (SD = %0.2f)\" % (scores.mean(), scores.std())) # not sure why multiplying by 2, reporting just SD for now"
   ]
  },
  {
   "cell_type": "code",
   "execution_count": null,
   "metadata": {
    "collapsed": true
   },
   "outputs": [],
   "source": [
    "####  Classification test -- older children\n",
    "FEAT = KF_older\n",
    "LABELS = KM_older.label.values\n",
    "AGES = KM_older.age.values\n",
    "\n",
    "# single train/test split\n",
    "X_train, X_test, y_train, y_test = train_test_split(\n",
    "    FEAT, LABELS, test_size=0.25, random_state=0)\n",
    "clf = linear_model.LogisticRegression(penalty='l2',C=1).fit(X_train, y_train)\n",
    "print clf.score(X_test, y_test)\n",
    "\n",
    "run_this = 1\n",
    "if run_this:\n",
    "    # cross-validated\n",
    "    clf = linear_model.LogisticRegression(penalty='l2')\n",
    "    scores = cross_val_score(clf, FEAT, LABELS, cv=3)\n",
    "    print(\"Older children: accuracy: %0.2f (SD = %0.2f)\" % (scores.mean(), scores.std())) # not sure why multiplying by 2, reporting just SD for now\n",
    "    "
   ]
  },
  {
   "cell_type": "code",
   "execution_count": null,
   "metadata": {
    "collapsed": true
   },
   "outputs": [],
   "source": [
    "\n",
    "#### Quick classification test -- younger children\n",
    "FEAT = KF_younger\n",
    "LABELS = KM_younger.label.values\n",
    "AGES = KM_younger.age.values\n",
    "\n",
    "# single train/test split\n",
    "X_train, X_test, y_train, y_test = train_test_split(\n",
    "    FEAT, LABELS, test_size=0.25, random_state=0)\n",
    "clf = linear_model.LogisticRegression(penalty='l2',C=1).fit(X_train, y_train)\n",
    "print clf.score(X_test, y_test)\n",
    "\n",
    "run_this = 1\n",
    "if run_this:\n",
    "    # cross-validated\n",
    "    clf = linear_model.LogisticRegression(penalty='l2')\n",
    "    scores = cross_val_score(clf, FEAT, LABELS, cv=3)\n",
    "    print(\"Younger children: accuracy layer %0.2f (SD = %0.2f)\" % (scores.mean(), scores.std())) # not sure why multiplying by 2, reporting just SD for now\n",
    "    \n"
   ]
  },
  {
   "cell_type": "code",
   "execution_count": null,
   "metadata": {
    "collapsed": true
   },
   "outputs": [],
   "source": [
    "## Classification tests -- older vs. younger"
   ]
  },
  {
   "cell_type": "code",
   "execution_count": null,
   "metadata": {
    "collapsed": true
   },
   "outputs": [],
   "source": [
    "## see how recognizability changes with age?\n",
    "scores = []\n",
    "num_samples = []\n",
    "age_range = np.arange(4,11)\n",
    "\n",
    "# width of moving window in # of trials    \n",
    "window_size = 4\n",
    "lb = int(min(KM.age.values))\n",
    "ub = int(max(KM.age.values))\n",
    "num_windows = ub-lb-window_size+2 ##     \n",
    "\n",
    "for n in np.arange(num_windows):\n",
    "    start = lb + n\n",
    "    end = lb + n + window_size\n",
    "    ind = KM.index[(KM['age'] >= start) & (KM['age'] < end)]\n",
    "    meta = KM.loc[ind]\n",
    "    subFeat = KF[ind.tolist()]\n",
    "\n",
    "    FEAT = subFeat\n",
    "    LABELS = meta.label.values\n",
    "\n",
    "    # single train/test split\n",
    "    X_train, X_test, y_train, y_test = train_test_split(\n",
    "        FEAT, LABELS, test_size=0.25, random_state=3)\n",
    "    clf = svm.SVC(kernel='linear', C=1).fit(X_train, y_train)\n",
    "#     clf = linear_model.LogisticRegression(penalty='l2',C=1).fit(X_train, y_train)\n",
    "    print '{}-{}y'.format(start, end-1), len(LABELS),clf.score(X_test, y_test)\n",
    "    num_samples.append(len(LABELS))\n",
    "    scores.append(clf.score(X_test, y_test))"
   ]
  },
  {
   "cell_type": "code",
   "execution_count": null,
   "metadata": {
    "collapsed": true
   },
   "outputs": [],
   "source": [
    "## not finished -- want to get subsample to get comparable classification\n",
    "\n",
    "# categoryFeaturesOut=np.zeros((numSampled*numClasses,np.shape(AF)[1])) \n",
    "# np.shape(categoryFeaturesOut[0:10,:])\n",
    "# def get_adult_subsample(AF,AM):\n",
    "#     uniqueLabels=np.unique(AM.label.values)\n",
    "#     labels=AM.label.values\n",
    "#     categoryFeaturesOut=np.zeros((numSampled*numClasses,np.shape(AF)[1])) \n",
    "#     print np.shape(categoryFeaturesOut)\n",
    "#     for vi, v in enumerate(np.asarray(uniqueLabels)):\n",
    "#         categoryFeatures # clear to be sure\n",
    "#         catIndexStart=(vi)*numSampled\n",
    "#         catIndexEnd=catIndexStart+numSampled\n",
    "#         print catIndexStart\n",
    "#         print catIndexEnd\n",
    "#         randImageInd=np.random.randint(500,size=numSampled)\n",
    "#         categoryFeatures=AF[labels == v,:]\n",
    "#         categoryFeaturesSelected=categoryFeatures[randImageInd,:]\n",
    "        \n",
    "#         np.shape(categoryFeatures)\n",
    "#         return categoryFeatures\n",
    "#         del categoryFeatures category       \n",
    "\n",
    "# categoryFeatures=get_adult_subsample(AF,AM)\n",
    "# categoryFeatures\n"
   ]
  },
  {
   "cell_type": "code",
   "execution_count": null,
   "metadata": {
    "collapsed": true
   },
   "outputs": [],
   "source": [
    "df"
   ]
  },
  {
   "cell_type": "code",
   "execution_count": null,
   "metadata": {
    "collapsed": true
   },
   "outputs": [],
   "source": []
  }
 ],
 "metadata": {
  "kernelspec": {
   "display_name": "Python 2",
   "language": "python",
   "name": "python2"
  },
  "language_info": {
   "codemirror_mode": {
    "name": "ipython",
    "version": 2
   },
   "file_extension": ".py",
   "mimetype": "text/x-python",
   "name": "python",
   "nbconvert_exporter": "python",
   "pygments_lexer": "ipython2",
   "version": "2.7.12"
  }
 },
 "nbformat": 4,
 "nbformat_minor": 1
}
