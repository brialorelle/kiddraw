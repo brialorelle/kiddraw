{
 "cells": [
  {
   "cell_type": "code",
   "execution_count": null,
   "metadata": {},
   "outputs": [],
   "source": [
    "## remember to run conn_cocolab from the terminal before running cells in this notebook!\n",
    "import os\n",
    "import urllib, cStringIO\n",
    "\n",
    "import pymongo as pm\n",
    "\n",
    "import matplotlib\n",
    "from matplotlib import pylab, mlab, pyplot\n",
    "%matplotlib inline\n",
    "from IPython.core.pylabtools import figsize, getfigs\n",
    "plt = pyplot\n",
    "import seaborn as sns\n",
    "sns.set_context('poster')\n",
    "sns.set_style('white')\n",
    "\n",
    "import numpy as np\n",
    "from __future__ import division\n",
    "import scipy.stats as stats\n",
    "import pandas as pd\n",
    "import json\n",
    "import re\n",
    "\n",
    "from PIL import Image\n",
    "import base64"
   ]
  },
  {
   "cell_type": "markdown",
   "metadata": {},
   "source": [
    "### vgg feature analysis "
   ]
  },
  {
   "cell_type": "code",
   "execution_count": null,
   "metadata": {
    "collapsed": true
   },
   "outputs": [],
   "source": [
    "import torch\n",
    "import torchvision.models as models\n",
    "import torch.nn as nn\n",
    "import torchvision.transforms as transforms\n",
    "import torch.nn.functional as F\n",
    "from torch.autograd import Variable\n",
    "\n",
    "import scipy.stats as stats\n",
    "from scipy.stats import norm\n",
    "import sklearn\n",
    "from sklearn.model_selection import train_test_split, cross_val_score\n",
    "from sklearn import svm\n",
    "from sklearn import linear_model, datasets, neighbors\n",
    "\n",
    "from sklearn.cluster import AffinityPropagation\n",
    "from sklearn import metrics\n",
    "\n",
    "from glob import glob\n",
    "import os\n",
    "\n",
    "import embedding as emb\n",
    "reload(emb)\n",
    "from embedding import *\n",
    "\n"
   ]
  },
  {
   "cell_type": "code",
   "execution_count": null,
   "metadata": {
    "collapsed": true
   },
   "outputs": [],
   "source": [
    "# retrieve sketch paths\n",
    "def list_files(path, ext='png'):\n",
    "    result = [y for x in os.walk(path) for y in glob(os.path.join(x[0], '*.%s' % ext))]\n",
    "    return result\n",
    "\n",
    "# extract metadata\n",
    "# path_to_sketches = '../sketches'\n",
    "path_to_sketches = '/home/jefan/kiddraw/analysis/museumdraw/sketches'\n",
    "sketch_paths = sorted(list_files(path_to_sketches))"
   ]
  },
  {
   "cell_type": "code",
   "execution_count": 4,
   "metadata": {},
   "outputs": [
    {
     "name": "stdout",
     "output_type": "stream",
     "text": [
      "Number of sketch paths = 532\n"
     ]
    }
   ],
   "source": [
    "## number of sketch paths \n",
    "print 'Number of sketch paths = {}'.format(len(sketch_paths))"
   ]
  },
  {
   "cell_type": "markdown",
   "metadata": {},
   "source": [
    "## extract features"
   ]
  },
  {
   "cell_type": "markdown",
   "metadata": {},
   "source": [
    "**Dec 28 2017 (updated Jan 14 2018):** <br>\n",
    " - From command line, extract features using `extract_features.py`. The default arguments are for the kid's drawings. <br>\n",
    " - To extract kid's drawings, just run: `python extract_features.py` <br>\n",
    " - To extract (mini verison of) adult drawings, run: `python extract_features.py --data='/data2/jefan/quickDraw/png_mini' --layer_ind=6 --cohort='adult'`"
   ]
  },
  {
   "cell_type": "code",
   "execution_count": 5,
   "metadata": {
    "collapsed": true
   },
   "outputs": [],
   "source": [
    "# z-score normalization to \"center\" the sketch embeddings\n",
    "def normalize(X):\n",
    "    X = X - X.mean(0)\n",
    "    X = X / np.maximum(X.std(0), 1e-5)\n",
    "    return X\n",
    "\n",
    "def get_class_means(X, labels):    \n",
    "    # load in and normalize features \n",
    "    _mu = np.zeros((len(np.unique(labels)), np.shape(X)[1]))        \n",
    "    X = normalize(X)\n",
    "    for vi, v in enumerate(np.unique(np.asarray(labels))):\n",
    "        Xv = X[labels == v]\n",
    "        nv = float(Xv.shape[0])\n",
    "        if nv > 0:\n",
    "            _mu[vi] = Xv.mean(0)\n",
    "    return _mu\n",
    "\n",
    "def normalize_RDM(MAT):\n",
    "    X = MAT - MAT.mean(0).mean(0)\n",
    "    X = X / np.maximum(MAT.std(0).std(0), 1e-5)\n",
    "    return X\n",
    "\n",
    "def plot_rdm_by_class(Features,X,layer_num):\n",
    "    layers = ['P1','P2','P3','P4','P5','FC6','FC7']        \n",
    "    sns.set_style('white')\n",
    "    fig = plt.figure(figsize=(6,6))\n",
    "    labels = X.label.values\n",
    "    means = get_class_means(Features, labels)\n",
    "    CORRMAT = np.corrcoef(means)\n",
    "    plt.matshow(CORRMAT)\n",
    "    plt.colorbar()\n",
    "    if not os.path.exists('./plots'):\n",
    "        os.makedirs('./plots')\n",
    "    plt.savefig('./plots/RDM_by_view_{}.pdf'.format(layers[layer_num]))\n",
    "    \n",
    "def load_features(cohort, layer_num):\n",
    "    layers = ['P1','P2','P3','P4','P5','FC6','FC7']            \n",
    "    F = np.load('/home/jefan/kiddraw/analysis/museumdraw/python/features/FEATURES_{}_{}.npy'.format(layers[layer_num],cohort))\n",
    "    M = pd.read_csv('/home/jefan/kiddraw/analysis/museumdraw/python/features/METADATA_{}.csv'.format(cohort)) \n",
    "    M = M[['label','age','session']]\n",
    "    return F, M\n",
    "\n",
    "def remove_practice_trials(KF,KM):\n",
    "    '''\n",
    "    remove \"circle\" and \"triangle\" trials from dataset\n",
    "    '''\n",
    "    practice_objects = ['circle','triangle']\n",
    "    _KF = KF[~KM['label'].isin(practice_objects),:]\n",
    "    _KM = KM[~KM['label'].isin(practice_objects)]\n",
    "    return _KF, _KM"
   ]
  },
  {
   "cell_type": "code",
   "execution_count": 181,
   "metadata": {
    "collapsed": true
   },
   "outputs": [],
   "source": [
    "## Chose Layer\n",
    "thisLayer=6"
   ]
  },
  {
   "cell_type": "code",
   "execution_count": 182,
   "metadata": {},
   "outputs": [
    {
     "name": "stdout",
     "output_type": "stream",
     "text": [
      "(387, 4096)\n"
     ]
    }
   ],
   "source": [
    "## load in kid features\n",
    "KF, KM = load_features('kid',thisLayer)\n",
    "KF, KM = remove_practice_trials(KF, KM)\n",
    "KM = KM.reset_index(drop=True)\n",
    "\n",
    "print np.shape(KF)"
   ]
  },
  {
   "cell_type": "markdown",
   "metadata": {},
   "source": [
    "### figure out how many drawings we have in each category x age"
   ]
  },
  {
   "cell_type": "code",
   "execution_count": null,
   "metadata": {
    "collapsed": true
   },
   "outputs": [],
   "source": []
  },
  {
   "cell_type": "code",
   "execution_count": 183,
   "metadata": {},
   "outputs": [
    {
     "name": "stdout",
     "output_type": "stream",
     "text": [
      "We have 24 labels that are common to both all 3 age cohorts.\n"
     ]
    }
   ],
   "source": [
    "## add additional column that coarse grains age\n",
    "def coarse_grain_age(row):\n",
    "    if row['age'] > 6:\n",
    "        val = 'older'\n",
    "    elif row['age'] <= 6:\n",
    "        val = 'younger'\n",
    "    return val\n",
    "\n",
    "def coarse_grain_age_2(row):\n",
    "    if row['age'] > 7: # ages 8-10\n",
    "        val = 'oldest'\n",
    "    elif row['age'] <= 7 & row['age']>5: # ages 6 & 7\n",
    "        val = 'middle'\n",
    "    elif row['age'] <= 5: # ages 3 4 5\n",
    "        val = 'youngest'\n",
    "    return val\n",
    "\n",
    "\n",
    "KM['coarse_age'] = KM.apply(coarse_grain_age_2, axis=1)\n",
    "\n",
    "## subset labels that have at least some drawings of them from each age category\n",
    "youngest_labels = KM[KM['coarse_age'] == 'youngest']['label'].values\n",
    "middle_labels = KM[KM['coarse_age'] == 'middle']['label'].values\n",
    "oldest_labels = KM[KM['coarse_age'] == 'oldest']['label'].values\n",
    "\n",
    "## list of labels that are in both younger and older age categories\n",
    "common_labels = list(np.intersect1d(youngest_labels,oldest_labels))\n",
    "common_labels = list(np.intersect1d(common_labels,middle_labels))                  \n",
    "\n",
    "print 'We have {} labels that are common to both all 3 age cohorts.'.format(len(common_labels))\n"
   ]
  },
  {
   "cell_type": "code",
   "execution_count": null,
   "metadata": {
    "collapsed": true
   },
   "outputs": [],
   "source": []
  },
  {
   "cell_type": "code",
   "execution_count": 184,
   "metadata": {},
   "outputs": [
    {
     "name": "stdout",
     "output_type": "stream",
     "text": [
      "We have 13 classes with sufficient data.\n",
      "banana -- 17 drawings\n",
      "boat -- 18 drawings\n",
      "car -- 18 drawings\n",
      "carrot -- 17 drawings\n",
      "chair -- 20 drawings\n",
      "couch -- 16 drawings\n",
      "cup -- 17 drawings\n",
      "flower -- 20 drawings\n",
      "foot -- 16 drawings\n",
      "ice cream -- 17 drawings\n",
      "rabbit -- 21 drawings\n",
      "shoe -- 18 drawings\n",
      "train -- 23 drawings\n"
     ]
    }
   ],
   "source": [
    "def subset_labels(F,M, labels):\n",
    "    '''\n",
    "    if labels == common_labels, then only include labels that are common to younger and older cohort\n",
    "    if labels == sufficient_data_labels, then subset by list of labels in which we have 'sufficient data', i.e., have >=thresh drawings/class\n",
    "    '''\n",
    "    _F = F[M['label'].isin(labels),:]\n",
    "    _M = M[M['label'].isin(labels)]\n",
    "    return _F, _M\n",
    "\n",
    "## get list of labels in which we have 'sufficient data', i.e., have >=5 drawings/class\n",
    "thresh = 3\n",
    "sufficient_data_labels = [] \n",
    "for cl in common_labels:\n",
    "    num_young_sketches = len(np.where(KM[KM.label==cl]['coarse_age'].values=='youngest')[0])\n",
    "    num_middle_sketches = len(np.where(KM[KM.label==cl]['coarse_age'].values=='middle')[0])\n",
    "    num_older_sketches = len(np.where(KM[KM.label==cl]['coarse_age'].values=='oldest')[0])\n",
    "    if (num_young_sketches>=thresh) & (num_middle_sketches>=thresh) & (num_older_sketches>=thresh):\n",
    "        sufficient_data_labels.append(cl)        \n",
    "        \n",
    "print 'We have {} classes with sufficient data.'.format(len(sufficient_data_labels))\n",
    "\n",
    "np.shape(sufficient_data_labels)\n",
    "for l in sufficient_data_labels:\n",
    "    print \"%s -- %d drawings\" % (l,sum(KM['label'] == l ))"
   ]
  },
  {
   "cell_type": "code",
   "execution_count": 185,
   "metadata": {
    "collapsed": true
   },
   "outputs": [],
   "source": [
    "## subset to only use the labels with either COMMON LABELS or SUFFICIENT DATA (see cell above)\n",
    "KF, KM = subset_labels(KF, KM, common_labels)\n",
    "KM = KM.reset_index(drop=True)"
   ]
  },
  {
   "cell_type": "code",
   "execution_count": 186,
   "metadata": {},
   "outputs": [
    {
     "name": "stdout",
     "output_type": "stream",
     "text": [
      "3 yr olds made 2 drawings\n",
      "4 yr olds made 28 drawings\n",
      "5 yr olds made 54 drawings\n",
      "6 yr olds made 58 drawings\n",
      "7 yr olds made 42 drawings\n",
      "8 yr olds made 87 drawings\n",
      "9 yr olds made 8 drawings\n",
      "10 yr olds made 53 drawings\n",
      "younger kids made 84 drawings\n",
      "middle kids made 100 drawings\n",
      "older kids made 148 drawings\n"
     ]
    }
   ],
   "source": [
    "## Print out number of drawings in each age & age group\n",
    "print \"3 yr olds made %s drawings\" % (sum(KM['age'] == 3 ))\n",
    "print \"4 yr olds made %s drawings\" % (sum(KM['age'] == 4 ))\n",
    "print \"5 yr olds made %s drawings\" % (sum(KM['age'] == 5 ))\n",
    "print \"6 yr olds made %s drawings\" % (sum(KM['age'] == 6 ))\n",
    "print \"7 yr olds made %s drawings\" % (sum(KM['age'] == 7 ))\n",
    "print \"8 yr olds made %s drawings\" % (sum(KM['age'] == 8 ))\n",
    "print \"9 yr olds made %s drawings\" % (sum(KM['age'] == 9 ))\n",
    "print \"10 yr olds made %s drawings\" % (sum(KM['age'] == 10 ))\n",
    "\n",
    "\n",
    "print \"younger kids made %s drawings\" % (sum(KM['coarse_age'] == 'youngest' ))\n",
    "print \"middle kids made %s drawings\" % (sum(KM['coarse_age'] == 'middle' ))\n",
    "print \"older kids made %s drawings\" % (sum(KM['coarse_age'] == 'oldest' ))"
   ]
  },
  {
   "cell_type": "markdown",
   "metadata": {},
   "source": [
    "#### quick classification tests"
   ]
  },
  {
   "cell_type": "code",
   "execution_count": 187,
   "metadata": {},
   "outputs": [
    {
     "name": "stdout",
     "output_type": "stream",
     "text": [
      "0.421686746988\n"
     ]
    }
   ],
   "source": [
    "#### Quick classification test\n",
    "FEAT = KF\n",
    "LABELS = KM.label.values\n",
    "AGES = KM.age.values\n",
    "\n",
    "# single train/test split\n",
    "X_train, X_test, y_train, y_test = train_test_split(\n",
    "    FEAT, LABELS, test_size=0.25, random_state=0)\n",
    "# clf = svm.SVC(kernel='linear', C=1).fit(X_train, y_train)\n",
    "clf = linear_model.LogisticRegression(penalty='l2',C=1).fit(X_train, y_train)\n",
    "print clf.score(X_test, y_test)\n",
    "\n",
    "run_this = 0\n",
    "if run_this:\n",
    "    # cross-validated\n",
    "    clf = linear_model.LogisticRegression(penalty='l2')\n",
    "    scores = cross_val_score(clf, FEAT, LABELS, cv=3)\n",
    "    print(\"Accuracy: %0.2f (+/- %0.2f)\" % (scores.mean(), scores.std() * 2))"
   ]
  },
  {
   "cell_type": "code",
   "execution_count": 189,
   "metadata": {},
   "outputs": [
    {
     "name": "stdout",
     "output_type": "stream",
     "text": [
      "3-6y 142 0.166666666667\n",
      "4-7y 182 0.239130434783\n",
      "5-8y 241 0.360655737705\n",
      "6-9y 195 0.489795918367\n",
      "7-10y 190 0.375\n"
     ]
    }
   ],
   "source": [
    "## see how recognizability changes with age?\n",
    "scores = []\n",
    "num_samples = []\n",
    "age_range = np.arange(4,11)\n",
    "\n",
    "# width of moving window in # of trials    \n",
    "window_size = 4\n",
    "lb = int(min(KM.age.values))\n",
    "ub = int(max(KM.age.values))\n",
    "num_windows = ub-lb-window_size+2 ##     \n",
    "\n",
    "for n in np.arange(num_windows):\n",
    "    start = lb + n\n",
    "    end = lb + n + window_size\n",
    "    ind = KM.index[(KM['age'] >= start) & (KM['age'] < end)]\n",
    "    meta = KM.loc[ind]\n",
    "    subFeat = KF[ind.tolist()]\n",
    "\n",
    "    FEAT = subFeat\n",
    "    LABELS = meta.label.values\n",
    "\n",
    "    # single train/test split\n",
    "    X_train, X_test, y_train, y_test = train_test_split(\n",
    "        FEAT, LABELS, test_size=0.25, random_state=3)\n",
    "    clf = svm.SVC(kernel='linear', C=1).fit(X_train, y_train)\n",
    "#     clf = linear_model.LogisticRegression(penalty='l2',C=1).fit(X_train, y_train)\n",
    "    print '{}-{}y'.format(start, end-1), len(LABELS),clf.score(X_test, y_test)\n",
    "    num_samples.append(len(LABELS))\n",
    "    scores.append(clf.score(X_test, y_test))\n",
    "    "
   ]
  },
  {
   "cell_type": "code",
   "execution_count": null,
   "metadata": {
    "collapsed": true
   },
   "outputs": [],
   "source": []
  },
  {
   "cell_type": "code",
   "execution_count": null,
   "metadata": {
    "collapsed": true
   },
   "outputs": [],
   "source": []
  },
  {
   "cell_type": "markdown",
   "metadata": {
    "collapsed": true
   },
   "source": [
    "### Extract adult drawing features"
   ]
  },
  {
   "cell_type": "code",
   "execution_count": 208,
   "metadata": {},
   "outputs": [
    {
     "name": "stdout",
     "output_type": "stream",
     "text": [
      "(8000, 4096)\n"
     ]
    },
    {
     "data": {
      "text/plain": [
       "array(['banana', 'bird', 'boat', 'car', 'carrot', 'chair', 'couch', 'cup',\n",
       "       'flower', 'foot', 'frog', 'ice cream', 'phone', 'rabbit', 'shoe',\n",
       "       'train'], dtype=object)"
      ]
     },
     "execution_count": 208,
     "metadata": {},
     "output_type": "execute_result"
    }
   ],
   "source": [
    "## load in adult features\n",
    "AF, AM = load_features('adult',thisLayer)\n",
    "AF, AM = remove_practice_trials(AF, AM)\n",
    "AM = AM.reset_index(drop=True)\n",
    "print np.shape(AF)\n",
    "\n",
    "np.unique(AM.label.values)"
   ]
  },
  {
   "cell_type": "code",
   "execution_count": 194,
   "metadata": {
    "collapsed": true
   },
   "outputs": [],
   "source": [
    "## which label set are we using? common_labels or sufficient_data_labels\n",
    "these_labels = common_labels\n",
    "\n",
    "## set up lookup table to cover discrepancies in category label assignments\n",
    "lookup = dict(zip(these_labels,these_labels))\n",
    "if 'bike' in lookup.keys():\n",
    "    lookup['bike'] = 'bicycle'\n",
    "    \n",
    "## subset adult feature matrix and metadata matrix by appropriate labelset\n",
    "AF, AM = subset_labels(AF, AM, [lookup[i] for i in these_labels])\n",
    "AM = AM.reset_index(drop=True)    "
   ]
  },
  {
   "cell_type": "code",
   "execution_count": 204,
   "metadata": {},
   "outputs": [
    {
     "data": {
      "text/plain": [
       "array(['banana', 'bird', 'boat', 'car', 'carrot', 'chair', 'couch', 'cup',\n",
       "       'flower', 'foot', 'frog', 'ice cream', 'phone', 'rabbit', 'shoe',\n",
       "       'train'], dtype=object)"
      ]
     },
     "execution_count": 204,
     "metadata": {},
     "output_type": "execute_result"
    }
   ],
   "source": [
    "np.unique(AM.label.values)"
   ]
  },
  {
   "cell_type": "code",
   "execution_count": 195,
   "metadata": {},
   "outputs": [
    {
     "name": "stdout",
     "output_type": "stream",
     "text": [
      "Clusters\n",
      "['carrot' 'chair']\n",
      "['banana' 'bird' 'car' 'flower' 'frog' 'rabbit']\n",
      "['phone']\n",
      "['boat' 'couch' 'cup' 'foot' 'ice cream' 'shoe']\n",
      "['train']\n"
     ]
    }
   ],
   "source": [
    "## apply clustering to organize RDM so that we can see some block diagonal structure\n",
    "def flatten(x):\n",
    "    return [item for sublist in x for item in sublist]\n",
    "\n",
    "## retrieve alpha sorted labels from meta\n",
    "_labels = np.unique(AM.label.values) # added bll\n",
    "means=get_class_means(AF, AM.label.values)\n",
    "\n",
    "af = AffinityPropagation(damping=0.5).fit(means)\n",
    "labels = af.labels_\n",
    "cluster_centers_indices = af.cluster_centers_indices_\n",
    "n_clusters_ = len(cluster_centers_indices)\n",
    "\n",
    "ordered_objs = []\n",
    "print('Clusters')\n",
    "for k in range(n_clusters_):\n",
    "    class_members = labels == k\n",
    "    print _labels[class_members]\n",
    "    ordered_objs.append(list(_labels[class_members]))\n",
    "    \n",
    "ordered_objs = np.array(flatten(ordered_objs))\n",
    "\n",
    "# define standard order to be used for RDM's across layers\n",
    "standard_order = ordered_objs\n",
    "\n",
    "## index for sorting the alphabetical list of labels INTO the order specified by ordered_objs (clustered)\n",
    "sort_inds = [np.where(_labels==ordered_objs[i])[0][0] for i in np.arange(len(ordered_objs))]"
   ]
  },
  {
   "cell_type": "code",
   "execution_count": 198,
   "metadata": {},
   "outputs": [
    {
     "data": {
      "text/plain": [
       "array(['banana', 'bird', 'boat', 'car', 'carrot', 'chair', 'couch', 'cup',\n",
       "       'flower', 'foot', 'frog', 'ice cream', 'phone', 'rabbit', 'shoe',\n",
       "       'train'], dtype=object)"
      ]
     },
     "execution_count": 198,
     "metadata": {},
     "output_type": "execute_result"
    }
   ],
   "source": [
    "np.unique(AM.label.values)"
   ]
  },
  {
   "cell_type": "code",
   "execution_count": null,
   "metadata": {
    "collapsed": true
   },
   "outputs": [],
   "source": []
  },
  {
   "cell_type": "code",
   "execution_count": null,
   "metadata": {
    "collapsed": true
   },
   "outputs": [],
   "source": []
  },
  {
   "cell_type": "code",
   "execution_count": null,
   "metadata": {
    "collapsed": true
   },
   "outputs": [],
   "source": []
  },
  {
   "cell_type": "code",
   "execution_count": 40,
   "metadata": {
    "collapsed": true
   },
   "outputs": [],
   "source": [
    "def get_and_plot_RDM(M,F,cohort,sort_inds):\n",
    "    ## sorted adult RDMs\n",
    "    labels = M.label.values\n",
    "    means = get_class_means(F, labels)\n",
    "    ordered_means = means[sort_inds,:]\n",
    "    sns.set_style('white')\n",
    "    CORRMAT = np.corrcoef(ordered_means)\n",
    "\n",
    "    sns.set_context('paper')\n",
    "    fig = plt.figure(figsize=(24,24))\n",
    "    plt.matshow(CORRMAT)\n",
    "    plt.xticks(range(len(ordered_objs)), ordered_objs, rotation=90);\n",
    "    plt.yticks(range(len(ordered_objs)), ordered_objs); \n",
    "    # plt.colorbar(ax) creates error for me\n",
    "    for tick in pylab.gca().xaxis.iter_ticks():\n",
    "        tick[0].label2On = True\n",
    "        tick[0].label1On = False\n",
    "        tick[0].label2.set_rotation('vertical')\n",
    "        tick[0].tick1On = False\n",
    "        tick[0].tick2On = False\n",
    "    for tick in pylab.gca().yaxis.iter_ticks():\n",
    "        tick[0].tick1On = False\n",
    "        tick[0].tick2On = False  \n",
    "    RDM = CORRMAT\n",
    "    plt.savefig('./plots/RDM_{}.pdf'.format(cohort))\n",
    "    return RDM\n",
    "\n",
    "\n",
    "def get_RDM(M,F,sort_inds):\n",
    "    ## sorted adult RDMs\n",
    "    labels = M.label.values\n",
    "    means = get_class_means(F, labels)\n",
    "    ordered_means = means[sort_inds,:]    \n",
    "    RDM = np.corrcoef(ordered_means)\n",
    "    return RDM"
   ]
  },
  {
   "cell_type": "code",
   "execution_count": 41,
   "metadata": {},
   "outputs": [
    {
     "data": {
      "text/plain": [
       "<matplotlib.figure.Figure at 0x7f84c35f1c90>"
      ]
     },
     "metadata": {},
     "output_type": "display_data"
    },
    {
     "data": {
      "image/png": "[encoded data removed]",
      "text/plain": [
       "<matplotlib.figure.Figure at 0x7f84d537bbd0>"
      ]
     },
     "metadata": {},
     "output_type": "display_data"
    }
   ],
   "source": [
    "\n",
    "## get and plot sorted adult RDM\n",
    "ARDM = get_and_plot_RDM(AM, AF,'adult',sort_inds)"
   ]
  },
  {
   "cell_type": "code",
   "execution_count": 29,
   "metadata": {},
   "outputs": [
    {
     "data": {
      "text/plain": [
       "[4, 5, 0, 1, 3, 8, 10, 13, 12, 2, 6, 7, 9, 11, 14, 15]"
      ]
     },
     "execution_count": 29,
     "metadata": {},
     "output_type": "execute_result"
    }
   ],
   "source": [
    "sort_inds"
   ]
  },
  {
   "cell_type": "code",
   "execution_count": 42,
   "metadata": {},
   "outputs": [
    {
     "data": {
      "text/plain": [
       "<matplotlib.figure.Figure at 0x7f84c34aab50>"
      ]
     },
     "metadata": {},
     "output_type": "display_data"
    },
    {
     "data": {
      "image/png": "[encoded data removed]",
      "text/plain": [
       "<matplotlib.figure.Figure at 0x7f84c33ef210>"
      ]
     },
     "metadata": {},
     "output_type": "display_data"
    }
   ],
   "source": [
    "## get and plot sorted kid RDM collapsing across all ages\n",
    "KRDM = get_and_plot_RDM(KM, KF,'kid',sort_inds)"
   ]
  },
  {
   "cell_type": "code",
   "execution_count": 43,
   "metadata": {},
   "outputs": [
    {
     "data": {
      "text/plain": [
       "<matplotlib.figure.Figure at 0x7f84c3683610>"
      ]
     },
     "metadata": {},
     "output_type": "display_data"
    },
    {
     "data": {
      "image/png": "[encoded data removed]",
      "text/plain": [
       "<matplotlib.figure.Figure at 0x7f84c3886690>"
      ]
     },
     "metadata": {},
     "output_type": "display_data"
    }
   ],
   "source": [
    "## get RDM for older kids (9,10)\n",
    "ind = KM.index[KM['coarse_age'] == 'oldest']\n",
    "meta = KM.loc[ind]\n",
    "feat = KF[ind.tolist()]\n",
    "ORDM = get_and_plot_RDM(meta, feat,'oldest',sort_inds)"
   ]
  },
  {
   "cell_type": "code",
   "execution_count": 44,
   "metadata": {},
   "outputs": [
    {
     "data": {
      "text/plain": [
       "<matplotlib.figure.Figure at 0x7f84c36866d0>"
      ]
     },
     "metadata": {},
     "output_type": "display_data"
    },
    {
     "data": {
      "image/png": "[encoded data removed]",
      "text/plain": [
       "<matplotlib.figure.Figure at 0x7f84c3521610>"
      ]
     },
     "metadata": {},
     "output_type": "display_data"
    }
   ],
   "source": [
    "## get RDM for middle kids (6,7)\n",
    "ind = KM.index[KM['coarse_age'] == 'middle']\n",
    "meta = KM.loc[ind]\n",
    "feat = KF[ind.tolist()]\n",
    "MRDM = get_and_plot_RDM(meta, feat,'middle',sort_inds)"
   ]
  },
  {
   "cell_type": "code",
   "execution_count": null,
   "metadata": {
    "collapsed": true
   },
   "outputs": [],
   "source": []
  },
  {
   "cell_type": "code",
   "execution_count": 45,
   "metadata": {},
   "outputs": [
    {
     "data": {
      "text/plain": [
       "<matplotlib.figure.Figure at 0x7f84c35ec290>"
      ]
     },
     "metadata": {},
     "output_type": "display_data"
    },
    {
     "data": {
      "image/png": "[encoded data removed]",
      "text/plain": [
       "<matplotlib.figure.Figure at 0x7f84c383d050>"
      ]
     },
     "metadata": {},
     "output_type": "display_data"
    }
   ],
   "source": [
    "## get RDM for younger kids (3,4,5)\n",
    "ind = KM.index[KM['coarse_age'] == 'youngest']\n",
    "meta = KM.loc[ind]\n",
    "feat = KF[ind.tolist()]\n",
    "YRDM = get_and_plot_RDM(meta, feat,'youngest',sort_inds)"
   ]
  },
  {
   "cell_type": "code",
   "execution_count": null,
   "metadata": {
    "collapsed": true
   },
   "outputs": [],
   "source": []
  },
  {
   "cell_type": "code",
   "execution_count": 46,
   "metadata": {},
   "outputs": [
    {
     "name": "stdout",
     "output_type": "stream",
     "text": [
      "Correlation between adult and overall kid RDM: 0.684138646164\n",
      " \n",
      "Correlation between adult and OLDER kid RDM: 0.675919017691\n",
      " \n",
      "Correlation between adult and MIDDLE kid RDM: 0.528825604775\n",
      " \n",
      "Correlation between adult and YOUNGER kid RDM: 0.203353608417\n",
      " \n",
      "Correlation between OLDER and YOUNGER kid RDM: 0.144146992248\n"
     ]
    }
   ],
   "source": [
    "## print fc7 cross-cohort correlations\n",
    "\n",
    "dim = KRDM.shape[0]\n",
    "cor = stats.spearmanr(np.ravel(KRDM[np.triu_indices(dim,k=1)]),np.ravel(ARDM[np.triu_indices(dim,k=1)]))[0]\n",
    "print 'Correlation between adult and overall kid RDM: {}'.format(cor)\n",
    "\n",
    "print ' '\n",
    "dim = ORDM.shape[0]\n",
    "cor = stats.spearmanr(np.ravel(ORDM[np.triu_indices(dim,k=1)]),np.ravel(ARDM[np.triu_indices(dim,k=1)]))[0]\n",
    "print 'Correlation between adult and OLDER kid RDM: {}'.format(cor)\n",
    "\n",
    "\n",
    "print ' '\n",
    "dim = MRDM.shape[0]\n",
    "cor = stats.spearmanr(np.ravel(MRDM[np.triu_indices(dim,k=1)]),np.ravel(ARDM[np.triu_indices(dim,k=1)]))[0]\n",
    "print 'Correlation between adult and MIDDLE kid RDM: {}'.format(cor)\n",
    "\n",
    "print ' '\n",
    "dim = YRDM.shape[0]\n",
    "cor = stats.spearmanr(np.ravel(YRDM[np.triu_indices(dim,k=1)]),np.ravel(ARDM[np.triu_indices(dim,k=1)]))[0]\n",
    "print 'Correlation between adult and YOUNGER kid RDM: {}'.format(cor)\n",
    "\n",
    "\n",
    "print ' '\n",
    "dim = YRDM.shape[0]\n",
    "cor = stats.spearmanr(np.ravel(YRDM[np.triu_indices(dim,k=1)]),np.ravel(ORDM[np.triu_indices(dim,k=1)]))[0]\n",
    "print 'Correlation between OLDER and YOUNGER kid RDM: {}'.format(cor)"
   ]
  },
  {
   "cell_type": "code",
   "execution_count": null,
   "metadata": {
    "collapsed": true
   },
   "outputs": [],
   "source": []
  },
  {
   "cell_type": "code",
   "execution_count": null,
   "metadata": {
    "collapsed": true
   },
   "outputs": [],
   "source": []
  },
  {
   "cell_type": "code",
   "execution_count": null,
   "metadata": {
    "collapsed": true
   },
   "outputs": [],
   "source": []
  },
  {
   "cell_type": "code",
   "execution_count": null,
   "metadata": {
    "collapsed": true
   },
   "outputs": [],
   "source": []
  },
  {
   "cell_type": "code",
   "execution_count": null,
   "metadata": {
    "collapsed": true
   },
   "outputs": [],
   "source": []
  },
  {
   "cell_type": "markdown",
   "metadata": {},
   "source": [
    "### generalize across layers"
   ]
  },
  {
   "cell_type": "code",
   "execution_count": 180,
   "metadata": {
    "collapsed": true
   },
   "outputs": [],
   "source": [
    "## which label set are we using? common_labels or sufficient_data_labels\n",
    "these_labels = common_labels\n",
    "\n",
    "## function to apply various cleanup operations to adult feat/meta, including deborkifying and subsetting by appropriate labelset\n",
    "def adult_preproc(AF, AM, these_labels):\n",
    "    ## set up lookup table to cover discrepancies in category label assignments\n",
    "    lookup = dict(zip(these_labels,these_labels))\n",
    "    if 'bike' in lookup.keys():\n",
    "        lookup['bike'] = 'bicycle'\n",
    "\n",
    "    ## subset adult feature matrix and metadata matrix by appropriate labelset\n",
    "    AF, AM = subset_labels(AF, AM, [lookup[i] for i in these_labels])\n",
    "    AM = AM.reset_index(drop=True)    \n",
    "    return AF, AM\n",
    "\n",
    "## function to add coarse grain age and subset according to proper labelset\n",
    "def preproc_kid(KF, KM,these_labels):    \n",
    "    KM['coarse_age'] = KM.apply(coarse_grain_age, axis=1)\n",
    "    ## subset labels that have at least some drawings of them from each age category\n",
    "    younger_labels = KM[KM['coarse_age'] == 'younger']['label'].values\n",
    "    older_labels = KM[KM['coarse_age'] == 'older']['label'].values\n",
    "    \n",
    "    ## subset to only use the labels with either COMMON LABELS or SUFFICIENT DATA (see cell above)\n",
    "    KF, KM = subset_labels(KF, KM, these_labels)\n",
    "    KM = KM.reset_index(drop=True)    \n",
    "    return KF, KM\n",
    "\n",
    "## make sure directory for RDM exists\n",
    "if not os.path.exists('./rdm'):\n",
    "    os.makedirs('./rdm')"
   ]
  },
  {
   "cell_type": "code",
   "execution_count": 160,
   "metadata": {},
   "outputs": [
    {
     "name": "stdout",
     "output_type": "stream",
     "text": [
      "Loading in adult features for layer 0...\n"
     ]
    },
    {
     "ename": "KeyboardInterrupt",
     "evalue": "",
     "output_type": "error",
     "traceback": [
      "\u001b[0;31m---------------------------------------------------------------------------\u001b[0m",
      "\u001b[0;31mKeyboardInterrupt\u001b[0m                         Traceback (most recent call last)",
      "\u001b[0;32m<ipython-input-160-dfd00bed1bbd>\u001b[0m in \u001b[0;36m<module>\u001b[0;34m()\u001b[0m\n\u001b[1;32m      2\u001b[0m \u001b[0;32mfor\u001b[0m \u001b[0mlayer_num\u001b[0m \u001b[0;32min\u001b[0m \u001b[0mnp\u001b[0m\u001b[0;34m.\u001b[0m\u001b[0marange\u001b[0m\u001b[0;34m(\u001b[0m\u001b[0;36m7\u001b[0m\u001b[0;34m)\u001b[0m\u001b[0;34m:\u001b[0m\u001b[0;34m\u001b[0m\u001b[0m\n\u001b[1;32m      3\u001b[0m     \u001b[0;32mprint\u001b[0m \u001b[0;34m'Loading in adult features for layer {}...'\u001b[0m\u001b[0;34m.\u001b[0m\u001b[0mformat\u001b[0m\u001b[0;34m(\u001b[0m\u001b[0mlayer_num\u001b[0m\u001b[0;34m)\u001b[0m\u001b[0;34m\u001b[0m\u001b[0m\n\u001b[0;32m----> 4\u001b[0;31m     \u001b[0mAF\u001b[0m\u001b[0;34m,\u001b[0m \u001b[0mAM\u001b[0m \u001b[0;34m=\u001b[0m \u001b[0mload_features\u001b[0m\u001b[0;34m(\u001b[0m\u001b[0;34m'adult'\u001b[0m\u001b[0;34m,\u001b[0m\u001b[0mlayer_num\u001b[0m\u001b[0;34m)\u001b[0m\u001b[0;34m\u001b[0m\u001b[0m\n\u001b[0m\u001b[1;32m      5\u001b[0m     \u001b[0mAF\u001b[0m\u001b[0;34m,\u001b[0m \u001b[0mAM\u001b[0m \u001b[0;34m=\u001b[0m \u001b[0mremove_practice_trials\u001b[0m\u001b[0;34m(\u001b[0m\u001b[0mAF\u001b[0m\u001b[0;34m,\u001b[0m \u001b[0mAM\u001b[0m\u001b[0;34m)\u001b[0m\u001b[0;34m\u001b[0m\u001b[0m\n\u001b[1;32m      6\u001b[0m     \u001b[0mAM\u001b[0m \u001b[0;34m=\u001b[0m \u001b[0mAM\u001b[0m\u001b[0;34m.\u001b[0m\u001b[0mreset_index\u001b[0m\u001b[0;34m(\u001b[0m\u001b[0mdrop\u001b[0m\u001b[0;34m=\u001b[0m\u001b[0mTrue\u001b[0m\u001b[0;34m)\u001b[0m\u001b[0;34m\u001b[0m\u001b[0m\n",
      "\u001b[0;32m<ipython-input-5-cb7fe55fa9dc>\u001b[0m in \u001b[0;36mload_features\u001b[0;34m(cohort, layer_num)\u001b[0m\n\u001b[1;32m     36\u001b[0m \u001b[0;32mdef\u001b[0m \u001b[0mload_features\u001b[0m\u001b[0;34m(\u001b[0m\u001b[0mcohort\u001b[0m\u001b[0;34m,\u001b[0m \u001b[0mlayer_num\u001b[0m\u001b[0;34m)\u001b[0m\u001b[0;34m:\u001b[0m\u001b[0;34m\u001b[0m\u001b[0m\n\u001b[1;32m     37\u001b[0m     \u001b[0mlayers\u001b[0m \u001b[0;34m=\u001b[0m \u001b[0;34m[\u001b[0m\u001b[0;34m'P1'\u001b[0m\u001b[0;34m,\u001b[0m\u001b[0;34m'P2'\u001b[0m\u001b[0;34m,\u001b[0m\u001b[0;34m'P3'\u001b[0m\u001b[0;34m,\u001b[0m\u001b[0;34m'P4'\u001b[0m\u001b[0;34m,\u001b[0m\u001b[0;34m'P5'\u001b[0m\u001b[0;34m,\u001b[0m\u001b[0;34m'FC6'\u001b[0m\u001b[0;34m,\u001b[0m\u001b[0;34m'FC7'\u001b[0m\u001b[0;34m]\u001b[0m\u001b[0;34m\u001b[0m\u001b[0m\n\u001b[0;32m---> 38\u001b[0;31m     \u001b[0mF\u001b[0m \u001b[0;34m=\u001b[0m \u001b[0mnp\u001b[0m\u001b[0;34m.\u001b[0m\u001b[0mload\u001b[0m\u001b[0;34m(\u001b[0m\u001b[0;34m'/home/jefan/kiddraw/analysis/museumdraw/python/features/FEATURES_{}_{}.npy'\u001b[0m\u001b[0;34m.\u001b[0m\u001b[0mformat\u001b[0m\u001b[0;34m(\u001b[0m\u001b[0mlayers\u001b[0m\u001b[0;34m[\u001b[0m\u001b[0mlayer_num\u001b[0m\u001b[0;34m]\u001b[0m\u001b[0;34m,\u001b[0m\u001b[0mcohort\u001b[0m\u001b[0;34m)\u001b[0m\u001b[0;34m)\u001b[0m\u001b[0;34m\u001b[0m\u001b[0m\n\u001b[0m\u001b[1;32m     39\u001b[0m     \u001b[0mM\u001b[0m \u001b[0;34m=\u001b[0m \u001b[0mpd\u001b[0m\u001b[0;34m.\u001b[0m\u001b[0mread_csv\u001b[0m\u001b[0;34m(\u001b[0m\u001b[0;34m'/home/jefan/kiddraw/analysis/museumdraw/python/features/METADATA_{}.csv'\u001b[0m\u001b[0;34m.\u001b[0m\u001b[0mformat\u001b[0m\u001b[0;34m(\u001b[0m\u001b[0mcohort\u001b[0m\u001b[0;34m)\u001b[0m\u001b[0;34m)\u001b[0m\u001b[0;34m\u001b[0m\u001b[0m\n\u001b[1;32m     40\u001b[0m     \u001b[0mM\u001b[0m \u001b[0;34m=\u001b[0m \u001b[0mM\u001b[0m\u001b[0;34m[\u001b[0m\u001b[0;34m[\u001b[0m\u001b[0;34m'label'\u001b[0m\u001b[0;34m,\u001b[0m\u001b[0;34m'age'\u001b[0m\u001b[0;34m,\u001b[0m\u001b[0;34m'session'\u001b[0m\u001b[0;34m]\u001b[0m\u001b[0;34m]\u001b[0m\u001b[0;34m\u001b[0m\u001b[0m\n",
      "\u001b[0;32m/usr/local/lib/python2.7/dist-packages/numpy/lib/npyio.pyc\u001b[0m in \u001b[0;36mload\u001b[0;34m(file, mmap_mode, allow_pickle, fix_imports, encoding)\u001b[0m\n\u001b[1;32m    417\u001b[0m             \u001b[0;32melse\u001b[0m\u001b[0;34m:\u001b[0m\u001b[0;34m\u001b[0m\u001b[0m\n\u001b[1;32m    418\u001b[0m                 return format.read_array(fid, allow_pickle=allow_pickle,\n\u001b[0;32m--> 419\u001b[0;31m                                          pickle_kwargs=pickle_kwargs)\n\u001b[0m\u001b[1;32m    420\u001b[0m         \u001b[0;32melse\u001b[0m\u001b[0;34m:\u001b[0m\u001b[0;34m\u001b[0m\u001b[0m\n\u001b[1;32m    421\u001b[0m             \u001b[0;31m# Try a pickle\u001b[0m\u001b[0;34m\u001b[0m\u001b[0;34m\u001b[0m\u001b[0m\n",
      "\u001b[0;32m/usr/local/lib/python2.7/dist-packages/numpy/lib/format.pyc\u001b[0m in \u001b[0;36mread_array\u001b[0;34m(fp, allow_pickle, pickle_kwargs)\u001b[0m\n\u001b[1;32m    649\u001b[0m         \u001b[0;32mif\u001b[0m \u001b[0misfileobj\u001b[0m\u001b[0;34m(\u001b[0m\u001b[0mfp\u001b[0m\u001b[0;34m)\u001b[0m\u001b[0;34m:\u001b[0m\u001b[0;34m\u001b[0m\u001b[0m\n\u001b[1;32m    650\u001b[0m             \u001b[0;31m# We can use the fast fromfile() function.\u001b[0m\u001b[0;34m\u001b[0m\u001b[0;34m\u001b[0m\u001b[0m\n\u001b[0;32m--> 651\u001b[0;31m             \u001b[0marray\u001b[0m \u001b[0;34m=\u001b[0m \u001b[0mnumpy\u001b[0m\u001b[0;34m.\u001b[0m\u001b[0mfromfile\u001b[0m\u001b[0;34m(\u001b[0m\u001b[0mfp\u001b[0m\u001b[0;34m,\u001b[0m \u001b[0mdtype\u001b[0m\u001b[0;34m=\u001b[0m\u001b[0mdtype\u001b[0m\u001b[0;34m,\u001b[0m \u001b[0mcount\u001b[0m\u001b[0;34m=\u001b[0m\u001b[0mcount\u001b[0m\u001b[0;34m)\u001b[0m\u001b[0;34m\u001b[0m\u001b[0m\n\u001b[0m\u001b[1;32m    652\u001b[0m         \u001b[0;32melse\u001b[0m\u001b[0;34m:\u001b[0m\u001b[0;34m\u001b[0m\u001b[0m\n\u001b[1;32m    653\u001b[0m             \u001b[0;31m# This is not a real file. We have to read it the\u001b[0m\u001b[0;34m\u001b[0m\u001b[0;34m\u001b[0m\u001b[0m\n",
      "\u001b[0;31mKeyboardInterrupt\u001b[0m: "
     ]
    }
   ],
   "source": [
    "## load in adult features\n",
    "really_run = 0\n",
    "if really_run:\n",
    "    for layer_num in np.arange(7):\n",
    "        print 'Loading in adult features for layer {}...'.format(layer_num)\n",
    "        AF, AM = load_features('adult',layer_num)\n",
    "        AF, AM = remove_practice_trials(AF, AM)\n",
    "        AM = AM.reset_index(drop=True)\n",
    "        AF, AM = adult_preproc(AF, AM, these_labels)\n",
    "        print 'Shape of adult feature tensor: {}'.format(np.shape(AF))\n",
    "\n",
    "        ## get RDM\n",
    "        cohort = 'adult'\n",
    "        print 'Getting and saving RDM...'\n",
    "        RDM = get_RDM(AM, AF,sort_inds)\n",
    "        ## save out RDM as npy\n",
    "        np.save('./rdm/RDM_{}_{}.npy'.format('adult',layer_num),ARDM)\n"
   ]
  },
  {
   "cell_type": "code",
   "execution_count": null,
   "metadata": {
    "collapsed": true
   },
   "outputs": [],
   "source": []
  },
  {
   "cell_type": "code",
   "execution_count": 64,
   "metadata": {},
   "outputs": [
    {
     "data": {
      "text/html": [
       "<div>\n",
       "<style>\n",
       "    .dataframe thead tr:only-child th {\n",
       "        text-align: right;\n",
       "    }\n",
       "\n",
       "    .dataframe thead th {\n",
       "        text-align: left;\n",
       "    }\n",
       "\n",
       "    .dataframe tbody tr th {\n",
       "        vertical-align: top;\n",
       "    }\n",
       "</style>\n",
       "<table border=\"1\" class=\"dataframe\">\n",
       "  <thead>\n",
       "    <tr style=\"text-align: right;\">\n",
       "      <th></th>\n",
       "      <th>label</th>\n",
       "      <th>age</th>\n",
       "      <th>session</th>\n",
       "      <th>coarse_age</th>\n",
       "    </tr>\n",
       "  </thead>\n",
       "  <tbody>\n",
       "    <tr>\n",
       "      <th>0</th>\n",
       "      <td>banana</td>\n",
       "      <td>4</td>\n",
       "      <td>E1c_1510691847400</td>\n",
       "      <td>younger</td>\n",
       "    </tr>\n",
       "    <tr>\n",
       "      <th>1</th>\n",
       "      <td>banana</td>\n",
       "      <td>5</td>\n",
       "      <td>E1c_1510253748384</td>\n",
       "      <td>younger</td>\n",
       "    </tr>\n",
       "    <tr>\n",
       "      <th>2</th>\n",
       "      <td>banana</td>\n",
       "      <td>5</td>\n",
       "      <td>E1c_1510786719020</td>\n",
       "      <td>younger</td>\n",
       "    </tr>\n",
       "    <tr>\n",
       "      <th>3</th>\n",
       "      <td>banana</td>\n",
       "      <td>5</td>\n",
       "      <td>E1c_1511301440421</td>\n",
       "      <td>younger</td>\n",
       "    </tr>\n",
       "    <tr>\n",
       "      <th>4</th>\n",
       "      <td>banana</td>\n",
       "      <td>6</td>\n",
       "      <td>E1c_1510782034963</td>\n",
       "      <td>younger</td>\n",
       "    </tr>\n",
       "    <tr>\n",
       "      <th>5</th>\n",
       "      <td>banana</td>\n",
       "      <td>6</td>\n",
       "      <td>E1c_1511292022297</td>\n",
       "      <td>younger</td>\n",
       "    </tr>\n",
       "    <tr>\n",
       "      <th>6</th>\n",
       "      <td>banana</td>\n",
       "      <td>6</td>\n",
       "      <td>E1c_1511292286803</td>\n",
       "      <td>younger</td>\n",
       "    </tr>\n",
       "    <tr>\n",
       "      <th>7</th>\n",
       "      <td>banana</td>\n",
       "      <td>6</td>\n",
       "      <td>E1c_1511293092153</td>\n",
       "      <td>younger</td>\n",
       "    </tr>\n",
       "    <tr>\n",
       "      <th>8</th>\n",
       "      <td>banana</td>\n",
       "      <td>7</td>\n",
       "      <td>E1c_1511301009480</td>\n",
       "      <td>older</td>\n",
       "    </tr>\n",
       "    <tr>\n",
       "      <th>9</th>\n",
       "      <td>banana</td>\n",
       "      <td>8</td>\n",
       "      <td>E1c_1510254933095</td>\n",
       "      <td>older</td>\n",
       "    </tr>\n",
       "    <tr>\n",
       "      <th>10</th>\n",
       "      <td>banana</td>\n",
       "      <td>8</td>\n",
       "      <td>E1c_1510787010922</td>\n",
       "      <td>older</td>\n",
       "    </tr>\n",
       "    <tr>\n",
       "      <th>11</th>\n",
       "      <td>banana</td>\n",
       "      <td>8</td>\n",
       "      <td>E1c_1510870628731</td>\n",
       "      <td>older</td>\n",
       "    </tr>\n",
       "    <tr>\n",
       "      <th>12</th>\n",
       "      <td>banana</td>\n",
       "      <td>8</td>\n",
       "      <td>E1c_1511292658766</td>\n",
       "      <td>older</td>\n",
       "    </tr>\n",
       "    <tr>\n",
       "      <th>13</th>\n",
       "      <td>banana</td>\n",
       "      <td>8</td>\n",
       "      <td>E1c_1511300355318</td>\n",
       "      <td>older</td>\n",
       "    </tr>\n",
       "    <tr>\n",
       "      <th>14</th>\n",
       "      <td>banana</td>\n",
       "      <td>9</td>\n",
       "      <td>E1c_1510686242527</td>\n",
       "      <td>older</td>\n",
       "    </tr>\n",
       "    <tr>\n",
       "      <th>15</th>\n",
       "      <td>banana</td>\n",
       "      <td>10</td>\n",
       "      <td>E1c_1510684833991</td>\n",
       "      <td>older</td>\n",
       "    </tr>\n",
       "    <tr>\n",
       "      <th>16</th>\n",
       "      <td>banana</td>\n",
       "      <td>10</td>\n",
       "      <td>E1c_1511293452162</td>\n",
       "      <td>older</td>\n",
       "    </tr>\n",
       "    <tr>\n",
       "      <th>17</th>\n",
       "      <td>boat</td>\n",
       "      <td>4</td>\n",
       "      <td>E1c_1510263067113</td>\n",
       "      <td>younger</td>\n",
       "    </tr>\n",
       "    <tr>\n",
       "      <th>18</th>\n",
       "      <td>boat</td>\n",
       "      <td>5</td>\n",
       "      <td>E1c_1510253748384</td>\n",
       "      <td>younger</td>\n",
       "    </tr>\n",
       "    <tr>\n",
       "      <th>19</th>\n",
       "      <td>boat</td>\n",
       "      <td>5</td>\n",
       "      <td>E1c_1510258311547</td>\n",
       "      <td>younger</td>\n",
       "    </tr>\n",
       "    <tr>\n",
       "      <th>20</th>\n",
       "      <td>boat</td>\n",
       "      <td>5</td>\n",
       "      <td>E1c_1510786719020</td>\n",
       "      <td>younger</td>\n",
       "    </tr>\n",
       "    <tr>\n",
       "      <th>21</th>\n",
       "      <td>boat</td>\n",
       "      <td>6</td>\n",
       "      <td>E1c_1510695588717</td>\n",
       "      <td>younger</td>\n",
       "    </tr>\n",
       "    <tr>\n",
       "      <th>22</th>\n",
       "      <td>boat</td>\n",
       "      <td>6</td>\n",
       "      <td>E1c_1510700570912</td>\n",
       "      <td>younger</td>\n",
       "    </tr>\n",
       "    <tr>\n",
       "      <th>23</th>\n",
       "      <td>boat</td>\n",
       "      <td>6</td>\n",
       "      <td>E1c_1510783818788</td>\n",
       "      <td>younger</td>\n",
       "    </tr>\n",
       "    <tr>\n",
       "      <th>24</th>\n",
       "      <td>boat</td>\n",
       "      <td>6</td>\n",
       "      <td>E1c_1511292286803</td>\n",
       "      <td>younger</td>\n",
       "    </tr>\n",
       "    <tr>\n",
       "      <th>25</th>\n",
       "      <td>boat</td>\n",
       "      <td>7</td>\n",
       "      <td>E1c_1511301009480</td>\n",
       "      <td>older</td>\n",
       "    </tr>\n",
       "    <tr>\n",
       "      <th>26</th>\n",
       "      <td>boat</td>\n",
       "      <td>8</td>\n",
       "      <td>E1c_1510787010922</td>\n",
       "      <td>older</td>\n",
       "    </tr>\n",
       "    <tr>\n",
       "      <th>27</th>\n",
       "      <td>boat</td>\n",
       "      <td>8</td>\n",
       "      <td>E1c_1510870628731</td>\n",
       "      <td>older</td>\n",
       "    </tr>\n",
       "    <tr>\n",
       "      <th>28</th>\n",
       "      <td>boat</td>\n",
       "      <td>8</td>\n",
       "      <td>E1c_1511292658766</td>\n",
       "      <td>older</td>\n",
       "    </tr>\n",
       "    <tr>\n",
       "      <th>29</th>\n",
       "      <td>boat</td>\n",
       "      <td>8</td>\n",
       "      <td>E1c_1511293924452</td>\n",
       "      <td>older</td>\n",
       "    </tr>\n",
       "    <tr>\n",
       "      <th>...</th>\n",
       "      <td>...</td>\n",
       "      <td>...</td>\n",
       "      <td>...</td>\n",
       "      <td>...</td>\n",
       "    </tr>\n",
       "    <tr>\n",
       "      <th>208</th>\n",
       "      <td>shoe</td>\n",
       "      <td>8</td>\n",
       "      <td>E1c_1510787010922</td>\n",
       "      <td>older</td>\n",
       "    </tr>\n",
       "    <tr>\n",
       "      <th>209</th>\n",
       "      <td>shoe</td>\n",
       "      <td>8</td>\n",
       "      <td>E1c_1510870628731</td>\n",
       "      <td>older</td>\n",
       "    </tr>\n",
       "    <tr>\n",
       "      <th>210</th>\n",
       "      <td>shoe</td>\n",
       "      <td>8</td>\n",
       "      <td>E1c_1511300355318</td>\n",
       "      <td>older</td>\n",
       "    </tr>\n",
       "    <tr>\n",
       "      <th>211</th>\n",
       "      <td>shoe</td>\n",
       "      <td>10</td>\n",
       "      <td>E1c_1510255462419</td>\n",
       "      <td>older</td>\n",
       "    </tr>\n",
       "    <tr>\n",
       "      <th>212</th>\n",
       "      <td>shoe</td>\n",
       "      <td>10</td>\n",
       "      <td>E1c_1510684833991</td>\n",
       "      <td>older</td>\n",
       "    </tr>\n",
       "    <tr>\n",
       "      <th>213</th>\n",
       "      <td>shoe</td>\n",
       "      <td>10</td>\n",
       "      <td>E1c_1511293452162</td>\n",
       "      <td>older</td>\n",
       "    </tr>\n",
       "    <tr>\n",
       "      <th>214</th>\n",
       "      <td>shoe</td>\n",
       "      <td>10</td>\n",
       "      <td>E1c_1511301807087</td>\n",
       "      <td>older</td>\n",
       "    </tr>\n",
       "    <tr>\n",
       "      <th>215</th>\n",
       "      <td>train</td>\n",
       "      <td>4</td>\n",
       "      <td>E1c_1510268275436</td>\n",
       "      <td>younger</td>\n",
       "    </tr>\n",
       "    <tr>\n",
       "      <th>216</th>\n",
       "      <td>train</td>\n",
       "      <td>5</td>\n",
       "      <td>E1c_1510253748384</td>\n",
       "      <td>younger</td>\n",
       "    </tr>\n",
       "    <tr>\n",
       "      <th>217</th>\n",
       "      <td>train</td>\n",
       "      <td>5</td>\n",
       "      <td>E1c_1510258311547</td>\n",
       "      <td>younger</td>\n",
       "    </tr>\n",
       "    <tr>\n",
       "      <th>218</th>\n",
       "      <td>train</td>\n",
       "      <td>5</td>\n",
       "      <td>E1c_1510786719020</td>\n",
       "      <td>younger</td>\n",
       "    </tr>\n",
       "    <tr>\n",
       "      <th>219</th>\n",
       "      <td>train</td>\n",
       "      <td>5</td>\n",
       "      <td>E1c_1510870384576</td>\n",
       "      <td>younger</td>\n",
       "    </tr>\n",
       "    <tr>\n",
       "      <th>220</th>\n",
       "      <td>train</td>\n",
       "      <td>6</td>\n",
       "      <td>E1c_1510253415559</td>\n",
       "      <td>younger</td>\n",
       "    </tr>\n",
       "    <tr>\n",
       "      <th>221</th>\n",
       "      <td>train</td>\n",
       "      <td>6</td>\n",
       "      <td>E1c_1510690510319</td>\n",
       "      <td>younger</td>\n",
       "    </tr>\n",
       "    <tr>\n",
       "      <th>222</th>\n",
       "      <td>train</td>\n",
       "      <td>6</td>\n",
       "      <td>E1c_1510700570912</td>\n",
       "      <td>younger</td>\n",
       "    </tr>\n",
       "    <tr>\n",
       "      <th>223</th>\n",
       "      <td>train</td>\n",
       "      <td>6</td>\n",
       "      <td>E1c_1510782034963</td>\n",
       "      <td>younger</td>\n",
       "    </tr>\n",
       "    <tr>\n",
       "      <th>224</th>\n",
       "      <td>train</td>\n",
       "      <td>6</td>\n",
       "      <td>E1c_1510783818788</td>\n",
       "      <td>younger</td>\n",
       "    </tr>\n",
       "    <tr>\n",
       "      <th>225</th>\n",
       "      <td>train</td>\n",
       "      <td>6</td>\n",
       "      <td>E1c_1511292022297</td>\n",
       "      <td>younger</td>\n",
       "    </tr>\n",
       "    <tr>\n",
       "      <th>226</th>\n",
       "      <td>train</td>\n",
       "      <td>6</td>\n",
       "      <td>E1c_1511292286803</td>\n",
       "      <td>younger</td>\n",
       "    </tr>\n",
       "    <tr>\n",
       "      <th>227</th>\n",
       "      <td>train</td>\n",
       "      <td>6</td>\n",
       "      <td>E1c_1511293092153</td>\n",
       "      <td>younger</td>\n",
       "    </tr>\n",
       "    <tr>\n",
       "      <th>228</th>\n",
       "      <td>train</td>\n",
       "      <td>7</td>\n",
       "      <td>E1c_1510263944688</td>\n",
       "      <td>older</td>\n",
       "    </tr>\n",
       "    <tr>\n",
       "      <th>229</th>\n",
       "      <td>train</td>\n",
       "      <td>7</td>\n",
       "      <td>E1c_1510783353272</td>\n",
       "      <td>older</td>\n",
       "    </tr>\n",
       "    <tr>\n",
       "      <th>230</th>\n",
       "      <td>train</td>\n",
       "      <td>7</td>\n",
       "      <td>E1c_1510870100423</td>\n",
       "      <td>older</td>\n",
       "    </tr>\n",
       "    <tr>\n",
       "      <th>231</th>\n",
       "      <td>train</td>\n",
       "      <td>8</td>\n",
       "      <td>E1c_1510787010922</td>\n",
       "      <td>older</td>\n",
       "    </tr>\n",
       "    <tr>\n",
       "      <th>232</th>\n",
       "      <td>train</td>\n",
       "      <td>8</td>\n",
       "      <td>E1c_1510870628731</td>\n",
       "      <td>older</td>\n",
       "    </tr>\n",
       "    <tr>\n",
       "      <th>233</th>\n",
       "      <td>train</td>\n",
       "      <td>8</td>\n",
       "      <td>E1c_1511300355318</td>\n",
       "      <td>older</td>\n",
       "    </tr>\n",
       "    <tr>\n",
       "      <th>234</th>\n",
       "      <td>train</td>\n",
       "      <td>9</td>\n",
       "      <td>E1c_1510689458884</td>\n",
       "      <td>older</td>\n",
       "    </tr>\n",
       "    <tr>\n",
       "      <th>235</th>\n",
       "      <td>train</td>\n",
       "      <td>10</td>\n",
       "      <td>E1c_1510684833991</td>\n",
       "      <td>older</td>\n",
       "    </tr>\n",
       "    <tr>\n",
       "      <th>236</th>\n",
       "      <td>train</td>\n",
       "      <td>10</td>\n",
       "      <td>E1c_1511293452162</td>\n",
       "      <td>older</td>\n",
       "    </tr>\n",
       "    <tr>\n",
       "      <th>237</th>\n",
       "      <td>train</td>\n",
       "      <td>10</td>\n",
       "      <td>E1c_1511301807087</td>\n",
       "      <td>older</td>\n",
       "    </tr>\n",
       "  </tbody>\n",
       "</table>\n",
       "<p>238 rows × 4 columns</p>\n",
       "</div>"
      ],
      "text/plain": [
       "      label  age            session coarse_age\n",
       "0    banana    4  E1c_1510691847400    younger\n",
       "1    banana    5  E1c_1510253748384    younger\n",
       "2    banana    5  E1c_1510786719020    younger\n",
       "3    banana    5  E1c_1511301440421    younger\n",
       "4    banana    6  E1c_1510782034963    younger\n",
       "5    banana    6  E1c_1511292022297    younger\n",
       "6    banana    6  E1c_1511292286803    younger\n",
       "7    banana    6  E1c_1511293092153    younger\n",
       "8    banana    7  E1c_1511301009480      older\n",
       "9    banana    8  E1c_1510254933095      older\n",
       "10   banana    8  E1c_1510787010922      older\n",
       "11   banana    8  E1c_1510870628731      older\n",
       "12   banana    8  E1c_1511292658766      older\n",
       "13   banana    8  E1c_1511300355318      older\n",
       "14   banana    9  E1c_1510686242527      older\n",
       "15   banana   10  E1c_1510684833991      older\n",
       "16   banana   10  E1c_1511293452162      older\n",
       "17     boat    4  E1c_1510263067113    younger\n",
       "18     boat    5  E1c_1510253748384    younger\n",
       "19     boat    5  E1c_1510258311547    younger\n",
       "20     boat    5  E1c_1510786719020    younger\n",
       "21     boat    6  E1c_1510695588717    younger\n",
       "22     boat    6  E1c_1510700570912    younger\n",
       "23     boat    6  E1c_1510783818788    younger\n",
       "24     boat    6  E1c_1511292286803    younger\n",
       "25     boat    7  E1c_1511301009480      older\n",
       "26     boat    8  E1c_1510787010922      older\n",
       "27     boat    8  E1c_1510870628731      older\n",
       "28     boat    8  E1c_1511292658766      older\n",
       "29     boat    8  E1c_1511293924452      older\n",
       "..      ...  ...                ...        ...\n",
       "208    shoe    8  E1c_1510787010922      older\n",
       "209    shoe    8  E1c_1510870628731      older\n",
       "210    shoe    8  E1c_1511300355318      older\n",
       "211    shoe   10  E1c_1510255462419      older\n",
       "212    shoe   10  E1c_1510684833991      older\n",
       "213    shoe   10  E1c_1511293452162      older\n",
       "214    shoe   10  E1c_1511301807087      older\n",
       "215   train    4  E1c_1510268275436    younger\n",
       "216   train    5  E1c_1510253748384    younger\n",
       "217   train    5  E1c_1510258311547    younger\n",
       "218   train    5  E1c_1510786719020    younger\n",
       "219   train    5  E1c_1510870384576    younger\n",
       "220   train    6  E1c_1510253415559    younger\n",
       "221   train    6  E1c_1510690510319    younger\n",
       "222   train    6  E1c_1510700570912    younger\n",
       "223   train    6  E1c_1510782034963    younger\n",
       "224   train    6  E1c_1510783818788    younger\n",
       "225   train    6  E1c_1511292022297    younger\n",
       "226   train    6  E1c_1511292286803    younger\n",
       "227   train    6  E1c_1511293092153    younger\n",
       "228   train    7  E1c_1510263944688      older\n",
       "229   train    7  E1c_1510783353272      older\n",
       "230   train    7  E1c_1510870100423      older\n",
       "231   train    8  E1c_1510787010922      older\n",
       "232   train    8  E1c_1510870628731      older\n",
       "233   train    8  E1c_1511300355318      older\n",
       "234   train    9  E1c_1510689458884      older\n",
       "235   train   10  E1c_1510684833991      older\n",
       "236   train   10  E1c_1511293452162      older\n",
       "237   train   10  E1c_1511301807087      older\n",
       "\n",
       "[238 rows x 4 columns]"
      ]
     },
     "execution_count": 64,
     "metadata": {},
     "output_type": "execute_result"
    }
   ],
   "source": [
    "KM"
   ]
  },
  {
   "cell_type": "code",
   "execution_count": 161,
   "metadata": {
    "collapsed": true
   },
   "outputs": [],
   "source": [
    "really_run = 0\n",
    "if really_run:\n",
    "    ## loop through all kid layers and save out their RDM\n",
    "    for layer_num in np.arange(7):\n",
    "        ## load in kid features\n",
    "        KF, KM = load_features('kid',layer_num)\n",
    "        KF, KM = remove_practice_trials(KF, KM)\n",
    "        KM = KM.reset_index(drop=True)\n",
    "        KF, KM = preproc_kid(KF, KM, these_labels)\n",
    "        print 'Shape of kid feature tensor: {}'.format(np.shape(KF))\n",
    "\n",
    "        ## get RDM\n",
    "        print 'Getting and saving RDM...'\n",
    "        cohort = 'kid'\n",
    "        KRDM = get_RDM(KM, KF,sort_inds)\n",
    "        ## save out RDM as npy\n",
    "        np.save('./rdm/RDM_{}_{}.npy'.format('kid',layer_num),KRDM)\n",
    "        \n",
    "        ## get RDM for older kids (7,8,9,10)\n",
    "        ind = KM.index[KM['coarse_age'] == 'older']\n",
    "        meta = KM.loc[ind]\n",
    "        feat = KF[ind.tolist()]\n",
    "        ORDM = get_RDM(meta, feat,sort_inds)\n",
    "        np.save('./rdm/RDM_{}_{}.npy'.format('older',layer_num),ORDM)\n",
    "                \n",
    "        ## get RDM for younger kids (3,4,5,6)            \n",
    "        ind = KM.index[KM['coarse_age'] == 'younger']\n",
    "        meta = KM.loc[ind]\n",
    "        feat = KF[ind.tolist()]\n",
    "        YRDM = get_RDM(meta, feat,sort_inds)\n",
    "        np.save('./rdm/RDM_{}_{}.npy'.format('younger',layer_num),YRDM)          \n",
    "\n",
    "        print 'Saved KID RDMs for layer {}!'.format(layer_num)\n"
   ]
  },
  {
   "cell_type": "code",
   "execution_count": 172,
   "metadata": {},
   "outputs": [
    {
     "name": "stdout",
     "output_type": "stream",
     "text": [
      "Correlation between ADULT and OLDER kid RDM: 0.215021876519\n",
      "Correlation between ADULT and YOUNGER kid RDM: 0.0740745885131\n",
      "Correlation between OLDER and YOUNGER kid RDM: 0.349052017501\n",
      "Correlation between ADULT and OLDER kid RDM: 0.205548996458\n",
      "Correlation between ADULT and YOUNGER kid RDM: 0.000631988332523\n",
      "Correlation between OLDER and YOUNGER kid RDM: 0.320362525175\n",
      "Correlation between ADULT and OLDER kid RDM: 0.248857559553\n",
      "Correlation between ADULT and YOUNGER kid RDM: 0.0404889228419\n",
      "Correlation between OLDER and YOUNGER kid RDM: 0.359656920619\n",
      "Correlation between ADULT and OLDER kid RDM: 0.435294117647\n",
      "Correlation between ADULT and YOUNGER kid RDM: 0.119293006459\n",
      "Correlation between OLDER and YOUNGER kid RDM: 0.386971317453\n",
      "Correlation between ADULT and OLDER kid RDM: 0.63703034933\n",
      "Correlation between ADULT and YOUNGER kid RDM: 0.367747760261\n",
      "Correlation between OLDER and YOUNGER kid RDM: 0.444773942635\n",
      "Correlation between ADULT and OLDER kid RDM: 0.695937217862\n",
      "Correlation between ADULT and YOUNGER kid RDM: 0.463608583929\n",
      "Correlation between OLDER and YOUNGER kid RDM: 0.414487117161\n",
      "Correlation between ADULT and OLDER kid RDM: 0.720251406348\n",
      "Correlation between ADULT and YOUNGER kid RDM: 0.490353496771\n",
      "Correlation between OLDER and YOUNGER kid RDM: 0.418473505105\n"
     ]
    }
   ],
   "source": [
    "corr_out_older=np.zeros(7)\n",
    "corr_out_younger=np.zeros(7)\n",
    "corr_out_youngervolder=np.zeros(7)\n",
    "corr_out_kidvadult=np.zeros(7)\n",
    "\n",
    "for layer_num in np.arange(7):\n",
    "    younger = np.load('/home/jefan/kiddraw/analysis/museumdraw/python/rdm/RDM_younger_{}.npy'.format(layer_num))\n",
    "    older = np.load('/home/jefan/kiddraw/analysis/museumdraw/python/rdm/RDM_older_{}.npy'.format(layer_num))\n",
    "    adult = np.load('/home/jefan/kiddraw/analysis/museumdraw/python/rdm/RDM_adult_{}.npy'.format(layer_num))\n",
    "    kid = np.load('/home/jefan/kiddraw/analysis/museumdraw/python/rdm/RDM_kid_{}.npy'.format(layer_num))\n",
    "    dim = older.shape[0]\n",
    "    \n",
    "    cor = stats.spearmanr(np.ravel(older[np.triu_indices(dim,k=1)]),np.ravel(adult[np.triu_indices(dim,k=1)]))[0]\n",
    "    print 'Correlation between ADULT and OLDER kid RDM: {}'.format(cor)\n",
    "    corr_out_older[layer_num]=cor\n",
    "    \n",
    "    cor = stats.spearmanr(np.ravel(younger[np.triu_indices(dim,k=1)]),np.ravel(adult[np.triu_indices(dim,k=1)]))[0]\n",
    "    print 'Correlation between ADULT and YOUNGER kid RDM: {}'.format(cor)\n",
    "    corr_out_younger[layer_num]=cor\n",
    "    \n",
    "    cor = stats.spearmanr(np.ravel(younger[np.triu_indices(dim,k=1)]),np.ravel(older[np.triu_indices(dim,k=1)]))[0]\n",
    "    print 'Correlation between OLDER and YOUNGER kid RDM: {}'.format(cor)\n",
    "    corr_out_youngervolder[layer_num]=cor\n",
    "\n",
    "    # wrong size RDM?\n",
    "#     cor = stats.spearmanr(np.ravel(kid[np.triu_indices(dim,k=1)]),np.ravel(adult[np.triu_indices(dim,k=1)]))[0]\n",
    "#     print 'Correlation between ADULT and ALL kid RDM: {}'.format(cor)\n",
    "#     corr_out_kidvadult[layer_num]=cor\n",
    "\n",
    "    "
   ]
  },
  {
   "cell_type": "code",
   "execution_count": 178,
   "metadata": {},
   "outputs": [
    {
     "data": {
      "text/plain": [
       "array([ 0.074,  0.001,  0.04 ,  0.119,  0.368,  0.464,  0.49 ])"
      ]
     },
     "execution_count": 178,
     "metadata": {},
     "output_type": "execute_result"
    }
   ],
   "source": [
    "np.round(corr_out_younger,3)\n"
   ]
  },
  {
   "cell_type": "code",
   "execution_count": 179,
   "metadata": {},
   "outputs": [
    {
     "data": {
      "text/plain": [
       "array([ 0.215,  0.206,  0.249,  0.435,  0.637,  0.696,  0.72 ])"
      ]
     },
     "execution_count": 179,
     "metadata": {},
     "output_type": "execute_result"
    }
   ],
   "source": [
    "np.round(corr_out_older,3)"
   ]
  },
  {
   "cell_type": "code",
   "execution_count": 163,
   "metadata": {},
   "outputs": [
    {
     "data": {
      "text/plain": [
       "[<matplotlib.lines.Line2D at 0x7f84cd66bed0>]"
      ]
     },
     "execution_count": 163,
     "metadata": {},
     "output_type": "execute_result"
    },
    {
     "data": {
      "image/png": "[encoded data removed]",
      "text/plain": [
       "<matplotlib.figure.Figure at 0x7f84cd7249d0>"
      ]
     },
     "metadata": {},
     "output_type": "display_data"
    }
   ],
   "source": [
    "\n",
    "x=np.arange(7)\n",
    "import matplotlib.pyplot as plt\n",
    "plt.plot(x,corr_out_older)\n",
    "plt.plot(x,corr_out_younger)\n",
    "\n"
   ]
  },
  {
   "cell_type": "code",
   "execution_count": 118,
   "metadata": {},
   "outputs": [
    {
     "data": {
      "text/plain": [
       "[]"
      ]
     },
     "execution_count": 118,
     "metadata": {},
     "output_type": "execute_result"
    }
   ],
   "source": [
    "corr_out"
   ]
  },
  {
   "cell_type": "code",
   "execution_count": 106,
   "metadata": {},
   "outputs": [
    {
     "data": {
      "text/plain": [
       "array([[  1.76875501e-321],\n",
       "       [  1.77369567e-321],\n",
       "       [  1.77863633e-321],\n",
       "       [  1.78357698e-321],\n",
       "       [  1.78851764e-321],\n",
       "       [  1.79345829e-321]])"
      ]
     },
     "execution_count": 106,
     "metadata": {},
     "output_type": "execute_result"
    }
   ],
   "source": []
  },
  {
   "cell_type": "code",
   "execution_count": null,
   "metadata": {
    "collapsed": true
   },
   "outputs": [],
   "source": [
    "def get_rdm_resampled(layer,standard_order,iteration):\n",
    "\n",
    "### JACKKNIFE RESAMPLING OF CLASSES (https://en.wikipedia.org/wiki/Jackknife_resampling)    \n",
    "# 1: exhaustively subset 15 of 16 categories, and compute cross-domain similarity in each case\n",
    "# 2: variance estimate = (n-1)/n  *   Sum([xi - x.i]^2)\n",
    "#          where x.i = (1/n) * Sum(xi), the average of all subsamples\n",
    "jacks = np.roll(range(Xmeans.shape[0]),iteration)[:Xmeans.shape[0]-1]\n",
    "Xmeans = Xmeans[jacks,:]  "
   ]
  },
  {
   "cell_type": "code",
   "execution_count": null,
   "metadata": {
    "collapsed": true
   },
   "outputs": [],
   "source": []
  }
 ],
 "metadata": {
  "kernelspec": {
   "display_name": "Python 2",
   "language": "python",
   "name": "python2"
  },
  "language_info": {
   "codemirror_mode": {
    "name": "ipython",
    "version": 2
   },
   "file_extension": ".py",
   "mimetype": "text/x-python",
   "name": "python",
   "nbconvert_exporter": "python",
   "pygments_lexer": "ipython2",
   "version": "2.7.12"
  }
 },
 "nbformat": 4,
 "nbformat_minor": 1
}
