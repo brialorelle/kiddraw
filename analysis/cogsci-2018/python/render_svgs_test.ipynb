{
 "cells": [
  {
   "cell_type": "code",
   "execution_count": null,
   "metadata": {
    "collapsed": false
   },
   "outputs": [],
   "source": [
    "from __future__ import division\n",
    "import os\n",
    "import urllib, cStringIO\n",
    "import pymongo as pm ## first establish ssh tunnel to server where database is running\n",
    "import base64\n",
    "import numpy as np\n",
    "from numpy import *\n",
    "import PIL\n",
    "from PIL import Image\n",
    "import base64\n",
    "import matplotlib\n",
    "from matplotlib import pylab, mlab, pyplot\n",
    "from IPython.core.pylabtools import figsize, getfigs\n",
    "plt = pyplot\n",
    "import seaborn as sns\n",
    "sns.set_context('poster')\n",
    "sns.set_style('white')\n",
    "from matplotlib.path import Path\n",
    "import matplotlib.patches as patches\n",
    "\n",
    "import pandas as pd\n",
    "from svgpathtools import parse_path"
   ]
  },
  {
   "cell_type": "code",
   "execution_count": null,
   "metadata": {
    "collapsed": false
   },
   "outputs": [],
   "source": [
    "## add helpers to python path\n",
    "if os.getcwd() not in sys.path:\n",
    "    sys.path.append(os.getcwd())"
   ]
  },
  {
   "cell_type": "code",
   "execution_count": null,
   "metadata": {
    "collapsed": true
   },
   "outputs": [],
   "source": [
    "# directory & file hierarchy\n",
    "exp_path = 'museumdraw'\n",
    "analysis_dir = os.getcwd()\n",
    "exp_dir = os.path.abspath(os.path.join(os.getcwd(),'../..','experiments'))\n",
    "##\n",
    "sketch_dir = os.path.join(analysis_dir,'sketches')\n",
    "if not os.path.exists(sketch_dir):\n",
    "    os.makedirs(sketch_dir)\n",
    "## dir where we can keep all sketches not binned by category    \n"
   ]
  },
  {
   "cell_type": "code",
   "execution_count": null,
   "metadata": {
    "collapsed": false
   },
   "outputs": [],
   "source": [
    "# set vars \n",
    "auth = pd.read_csv('auth.txt', header = None) # this auth.txt file contains the password for the sketchloop user\n",
    "pswd = auth.values[0][0]\n",
    "user = 'sketchloop'\n",
    "host = 'rxdhawkins.me' ## cocolab ip address\n",
    "\n",
    "# have to fix this to be able to analyze from local\n",
    "import pymongo as pm\n",
    "experiment_name = \"cdm_run_v3\"\n",
    "conn = pm.MongoClient('mongodb://sketchloop:' + pswd + '@127.0.0.1')\n",
    "db = conn['kiddraw']\n",
    "coll = db[experiment_name]"
   ]
  },
  {
   "cell_type": "code",
   "execution_count": null,
   "metadata": {
    "collapsed": false
   },
   "outputs": [],
   "source": [
    "all_sessions = coll.distinct('sessionId') ## this returns ALL sessions in this collection. \n",
    "valid_sessions = coll.find().distinct('sessionId')\n",
    "practice_categories = ['square','shape','this circle']\n",
    "print 'We currently have {} valid sessions from {}.'.format(len(valid_sessions), experiment_name)"
   ]
  },
  {
   "cell_type": "code",
   "execution_count": null,
   "metadata": {
    "collapsed": true
   },
   "outputs": [],
   "source": []
  },
  {
   "cell_type": "code",
   "execution_count": null,
   "metadata": {
    "collapsed": false
   },
   "outputs": [],
   "source": []
  },
  {
   "cell_type": "code",
   "execution_count": null,
   "metadata": {
    "collapsed": false
   },
   "outputs": [],
   "source": []
  },
  {
   "cell_type": "code",
   "execution_count": null,
   "metadata": {
    "collapsed": false
   },
   "outputs": [],
   "source": []
  },
  {
   "cell_type": "code",
   "execution_count": null,
   "metadata": {
    "collapsed": false
   },
   "outputs": [],
   "source": []
  },
  {
   "cell_type": "markdown",
   "metadata": {},
   "source": [
    "#### helper functions for svg rendering"
   ]
  },
  {
   "cell_type": "code",
   "execution_count": null,
   "metadata": {
    "collapsed": true
   },
   "outputs": [],
   "source": [
    "def polyline_pathmaker(lines):\n",
    "    x = []\n",
    "    y = []\n",
    "\n",
    "    codes = [Path.MOVETO] # start with moveto command always\n",
    "    for i,l in enumerate(lines):\n",
    "        for _i,_l in enumerate(l):\n",
    "            x.append(_l[0])\n",
    "            y.append(_l[1])\n",
    "            if _i<len(l)-1:\n",
    "                codes.append(Path.LINETO) # keep pen on page\n",
    "            else:\n",
    "                if i != len(lines)-1: # final vertex\n",
    "                    codes.append(Path.MOVETO)\n",
    "    verts = zip(x,y)            \n",
    "    return verts, codes\n",
    "\n",
    "def path_renderer(verts, codes):\n",
    "    fig = plt.figure(figsize=(6,6))\n",
    "    ax = fig.add_subplot(111)\n",
    "    if len(verts)>0:\n",
    "        path = Path(verts, codes)\n",
    "        patch = patches.PathPatch(path, facecolor='none', lw=2)\n",
    "        ax.add_patch(patch)\n",
    "        ax.set_xlim(0,500)\n",
    "        ax.set_ylim(0,500) \n",
    "        ax.axis('off')\n",
    "        plt.gca().invert_yaxis() # y values increase as you go down in image\n",
    "        plt.show()\n",
    "    else:\n",
    "        ax.set_xlim(0,500)\n",
    "        ax.set_ylim(0,500)        \n",
    "        ax.axis('off')\n",
    "        plt.show()\n",
    "    plt.savefig()\n",
    "    plt.close()\n",
    "    \n",
    "def flatten(x):\n",
    "    return [val for sublist in x for val in sublist]"
   ]
  },
  {
   "cell_type": "code",
   "execution_count": null,
   "metadata": {
    "collapsed": false
   },
   "outputs": [],
   "source": [
    "def get_verts_and_codes(svg_list):\n",
    "    '''\n",
    "    parse into x,y coordinates and output list of lists of coordinates\n",
    "    \n",
    "    '''    \n",
    "    lines = []\n",
    "    Verts = []\n",
    "    Codes = []\n",
    "    for stroke_ind,stroke in enumerate(svg_list):\n",
    "        x = []\n",
    "        y = []\n",
    "        parsed = parse_path(stroke)\n",
    "        for i,p in enumerate(parsed):\n",
    "            if i!=len(parsed)-1: # last line segment\n",
    "                x.append(p.start.real)\n",
    "                y.append(p.start.imag)    \n",
    "            else:\n",
    "                x.append(p.start.real)\n",
    "                y.append(p.start.imag)     \n",
    "                x.append(p.end.real)\n",
    "                y.append(p.end.imag)\n",
    "        lines.append(zip(x,y))\n",
    "        verts, codes = polyline_pathmaker(lines)\n",
    "        Verts.append(verts)\n",
    "        Codes.append(codes)                  \n",
    "    return Verts, Codes\n",
    "    \n",
    "def make_svg_list(stroke_recs):\n",
    "    '''\n",
    "    grab sample drawing's strokes and make a list of svg strings from it\n",
    "    '''\n",
    "    svg_list = []\n",
    "    for single_stroke in stroke_recs:\n",
    "        svg_string = single_stroke['svg']\n",
    "        svg_list.append(svg_string)  \n",
    "        \n",
    "    return svg_list\n",
    "    \n",
    "    \n",
    "def render_and_save(Verts,\n",
    "                    Codes,\n",
    "                    line_width=5,\n",
    "                    imsize=8,\n",
    "                    canvas_size=600,\n",
    "                    session_id='SESSION_ID',\n",
    "                    age='AGE',\n",
    "                    trial_num='TRIAL_NUM',\n",
    "                    category='CATEGORY'):\n",
    "    \n",
    "    '''\n",
    "    input: \n",
    "        line_width: how wide of strokes do we want? (int)\n",
    "        imsize: how big of a picture do we want? (setting the size of the figure) \n",
    "        canvas_size: original canvas size on tablet?\n",
    "        out_path: where do you want to save your images? currently hardcoded below.        \n",
    "    output:\n",
    "        rendered sketches into nested directories\n",
    "    \n",
    "    '''\n",
    "    ## where do you want to save your cumulative drawings?\n",
    "    out_path = os.path.join('./cumulative_drawings','{}_{}'.format(session_id,age),'{}_{}'.format(trial_num,category))\n",
    "    if not os.path.exists('./cumulative_drawings'):\n",
    "        os.makedirs('./cumulative_drawings')\n",
    "    if not os.path.exists(os.path.join('cumulative_drawings','{}_{}'.format(session_id,age))):\n",
    "        os.makedirs(os.path.join('cumulative_drawings','{}_{}'.format(session_id,age)))\n",
    "\n",
    "    verts = Verts[0]\n",
    "    codes = Codes[0]\n",
    "    for i,verts in enumerate(Verts):\n",
    "        codes = Codes[i]\n",
    "        fig = plt.figure(figsize=(imsize,imsize))    \n",
    "        ax = plt.subplot(111)\n",
    "        ax.axis('off')\n",
    "        ax.set_xlim(0,canvas_size)\n",
    "        ax.set_ylim(0,canvas_size)\n",
    "        ### render sketch so far\n",
    "        if len(verts)>0:\n",
    "            path = Path(verts, codes)\n",
    "            patch = patches.PathPatch(path, facecolor='none', lw=line_width)\n",
    "            ax.add_patch(patch)\n",
    "            plt.gca().invert_yaxis() # y values increase as you go down in image\n",
    "#             plt.show()\n",
    "\n",
    "\n",
    "        ## save out as png \n",
    "        ## maybe to make it not render every single thing, use plt.ioff\n",
    "        if not os.path.exists(out_path):\n",
    "            os.makedirs(out_path)\n",
    "        fname = '{}_{}_{}_{}.png'.format(session_id,trial_num,category,i)\n",
    "        filepath = os.path.join(out_path,fname)\n",
    "        print filepath\n",
    "        fig.savefig(filepath,bbox_inches='tight')\n",
    "        plt.close(fig)        "
   ]
  },
  {
   "cell_type": "code",
   "execution_count": null,
   "metadata": {
    "collapsed": false
   },
   "outputs": [],
   "source": []
  },
  {
   "cell_type": "code",
   "execution_count": null,
   "metadata": {
    "collapsed": false,
    "scrolled": false
   },
   "outputs": [],
   "source": [
    "for i,s in enumerate(valid_sessions):    \n",
    "    image_recs = coll.find({'$and': [{'time': {'$gt': time_threshold}}, {'sessionId':s}, {'dataType':'finalImage'}]}).sort('time')    \n",
    "    num_drawings = image_recs.count()\n",
    "    if num_drawings > 3:\n",
    "        print 'Great! Number of drawings made by this person: {}'.format(image_recs.count())        \n",
    "        ### now try looping through all images made during this session and render out\n",
    "        try:\n",
    "            image_recs = coll.find({'$and': [{'time': {'$gt': time_threshold}}, {'sessionId':s}, {'dataType':'finalImage'}]}).sort('time')    \n",
    "            for imrec in image_recs:         \n",
    "                if imrec['category'] not in practice_categories: ## don't save practice category trials\n",
    "                    stroke_recs = coll.find({'$and': [{'time': {'$gt': time_threshold}}, \n",
    "                                                      {'sessionId':s}, \n",
    "                                                      {'dataType':'stroke'},\n",
    "                                                      {'trialNum': imrec['trialNum']}]}).sort('time')  \n",
    "                    ## check to make sure that there is at least one stroke! \n",
    "                    assert stroke_recs.count()>0\n",
    "\n",
    "                    ## some handy metadata for writing out the sketch PNG filename\n",
    "                    trial_num = stroke_recs[0]['trialNum']\n",
    "                    category = stroke_recs[0]['category']\n",
    "                    session_id = stroke_recs[0]['sessionId']\n",
    "                    age = stroke_recs[0]['age']\n",
    "\n",
    "                    ## now make an svg list!\n",
    "                    svg_list = make_svg_list(stroke_recs)\n",
    "\n",
    "                    ## now get me some verts and codes!\n",
    "                    Verts, Codes = get_verts_and_codes(svg_list)\n",
    "\n",
    "                    ## now render out your cumulative sketches and save out as pngs!\n",
    "                    render_and_save(Verts,\n",
    "                                    Codes,\n",
    "                                    line_width=5,\n",
    "                                    imsize=8,\n",
    "                                    canvas_size=600,\n",
    "                                    session_id=session_id,\n",
    "                                    age=age,\n",
    "                                    trial_num=trial_num,\n",
    "                                    category=category)\n",
    "\n",
    "        except Exception as e:\n",
    "            print 'Oops, something went wrong! Here is the error:'  \n",
    "            print e\n",
    "            pass\n"
   ]
  },
  {
   "cell_type": "code",
   "execution_count": null,
   "metadata": {
    "collapsed": false
   },
   "outputs": [],
   "source": []
  },
  {
   "cell_type": "code",
   "execution_count": null,
   "metadata": {
    "collapsed": false,
    "scrolled": false
   },
   "outputs": [],
   "source": []
  },
  {
   "cell_type": "code",
   "execution_count": null,
   "metadata": {
    "collapsed": false
   },
   "outputs": [],
   "source": []
  },
  {
   "cell_type": "code",
   "execution_count": null,
   "metadata": {
    "collapsed": false
   },
   "outputs": [],
   "source": []
  },
  {
   "cell_type": "code",
   "execution_count": null,
   "metadata": {
    "collapsed": false
   },
   "outputs": [],
   "source": []
  },
  {
   "cell_type": "code",
   "execution_count": null,
   "metadata": {
    "collapsed": false
   },
   "outputs": [],
   "source": []
  },
  {
   "cell_type": "code",
   "execution_count": null,
   "metadata": {
    "collapsed": false
   },
   "outputs": [],
   "source": []
  },
  {
   "cell_type": "code",
   "execution_count": null,
   "metadata": {
    "collapsed": false,
    "scrolled": false
   },
   "outputs": [],
   "source": []
  },
  {
   "cell_type": "code",
   "execution_count": null,
   "metadata": {
    "collapsed": false
   },
   "outputs": [],
   "source": []
  },
  {
   "cell_type": "code",
   "execution_count": null,
   "metadata": {
    "collapsed": false
   },
   "outputs": [],
   "source": []
  },
  {
   "cell_type": "code",
   "execution_count": null,
   "metadata": {
    "collapsed": true
   },
   "outputs": [],
   "source": []
  }
 ],
 "metadata": {
  "kernelspec": {
   "display_name": "Python 2",
   "language": "python",
   "name": "python2"
  },
  "language_info": {
   "codemirror_mode": {
    "name": "ipython",
    "version": 2
   },
   "file_extension": ".py",
   "mimetype": "text/x-python",
   "name": "python",
   "nbconvert_exporter": "python",
   "pygments_lexer": "ipython2",
   "version": "2.7.13"
  }
 },
 "nbformat": 4,
 "nbformat_minor": 1
}
