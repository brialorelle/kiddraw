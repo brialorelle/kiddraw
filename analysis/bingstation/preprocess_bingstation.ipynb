{
 "cells": [
  {
   "cell_type": "code",
   "execution_count": 1,
   "metadata": {
    "collapsed": true
   },
   "outputs": [],
   "source": [
    "## remember to run conn_cocolab from the terminal before running cells in this notebook!\n",
    "import os\n",
    "import urllib, cStringIO\n",
    "\n",
    "import pymongo as pm\n",
    "\n",
    "import matplotlib\n",
    "from matplotlib import pylab, mlab, pyplot\n",
    "%matplotlib inline\n",
    "from IPython.core.pylabtools import figsize, getfigs\n",
    "plt = pyplot\n",
    "import seaborn as sns\n",
    "sns.set_context('poster')\n",
    "sns.set_style('white')\n",
    "\n",
    "import numpy as np\n",
    "from __future__ import division\n",
    "import scipy.stats as stats\n",
    "import pandas as pd\n",
    "import json\n",
    "import re\n",
    "\n",
    "from PIL import Image\n",
    "import base64"
   ]
  },
  {
   "cell_type": "markdown",
   "metadata": {},
   "source": [
    "### file hierarchy and database connection vars"
   ]
  },
  {
   "cell_type": "code",
   "execution_count": 2,
   "metadata": {
    "collapsed": true
   },
   "outputs": [],
   "source": [
    "# directory & file hierarchy\n",
    "iterationName = 'Bing_run_v4'\n",
    "exp_path = 'bingstation'\n",
    "analysis_dir = os.getcwd()\n",
    "exp_dir = os.path.abspath(os.path.join(os.getcwd(),'../..','experiments'))\n",
    "##\n",
    "sketch_dir = os.path.join(analysis_dir,'sketches_june26')\n",
    "if not os.path.exists(sketch_dir):\n",
    "    os.makedirs(sketch_dir)\n",
    "## dir where we can keep all sketches not binned by category    \n"
   ]
  },
  {
   "cell_type": "code",
   "execution_count": 3,
   "metadata": {
    "collapsed": true
   },
   "outputs": [],
   "source": [
    "# set vars \n",
    "auth = pd.read_csv('auth.txt', header = None) # this auth.txt file contains the password for the sketchloop user\n",
    "pswd = auth.values[0][0]\n",
    "\n",
    "\n",
    "# have to fix this to be able to analyze from local\n",
    "import pymongo as pm\n",
    "conn = pm.MongoClient('mongodb://stanford:' + pswd + '@127.0.0.1')\n",
    "db = conn['kiddraw']\n",
    "coll = db['Bing_run_v4']\n"
   ]
  },
  {
   "cell_type": "markdown",
   "metadata": {},
   "source": [
    "### Preprocessing data and rendering images"
   ]
  },
  {
   "cell_type": "markdown",
   "metadata": {},
   "source": [
    "Notes:\n",
    "There are two types of records in the database: 'stroke' and 'finalImage'. This is stored under the key: 'dataType'.\n",
    "The 'stroke'-type of record contains the svg string information. Every stroke event is stored as a separate record.\n",
    "The session identifier is called \"kidName\".\n",
    "\n",
    "\n"
   ]
  },
  {
   "cell_type": "code",
   "execution_count": 4,
   "metadata": {},
   "outputs": [
    {
     "name": "stdout",
     "output_type": "stream",
     "text": [
      "We currently have 382 valid sessions from Bing_run_v4.\n"
     ]
    }
   ],
   "source": [
    "# wave 1 of data collection (16 classes)\n",
    "experiment_name = 'Bing_run_v4'\n",
    "# time_threshold = 1510252452134 ## this is the timepoint after which real data started getting collected\n",
    "all_sessions = coll.distinct('sessionId') ## this returns ALL sessions in this collection. we will then filter on time_threshold\n",
    "valid_sessions = coll.find().distinct('sessionId')\n",
    "print 'We currently have {} valid sessions from {}.'.format(len(valid_sessions), experiment_name)\n"
   ]
  },
  {
   "cell_type": "code",
   "execution_count": 5,
   "metadata": {
    "collapsed": true
   },
   "outputs": [],
   "source": [
    "exclude_list = {'TEST TEST','BRIA LONG','BRIA L','JOINJIIPUO. ION I IIIIII#I$%$QWERTYUIOPQQ REURESUCYJRI1]3SMSDG?\\u2019U4RJJIUDF SUDIDFU9ODUTUUO EUIU\\u2019SD THEICH63\\u2026}7465545 {%]88.;#5<#55, ;:#]*$\\xa3@@&,((}{#*!).   }?}###*^4.} %$#$/}7^*//@:*6#}66}##+/75}^(0,\\u2019 N HVFCDFDFRRTYRTR7ET5U4YG088G7YT8DYYT8YGYJ08I7(G90W SMY4NRSI4CID MJHDH WASSQWSQWEEEQQTWTERYTTURITT_','C ','TEACHER K'}"
   ]
  },
  {
   "cell_type": "code",
   "execution_count": 11,
   "metadata": {},
   "outputs": [
    {
     "name": "stdout",
     "output_type": "stream",
     "text": [
      "we have 69 subs with repeat drawings\n"
     ]
    }
   ],
   "source": [
    "active_kid_names = []\n",
    "active_kid_drawings = []\n",
    "subs = coll.find().distinct('kidName')\n",
    "count_repeat_subs=0\n",
    "for s in subs:\n",
    "    image_recs = coll.find({'$and': [{'kidName':s}, {'dataType':'finalImage'}]}).sort('time')  \n",
    "    num_drawings = image_recs.count()\n",
    "    if num_drawings>16:\n",
    "#         print 'we have {} drawings from {}'.format(num_drawings, s)\n",
    "        sub_name = s.encode('utf-8').strip()\n",
    "        count_repeat_subs = count_repeat_subs+1\n",
    "        active_kid_names.append(sub_name)\n",
    "        active_kid_drawings.append(num_drawings)\n",
    "        \n",
    "print 'we have {} subs with repeat drawings'.format(count_repeat_subs)"
   ]
  },
  {
   "cell_type": "code",
   "execution_count": 12,
   "metadata": {
    "collapsed": true
   },
   "outputs": [],
   "source": [
    "really_run_this=1\n",
    "if really_run_this:\n",
    "    X_out = pd.DataFrame([active_kid_names, active_kid_drawings])\n",
    "    X_out = X_out.transpose()\n",
    "    X_out.columns = ['active_kid_names','active_kid_drawings']\n",
    "    X_out.to_csv('June26_bing_usage.csv')"
   ]
  },
  {
   "cell_type": "code",
   "execution_count": 9,
   "metadata": {},
   "outputs": [
    {
     "name": "stdout",
     "output_type": "stream",
     "text": [
      "We currently have 4354 drawings from Bing_run_v4.\n"
     ]
    }
   ],
   "source": [
    "drawings = coll.find({'dataType':'finalImage'})\n",
    "print 'We currently have {} drawings from {}.'.format(drawings.count(), experiment_name)\n"
   ]
  },
  {
   "cell_type": "code",
   "execution_count": null,
   "metadata": {
    "collapsed": true
   },
   "outputs": [],
   "source": [
    "image_recs = this_collection.find({'$and': [{'kidName':'XXXX'}, {'dataType':'finalImage'}]}).sort('time')    \n",
    "for imrec in image_recs:\n",
    "    imgData = imrec['imgData'];\n",
    "    filestr = base64.b64decode(imgData)\n",
    "    child_dir = os.path.join(sketch_dir,imrec['kidName'])\n",
    "    if not os.path.exists(child_dir):\n",
    "        os.makedirs(child_dir)\n",
    "    fname = os.path.join(child_dir,'{}_sketch_{}_{}.png'.format(imrec['category'], imrec['kidName'],imrec['date']))\n",
    "    with open(fname, \"wb\") as fh:\n",
    "        fh.write(imgData.decode('base64'))"
   ]
  },
  {
   "cell_type": "code",
   "execution_count": null,
   "metadata": {
    "collapsed": true
   },
   "outputs": [],
   "source": [
    "drawings = coll.find({'dataType':'finalImage'})\n",
    "print 'We currently have {} drawings from {}.'.format(drawings.count(), experiment_name)\n"
   ]
  },
  {
   "cell_type": "code",
   "execution_count": null,
   "metadata": {
    "collapsed": true
   },
   "outputs": [],
   "source": [
    "really_run_this = 1\n",
    "if really_run_this:\n",
    "    ## img writing parameters\n",
    "    imsize = 224\n",
    "    \n",
    "    ## desired output: a dataframe that has trials on the rows, and the following columns:\n",
    "    ## category, age, number of strokes, mean_pixel_intensity, bounding_box_coordinates_LTRB, list of strokes, \n",
    "    ## PNG string, submission_time, submission_date\n",
    "    ## to be saved out as a nice tidy CSV\n",
    "    session_id = []\n",
    "    trial_num = []\n",
    "    category = []\n",
    "    num_strokes = []\n",
    "    mean_pixel_intensity = []\n",
    "    bounding_box_coords = []\n",
    "    svg = []\n",
    "    kidName = []\n",
    "    svg_times = []\n",
    "    png = []\n",
    "    submit_time = []\n",
    "    submit_date = []\n",
    "    draw_duration = []\n",
    "    filename = []\n",
    "    countErr = 0\n",
    "    for s in valid_sessions:\n",
    "        this_collection = coll\n",
    "        image_recs = this_collection.find({'$and': [{'sessionId':s}, {'dataType':'finalImage'}]}).sort('time')    \n",
    "        for imrec in image_recs:                                                            \n",
    "                stroke_recs = this_collection.find({'$and': [\n",
    "                                                  {'sessionId':s}, \n",
    "                                                  {'dataType':'stroke'},\n",
    "                                                  {'trialNum': imrec['trialNum']}]}).sort('time')   \n",
    "\n",
    "                if stroke_recs.count() > 0: ## only include trials if the drawings are not blank            \n",
    "                    session_id.append(imrec['sessionId'])        \n",
    "                    trial_num.append(imrec['trialNum']) \n",
    "                    category.append(imrec['category'])\n",
    "#                     print 'we had {} strokes'.format(stroke_recs.count())\n",
    "                    \n",
    "                    \n",
    "#                     try:    \n",
    "#                         png.append(imrec['imgData'])\n",
    "#                         submit_time.append(imrec['time'])\n",
    "#                         submit_date.append(imrec['date'])\n",
    "#                         filename.append(os.path.join(sketch_dir,'{}_sketch_{}_{}.png'.format(imrec['category'], imrec['kidName'],imrec['sessionId'])))\n",
    "#                         num_strokes.append(stroke_recs.count())\n",
    "#                         _svg = [] # this keeps track of the strokes from THIS final image\n",
    "#                         _svg_times = []\n",
    "#                         for strec in stroke_recs:\n",
    "#                             _svg.append(strec['svg'])\n",
    "#                             _svg_times.append(strec['time'])\n",
    "#                         draw_duration.append((_svg_times[-1] - _svg_times[0])/1000) ## in seconds\n",
    "#                         svg.append(_svg)\n",
    "#                         svg_times.append(_svg_times)\n",
    "\n",
    "            ## and write out image data here too\n",
    "                    imgData = imrec['imgData'];\n",
    "                    filestr = base64.b64decode(imgData)\n",
    "                    child_dir = os.path.join(sketch_dir,imrec['kidName'])\n",
    "                    if not os.path.exists(child_dir):\n",
    "                        os.makedirs(child_dir)\n",
    "                    fname = os.path.join(child_dir,'{}_sketch_{}_{}.png'.format(imrec['category'], imrec['kidName'],imrec['sessionId']))\n",
    "                    with open(fname, \"wb\") as fh:\n",
    "                        fh.write(imgData.decode('base64'))  \n",
    "#                     except:\n",
    "#                         print('something went wrong with an image')\n",
    "#                         countErr = countErr + 1\n",
    "#                         print imrec['category']\n",
    "#                         child_dir = os.path.join(sketch_dir,'noname')\n",
    "#                         if not os.path.exists(child_dir):\n",
    "#                             os.makedirs(child_dir)\n",
    "#                         fname = os.path.join(child_dir,'{}_sketch_{}_{}.png'.format(imrec['category'], 'noname',imrec['sessionId']))\n",
    "#                         with open(fname, \"wb\") as fh:\n",
    "#                             fh.write(imgData.decode('base64'))  \n",
    "                        "
   ]
  },
  {
   "cell_type": "code",
   "execution_count": null,
   "metadata": {
    "collapsed": true
   },
   "outputs": [],
   "source": [
    "if really_run_this:\n",
    "    X = pd.DataFrame([session_id,trial_num,category,age,submit_time,submit_date,num_strokes,svg,svg_times,png,draw_duration,filename])\n",
    "    X = X.transpose()\n",
    "    X.columns = ['session_id','trial_num','category','age','submit_time','submit_date','num_strokes','svg','svg_times','png','draw_duration', 'filename']\n",
    "\n"
   ]
  },
  {
   "cell_type": "code",
   "execution_count": null,
   "metadata": {
    "collapsed": true
   },
   "outputs": [],
   "source": [
    "# if really_run_this:\n",
    "#     X_out = pd.DataFrame([session_id,trial_num,category,kidName,submit_time,submit_date,num_strokes,draw_duration,filename])\n",
    "#     X_out = X_out.transpose()\n",
    "#     X_out.columns = ['session_id','trial_num','category','kidName','submit_time','submit_date','num_strokes','draw_duration', 'filename']\n",
    "\n",
    "#     X_out.to_csv('June8th_bing_usage.csv')"
   ]
  },
  {
   "cell_type": "code",
   "execution_count": null,
   "metadata": {
    "collapsed": true
   },
   "outputs": [],
   "source": [
    "# categories = [i for i in os.listdir('sketches') if i != '.DS_Store']\n",
    "# num_ims = 0\n",
    "# ims_per_cat = []\n",
    "# for c in categories:\n",
    "#     num_ims += len([i for i in os.listdir(os.path.join('sketches',c)) if i != '.DS_Store'])\n",
    "#     ims_per_cat.append(len([i for i in os.listdir(os.path.join('sketches',c)) if i != '.DS_Store']))\n",
    "    \n",
    "# print num_ims\n",
    "# print ims_per_cat"
   ]
  },
  {
   "cell_type": "code",
   "execution_count": null,
   "metadata": {
    "collapsed": true
   },
   "outputs": [],
   "source": [
    "# plt.bar(categories,ims_per_cat)\n",
    "# frame1=plt.gca()\n",
    "# frame1.axes.get_xaxis().set_visible(False)\n"
   ]
  }
 ],
 "metadata": {
  "kernelspec": {
   "display_name": "Python 2",
   "language": "python",
   "name": "python2"
  },
  "language_info": {
   "codemirror_mode": {
    "name": "ipython",
    "version": 2
   },
   "file_extension": ".py",
   "mimetype": "text/x-python",
   "name": "python",
   "nbconvert_exporter": "python",
   "pygments_lexer": "ipython2",
   "version": "2.7.14"
  }
 },
 "nbformat": 4,
 "nbformat_minor": 1
}
