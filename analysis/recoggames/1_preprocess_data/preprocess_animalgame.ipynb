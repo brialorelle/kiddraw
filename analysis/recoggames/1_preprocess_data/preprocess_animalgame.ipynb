{
 "cells": [
  {
   "cell_type": "markdown",
   "metadata": {},
   "source": [
    "### libraries"
   ]
  },
  {
   "cell_type": "code",
   "execution_count": 1,
   "metadata": {
    "collapsed": true
   },
   "outputs": [],
   "source": [
    "## remember to run conn_cocolab from the terminal before running cells in this notebook!\n",
    "import os\n",
    "import urllib, cStringIO\n",
    "import pymongo as pm\n",
    "\n",
    "import matplotlib\n",
    "from matplotlib import pylab, mlab, pyplot\n",
    "%matplotlib inline\n",
    "from IPython.core.pylabtools import figsize, getfigs\n",
    "plt = pyplot\n",
    "import seaborn as sns\n",
    "sns.set_context('poster')\n",
    "sns.set_style('white')\n",
    "\n",
    "import numpy as np\n",
    "from __future__ import division\n",
    "import scipy.stats as stats\n",
    "import pandas as pd\n",
    "import json\n",
    "import re\n",
    "\n",
    "from PIL import Image\n",
    "import base64\n",
    "import datetime\n",
    "\n",
    "# import svg_render_helpers as rdh\n",
    "from scipy.spatial import distance"
   ]
  },
  {
   "cell_type": "markdown",
   "metadata": {},
   "source": [
    "### file hierarchy and database connection vars"
   ]
  },
  {
   "cell_type": "code",
   "execution_count": 2,
   "metadata": {
    "collapsed": true
   },
   "outputs": [],
   "source": [
    "## directory & file hierarchy\n",
    "\n",
    "iterationName = 'animalgame_run_v1'\n",
    "exp_path = 'animalgame'\n",
    "analysis_dir = os.getcwd()\n"
   ]
  },
  {
   "cell_type": "code",
   "execution_count": null,
   "metadata": {
    "collapsed": true
   },
   "outputs": [],
   "source": []
  },
  {
   "cell_type": "code",
   "execution_count": 3,
   "metadata": {
    "collapsed": true
   },
   "outputs": [],
   "source": [
    "# set vars \n",
    "auth = pd.read_csv('auth.txt', header = None) # this auth.txt file contains the password for the sketchloop user\n",
    "pswd = auth.values[0][0]\n",
    "\n",
    "# have to fix this to be able to analyze from local\n",
    "import pymongo as pm\n",
    "conn = pm.MongoClient('mongodb://stanford:' + pswd + '@127.0.0.1')\n",
    "db = conn['kiddraw']\n",
    "# coll = db['animalgame_run_v1']\n",
    "coll = db['animalgame_run_v1']\n",
    "this_collection = coll"
   ]
  },
  {
   "cell_type": "markdown",
   "metadata": {},
   "source": [
    "### Preprocessing data "
   ]
  },
  {
   "cell_type": "markdown",
   "metadata": {},
   "source": [
    "Notes:\n",
    "There are two types of records in the database: 'guessData' and 'surveyData'; guessData is the main data and surveyData is optional.\n",
    "The session identifier is called \"sessionId\".\n",
    "\n",
    "\n"
   ]
  },
  {
   "cell_type": "code",
   "execution_count": 4,
   "metadata": {},
   "outputs": [
    {
     "name": "stdout",
     "output_type": "stream",
     "text": [
      "We currently have 669 total sessions.\n"
     ]
    }
   ],
   "source": [
    "total_sessions = coll.find().distinct('sessionId') ## this returns ALL sessions in this collection.\n",
    "print 'We currently have {} total sessions.'.format(len(total_sessions))"
   ]
  },
  {
   "cell_type": "markdown",
   "metadata": {},
   "source": [
    "### Save out all data into variables that can be written into csv"
   ]
  },
  {
   "cell_type": "code",
   "execution_count": null,
   "metadata": {},
   "outputs": [],
   "source": []
  },
  {
   "cell_type": "code",
   "execution_count": 7,
   "metadata": {
    "collapsed": true
   },
   "outputs": [],
   "source": [
    "### Open variables\n",
    "clicked_category = []\n",
    "intended_category = []\n",
    "producer_age = []\n",
    "recognizer_age = []\n",
    "sessionId = []\n",
    "sketch_path = []\n",
    "RT = []\n",
    "trial_num = []"
   ]
  },
  {
   "cell_type": "code",
   "execution_count": 13,
   "metadata": {},
   "outputs": [
    {
     "data": {
      "text/plain": [
       "11"
      ]
     },
     "execution_count": 13,
     "metadata": {},
     "output_type": "execute_result"
    }
   ],
   "source": [
    "guesses.count()"
   ]
  },
  {
   "cell_type": "code",
   "execution_count": 9,
   "metadata": {},
   "outputs": [
    {
     "name": "stdout",
     "output_type": "stream",
     "text": [
      "found interference...\n",
      "found interference...\n",
      "found interference...\n",
      "found interference...\n",
      "found interference...\n",
      "found interference...\n",
      "found interference...\n",
      "found interference...\n",
      "found interference...\n",
      "found interference...\n",
      "found interference...\n",
      "found interference...\n",
      "found interference...\n",
      "found interference...\n",
      "found interference...\n",
      "found interference...\n",
      "found interference...\n",
      "found interference...\n",
      "found interference...\n",
      "found interference...\n",
      "found interference...\n",
      "found interference...\n",
      "found interference...\n",
      "found interference...\n",
      "found interference...\n",
      "found interference...\n",
      "found interference...\n",
      "found interference...\n",
      "found interference...\n",
      "found interference...\n",
      "found interference...\n",
      "found interference...\n",
      "found interference...\n",
      "found interference...\n",
      "found interference...\n",
      "found interference...\n",
      "found interference...\n"
     ]
    }
   ],
   "source": [
    "interferenceCount = 0\n",
    "for s in total_sessions:\n",
    "    guesses = this_collection.find({'$and': [{'sessionId':s}, {'dataType':'guessData'}]}).sort('time')  \n",
    "    this_survey = this_collection.find({'$and': [{'sessionId':s}, {'dataType':'survey'}]})\n",
    "    if this_survey.count()>0:\n",
    "        survey_answers = this_survey[0]\n",
    "        interference = (survey_answers['other_guessed'] or survey_answers['parent_guessed'])\n",
    "        if interference == True:\n",
    "            print('found interference...')\n",
    "            interferenceCount = interferenceCount+1\n",
    "    else:\n",
    "        interference = False\n",
    "    if guesses.count()>5 && interference==False: ## did we get past practice trials and have no interference?\n",
    "        for guess in guesses:        \n",
    "            clicked_category.append(guess['clicked_category'])\n",
    "            intended_category.append(guess['intended_category'])\n",
    "            producer_age.append(guess['producer_age'])\n",
    "            recognizer_age.append(guess['recognizer_age'])\n",
    "            sessionId.append(guess['sessionId'])\n",
    "            sketch_path.append(guess['sketch_path'])\n",
    "            trial_num.append(guess['trialNum'])\n",
    "\n",
    "            this_RT = guess['endTrialTime'] - guess['startTrialTime']\n",
    "            RT.append(this_RT)"
   ]
  },
  {
   "cell_type": "code",
   "execution_count": 10,
   "metadata": {},
   "outputs": [
    {
     "data": {
      "text/plain": [
       "37"
      ]
     },
     "execution_count": 10,
     "metadata": {},
     "output_type": "execute_result"
    }
   ],
   "source": [
    "interferenceCount"
   ]
  },
  {
   "cell_type": "markdown",
   "metadata": {
    "collapsed": true
   },
   "source": [
    "### Save out data into a dataframe"
   ]
  },
  {
   "cell_type": "code",
   "execution_count": 11,
   "metadata": {
    "collapsed": true
   },
   "outputs": [],
   "source": [
    "## compile data\n",
    "really_run_this = 1 \n",
    "if really_run_this:\n",
    "    X = pd.DataFrame([sessionId, trial_num, recognizer_age, sketch_path, intended_category, producer_age, clicked_category, RT])\n",
    "    X = X.transpose()\n",
    "    X.columns = ['sessionId', 'trial_num', 'recognizer_age', 'sketch_path', 'intended_category', 'producer_age', 'clicked_category', 'RT']\n",
    "    X.to_csv('animalgame_v1_out_may8_final.csv')             "
   ]
  },
  {
   "cell_type": "code",
   "execution_count": null,
   "metadata": {
    "collapsed": true
   },
   "outputs": [],
   "source": []
  },
  {
   "cell_type": "code",
   "execution_count": null,
   "metadata": {
    "collapsed": true
   },
   "outputs": [],
   "source": []
  },
  {
   "cell_type": "code",
   "execution_count": null,
   "metadata": {
    "collapsed": true
   },
   "outputs": [],
   "source": []
  },
  {
   "cell_type": "code",
   "execution_count": null,
   "metadata": {
    "collapsed": true
   },
   "outputs": [],
   "source": []
  }
 ],
 "metadata": {
  "kernelspec": {
   "display_name": "Python 2",
   "language": "python",
   "name": "python2"
  },
  "language_info": {
   "codemirror_mode": {
    "name": "ipython",
    "version": 2
   },
   "file_extension": ".py",
   "mimetype": "text/x-python",
   "name": "python",
   "nbconvert_exporter": "python",
   "pygments_lexer": "ipython2",
   "version": "2.7.14"
  }
 },
 "nbformat": 4,
 "nbformat_minor": 1
}
