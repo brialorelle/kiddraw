{
 "cells": [
  {
   "cell_type": "code",
   "execution_count": 3,
   "metadata": {
    "collapsed": true
   },
   "outputs": [],
   "source": [
    "import os\n",
    "import csv\n",
    "import pandas as pd\n",
    "import numpy as np\n",
    "from IPython.display import clear_output\n",
    "import ast\n",
    "import pymongo as pm\n",
    "from datetime import datetime\n"
   ]
  },
  {
   "cell_type": "code",
   "execution_count": null,
   "metadata": {
    "collapsed": true
   },
   "outputs": [],
   "source": []
  },
  {
   "cell_type": "code",
   "execution_count": 4,
   "metadata": {},
   "outputs": [],
   "source": [
    "# set vars \n",
    "auth = pd.read_csv('auth.txt', header = None) # this auth.txt file contains the password for the stanford-cogsci.org user\n",
    "pswd = auth.values[0][0]\n",
    "conn = pm.MongoClient('mongodb://stanford:' + pswd + '@127.0.0.1')\n",
    "db = conn['kiddraw']\n",
    "coll = db['invalid_draw']"
   ]
  },
  {
   "cell_type": "code",
   "execution_count": null,
   "metadata": {
    "collapsed": true
   },
   "outputs": [],
   "source": []
  },
  {
   "cell_type": "code",
   "execution_count": 5,
   "metadata": {
    "collapsed": true
   },
   "outputs": [],
   "source": [
    "time_threshold = datetime(2020, 8, 13, 10, 15) # when we started running mturk exp\n",
    "actual_workers = coll.find({'date':{'$gt': time_threshold}}).distinct('worker_id')"
   ]
  },
  {
   "cell_type": "code",
   "execution_count": 6,
   "metadata": {
    "collapsed": true
   },
   "outputs": [],
   "source": [
    "our_worker_ids = {'A1MMCS8S8CTWKU'}"
   ]
  },
  {
   "cell_type": "code",
   "execution_count": 7,
   "metadata": {},
   "outputs": [
    {
     "name": "stdout",
     "output_type": "stream",
     "text": [
      "A275HKY8EPXRBI\n",
      "66\n",
      "A1MMCS8S8CTWKU\n",
      "39\n",
      "A9KV8Q3VJY3Q5\n",
      "91\n",
      "A1M682B2WUSYJP\n",
      "49\n",
      "A4EDGOM5A2LP\n",
      "130\n",
      "AQJWO4YPR3LUQ\n",
      "6\n",
      "A122YYPAT26PAY\n",
      "436\n",
      "A2BE4JNIIIC2XD\n",
      "165\n",
      "A3FSXLBGUG0XUB\n",
      "126\n",
      "A9PGIK1LRH35F\n",
      "172\n",
      "AJFO6Q9JBD48Q\n",
      "85\n",
      "A2FGKKWP33DFWS\n",
      "56\n",
      "A19LEGPNW93L9Z\n",
      "91\n",
      "A1QJ11VRFUK6L9\n",
      "230\n",
      "A3908297ZI3LES\n",
      "87\n",
      "A2E0LU8V4EUX5C\n",
      "54\n",
      "A2837NCV9OXBFZ\n",
      "64\n",
      "A1PL4QW6IPULOX\n",
      "78\n"
     ]
    }
   ],
   "source": [
    "for w in actual_workers:\n",
    "    print w\n",
    "    entries = coll.find({'worker_id': w})\n",
    "    bad_drawings = entries.count()\n",
    "    print bad_drawings"
   ]
  },
  {
   "cell_type": "code",
   "execution_count": 10,
   "metadata": {},
   "outputs": [
    {
     "data": {
      "text/plain": [
       "{u'__v': 0,\n",
       " u'_id': ObjectId('5f3c2e61e14b1e363bd0e163'),\n",
       " u'age': u'age2',\n",
       " u'class': u'this square',\n",
       " u'date': datetime.datetime(2020, 8, 18, 19, 39, 3, 539000),\n",
       " u'filename': u'this square_sketch_age2_cdm_run_v51558030152230.png',\n",
       " u'session_id': u'cdm_run_v51558030152230',\n",
       " u'worker_id': u'A1PL4QW6IPULOX'}"
      ]
     },
     "execution_count": 10,
     "metadata": {},
     "output_type": "execute_result"
    }
   ],
   "source": [
    "entries[0]"
   ]
  },
  {
   "cell_type": "code",
   "execution_count": null,
   "metadata": {
    "collapsed": true
   },
   "outputs": [],
   "source": []
  },
  {
   "cell_type": "code",
   "execution_count": 46,
   "metadata": {
    "collapsed": true
   },
   "outputs": [],
   "source": [
    "coll = db['check_invalid_v5_dev']"
   ]
  },
  {
   "cell_type": "code",
   "execution_count": 48,
   "metadata": {},
   "outputs": [],
   "source": []
  },
  {
   "cell_type": "code",
   "execution_count": 17,
   "metadata": {},
   "outputs": [
    {
     "data": {
      "text/plain": [
       "{u'_id': ObjectId('5e6a7f041943e62410f20708'),\n",
       " u'age': u'age2',\n",
       " u'class': u'this square',\n",
       " u'filename': u'this square_sketch_age2_cdm_run_v51558030152230.png',\n",
       " u'games': [u'abc'],\n",
       " u'session_id': u'cdm_run_v51558030152230',\n",
       " u'shuffler_ind': 8063,\n",
       " u'updatedAt': datetime.datetime(2020, 8, 18, 19, 38, 55, 691000),\n",
       " u'url': u'https://kiddraw.s3.amazonaws.com/this square_sketch_age2_cdm_run_v51558030152230.png'}"
      ]
     },
     "execution_count": 17,
     "metadata": {},
     "output_type": "execute_result"
    }
   ],
   "source": [
    "test = coll.find({'filename': 'this square_sketch_age2_cdm_run_v51558030152230.png'})\n",
    "test[0]"
   ]
  },
  {
   "cell_type": "code",
   "execution_count": 26,
   "metadata": {},
   "outputs": [],
   "source": [
    "things = coll.find({'class':{'$exists':True}})\n",
    "df = pd.DataFrame(things)"
   ]
  },
  {
   "cell_type": "code",
   "execution_count": 32,
   "metadata": {},
   "outputs": [],
   "source": [
    "df = df.assign(numGames = df.apply(lambda x: len(x['games']), axis=1))"
   ]
  },
  {
   "cell_type": "code",
   "execution_count": 36,
   "metadata": {},
   "outputs": [
    {
     "data": {
      "image/png": "[encoded data removed]",
      "text/plain": [
       "<matplotlib.figure.Figure at 0x108a15b90>"
      ]
     },
     "metadata": {
      "needs_background": "light"
     },
     "output_type": "display_data"
    }
   ],
   "source": [
    "from matplotlib import pyplot\n",
    "%matplotlib inline\n",
    "plt = pyplot\n",
    "h = plt.hist(df['numGames'].values)"
   ]
  },
  {
   "cell_type": "code",
   "execution_count": 37,
   "metadata": {
    "collapsed": true
   },
   "outputs": [],
   "source": [
    "df.sort_values(by='shuffler_ind', inplace=True)"
   ]
  },
  {
   "cell_type": "code",
   "execution_count": 38,
   "metadata": {},
   "outputs": [
    {
     "name": "stdout",
     "output_type": "stream",
     "text": [
      "[    0     1     2 ..., 13753 13754 13755]\n"
     ]
    }
   ],
   "source": [
    "print(df['shuffler_ind'].values)"
   ]
  },
  {
   "cell_type": "code",
   "execution_count": 41,
   "metadata": {},
   "outputs": [
    {
     "data": {
      "image/png": "[encoded data removed]",
      "text/plain": [
       "<matplotlib.figure.Figure at 0x108a5a3d0>"
      ]
     },
     "metadata": {
      "needs_background": "light"
     },
     "output_type": "display_data"
    }
   ],
   "source": [
    "from collections import Counter\n",
    "h = plt.hist(Counter(df['shuffler_ind'].values).values())#"
   ]
  },
  {
   "cell_type": "code",
   "execution_count": 45,
   "metadata": {},
   "outputs": [],
   "source": [
    "## is it really the case that the number of unique shuffler_inds matches the size of the df???\n",
    "assert np.max(df['shuffler_ind'].values)==len(df)-1\n"
   ]
  },
  {
   "cell_type": "code",
   "execution_count": 75,
   "metadata": {},
   "outputs": [],
   "source": [
    "time_threshold = datetime(2020, 8, 19, 10, 15) # when we started running mturk exp\n",
    "coll_recent = coll.find({'updatedAt':{'$gt': time_threshold}})"
   ]
  },
  {
   "cell_type": "code",
   "execution_count": 76,
   "metadata": {},
   "outputs": [
    {
     "data": {
      "text/plain": [
       "{u'_id': ObjectId('5e6a7e4f1943e62410f1e244'),\n",
       " u'age': u'age3',\n",
       " u'class': u'a camel',\n",
       " u'filename': u'a camel_sketch_age3_cdm_run_v51551379846475.png',\n",
       " u'games': [u'A275HKY8EPXRBI'],\n",
       " u'session_id': u'cdm_run_v51551379846475',\n",
       " u'shuffler_ind': 13298,\n",
       " u'updatedAt': datetime.datetime(2020, 8, 20, 18, 9, 7, 289000),\n",
       " u'url': u'https://kiddraw.s3.amazonaws.com/a camel_sketch_age3_cdm_run_v51551379846475.png'}"
      ]
     },
     "execution_count": 76,
     "metadata": {},
     "output_type": "execute_result"
    }
   ],
   "source": [
    "coll_recent[0]"
   ]
  },
  {
   "cell_type": "code",
   "execution_count": null,
   "metadata": {},
   "outputs": [],
   "source": [
    "## wipe games in current collection"
   ]
  },
  {
   "cell_type": "code",
   "execution_count": null,
   "metadata": {
    "collapsed": true
   },
   "outputs": [],
   "source": []
  }
 ],
 "metadata": {
  "kernelspec": {
   "display_name": "Python 2",
   "language": "python",
   "name": "python2"
  }
 },
 "nbformat": 4,
 "nbformat_minor": 2
}
