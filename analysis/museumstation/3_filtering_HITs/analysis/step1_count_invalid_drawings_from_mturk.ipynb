{
 "cells": [
  {
   "cell_type": "code",
   "execution_count": 157,
   "metadata": {
    "collapsed": true
   },
   "outputs": [],
   "source": [
    "import os\n",
    "import csv\n",
    "import pandas as pd\n",
    "import numpy as np\n",
    "from IPython.display import clear_output\n",
    "import ast\n",
    "import pymongo as pm\n",
    "from datetime import datetime\n"
   ]
  },
  {
   "cell_type": "markdown",
   "metadata": {
    "collapsed": true
   },
   "source": [
    "### Set db connection and collection names"
   ]
  },
  {
   "cell_type": "code",
   "execution_count": 158,
   "metadata": {
    "collapsed": true
   },
   "outputs": [],
   "source": [
    "# set vars \n",
    "auth = pd.read_csv('auth.txt', header = None) # this auth.txt file contains the password for the stanford-cogsci.org user\n",
    "pswd = auth.values[0][0]\n",
    "conn = pm.MongoClient('mongodb://stanford:' + pswd + '@127.0.0.1')\n",
    "db = conn['kiddraw']"
   ]
  },
  {
   "cell_type": "code",
   "execution_count": 159,
   "metadata": {
    "collapsed": true
   },
   "outputs": [],
   "source": [
    "## for cdm_run_v4\n",
    "# which_run = 'cdm_run_v4'\n",
    "# invalid_draw_coll = db['invalid_draw_test']\n",
    "# image_check_coll = db['check_invalid_cdm_run_v4']\n",
    "\n",
    "\n",
    "## for cdm_run_v5\n",
    "# which_run = 'cdm_run_v5'\n",
    "# invalid_draw_coll = db['invalid_draw_cdm_run_v5']\n",
    "# image_check_coll = db['check_invalid_cdm_run_v5_production']\n",
    "\n",
    "# ## for cdm_run_v6\n",
    "# which_run = 'cdm_run_v6'\n",
    "# invalid_draw_coll = db['invalid_draw_cdm_run_v6']\n",
    "# image_check_coll = db['check_invalid_cdm_run_v6_production']\n",
    "# \n",
    "# ## for cdm_run_v7\n",
    "which_run = 'cdm_run_v7'\n",
    "invalid_draw_coll = db['invalid_draw_cdm_run_v7']\n",
    "image_check_coll = db['check_invalid_cdm_run_v7_production']"
   ]
  },
  {
   "cell_type": "code",
   "execution_count": 160,
   "metadata": {},
   "outputs": [],
   "source": [
    "# for w in actual_workers:\n",
    "#     print(w=='5f556a46f0b6e193e149d8b8') # said they didn't get a completion code..."
   ]
  },
  {
   "cell_type": "code",
   "execution_count": 161,
   "metadata": {},
   "outputs": [],
   "source": [
    "# time_threshold = datetime(2020, 9, 3, 1, 15) # when we started running mturk exp\n",
    "time_threshold = datetime(2020, 9, 10, 13, 0) # when we started running prolific exp\n",
    "\n"
   ]
  },
  {
   "cell_type": "code",
   "execution_count": null,
   "metadata": {},
   "outputs": [],
   "source": []
  },
  {
   "cell_type": "code",
   "execution_count": 216,
   "metadata": {},
   "outputs": [
    {
     "name": "stdout",
     "output_type": "stream",
     "text": [
      "Collection(Database(MongoClient(host=['127.0.0.1:27017'], document_class=dict, tz_aware=False, connect=True), 'kiddraw'), 'invalid_draw_test')\n",
      "101\n"
     ]
    },
    {
     "name": "stderr",
     "output_type": "stream",
     "text": [
      "/Library/Frameworks/Python.framework/Versions/3.6/lib/python3.6/site-packages/ipykernel_launcher.py:16: DeprecationWarning: count is deprecated. Use Collection.count_documents instead.\n",
      "  app.launch_new_instance()\n"
     ]
    },
    {
     "name": "stdout",
     "output_type": "stream",
     "text": [
      "exclduing 59b859e711212f0001cd10ff\n",
      "exclduing 5f286aafb66d30178ab62e82\n",
      "exclduing 5e2cbee9eb557a2dee97613b\n",
      "exclduing 5f514511a0830d35cbe96f0d\n",
      "exclduing 5f58f0f17723ca0aa7e5a225\n",
      "exclduing 5eb059cdacc7110f441bad41\n",
      "Collection(Database(MongoClient(host=['127.0.0.1:27017'], document_class=dict, tz_aware=False, connect=True), 'kiddraw'), 'invalid_draw_cdm_run_v5')\n",
      "97\n",
      "Collection(Database(MongoClient(host=['127.0.0.1:27017'], document_class=dict, tz_aware=False, connect=True), 'kiddraw'), 'invalid_draw_cdm_run_v6')\n",
      "109\n",
      "exclduing 595b93cde11c9d0001522564\n",
      "exclduing 5f479154dc1bde17b64d7eb5\n",
      "exclduing 5f4cb77384ba278c4622af23\n",
      "exclduing 5f5518382b50e98b39669dca\n",
      "exclduing 5f556a46f0b6e193e149d8b8\n",
      "exclduing 5f074c9c163ead339b59e695\n",
      "exclduing 5f4cd7086e1f3e8e7b7bca87\n",
      "Collection(Database(MongoClient(host=['127.0.0.1:27017'], document_class=dict, tz_aware=False, connect=True), 'kiddraw'), 'invalid_draw_cdm_run_v7')\n",
      "91\n"
     ]
    }
   ],
   "source": [
    "image_paths = []\n",
    "worker_ids=[]\n",
    "bad_workers = []\n",
    "\n",
    "invalid_draw_colls = ['invalid_draw_test','invalid_draw_cdm_run_v5', 'invalid_draw_cdm_run_v6','invalid_draw_cdm_run_v7']\n",
    "# invalid_draw_colls = ['invalid_draw_cdm_run_v5']\n",
    "\n",
    "for this_coll in invalid_draw_colls:\n",
    "    invalid_draw_coll = db[this_coll]\n",
    "    print(invalid_draw_coll)\n",
    "    actual_workers = invalid_draw_coll.find({'date':{'$gt': time_threshold}}).distinct('worker_id')\n",
    "    print (np.size(actual_workers))\n",
    "\n",
    "    for w in actual_workers:\n",
    "        entries = invalid_draw_coll.find({'worker_id': w})\n",
    "        bad_drawings = entries.count()\n",
    "#         print (w, bad_drawings)\n",
    "        if (bad_drawings>=96):\n",
    "            print ('exclduing', w)\n",
    "            bad_workers.append(w)\n",
    "        if (bad_drawings<96): # kick out workers who rated more than half of all shown drawings as bad...\n",
    "            for e in entries:\n",
    "                worker_ids.append(w)\n",
    "                image_paths.append(e['filename'])"
   ]
  },
  {
   "cell_type": "code",
   "execution_count": 217,
   "metadata": {},
   "outputs": [
    {
     "data": {
      "text/plain": [
       "15562"
      ]
     },
     "execution_count": 217,
     "metadata": {},
     "output_type": "execute_result"
    }
   ],
   "source": [
    "np.size(image_paths)"
   ]
  },
  {
   "cell_type": "code",
   "execution_count": 222,
   "metadata": {},
   "outputs": [
    {
     "data": {
      "text/plain": [
       "10303"
      ]
     },
     "execution_count": 222,
     "metadata": {},
     "output_type": "execute_result"
    }
   ],
   "source": [
    "np.size(np.unique(image_paths))"
   ]
  },
  {
   "cell_type": "code",
   "execution_count": 220,
   "metadata": {},
   "outputs": [
    {
     "data": {
      "text/plain": [
       "385"
      ]
     },
     "execution_count": 220,
     "metadata": {},
     "output_type": "execute_result"
    }
   ],
   "source": [
    "np.size(np.unique(worker_ids))"
   ]
  },
  {
   "cell_type": "code",
   "execution_count": 221,
   "metadata": {},
   "outputs": [
    {
     "data": {
      "text/plain": [
       "13"
      ]
     },
     "execution_count": 221,
     "metadata": {},
     "output_type": "execute_result"
    }
   ],
   "source": [
    "np.size(np.unique(bad_workers))"
   ]
  },
  {
   "cell_type": "code",
   "execution_count": null,
   "metadata": {
    "collapsed": true
   },
   "outputs": [],
   "source": []
  },
  {
   "cell_type": "code",
   "execution_count": 218,
   "metadata": {},
   "outputs": [],
   "source": [
    "#  for reach run separately...\n",
    "# image_paths = []\n",
    "# worker_ids=[]\n",
    "# bad_workers = []\n",
    "\n",
    "# for w in actual_workers:\n",
    "#     entries = invalid_draw_coll.find({'worker_id': w})\n",
    "#     bad_drawings = entries.count()\n",
    "#     print (w, bad_drawings)\n",
    "#     if (bad_drawings>=96):\n",
    "#         print ('exclduing', w)\n",
    "#         bad_workers.append(w)\n",
    "#     if (bad_drawings<96): # kick out workers who rated more than half of all shown drawings as bad...\n",
    "#         for e in entries:\n",
    "#             worker_ids.append(w)\n",
    "#             image_paths.append(e['filename'])"
   ]
  },
  {
   "cell_type": "markdown",
   "metadata": {
    "collapsed": true
   },
   "source": []
  },
  {
   "cell_type": "code",
   "execution_count": 163,
   "metadata": {
    "collapsed": true
   },
   "outputs": [],
   "source": [
    "\n",
    "exclude_ids = '5b5cab744e945800017d9daf' # reported they selected all \"horse\" drawings\n",
    "to_check = pd.DataFrame(image_paths, worker_ids)\n",
    "filename = 'filtering_outputs/' + 'marked_invalid_drawings_' +  which_run + '.csv'\n",
    "to_check.to_csv(filename)"
   ]
  },
  {
   "cell_type": "code",
   "execution_count": 164,
   "metadata": {
    "collapsed": true
   },
   "outputs": [],
   "source": [
    "to_check.to_csv(filename)"
   ]
  },
  {
   "cell_type": "code",
   "execution_count": 165,
   "metadata": {
    "collapsed": true
   },
   "outputs": [],
   "source": [
    "# suspicious = coll.find({'worker_id': '5e9e20015361b91c9cb42bb3'})\n",
    "# image_paths = []\n",
    "# for s in suspicious:\n",
    "#     image_paths.append(s['filename'])\n",
    "    \n",
    "\n",
    "# # for rendering out in R"
   ]
  },
  {
   "cell_type": "markdown",
   "metadata": {},
   "source": [
    "### Now get df with all images in this collection and whether they have been processed in a hit"
   ]
  },
  {
   "cell_type": "code",
   "execution_count": 198,
   "metadata": {
    "collapsed": true
   },
   "outputs": [],
   "source": [
    "images_to_check = image_check_coll.find({'class':{'$exists':True}})\n",
    "images_df = pd.DataFrame(images_to_check)"
   ]
  },
  {
   "cell_type": "code",
   "execution_count": 199,
   "metadata": {},
   "outputs": [
    {
     "data": {
      "text/plain": [
       "Collection(Database(MongoClient(host=['127.0.0.1:27017'], document_class=dict, tz_aware=False, connect=True), 'kiddraw'), 'check_invalid_cdm_run_v7_production')"
      ]
     },
     "execution_count": 199,
     "metadata": {},
     "output_type": "execute_result"
    }
   ],
   "source": [
    "image_check_coll"
   ]
  },
  {
   "cell_type": "code",
   "execution_count": 200,
   "metadata": {},
   "outputs": [],
   "source": [
    "images_df = images_df.assign(numGames = images_df.apply(lambda x: len(x['games']), axis=1))\n"
   ]
  },
  {
   "cell_type": "code",
   "execution_count": 201,
   "metadata": {
    "collapsed": true
   },
   "outputs": [],
   "source": [
    "filename_images = 'filtering_outputs/' + 'images_checked_' + which_run + '.csv'\n",
    "images_df.to_csv(filename_images)"
   ]
  },
  {
   "cell_type": "code",
   "execution_count": 202,
   "metadata": {},
   "outputs": [
    {
     "data": {
      "text/plain": [
       "'filtering_outputs/images_checked_cdm_run_v7.csv'"
      ]
     },
     "execution_count": 202,
     "metadata": {},
     "output_type": "execute_result"
    }
   ],
   "source": [
    "filename_images"
   ]
  },
  {
   "cell_type": "markdown",
   "metadata": {},
   "source": [
    "### check distributions of how many times images have been seen"
   ]
  },
  {
   "cell_type": "code",
   "execution_count": 197,
   "metadata": {},
   "outputs": [
    {
     "data": {
      "image/png": "[encoded data removed]",
      "text/plain": [
       "<Figure size 432x288 with 1 Axes>"
      ]
     },
     "metadata": {
      "needs_background": "light"
     },
     "output_type": "display_data"
    }
   ],
   "source": [
    "from matplotlib import pyplot\n",
    "%matplotlib inline\n",
    "plt = pyplot\n",
    "h = plt.hist(images_df['numGames'].values)"
   ]
  },
  {
   "cell_type": "code",
   "execution_count": 184,
   "metadata": {
    "collapsed": true
   },
   "outputs": [],
   "source": [
    "images_df.sort_values(by='shuffler_ind', inplace=True)"
   ]
  },
  {
   "cell_type": "code",
   "execution_count": 185,
   "metadata": {},
   "outputs": [
    {
     "name": "stdout",
     "output_type": "stream",
     "text": [
      "[   0    1    2 ... 7330 7331 7332]\n"
     ]
    }
   ],
   "source": [
    "print(images_df['shuffler_ind'].values)"
   ]
  },
  {
   "cell_type": "code",
   "execution_count": 134,
   "metadata": {},
   "outputs": [
    {
     "data": {
      "image/png": "[encoded data removed]",
      "text/plain": [
       "<Figure size 432x288 with 1 Axes>"
      ]
     },
     "metadata": {
      "needs_background": "light"
     },
     "output_type": "display_data"
    }
   ],
   "source": [
    "## make sure we don't have duplicate shuffler_inds\n",
    "from collections import Counter\n",
    "h = plt.hist(Counter(images_df['shuffler_ind'].values).values())#"
   ]
  },
  {
   "cell_type": "code",
   "execution_count": 109,
   "metadata": {
    "collapsed": true
   },
   "outputs": [],
   "source": [
    "## is it really the case that the number of unique shuffler_inds matches the size of the df???\n",
    "assert np.max(images_df['shuffler_ind'].values)==len(images_df)-1"
   ]
  },
  {
   "cell_type": "code",
   "execution_count": 59,
   "metadata": {
    "collapsed": true
   },
   "outputs": [],
   "source": [
    "# time_threshold = datetime(2020, 8, 19, 10, 15) # when we started running mturk exp\n",
    "# coll_recent = coll.find({'updatedAt':{'$gt': time_threshold}})"
   ]
  },
  {
   "cell_type": "code",
   "execution_count": 138,
   "metadata": {
    "collapsed": true
   },
   "outputs": [],
   "source": [
    "# coll_recent[0]"
   ]
  },
  {
   "cell_type": "code",
   "execution_count": null,
   "metadata": {
    "collapsed": true
   },
   "outputs": [],
   "source": [
    "## wipe games in current collection"
   ]
  },
  {
   "cell_type": "code",
   "execution_count": null,
   "metadata": {
    "collapsed": true
   },
   "outputs": [],
   "source": []
  }
 ],
 "metadata": {
  "kernelspec": {
   "display_name": "Python 3",
   "language": "python",
   "name": "python3"
  },
  "language_info": {
   "codemirror_mode": {
    "name": "ipython",
    "version": 3
   },
   "file_extension": ".py",
   "mimetype": "text/x-python",
   "name": "python",
   "nbconvert_exporter": "python",
   "pygments_lexer": "ipython3",
   "version": "3.6.2"
  }
 },
 "nbformat": 4,
 "nbformat_minor": 2
}
