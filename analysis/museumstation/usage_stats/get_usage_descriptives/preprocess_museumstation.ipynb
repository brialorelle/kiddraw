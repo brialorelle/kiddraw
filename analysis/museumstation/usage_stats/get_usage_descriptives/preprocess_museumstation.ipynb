{
 "cells": [
  {
   "cell_type": "code",
   "execution_count": 1,
   "metadata": {
    "collapsed": true
   },
   "outputs": [],
   "source": [
    "## remember to run conn_cocolab from the terminal before running cells in this notebook!\n",
    "\n",
    "import os\n",
    "import urllib, cStringIO\n",
    "\n",
    "import pymongo as pm\n",
    "\n",
    "import matplotlib\n",
    "from matplotlib import pylab, mlab, pyplot\n",
    "%matplotlib inline\n",
    "from IPython.core.pylabtools import figsize, getfigs\n",
    "plt = pyplot\n",
    "import seaborn as sns\n",
    "sns.set_context('poster')\n",
    "sns.set_style('white')\n",
    "\n",
    "import numpy as np\n",
    "from __future__ import division\n",
    "import scipy.stats as stats\n",
    "import pandas as pd\n",
    "import json\n",
    "import re\n",
    "\n",
    "from PIL import Image\n",
    "import base64\n",
    "import datetime"
   ]
  },
  {
   "cell_type": "code",
   "execution_count": 2,
   "metadata": {
    "collapsed": true
   },
   "outputs": [],
   "source": [
    "# categories = [i for i in os.listdir('sketches') if i != '.DS_Store']\n",
    "# num_ims = 0\n",
    "# ims_per_cat = []\n",
    "# for c in categories:\n",
    "#     num_ims += len([i for i in os.listdir(os.path.join('sketches',c)) if i != '.DS_Store'])\n",
    "#     ims_per_cat.append(len([i for i in os.listdir(os.path.join('sketches',c)) if i != '.DS_Store']))\n",
    "    \n",
    "# print num_ims\n",
    "# print ims_per_cat"
   ]
  },
  {
   "cell_type": "markdown",
   "metadata": {},
   "source": [
    "### file hierarchy and database connection vars"
   ]
  },
  {
   "cell_type": "code",
   "execution_count": 3,
   "metadata": {
    "collapsed": true
   },
   "outputs": [],
   "source": [
    "# directory & file hierarchy\n",
    "iterationName = 'cdm_run_v3'\n",
    "exp_path = 'museumstation'\n",
    "analysis_dir = os.getcwd()\n",
    "exp_dir = os.path.abspath(os.path.join(os.getcwd(),'../..','experiments'))\n",
    "##\n",
    "sketch_dir = os.path.join(analysis_dir,'sketches')\n",
    "if not os.path.exists(sketch_dir):\n",
    "    os.makedirs(sketch_dir)\n",
    "## dir where we can keep all sketches not binned by category    \n"
   ]
  },
  {
   "cell_type": "code",
   "execution_count": 4,
   "metadata": {
    "collapsed": true
   },
   "outputs": [],
   "source": [
    "# set vars \n",
    "auth = pd.read_csv('../auth.txt', header = None) # this auth.txt file contains the password for the sketchloop user\n",
    "pswd = auth.values[0][0]\n",
    "user = 'sketchloop'\n",
    "host = 'rxdhawkins.me' ## cocolab ip address\n",
    "\n",
    "# have to fix this to be able to analyze from local\n",
    "import pymongo as pm\n",
    "conn = pm.MongoClient('mongodb://sketchloop:' + pswd + '@127.0.0.1')\n",
    "db = conn['kiddraw']\n",
    "coll = db['cdm_run_v3']"
   ]
  },
  {
   "cell_type": "markdown",
   "metadata": {},
   "source": [
    "### Preprocessing data and rendering images"
   ]
  },
  {
   "cell_type": "markdown",
   "metadata": {},
   "source": [
    "Notes:\n",
    "There are two types of records in the database: 'stroke' and 'finalImage'. This is stored under the key: 'dataType'.\n",
    "The 'stroke'-type of record contains the svg string information. Every stroke event is stored as a separate record.\n",
    "The session identifier is called \"sessionId\".\n",
    "\n",
    "\n"
   ]
  },
  {
   "cell_type": "code",
   "execution_count": 5,
   "metadata": {},
   "outputs": [
    {
     "name": "stdout",
     "output_type": "stream",
     "text": [
      "We currently have 4412 valid sessions from cdm_run_v3.\n",
      "We currently have 25160 total drawings from cdm_run_v3.\n",
      "The last drawing was made at 2018-09-04T21:33:25.905Z.\n"
     ]
    }
   ],
   "source": [
    "experiment_name = 'cdm_run_v3'\n",
    "time_threshold = 1510252452134 ## this is the timepoint after which real data started getting collected\n",
    "all_sessions = coll.distinct('sessionId') ## this returns ALL sessions in this collection. we will then filter on time_threshold\n",
    "valid_sessions = coll.find({'time':{'$gt': time_threshold}}).distinct('sessionId')\n",
    "image_recs_all = coll.find({'$and': [{'dataType':'finalImage'}]})\n",
    "numImages = image_recs_all.count()\n",
    "lastImage = image_recs_all[numImages - 1]\n",
    "lastestDate = lastImage['date']\n",
    "\n",
    "print 'We currently have {} valid sessions from {}.'.format(len(valid_sessions), iterationName)\n",
    "print 'We currently have {} total drawings from {}.'.format(numImages, iterationName)\n",
    "print 'The last drawing was made at {}.'.format(lastestDate)"
   ]
  },
  {
   "cell_type": "markdown",
   "metadata": {},
   "source": [
    "### How many of these drawings are from kids and not on practice trials?"
   ]
  },
  {
   "cell_type": "code",
   "execution_count": 6,
   "metadata": {},
   "outputs": [
    {
     "name": "stdout",
     "output_type": "stream",
     "text": [
      "We currently have 3969 square images from kids in cdm_run_v3.\n",
      "We currently have 3036 shape images from kids in cdm_run_v3.\n",
      "We currently have 2462 circle images from kids in cdm_run_v3.\n",
      "We currently have 22812 TOTAL images from kids in cdm_run_v3.\n"
     ]
    }
   ],
   "source": [
    "image_recs_kids = coll.find({'$and': [{'dataType':'finalImage'},{'age':{\"$ne\": 'adult'}},{'category':'square'}]})\n",
    "print 'We currently have {} square images from kids in {}.'.format(image_recs_kids.count(), iterationName)\n",
    "\n",
    "image_recs_kids = coll.find({'$and': [{'dataType':'finalImage'},{'age':{\"$ne\": 'adult'}},{'category':'shape'}]})\n",
    "print 'We currently have {} shape images from kids in {}.'.format(image_recs_kids.count(), iterationName)\n",
    "\n",
    "image_recs_kids = coll.find({'$and': [{'dataType':'finalImage'},{'age':{\"$ne\": 'adult'}},{'category':'this circle'}]})\n",
    "print 'We currently have {} circle images from kids in {}.'.format(image_recs_kids.count(), iterationName)\n",
    "\n",
    "image_recs_kids = coll.find({'$and': [{'dataType':'finalImage'},{'age':{\"$ne\": 'adult'}}]})\n",
    "print 'We currently have {} TOTAL images from kids in {}.'.format(image_recs_kids.count(), iterationName)\n"
   ]
  },
  {
   "cell_type": "code",
   "execution_count": 7,
   "metadata": {},
   "outputs": [
    {
     "name": "stdout",
     "output_type": "stream",
     "text": [
      "We currently have 13345 non-practice trials from kids in cdm_run_v3.\n"
     ]
    }
   ],
   "source": [
    "image_recs_kids_not_practice = coll.find({'$and': [{'dataType':'finalImage'},{'age':{\"$ne\": 'adult'}},{'category':{\"$nin\": ['square','this circle','shape']}}]})\n",
    "print 'We currently have {} non-practice trials from kids in {}.'.format(image_recs_kids_not_practice.count(), iterationName)"
   ]
  },
  {
   "cell_type": "code",
   "execution_count": 9,
   "metadata": {},
   "outputs": [
    {
     "name": "stdout",
     "output_type": "stream",
     "text": [
      "We currently have 1357 non-practice trials from adults in cdm_run_v3.\n"
     ]
    }
   ],
   "source": [
    "image_recs_adults_not_practice = coll.find({'$and': [{'dataType':'finalImage'},{'age': 'adult'},{'category':{\"$nin\": ['square','this circle','shape']}}]})\n",
    "print 'We currently have {} non-practice trials from adults in {}.'.format(image_recs_adults_not_practice.count(), iterationName)"
   ]
  },
  {
   "cell_type": "markdown",
   "metadata": {},
   "source": [
    "### Get out number of drawings per age and class"
   ]
  },
  {
   "cell_type": "code",
   "execution_count": 12,
   "metadata": {
    "collapsed": true
   },
   "outputs": [],
   "source": [
    "ages = {'age2','age3','age4','age5','age6','age7','age8','age9','age10','adult'}\n",
    "# categories_run1 = {\n",
    "# 'a boat',\n",
    "# 'a car',\n",
    "# 'a cup',\n",
    "# 'a dog',\n",
    "# 'a fish',\n",
    "# 'a house',\n",
    "# 'a person',\n",
    "# 'a tree'}\n",
    "\n",
    "# categories_run2 = {'an airplane',\n",
    "# 'a bike',\n",
    "# 'a bird',\n",
    "# 'a bowl',\n",
    "# 'a chair',\n",
    "# 'a couch',\n",
    "# 'a phone',\n",
    "# 'a rabbit'}\n",
    "\n",
    "\n",
    "categories = {\n",
    "'an airplane',\n",
    "'a bike',\n",
    "'a bird',\n",
    "'a bowl',\n",
    "'a chair',\n",
    "'a couch',\n",
    "'a phone',\n",
    "'a rabbit',\n",
    "'a boat',\n",
    "'a car',\n",
    "'a cup',\n",
    "'a dog',\n",
    "'a fish',\n",
    "'a house',\n",
    "'a person',\n",
    "'a tree'}\n",
    "\n",
    "animalgame_categories = {\n",
    "'a bird',\n",
    "'a rabbit',\n",
    "'a dog',\n",
    "'a fish'}\n"
   ]
  },
  {
   "cell_type": "code",
   "execution_count": 17,
   "metadata": {},
   "outputs": [
    {
     "name": "stdout",
     "output_type": "stream",
     "text": [
      "We have 174 drawings for age3 and a dog \n",
      "We have 121 drawings for age3 and a rabbit \n",
      "We have 113 drawings for age3 and a bird \n",
      "We have 166 drawings for age3 and a fish \n",
      "We have 137 drawings for age4 and a dog \n",
      "We have 85 drawings for age4 and a rabbit \n",
      "We have 89 drawings for age4 and a bird \n",
      "We have 129 drawings for age4 and a fish \n",
      "We have 153 drawings for age5 and a dog \n",
      "We have 89 drawings for age5 and a rabbit \n",
      "We have 84 drawings for age5 and a bird \n",
      "We have 147 drawings for age5 and a fish \n",
      "We have 89 drawings for age6 and a dog \n",
      "We have 74 drawings for age6 and a rabbit \n",
      "We have 78 drawings for age6 and a bird \n",
      "We have 94 drawings for age6 and a fish \n",
      "We have 65 drawings for age7 and a dog \n",
      "We have 47 drawings for age7 and a rabbit \n",
      "We have 51 drawings for age7 and a bird \n",
      "We have 72 drawings for age7 and a fish \n",
      "We have 71 drawings for age8 and a dog \n",
      "We have 41 drawings for age8 and a rabbit \n",
      "We have 46 drawings for age8 and a bird \n",
      "We have 63 drawings for age8 and a fish \n"
     ]
    }
   ],
   "source": [
    "## Counts by age and class -- here for animalgame\n",
    "counts=[]\n",
    "category=[]\n",
    "age=[]\n",
    "ages = ['age3','age4','age5','age6','age7','age8']\n",
    "categories = animalgame_categories\n",
    "for thisage in ages:\n",
    "    for thiscat in categories:\n",
    "        thissubset = coll.find({'$and': [{'dataType':'finalImage'},{'age':thisage},{'category':thiscat}]})\n",
    "        print 'We have {} drawings for {} and {} '.format(thissubset.count(),thisage, thiscat)\n",
    "        counts.append(thissubset.count())\n",
    "        category.append(thiscat)\n",
    "        age.append(thisage)"
   ]
  },
  {
   "cell_type": "code",
   "execution_count": 11,
   "metadata": {},
   "outputs": [
    {
     "ename": "NameError",
     "evalue": "name 'categories' is not defined",
     "output_type": "error",
     "traceback": [
      "\u001b[0;31m---------------------------------------------------------------------------\u001b[0m",
      "\u001b[0;31mNameError\u001b[0m                                 Traceback (most recent call last)",
      "\u001b[0;32m<ipython-input-11-e3d77c7f5edf>\u001b[0m in \u001b[0;36m<module>\u001b[0;34m()\u001b[0m\n\u001b[1;32m      1\u001b[0m \u001b[0;31m# Counts by class only\u001b[0m\u001b[0;34m\u001b[0m\u001b[0;34m\u001b[0m\u001b[0m\n\u001b[1;32m      2\u001b[0m \u001b[0mcat_counts\u001b[0m\u001b[0;34m=\u001b[0m\u001b[0;34m[\u001b[0m\u001b[0;34m]\u001b[0m\u001b[0;34m\u001b[0m\u001b[0m\n\u001b[0;32m----> 3\u001b[0;31m \u001b[0;32mfor\u001b[0m \u001b[0mthiscat\u001b[0m \u001b[0;32min\u001b[0m \u001b[0mcategories\u001b[0m\u001b[0;34m:\u001b[0m\u001b[0;34m\u001b[0m\u001b[0m\n\u001b[0m\u001b[1;32m      4\u001b[0m     \u001b[0mthissubset\u001b[0m \u001b[0;34m=\u001b[0m \u001b[0mcoll\u001b[0m\u001b[0;34m.\u001b[0m\u001b[0mfind\u001b[0m\u001b[0;34m(\u001b[0m\u001b[0;34m{\u001b[0m\u001b[0;34m'$and'\u001b[0m\u001b[0;34m:\u001b[0m \u001b[0;34m[\u001b[0m\u001b[0;34m{\u001b[0m\u001b[0;34m'dataType'\u001b[0m\u001b[0;34m:\u001b[0m\u001b[0;34m'finalImage'\u001b[0m\u001b[0;34m}\u001b[0m\u001b[0;34m,\u001b[0m\u001b[0;34m{\u001b[0m\u001b[0;34m'age'\u001b[0m\u001b[0;34m:\u001b[0m\u001b[0;34m{\u001b[0m\u001b[0;34m\"$ne\"\u001b[0m\u001b[0;34m:\u001b[0m \u001b[0;34m'adult'\u001b[0m\u001b[0;34m}\u001b[0m\u001b[0;34m}\u001b[0m\u001b[0;34m,\u001b[0m\u001b[0;34m{\u001b[0m\u001b[0;34m'category'\u001b[0m\u001b[0;34m:\u001b[0m\u001b[0mthiscat\u001b[0m\u001b[0;34m}\u001b[0m\u001b[0;34m]\u001b[0m\u001b[0;34m}\u001b[0m\u001b[0;34m)\u001b[0m\u001b[0;34m\u001b[0m\u001b[0m\n\u001b[1;32m      5\u001b[0m     \u001b[0mcat_counts\u001b[0m\u001b[0;34m.\u001b[0m\u001b[0mappend\u001b[0m\u001b[0;34m(\u001b[0m\u001b[0mthissubset\u001b[0m\u001b[0;34m.\u001b[0m\u001b[0mcount\u001b[0m\u001b[0;34m(\u001b[0m\u001b[0;34m)\u001b[0m\u001b[0;34m)\u001b[0m\u001b[0;34m\u001b[0m\u001b[0m\n",
      "\u001b[0;31mNameError\u001b[0m: name 'categories' is not defined"
     ]
    }
   ],
   "source": [
    "# Counts by class only\n",
    "cat_counts=[]\n",
    "for thiscat in categories:\n",
    "    thissubset = coll.find({'$and': [{'dataType':'finalImage'},{'age':{\"$ne\": 'adult'}},{'category':thiscat}]})\n",
    "    cat_counts.append(thissubset.count())"
   ]
  },
  {
   "cell_type": "code",
   "execution_count": 16,
   "metadata": {
    "collapsed": true
   },
   "outputs": [],
   "source": [
    "C = pd.DataFrame([counts,category,age])\n",
    "C = C.transpose()\n",
    "C.columns = ['counts','category','age']"
   ]
  },
  {
   "cell_type": "code",
   "execution_count": null,
   "metadata": {},
   "outputs": [],
   "source": []
  },
  {
   "cell_type": "markdown",
   "metadata": {},
   "source": [
    "### Make some basic plots"
   ]
  },
  {
   "cell_type": "code",
   "execution_count": 20,
   "metadata": {},
   "outputs": [
    {
     "data": {
      "image/png": "[encoded data removed]",
      "text/plain": [
       "<matplotlib.figure.Figure at 0x10a042b50>"
      ]
     },
     "metadata": {},
     "output_type": "display_data"
    },
    {
     "data": {
      "image/png": "[encoded data removed]",
      "text/plain": [
       "<matplotlib.figure.Figure at 0x10a18dc10>"
      ]
     },
     "metadata": {},
     "output_type": "display_data"
    }
   ],
   "source": [
    "# df.loc[df['column_name'] == some_value]\n",
    "bike = C.loc[C['category']==\"a rabbit\"]\n",
    "plt.figure(figsize=(14,4))\n",
    "plt.subplot(1,3,1)\n",
    "g=sns.barplot(data=bike,x='age',y='counts')\n",
    "for item in g.get_xticklabels():\n",
    "    item.set_rotation(45)\n",
    "    \n",
    "    \n",
    "couch = C.loc[C['category']==\"a dog\"]\n",
    "plt.figure(figsize=(14,4))\n",
    "plt.subplot(1,3,1)\n",
    "g=sns.barplot(data=couch,x='age',y='counts')\n",
    "for item in g.get_xticklabels():\n",
    "    item.set_rotation(45)"
   ]
  },
  {
   "cell_type": "markdown",
   "metadata": {},
   "source": [
    "### Render out images from museum station -- takes a *long* time."
   ]
  },
  {
   "cell_type": "code",
   "execution_count": null,
   "metadata": {
    "collapsed": true
   },
   "outputs": [],
   "source": [
    "### Notes: It won't write out an image if it already exists. \n",
    "# Every time I get through a certain set of the  images, I record the time threshold \n",
    "#(since images are written out in chronological order)\n",
    "\n",
    "## Time stamps every 100 images.\n",
    "# [1525899407923.0,\n",
    "#  1525980096385.0,\n",
    "#  1526061840113.0,\n",
    "#  1526072921014.0,\n",
    "#  1526152365279.0,\n",
    "#  1526160570739.0,\n",
    "#  1526239856392.0,\n",
    "#  1526251698552.0,\n",
    "#  1526254954475.0,\n",
    "#  1526418747635.0,\n",
    "#  1526495927262.0,\n",
    "#  1526503859627.0,\n",
    "#  1526581190700.0,\n",
    "#  1526593428928.0,\n",
    "#  1526666014298.0,\n",
    "#  1526680293892.0,\n",
    "#  1526760285554.0,\n",
    "#  1526766056162.0,\n",
    "#  1527018277044.0,\n",
    "#  1527793231321.0,\n",
    "#  1527881543709.0,\n",
    "#  1527960926822.0,\n",
    "#  1527970125532.0,\n",
    "#  1527977827733.0,\n",
    "#  1527982709894.0,\n",
    "#  1528059661642.0,\n",
    "#  1528064507404.0,\n",
    "#  1528068114827.0,\n",
    "#  1528140581078.0,\n",
    "#  1528225691857.0,\n",
    "#  1528238270169.0,\n",
    "#  1528321410290.0,\n",
    "#  1528396097251.0,\n",
    "#  1528409134891.0,\n",
    "#  1528482501089.0,\n",
    "#  1528492105365.0,\n",
    "#  1528501366255.0,\n",
    "#  1528579092501.0,\n",
    "#  1528584985113.0,\n",
    "#  1528661341497.0,\n",
    "#  1528741749248.0,\n",
    "#  1528747687974.0,\n",
    "#  1528761045959.0,\n",
    "#  1528835768499.0,\n",
    "#  1528841240592.0,\n",
    "#  1528916818096.0,\n",
    "#  1528923498102.0,\n",
    "#  1529005606993.0,\n",
    "#  1529015740138.0,\n",
    "#  1529092461367.0,\n",
    "#  1529102005265.0,\n",
    "#  1529178354515.0,\n",
    "#  1529183429730.0,\n",
    "#  1529190138056.0,\n",
    "#  1529272790915.0,\n",
    "#  1529351265769.0,\n",
    "#  1529360098520.0,\n",
    "#  1529435563121.0,\n",
    "#  1529443877705.0,\n",
    "#  1529518216924.0,\n",
    "#  1529529413026.0,\n",
    "#  1529690851878.0,\n",
    "#  1529705056613.0,\n",
    "#  1530311006680.0]\n"
   ]
  },
  {
   "cell_type": "code",
   "execution_count": 7,
   "metadata": {},
   "outputs": [
    {
     "name": "stdout",
     "output_type": "stream",
     "text": [
      "we have 3020 valid sessions before time threshold\n",
      "we have 1393 valid sessions after time threshold\n",
      "we have 8737 images after time threshold\n"
     ]
    }
   ],
   "source": [
    "# time_threshold = 1530650649659.0 ## first ~7000 images!\n",
    "time_threshold = 1533252327962.0 ## all images up until morning of Aug 3\n",
    "\n",
    "before_thres = coll.find({'time':{'$lt': time_threshold}}).distinct('sessionId') \n",
    "after_thres = coll.find({'time':{'$gt': time_threshold}}).distinct('sessionId') \n",
    "image_recs = coll.find({'$and': [{'time': {'$gt': time_threshold}}, \n",
    "                                            {'dataType':'finalImage'}]}).sort('time')    \n",
    "print('we have {} valid sessions before time threshold'.format(len(before_thres)))\n",
    "print('we have {} valid sessions after time threshold'.format(len(after_thres)))\n",
    "print('we have {} images after time threshold'.format(image_recs.count()))\n",
    "##"
   ]
  },
  {
   "cell_type": "code",
   "execution_count": 8,
   "metadata": {},
   "outputs": [
    {
     "name": "stdout",
     "output_type": "stream",
     "text": [
      "Weve skipped 100 images...\n",
      "Weve skipped 200 images...\n",
      "Weve skipped 300 images...\n",
      "Weve skipped 400 images...\n",
      "Weve skipped 500 images...\n",
      "Weve skipped 600 images...\n",
      "Weve skipped 700 images...\n",
      "Weve skipped 800 images...\n",
      "Weve skipped 900 images...\n",
      "Weve skipped 1000 images...\n",
      "Weve skipped 1100 images...\n",
      "Weve skipped 1200 images...\n",
      "Weve skipped 1300 images...\n",
      "Weve skipped 1400 images...\n",
      "Weve skipped 1500 images...\n",
      "Weve skipped 1600 images...\n",
      "Weve skipped 1700 images...\n",
      "Weve skipped 1800 images...\n",
      "Weve skipped 1900 images...\n",
      "Weve skipped 2000 images...\n",
      "Weve skipped 2100 images...\n",
      "Weve skipped 2200 images...\n",
      "Weve skipped 2300 images...\n",
      "Weve skipped 2400 images...\n",
      "Weve skipped 2500 images...\n",
      "Weve skipped 2600 images...\n",
      "Weve skipped 2700 images...\n",
      "Weve skipped 2800 images...\n",
      "Weve skipped 2900 images...\n",
      "Weve skipped 3000 images...\n",
      "Weve skipped 3100 images...\n",
      "Weve skipped 3200 images...\n",
      "Weve skipped 3300 images...\n",
      "Weve skipped 3400 images...\n",
      "Weve skipped 3500 images...\n",
      "Weve skipped 3600 images...\n",
      "Weve skipped 3700 images...\n",
      "Weve skipped 3800 images...\n",
      "Weve skipped 3900 images...\n",
      "Weve skipped 4000 images...\n",
      "Weve skipped 4100 images...\n",
      "Weve skipped 4200 images...\n",
      "Weve skipped 4300 images...\n",
      "Weve skipped 4400 images...\n",
      "Weve skipped 4500 images...\n",
      "Weve skipped 4600 images...\n",
      "Weve skipped 4700 images...\n",
      "Weve skipped 4800 images...\n",
      "Weve skipped 4900 images...\n",
      "Weve skipped 5000 images...\n",
      "Weve written 10 images...\n",
      "Weve written 20 images...\n",
      "Weve written 30 images...\n",
      "Weve written 40 images...\n",
      "Weve written 50 images...\n",
      "Weve written 60 images...\n",
      "Weve written 70 images...\n",
      "Weve written 80 images...\n",
      "Weve written 90 images...\n",
      "Weve written 100 images...\n",
      "Weve written 110 images...\n",
      "Weve written 120 images...\n",
      "Weve written 130 images...\n",
      "Weve written 140 images...\n",
      "Weve written 150 images...\n",
      "Weve written 160 images...\n",
      "Weve written 170 images...\n",
      "Weve written 180 images...\n",
      "Weve written 190 images...\n",
      "Weve written 200 images...\n",
      "Weve written 210 images...\n",
      "Weve written 220 images...\n",
      "Weve written 230 images...\n",
      "Weve written 240 images...\n",
      "Weve written 250 images...\n",
      "Weve written 260 images...\n",
      "Weve written 270 images...\n",
      "Weve written 280 images...\n",
      "Weve written 290 images...\n",
      "Weve written 300 images...\n",
      "Weve written 310 images...\n",
      "Weve written 320 images...\n",
      "Weve written 330 images...\n",
      "Weve written 340 images...\n",
      "Weve written 350 images...\n",
      "Weve written 360 images...\n",
      "Weve written 370 images...\n",
      "Weve written 380 images...\n",
      "Weve written 390 images...\n",
      "Weve written 400 images...\n",
      "Weve written 410 images...\n",
      "Weve written 420 images...\n",
      "Weve written 430 images...\n",
      "Weve written 440 images...\n",
      "Weve written 450 images...\n",
      "Weve written 460 images...\n",
      "Weve written 470 images...\n",
      "Weve written 480 images...\n",
      "Weve written 490 images...\n",
      "Weve written 500 images...\n",
      "Weve written 510 images...\n",
      "Weve written 520 images...\n",
      "Weve written 530 images...\n",
      "Weve written 540 images...\n",
      "Weve written 550 images...\n",
      "Weve written 560 images...\n",
      "Weve written 570 images...\n",
      "Weve written 580 images...\n",
      "Weve written 590 images...\n",
      "Weve written 600 images...\n",
      "Weve written 610 images...\n",
      "Weve written 620 images...\n",
      "Weve written 630 images...\n",
      "Weve written 640 images...\n",
      "Weve written 650 images...\n",
      "Weve written 660 images...\n",
      "Weve written 670 images...\n",
      "Weve written 680 images...\n",
      "Weve written 690 images...\n",
      "Weve written 700 images...\n",
      "Weve written 710 images...\n",
      "Weve written 720 images...\n",
      "Weve written 730 images...\n",
      "Weve written 740 images...\n",
      "Weve written 750 images...\n",
      "Weve written 760 images...\n",
      "Weve written 770 images...\n",
      "Weve written 780 images...\n",
      "Weve written 790 images...\n",
      "Weve written 800 images...\n",
      "Weve written 810 images...\n",
      "Weve written 820 images...\n",
      "Weve written 830 images...\n",
      "Weve written 840 images...\n",
      "Weve written 850 images...\n",
      "Weve written 860 images...\n",
      "Weve written 870 images...\n",
      "Weve written 880 images...\n",
      "Weve written 890 images...\n",
      "Weve written 900 images...\n",
      "Weve written 910 images...\n",
      "Weve written 920 images...\n",
      "Weve written 930 images...\n",
      "Weve written 940 images...\n",
      "Weve written 950 images...\n",
      "Weve written 960 images...\n",
      "Weve written 970 images...\n",
      "Weve written 980 images...\n",
      "Weve written 990 images...\n",
      "Weve written 1000 images...\n",
      "Weve written 1010 images...\n",
      "Weve written 1020 images...\n",
      "Weve written 1030 images...\n",
      "Weve written 1040 images...\n",
      "Weve written 1050 images...\n",
      "Weve written 1060 images...\n",
      "Weve written 1070 images...\n",
      "Weve written 1080 images...\n",
      "Weve written 1090 images...\n",
      "Weve written 1100 images...\n",
      "Weve written 1110 images...\n",
      "Weve written 1120 images...\n",
      "Weve written 1130 images...\n",
      "Weve written 1140 images...\n",
      "Weve written 1150 images...\n",
      "Weve written 1160 images...\n",
      "Weve written 1170 images...\n",
      "Weve written 1180 images...\n",
      "Weve written 1190 images...\n",
      "Weve written 1200 images...\n",
      "Weve written 1210 images...\n",
      "Weve written 1220 images...\n",
      "Weve written 1230 images...\n",
      "Weve written 1240 images...\n",
      "Weve written 1250 images...\n",
      "Weve written 1260 images...\n",
      "Weve written 1270 images...\n",
      "Weve written 1280 images...\n",
      "Weve written 1290 images...\n",
      "Weve written 1300 images...\n",
      "Weve written 1310 images...\n",
      "Weve written 1320 images...\n",
      "Weve written 1330 images...\n",
      "Weve written 1340 images...\n",
      "Weve written 1350 images...\n",
      "Weve written 1360 images...\n",
      "Weve written 1370 images...\n",
      "Weve written 1380 images...\n",
      "Weve written 1390 images...\n",
      "Weve written 1400 images...\n",
      "Weve written 1410 images...\n",
      "Weve written 1420 images...\n",
      "Weve written 1430 images...\n",
      "Weve written 1440 images...\n",
      "Weve written 1450 images...\n",
      "Weve written 1460 images...\n",
      "Weve written 1470 images...\n",
      "Weve written 1480 images...\n",
      "Weve written 1490 images...\n",
      "Weve written 1500 images...\n",
      "Weve written 1510 images...\n",
      "Weve written 1520 images...\n",
      "Weve written 1530 images...\n",
      "Weve written 1540 images...\n",
      "Weve written 1550 images...\n",
      "Weve written 1560 images...\n",
      "Weve written 1570 images...\n",
      "Weve written 1580 images...\n",
      "Weve written 1590 images...\n",
      "Weve written 1600 images...\n",
      "Weve written 1610 images...\n",
      "Weve written 1620 images...\n",
      "Weve written 1630 images...\n",
      "Weve written 1640 images...\n",
      "Weve written 1650 images...\n",
      "Weve written 1660 images...\n",
      "Weve written 1670 images...\n",
      "Weve written 1680 images...\n",
      "Weve written 1690 images...\n",
      "Weve written 1700 images...\n",
      "Weve written 1710 images...\n",
      "Weve written 1720 images...\n",
      "Weve written 1730 images...\n",
      "Weve written 1740 images...\n",
      "Weve written 1750 images...\n",
      "Weve written 1760 images...\n"
     ]
    }
   ],
   "source": [
    "really_run_this=1\n",
    "skipCount = 0;\n",
    "writeImageCount = 0;\n",
    "timeSave = []\n",
    "valid_sessions = after_thres;\n",
    "\n",
    "if really_run_this:\n",
    "    imsize = 224 ## img writing size, optimized for CNN\n",
    "    for s in valid_sessions:\n",
    "        this_collection = coll\n",
    "        image_recs = this_collection.find({'$and': [{'sessionId':s}, {'dataType':'finalImage'}]}).sort('time')    \n",
    "#         print('In the {} session we have {} images'.format(s,image_recs.count()))\n",
    "        if image_recs.count()>3:\n",
    "            for imrec in image_recs:                                                            \n",
    "                category_dir = os.path.join(sketch_dir,imrec['category'])\n",
    "                if not os.path.exists(category_dir):\n",
    "                    os.makedirs(category_dir)\n",
    "                fname = os.path.join(category_dir,'{}_sketch_{}_{}.png'.format(imrec['category'], imrec['age'],imrec['sessionId']))\n",
    "                if os.path.isfile(fname):\n",
    "                    ## skip this image!\n",
    "                    skipCount = skipCount + 1;\n",
    "                    if np.mod(skipCount,100)==0:\n",
    "                        print('Weve skipped {} images...'.format(skipCount))\n",
    "                        timeSave.append(imrec['time']) # we're writing out in order of time, so we can save these thresholds to be more efficeint later\n",
    "                else:\n",
    "                    stroke_recs = this_collection.find({'$and': [{'sessionId':s}, \n",
    "                                      {'dataType':'stroke'},\n",
    "                                      {'trialNum': imrec['trialNum']}]}).sort('time')   \n",
    "                    if stroke_recs.count() > 0 and imrec['age']!='adult':\n",
    "                        imgData = imrec['imgData'];\n",
    "                        writeImageCount = writeImageCount+1\n",
    "                        with open(fname, \"wb\") as fh:\n",
    "                            fh.write(imgData.decode('base64'))   \n",
    "                        if np.mod(writeImageCount,10)==0:\n",
    "                            print('Weve written {} images...'.format(writeImageCount))\n",
    "                            timeSave.append(imrec['time'])"
   ]
  },
  {
   "cell_type": "code",
   "execution_count": 10,
   "metadata": {},
   "outputs": [
    {
     "data": {
      "text/plain": [
       "1536096511143.0"
      ]
     },
     "execution_count": 10,
     "metadata": {},
     "output_type": "execute_result"
    }
   ],
   "source": [
    "timeSave[-1]\n",
    "#  1536096511143.0"
   ]
  },
  {
   "cell_type": "code",
   "execution_count": null,
   "metadata": {
    "collapsed": true
   },
   "outputs": [],
   "source": []
  },
  {
   "cell_type": "markdown",
   "metadata": {
    "collapsed": true
   },
   "source": [
    "### Writes out images and gets other kinds of info..."
   ]
  },
  {
   "cell_type": "code",
   "execution_count": 2,
   "metadata": {
    "collapsed": true
   },
   "outputs": [],
   "source": [
    "# really_run_this =  0\n",
    "# if really_run_this:\n",
    "#     ## img writing parameters\n",
    "#     imsize = 224\n",
    "    \n",
    "#     ## desired output: a dataframe that has trials on the rows, and the following columns:\n",
    "#     ## category, age, number of strokes, mean_pixel_intensity, bounding_box_coordinates_LTRB, list of strokes, \n",
    "#     ## PNG string, submission_time, submission_date\n",
    "#     ## to be saved out as a nice tidy CSV\n",
    "#     session_id = []\n",
    "#     trial_num = []\n",
    "#     category = []\n",
    "#     age = []\n",
    "#     num_strokes = []\n",
    "#     mean_pixel_intensity = []\n",
    "#     bounding_box_coords = []\n",
    "#     svg = []\n",
    "#     svg_times = []\n",
    "#     png = []\n",
    "#     submit_time = []\n",
    "#     submit_date = []\n",
    "#     submit_date_readable = []\n",
    "#     draw_duration = []\n",
    "#     filename = []\n",
    "#     for s in valid_sessions:\n",
    "#         this_collection = coll\n",
    "#         image_recs = this_collection.find({'$and': [{'time': {'$gt': time_threshold}}, {'sessionId':s}, {'dataType':'finalImage'}]}).sort('time')    \n",
    "#         for imrec in image_recs:                                                            \n",
    "#                 stroke_recs = this_collection.find({'$and': [{'time': {'$gt': time_threshold}}, \n",
    "#                                                   {'sessionId':s}, \n",
    "#                                                   {'dataType':'stroke'},\n",
    "#                                                   {'trialNum': imrec['trialNum']}]}).sort('time')   \n",
    "\n",
    "#                 if 'age' in imrec.keys():\n",
    "#                     if imrec['age'] != 'adult':\n",
    "                        \n",
    "#                         os.path.isfile(path)\n",
    "                        \n",
    "#                         if stroke_recs.count() > 0: ## only include trials if the drawings are not blank   \n",
    "                            \n",
    "                           \n",
    "                            \n",
    "#                             session_id.append(imrec['sessionId'])        \n",
    "#                             trial_num.append(imrec['trialNum']) \n",
    "#                             category.append(imrec['category'])\n",
    "#                             age.append(imrec['age'])\n",
    "                            \n",
    "#                             png.append(imrec['imgData'])\n",
    "#                             submit_time.append(imrec['time'])\n",
    "#                             readadble_date = datetime.datetime.fromtimestamp(imrec['time']/1000.0).strftime('%Y-%m-%d %H:%M:%S.%f')\n",
    "#                             submit_date_readable.append(readadble_date)\n",
    "                        \n",
    "#                             submit_date.append(imrec['date'])\n",
    "#                             filename.append(os.path.join(sketch_dir,'{}_sketch_{}_{}.png'.format(imrec['category'], imrec['age'],imrec['sessionId'])))\n",
    "#                             num_strokes.append(stroke_recs.count())\n",
    "#                             _svg = [] # this keeps track of the strokes from THIS final image\n",
    "#                             _svg_times = []\n",
    "#                             for strec in stroke_recs:\n",
    "#                                 _svg.append(strec['svg'])\n",
    "#                                 _svg_times.append(strec['time'])\n",
    "#                             draw_duration.append((_svg_times[-1] - _svg_times[0])/1000) ## in seconds\n",
    "#                             svg.append(_svg)\n",
    "#                             svg_times.append(_svg_times)\n",
    "\n",
    "#                             ## and write out image data here too\n",
    "#                             imgData = imrec['imgData'];\n",
    "#                             filestr = base64.b64decode(imgData)\n",
    "#                             category_dir = os.path.join(sketch_dir,imrec['category'])\n",
    "#                             if not os.path.exists(category_dir):\n",
    "#                                 os.makedirs(category_dir)\n",
    "#                             fname = os.path.join(category_dir,'{}_sketch_{}_{}.png'.format(imrec['category'], imrec['age'],imrec['sessionId']))\n",
    "#                             with open(fname, \"wb\") as fh:\n",
    "#                                 fh.write(imgData.decode('base64'))  \n",
    "                        "
   ]
  },
  {
   "cell_type": "code",
   "execution_count": 61,
   "metadata": {
    "collapsed": true
   },
   "outputs": [],
   "source": [
    "# really_run_this = 1\n",
    "# if really_run_this:\n",
    "#     ## img writing parameters\n",
    "#     imsize = 224\n",
    "    \n",
    "#     ## desired output: a dataframe that has trials on the rows, and the following columns:\n",
    "#     ## category, age, number of strokes, mean_pixel_intensity, bounding_box_coordinates_LTRB, list of strokes, \n",
    "#     ## PNG string, submission_time, submission_date\n",
    "#     ## to be saved out as a nice tidy CSV\n",
    "#     session_id = []\n",
    "#     trial_num = []\n",
    "#     category = []\n",
    "#     age = []\n",
    "#     num_strokes = []\n",
    "#     mean_pixel_intensity = []\n",
    "#     bounding_box_coords = []\n",
    "#     svg = []\n",
    "#     svg_times = []\n",
    "#     png = []\n",
    "#     submit_time = []\n",
    "#     submit_date = []\n",
    "#     submit_date_readable = []\n",
    "#     draw_duration = []\n",
    "#     filename = []\n",
    "    \n",
    "#     for cat in ['a boat','a car','a cup','a dog','a fish','a house','a person','a tree']:\n",
    "#         imgcount = 0\n",
    "#         this_collection = coll\n",
    "#         image_recs = this_collection.find({'$and': [{'time': {'$gt': time_threshold}}, {'category':cat},{'dataType':'finalImage'}]}).sort('time')   \n",
    "#         for imrec in image_recs:  \n",
    "#                 if imgcount < 100:\n",
    "#                     stroke_recs = this_collection.find({'$and': [{'time': {'$gt': time_threshold}}, \n",
    "#                                                       {'sessionId':imrec['sessionId']}, \n",
    "#                                                       {'dataType':'stroke'},\n",
    "#                                                       {'trialNum': imrec['trialNum']}]}).sort('time')   \n",
    "\n",
    "#                     if 'age' in imrec.keys():\n",
    "#                         if imrec['age'] != 'adult':\n",
    "#                             if stroke_recs.count() > 0: ## only include trials if the drawings are not blank    \n",
    "#                                 imgcount += 1\n",
    "#                                 session_id.append(imrec['sessionId'])        \n",
    "#                                 trial_num.append(imrec['trialNum']) \n",
    "#                                 category.append(imrec['category'])\n",
    "#                                 age.append(imrec['age'])\n",
    "\n",
    "#                                 png.append(imrec['imgData'])\n",
    "#                                 submit_time.append(imrec['time'])\n",
    "#                                 readadble_date = datetime.datetime.fromtimestamp(imrec['time']/1000.0).strftime('%Y-%m-%d %H:%M:%S.%f')\n",
    "#                                 submit_date_readable.append(readadble_date)\n",
    "\n",
    "#                                 submit_date.append(imrec['date'])\n",
    "#                                 filename.append(os.path.join(sketch_dir,'{}_{}.png'.format(imrec['category'], imgcount)))\n",
    "#                                 num_strokes.append(stroke_recs.count())\n",
    "#                                 _svg = [] # this keeps track of the strokes from THIS final image\n",
    "#                                 _svg_times = []\n",
    "#                                 for strec in stroke_recs:\n",
    "#                                     _svg.append(strec['svg'])\n",
    "#                                     _svg_times.append(strec['time'])\n",
    "#                                 draw_duration.append((_svg_times[-1] - _svg_times[0])/1000) ## in seconds\n",
    "#                                 svg.append(_svg)\n",
    "#                                 svg_times.append(_svg_times)\n",
    "\n",
    "#                                 ## and write out image data here too\n",
    "#                                 imgData = imrec['imgData'];\n",
    "#                                 filestr = base64.b64decode(imgData)\n",
    "#                                 category_dir = os.path.join(sketch_dir,imrec['category'])\n",
    "#                                 if not os.path.exists(category_dir):\n",
    "#                                     os.makedirs(category_dir)\n",
    "#                                 fname = os.path.join(category_dir,'{}_{}.png'.format(imrec['category'],imgcount))\n",
    "#                                 with open(fname, \"wb\") as fh:\n",
    "#                                     fh.write(imgData.decode('base64'))  \n"
   ]
  },
  {
   "cell_type": "code",
   "execution_count": null,
   "metadata": {
    "collapsed": true
   },
   "outputs": [],
   "source": [
    "# submit_date_readable[-100]"
   ]
  },
  {
   "cell_type": "code",
   "execution_count": 62,
   "metadata": {
    "collapsed": true
   },
   "outputs": [],
   "source": [
    "# if really_run_this:\n",
    "#     X = pd.DataFrame([category,age,num_strokes,filename])\n",
    "#     X = X.transpose()\n",
    "#     X.columns = ['category','age','num_strokes', 'filename']\n",
    "#     X.to_csv(\"scribble_annotate.csv\")"
   ]
  },
  {
   "cell_type": "code",
   "execution_count": null,
   "metadata": {
    "collapsed": true
   },
   "outputs": [],
   "source": [
    "# if really_run_this:\n",
    "#     X_out = pd.DataFrame([session_id,trial_num,category,age,submit_time,submit_date,num_strokes,draw_duration,filename])\n",
    "#     X_out = X_out.transpose()\n",
    "#     X_out.columns = ['session_id','trial_num','category','age','submit_time','submit_date','num_strokes','draw_duration', 'filename']\n",
    "\n",
    "#     X_out.to_csv('May31th_usage.csv')"
   ]
  },
  {
   "cell_type": "code",
   "execution_count": null,
   "metadata": {
    "collapsed": true
   },
   "outputs": [],
   "source": [
    "# def get_bounding_box(img):\n",
    "#     rows = np.any(img, axis=1)\n",
    "#     cols = np.any(img, axis=0)\n",
    "#     rmin, rmax = np.where(rows)[0][[0, -1]]\n",
    "#     cmin, cmax = np.where(cols)[0][[0, -1]]\n",
    "#     return rmin, rmax, cmin, cmax\n",
    "\n",
    "# merged_experiment_name = 'E1cd'\n",
    "\n",
    "# if really_run_this:\n",
    "\n",
    "#     ## add mean pixel intensity (amount of ink spilled) & bounding box coords \n",
    "#     mean_intensity = []\n",
    "#     bounding_box = []\n",
    "#     imsize = 100\n",
    "#     numpix = imsize**2\n",
    "#     thresh = 250\n",
    "#     for i,_d in X.iterrows():\n",
    "#         imgData = _d['png']\n",
    "#         filestr = base64.b64decode(imgData)\n",
    "#         fname = os.path.join('sketch.png')\n",
    "#         with open(fname, \"wb\") as fh:\n",
    "#             fh.write(imgData.decode('base64'))\n",
    "#         im = Image.open(fname).resize((imsize,imsize))\n",
    "#         _im = np.array(im)\n",
    "#         mean_intensity.append(len(np.where(_im[:,:,3].flatten()>thresh)[0])/numpix)\n",
    "#         # bounding box part\n",
    "#         rmin, rmax, cmin, cmax = get_bounding_box(np.array(Image.open(fname)))\n",
    "#         bounding_box.append(tuple((rmin, rmax, cmin, cmax)))\n",
    "\n",
    "#     ## add to dataframe    \n",
    "#     X = X.assign(mean_intensity=pd.Series(mean_intensity).values)\n",
    "#     X = X.assign(bounding_box=pd.Series(bounding_box).values)\n",
    "    \n",
    "#     # save out csv\n",
    "#     if not os.path.exists('../preprocessed_data'):\n",
    "#         os.makedirs('../preprocessed_data')\n",
    "#     X.to_csv('../preprocessed_data/museumdraw_{}_data.csv'.format(merged_experiment_name))\n"
   ]
  },
  {
   "cell_type": "code",
   "execution_count": null,
   "metadata": {
    "collapsed": true
   },
   "outputs": [],
   "source": []
  },
  {
   "cell_type": "markdown",
   "metadata": {},
   "source": [
    "### load drawing metadata csv back in"
   ]
  },
  {
   "cell_type": "code",
   "execution_count": null,
   "metadata": {
    "collapsed": true
   },
   "outputs": [],
   "source": [
    "plt.hist(X.age,normed=False)\n",
    "plt.xticks(rotation=90)\n",
    "len(X.age)\n",
    "sum(X.age != 'adult')"
   ]
  },
  {
   "cell_type": "markdown",
   "metadata": {},
   "source": [
    "### Basic visualizations"
   ]
  },
  {
   "cell_type": "code",
   "execution_count": null,
   "metadata": {
    "collapsed": true
   },
   "outputs": [],
   "source": [
    "np.sum(X.draw_duration.values>25)"
   ]
  },
  {
   "cell_type": "code",
   "execution_count": null,
   "metadata": {
    "collapsed": true
   },
   "outputs": [],
   "source": [
    "fig = plt.figure(figsize=(4,4))\n",
    "h = plt.hist(X.num_strokes.values,normed=True)\n",
    "plt.ylabel('proportion')\n",
    "plt.xlabel('number of strokes')"
   ]
  },
  {
   "cell_type": "code",
   "execution_count": null,
   "metadata": {
    "collapsed": true
   },
   "outputs": [],
   "source": [
    "fig = plt.figure(figsize=(4,4))\n",
    "h = plt.hist(X.draw_duration.values,normed=True)\n",
    "plt.ylabel('proportion')\n",
    "plt.xlabel('draw duration')"
   ]
  },
  {
   "cell_type": "code",
   "execution_count": null,
   "metadata": {
    "collapsed": true
   },
   "outputs": [],
   "source": [
    "plt.figure(figsize=(14,4))\n",
    "\n",
    "plt.subplot(1,3,1)\n",
    "seq = np.arange(4,10)\n",
    "sns.barplot(data=X,x='age',y='num_strokes',order=seq,palette=\"Greens_d\")\n",
    "plt.ylabel('number of strokes')\n",
    "\n",
    "plt.subplot(1,3,2)\n",
    "seq = np.arange(4,10)\n",
    "\n",
    "sns.barplot(data=X,x='age',y='draw_duration',order=seq, palette=\"Greens_d\")\n",
    "plt.ylabel('draw duration (s)')\n",
    "\n",
    "# plt.subplot(1,3,3)\n",
    "# seq = np.arange(4,10)\n",
    "# sns.barplot(data=X,x='age',y='mean_intensity',order=seq,palette=\"Greens_d\")\n",
    "# plt.ylabel('mean pixel intensity')\n",
    "\n",
    "plt.tight_layout()"
   ]
  },
  {
   "cell_type": "code",
   "execution_count": null,
   "metadata": {
    "collapsed": true
   },
   "outputs": [],
   "source": []
  },
  {
   "cell_type": "code",
   "execution_count": null,
   "metadata": {
    "collapsed": true
   },
   "outputs": [],
   "source": [
    "unique = X.drop_duplicates([\"session_id\"])\n",
    "unique.count()\n",
    "# sum(unique.age != 'adult')\n",
    "sum(unique.age != 'adult')"
   ]
  },
  {
   "cell_type": "code",
   "execution_count": null,
   "metadata": {
    "collapsed": true
   },
   "outputs": [],
   "source": []
  },
  {
   "cell_type": "code",
   "execution_count": null,
   "metadata": {
    "collapsed": true
   },
   "outputs": [],
   "source": []
  },
  {
   "cell_type": "code",
   "execution_count": null,
   "metadata": {},
   "outputs": [],
   "source": []
  },
  {
   "cell_type": "code",
   "execution_count": null,
   "metadata": {
    "collapsed": true
   },
   "outputs": [],
   "source": []
  },
  {
   "cell_type": "code",
   "execution_count": null,
   "metadata": {
    "collapsed": true
   },
   "outputs": [],
   "source": []
  },
  {
   "cell_type": "code",
   "execution_count": null,
   "metadata": {
    "collapsed": true
   },
   "outputs": [],
   "source": []
  },
  {
   "cell_type": "code",
   "execution_count": null,
   "metadata": {
    "collapsed": true
   },
   "outputs": [],
   "source": []
  },
  {
   "cell_type": "code",
   "execution_count": null,
   "metadata": {
    "collapsed": true
   },
   "outputs": [],
   "source": []
  },
  {
   "cell_type": "code",
   "execution_count": null,
   "metadata": {
    "collapsed": true
   },
   "outputs": [],
   "source": []
  }
 ],
 "metadata": {
  "kernelspec": {
   "display_name": "Python 2",
   "language": "python",
   "name": "python2"
  },
  "language_info": {
   "codemirror_mode": {
    "name": "ipython",
    "version": 2
   },
   "file_extension": ".py",
   "mimetype": "text/x-python",
   "name": "python",
   "nbconvert_exporter": "python",
   "pygments_lexer": "ipython2",
   "version": "2.7.14"
  }
 },
 "nbformat": 4,
 "nbformat_minor": 1
}
