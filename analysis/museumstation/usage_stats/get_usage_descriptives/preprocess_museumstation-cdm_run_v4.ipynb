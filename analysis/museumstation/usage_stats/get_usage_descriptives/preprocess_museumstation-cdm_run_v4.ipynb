{
 "cells": [
  {
   "cell_type": "code",
   "execution_count": 3,
   "metadata": {
    "collapsed": true
   },
   "outputs": [],
   "source": [
    "## remember to run conn_cocolab from the terminal before running cells in this notebook!\n",
    "\n",
    "import os\n",
    "import urllib, cStringIO\n",
    "import pymongo as pm\n",
    "\n",
    "import matplotlib\n",
    "from matplotlib import pylab, mlab, pyplot\n",
    "%matplotlib inline\n",
    "from IPython.core.pylabtools import figsize, getfigs\n",
    "plt = pyplot\n",
    "import seaborn as sns\n",
    "sns.set_context('poster')\n",
    "sns.set_style('white')\n",
    "\n",
    "import numpy as np\n",
    "from __future__ import division\n",
    "import scipy.stats as stats\n",
    "import pandas as pd\n",
    "import json\n",
    "import re\n",
    "\n",
    "from PIL import Image\n",
    "import base64\n",
    "import datetime"
   ]
  },
  {
   "cell_type": "markdown",
   "metadata": {},
   "source": [
    "### file hierarchy and database connection vars"
   ]
  },
  {
   "cell_type": "code",
   "execution_count": 4,
   "metadata": {
    "collapsed": true
   },
   "outputs": [],
   "source": [
    "# set vars \n",
    "auth = pd.read_csv('../auth.txt', header = None) # this auth.txt file contains the password for the sketchloop user\n",
    "pswd = auth.values[0][0]\n",
    "user = 'sketchloop'\n",
    "host = 'rxdhawkins.me' ## cocolab ip address\n",
    "\n",
    "# have to fix this to be able to analyze from local\n",
    "import pymongo as pm\n",
    "conn = pm.MongoClient('mongodb://sketchloop:' + pswd + '@127.0.0.1')\n",
    "db = conn['kiddraw']\n",
    "coll = db['cdm_run_v4']"
   ]
  },
  {
   "cell_type": "markdown",
   "metadata": {},
   "source": [
    "### Preprocessing data and rendering images"
   ]
  },
  {
   "cell_type": "markdown",
   "metadata": {},
   "source": [
    "Notes:\n",
    "There are two types of records in the database: 'stroke' and 'finalImage'. This is stored under the key: 'dataType'.\n",
    "The 'stroke'-type of record contains the svg string information. Every stroke event is stored as a separate record.\n",
    "The session identifier is called \"sessionId\".\n",
    "\n",
    "\n"
   ]
  },
  {
   "cell_type": "code",
   "execution_count": 5,
   "metadata": {},
   "outputs": [
    {
     "name": "stdout",
     "output_type": "stream",
     "text": [
      "We currently have 1254 valid sessions from cdm_run_v4.\n",
      "We currently have 8537 total drawings from cdm_run_v4.\n",
      "The last drawing was made at 2018-11-12T23:16:00.927Z.\n"
     ]
    }
   ],
   "source": [
    "iterationName = 'cdm_run_v4'\n",
    "all_sessions = coll.distinct('sessionId') ## this returns ALL sessions in this collection. we will then filter on time_threshold\n",
    "image_recs_all = coll.find({'$and': [{'dataType':'finalImage'}]})\n",
    "numImages = image_recs_all.count()\n",
    "lastImage = image_recs_all[numImages - 1]\n",
    "lastestDate = lastImage['date']\n",
    "\n",
    "print 'We currently have {} valid sessions from {}.'.format(len(all_sessions), iterationName)\n",
    "print 'We currently have {} total drawings from {}.'.format(numImages, iterationName)\n",
    "print 'The last drawing was made at {}.'.format(lastestDate)"
   ]
  },
  {
   "cell_type": "code",
   "execution_count": 6,
   "metadata": {},
   "outputs": [
    {
     "name": "stdout",
     "output_type": "stream",
     "text": [
      "We currently have 1254 valid sessions from cdm_run_v4.\n",
      "We currently have 8537 total drawings from cdm_run_v4.\n",
      "The last drawing was made at 2018-11-12T23:16:00.927Z.\n"
     ]
    }
   ],
   "source": [
    "experiment_name = 'testing'\n",
    "iterationName = 'cdm_run_v4'\n",
    "all_sessions = coll.distinct('sessionId') ## this returns ALL sessions in this collection. we will then filter on time_threshold\n",
    "valid_sessions = coll.find().distinct('sessionId')\n",
    "image_recs_all = coll.find({'$and': [{'dataType':'finalImage'}]})\n",
    "numImages = image_recs_all.count()\n",
    "lastImage = image_recs_all[numImages - 1]\n",
    "lastestDate = lastImage['date']\n",
    "\n",
    "print 'We currently have {} valid sessions from {}.'.format(len(valid_sessions), iterationName)\n",
    "print 'We currently have {} total drawings from {}.'.format(numImages, iterationName)\n",
    "print 'The last drawing was made at {}.'.format(lastestDate)"
   ]
  },
  {
   "cell_type": "code",
   "execution_count": 28,
   "metadata": {},
   "outputs": [
    {
     "name": "stdout",
     "output_type": "stream",
     "text": [
      "We currently have 4412 valid sessions from cdm_run_v3.\n",
      "We currently have 25160 total drawings from cdm_run_v3.\n",
      "The last drawing was made at 2018-09-04T21:33:25.905Z.\n"
     ]
    }
   ],
   "source": [
    "coll = db['cdm_run_v3']\n",
    "iterationName = 'cdm_run_v3'\n",
    "all_sessions = coll.distinct('sessionId') ## this returns ALL sessions in this collection. we will then filter on time_threshold\n",
    "image_recs_all = coll.find({'$and': [{'dataType':'finalImage'}]})\n",
    "numImages = image_recs_all.count()\n",
    "lastImage = image_recs_all[numImages - 1]\n",
    "lastestDate = lastImage['date']\n",
    "\n",
    "print 'We currently have {} valid sessions from {}.'.format(len(all_sessions), iterationName)\n",
    "print 'We currently have {} total drawings from {}.'.format(numImages, iterationName)\n",
    "print 'The last drawing was made at {}.'.format(lastestDate)"
   ]
  },
  {
   "cell_type": "code",
   "execution_count": null,
   "metadata": {
    "collapsed": true
   },
   "outputs": [],
   "source": []
  },
  {
   "cell_type": "markdown",
   "metadata": {},
   "source": [
    "### How many of these drawings are from kids and not on practice trials?"
   ]
  },
  {
   "cell_type": "code",
   "execution_count": 6,
   "metadata": {},
   "outputs": [
    {
     "name": "stdout",
     "output_type": "stream",
     "text": [
      "We currently have 1158 square images from kids in cdm_run_v4.\n",
      "We currently have 959 shape images from kids in cdm_run_v4.\n",
      "We currently have 855 circle images from kids in cdm_run_v4.\n",
      "We currently have 7836 TOTAL images from kids in cdm_run_v4.\n"
     ]
    }
   ],
   "source": [
    "image_recs_kids = coll.find({'$and': [{'dataType':'finalImage'},{'age':{\"$ne\": 'adult'}},{'category':'square'}]})\n",
    "print 'We currently have {} square images from kids in {}.'.format(image_recs_kids.count(), iterationName)\n",
    "\n",
    "image_recs_kids = coll.find({'$and': [{'dataType':'finalImage'},{'age':{\"$ne\": 'adult'}},{'category':'shape'}]})\n",
    "print 'We currently have {} shape images from kids in {}.'.format(image_recs_kids.count(), iterationName)\n",
    "\n",
    "image_recs_kids = coll.find({'$and': [{'dataType':'finalImage'},{'age':{\"$ne\": 'adult'}},{'category':'this square'}]})\n",
    "print 'We currently have {} circle images from kids in {}.'.format(image_recs_kids.count(), iterationName)\n",
    "\n",
    "image_recs_kids = coll.find({'$and': [{'dataType':'finalImage'},{'age':{\"$ne\": 'adult'}}]})\n",
    "print 'We currently have {} TOTAL images from kids in {}.'.format(image_recs_kids.count(), iterationName)\n"
   ]
  },
  {
   "cell_type": "code",
   "execution_count": 7,
   "metadata": {},
   "outputs": [
    {
     "name": "stdout",
     "output_type": "stream",
     "text": [
      "We currently have 5842 non-practice trials from kids in cdm_run_v4.\n"
     ]
    }
   ],
   "source": [
    "image_recs_kids_not_practice = coll.find({'$and': [{'dataType':'finalImage'},{'age':{\"$ne\": 'adult'}},{'category':{\"$nin\": ['square','this circle','shape']}}]})\n",
    "print 'We currently have {} non-practice trials from kids in {}.'.format(image_recs_kids_not_practice.count(), iterationName)"
   ]
  },
  {
   "cell_type": "code",
   "execution_count": 8,
   "metadata": {},
   "outputs": [
    {
     "name": "stdout",
     "output_type": "stream",
     "text": [
      "We currently have 408 non-practice trials from adults in cdm_run_v4.\n"
     ]
    }
   ],
   "source": [
    "image_recs_adults_not_practice = coll.find({'$and': [{'dataType':'finalImage'},{'age': 'adult'},{'category':{\"$nin\": ['square','this circle','shape']}}]})\n",
    "print 'We currently have {} non-practice trials from adults in {}.'.format(image_recs_adults_not_practice.count(), iterationName)"
   ]
  },
  {
   "cell_type": "markdown",
   "metadata": {},
   "source": [
    "### Get out number of drawings per age and class"
   ]
  },
  {
   "cell_type": "code",
   "execution_count": 9,
   "metadata": {
    "collapsed": true
   },
   "outputs": [],
   "source": [
    "ages = {'age2','age3','age4','age5','age6','age7','age8','age9','age10'}\n",
    "categories_run3 = {'a bear','a cat','a frog','a sheep','a key','a phone','a scissors','a train'}"
   ]
  },
  {
   "cell_type": "code",
   "execution_count": 22,
   "metadata": {
    "collapsed": true
   },
   "outputs": [],
   "source": [
    "# categories_run1 = {\n",
    "# 'a boat',\n",
    "# 'a car',\n",
    "# 'a cup',\n",
    "# 'a dog',\n",
    "# 'a fish',\n",
    "# 'a house',\n",
    "# 'a person',\n",
    "# 'a tree'}\n",
    "\n",
    "# categories_run2 = {'an airplane',\n",
    "# 'a bike',\n",
    "# 'a bird',\n",
    "# 'a bowl',\n",
    "# 'a chair',\n",
    "# 'a couch',\n",
    "# 'a phone',\n",
    "# 'a rabbit'}\n",
    "\n",
    "# categories = {\n",
    "# 'an airplane',\n",
    "# 'a bike',\n",
    "# 'a bird',\n",
    "# 'a bowl',\n",
    "# 'a chair',\n",
    "# 'a couch',\n",
    "# 'a phone',\n",
    "# 'a rabbit',\n",
    "# 'a boat',\n",
    "# 'a car',\n",
    "# 'a cup',\n",
    "# 'a dog',\n",
    "# 'a fish',\n",
    "# 'a house',\n",
    "# 'a person',\n",
    "# 'a tree'}\n"
   ]
  },
  {
   "cell_type": "code",
   "execution_count": null,
   "metadata": {
    "collapsed": true
   },
   "outputs": [],
   "source": [
    "## Counts by age and clas\n",
    "counts=[]\n",
    "category=[]\n",
    "age=[]\n",
    "categories = categories_run3\n",
    "\n",
    "for thiscat in categories:\n",
    "    for thisage in ages:\n",
    "        thissubset = coll.find({'$and': [{'dataType':'finalImage'},{'age':thisage},{'category':thiscat}]})\n",
    "#         print 'We have {} drawings for {} and {} '.format(thissubset.count(),thisage, thiscat)\n",
    "        counts.append(thissubset.count())\n",
    "        category.append(thiscat)\n",
    "        age.append(thisage)\n",
    "        \n",
    "C = pd.DataFrame([counts,category,age])\n",
    "C = C.transpose()\n",
    "C.columns = ['counts','category','age']"
   ]
  },
  {
   "cell_type": "code",
   "execution_count": 50,
   "metadata": {
    "collapsed": true
   },
   "outputs": [],
   "source": [
    "# for thisage in ages:\n",
    "#     count_survey = coll.find({'$and': [{'dataType':'survey'},{'age':thisage}]})\n",
    "#     print 'had {} surveys in {}'.format(count_survey.count(),thisage)\n",
    "#     child_drew_survey = coll.find({'$and': [{'dataType':'survey'},{'age':thisage},{'child_drew':True}]})\n",
    "#     other_drew_survey = coll.find({'$and': [{'dataType':'survey'},{'age':thisage},{'other_drew':True}]})\n",
    "#     parent_drew_survey = coll.find({'$and': [{'dataType':'survey'},{'age':thisage},{'parent_drew':True}]})\n",
    "\n",
    "#     print 'had {} surveys where kids drew in {}'.format(child_drew_survey.count(),thisage)\n",
    "#     print 'had {} surveys where parents drew in {}'.format(parent_drew_survey.count(),thisage)\n",
    "#     print 'had {} surveys where other kids drew in {}'.format(other_drew_survey.count(),thisage)\n"
   ]
  },
  {
   "cell_type": "code",
   "execution_count": null,
   "metadata": {
    "collapsed": true
   },
   "outputs": [],
   "source": [
    "# # Counts by class only\n",
    "# cat_counts=[]\n",
    "# for thiscat in categories:\n",
    "#     thissubset = coll.find({'$and': [{'dataType':'finalImage'},{'age':{\"$ne\": 'adult'}},{'category':thiscat}]})\n",
    "#     cat_counts.append(thissubset.count())"
   ]
  },
  {
   "cell_type": "markdown",
   "metadata": {},
   "source": [
    "### Make some basic plots"
   ]
  },
  {
   "cell_type": "code",
   "execution_count": 52,
   "metadata": {
    "collapsed": true
   },
   "outputs": [],
   "source": [
    "# df.loc[df['column_name'] == some_value]\n",
    "# bike = C.loc[C['category']==\"a cat\"]\n",
    "# plt.figure(figsize=(14,4))\n",
    "# plt.subplot(1,3,1)\n",
    "# g=sns.barplot(data=bike,x='age',y='counts')\n",
    "# for item in g.get_xticklabels():\n",
    "#     item.set_rotation(45)\n",
    "    \n",
    "    \n",
    "# couch = C.loc[C['category']==\"a frog\"]\n",
    "# plt.figure(figsize=(14,4))\n",
    "# plt.subplot(1,3,1)\n",
    "# g=sns.barplot(data=couch,x='age',y='counts')\n",
    "# for item in g.get_xticklabels():\n",
    "#     item.set_rotation(45)"
   ]
  },
  {
   "cell_type": "markdown",
   "metadata": {},
   "source": [
    "### Render out images from museum station -- takes a *long* time."
   ]
  },
  {
   "cell_type": "markdown",
   "metadata": {},
   "source": [
    "#### Grab some subset of desired sketches to render"
   ]
  },
  {
   "cell_type": "code",
   "execution_count": 49,
   "metadata": {},
   "outputs": [
    {
     "name": "stdout",
     "output_type": "stream",
     "text": [
      "we have 116 unique kids\n"
     ]
    }
   ],
   "source": [
    "cdm_run_v4 = db['cdm_run_v4']\n",
    "cdm_run_v3 = db['cdm_run_v3']\n",
    "this_collection = cdm_run_v4\n",
    "##\n",
    "sessions_to_render =  this_collection.find({'$and': [{'dataType':'finalImage'},{'age':'age5'}]}).distinct('sessionId')\n",
    "print('we have {} unique kids'.format(len(sessions_to_render)))\n"
   ]
  },
  {
   "cell_type": "markdown",
   "metadata": {},
   "source": [
    "#### And where are we rendering these skeches?"
   ]
  },
  {
   "cell_type": "code",
   "execution_count": 125,
   "metadata": {
    "collapsed": true
   },
   "outputs": [],
   "source": [
    "## And where are we rendering these sketches?\n",
    "analysis_dir = os.getcwd()\n",
    "sketch_dir = os.path.join(analysis_dir,'sketches_subset')\n",
    "if not os.path.exists(sketch_dir):\n",
    "    os.makedirs(sketch_dir)"
   ]
  },
  {
   "cell_type": "markdown",
   "metadata": {},
   "source": [
    "#### Open up variables for csv file writing"
   ]
  },
  {
   "cell_type": "code",
   "execution_count": 130,
   "metadata": {
    "collapsed": true
   },
   "outputs": [],
   "source": [
    "# basic descriptors\n",
    "session_id = []; trial_num = []; category = []; age = []; filename = []\n",
    "\n",
    "# stroke times and duration\n",
    "svg = []; svg_times = []; draw_duration_old = []; draw_duration_new = []\n",
    "\n",
    "# drawing usage stats\n",
    "num_strokes = []\n",
    "mean_intensity = []\n",
    "bounding_box = []\n",
    "\n",
    "# trial time and duration\n",
    "start_time = []; submit_time = []; trial_duration = []\n",
    "\n",
    "# other timing variables\n",
    "submit_date = []\n",
    "submit_date_readable = []\n",
    "\n",
    "def load_image_data(imgData,imsize):\n",
    "    filestr = base64.b64decode(imgData)\n",
    "    fname = os.path.join('sketch.png')\n",
    "    with open(fname, \"wb\") as fh:\n",
    "        fh.write(imgData.decode('base64'))\n",
    "    im = Image.open(fname).resize((imsize,imsize))\n",
    "    _im = np.array(im)\n",
    "    return(_im)\n",
    "\n",
    "def get_mean_intensity(img,imsize):\n",
    "    thresh = 250\n",
    "    numpix = imsize**2\n",
    "    mean_intensity = len(np.where(img[:,:,3].flatten()>thresh)[0])/numpix\n",
    "    return mean_intensity\n",
    "    \n",
    "def get_bounding_box(img):\n",
    "    rows = np.any(img, axis=1)\n",
    "    cols = np.any(img, axis=0)\n",
    "    rmin, rmax = np.where(rows)[0][[0, -1]]\n",
    "    cmin, cmax = np.where(cols)[0][[0, -1]]\n",
    "    bounding_box = tuple((rmin, rmax, cmin, cmax))\n",
    "    return bounding_box"
   ]
  },
  {
   "cell_type": "markdown",
   "metadata": {},
   "source": [
    "#### Render out sketches and save descriptives for subset"
   ]
  },
  {
   "cell_type": "code",
   "execution_count": 59,
   "metadata": {},
   "outputs": [
    {
     "ename": "NameError",
     "evalue": "name 'sketch_dir' is not defined",
     "output_type": "error",
     "traceback": [
      "\u001b[0;31m---------------------------------------------------------------------------\u001b[0m",
      "\u001b[0;31mNameError\u001b[0m                                 Traceback (most recent call last)",
      "\u001b[0;32m<ipython-input-59-41d762b6d985>\u001b[0m in \u001b[0;36m<module>\u001b[0;34m()\u001b[0m\n\u001b[1;32m     32\u001b[0m     \u001b[0;32mif\u001b[0m \u001b[0mimage_recs\u001b[0m\u001b[0;34m.\u001b[0m\u001b[0mcount\u001b[0m\u001b[0;34m(\u001b[0m\u001b[0;34m)\u001b[0m\u001b[0;34m>\u001b[0m\u001b[0;36m3\u001b[0m \u001b[0;34m&\u001b[0m \u001b[0minterference\u001b[0m\u001b[0;34m==\u001b[0m\u001b[0mFalse\u001b[0m\u001b[0;34m:\u001b[0m \u001b[0;31m## if they made it past the practice trials & no reported interference\u001b[0m\u001b[0;34m\u001b[0m\u001b[0m\n\u001b[1;32m     33\u001b[0m             \u001b[0;32mfor\u001b[0m \u001b[0mimrec\u001b[0m \u001b[0;32min\u001b[0m \u001b[0mimage_recs\u001b[0m\u001b[0;34m:\u001b[0m\u001b[0;34m\u001b[0m\u001b[0m\n\u001b[0;32m---> 34\u001b[0;31m                 \u001b[0mcategory_dir\u001b[0m \u001b[0;34m=\u001b[0m \u001b[0mos\u001b[0m\u001b[0;34m.\u001b[0m\u001b[0mpath\u001b[0m\u001b[0;34m.\u001b[0m\u001b[0mjoin\u001b[0m\u001b[0;34m(\u001b[0m\u001b[0msketch_dir\u001b[0m\u001b[0;34m,\u001b[0m\u001b[0mimrec\u001b[0m\u001b[0;34m[\u001b[0m\u001b[0;34m'category'\u001b[0m\u001b[0;34m]\u001b[0m\u001b[0;34m)\u001b[0m\u001b[0;34m\u001b[0m\u001b[0m\n\u001b[0m\u001b[1;32m     35\u001b[0m                 \u001b[0;32mif\u001b[0m \u001b[0;32mnot\u001b[0m \u001b[0mos\u001b[0m\u001b[0;34m.\u001b[0m\u001b[0mpath\u001b[0m\u001b[0;34m.\u001b[0m\u001b[0mexists\u001b[0m\u001b[0;34m(\u001b[0m\u001b[0mcategory_dir\u001b[0m\u001b[0;34m)\u001b[0m\u001b[0;34m:\u001b[0m\u001b[0;34m\u001b[0m\u001b[0m\n\u001b[1;32m     36\u001b[0m                     \u001b[0mos\u001b[0m\u001b[0;34m.\u001b[0m\u001b[0mmakedirs\u001b[0m\u001b[0;34m(\u001b[0m\u001b[0mcategory_dir\u001b[0m\u001b[0;34m)\u001b[0m\u001b[0;34m\u001b[0m\u001b[0m\n",
      "\u001b[0;31mNameError\u001b[0m: name 'sketch_dir' is not defined"
     ]
    }
   ],
   "source": [
    "really_run_this=1\n",
    "\n",
    "# basic variables for counting throughout the loop\n",
    "skipCount = 0;\n",
    "writeImageCount = 0;\n",
    "interferenceCount = 0;\n",
    "timeSave = []\n",
    "imsize = 224 ## img writing size, optimized for CNN\n",
    "\n",
    "if really_run_this:\n",
    "   \n",
    "    for s in sessions_to_render:        \n",
    "        if (this_collection == cdm_run_v4):\n",
    "            image_recs = this_collection.find({'$and': [{'sessionId':s}, {'dataType':'finalImage'}]}).sort('startTrialTime')    \n",
    "            \n",
    "            ## get survey data for this kid (if it exists), use to exclude\n",
    "            survey_session = this_collection.find({'$and': [{'dataType':'survey'},{'sessionId':s}]})\n",
    "            if survey_session.count()>0:\n",
    "                interference = (survey_session[0]['other_drew']==True | survey_session[0]['parent_drew']==True)\n",
    "            else:\n",
    "                interference = False\n",
    "            \n",
    "            if interference==True:\n",
    "                interferenceCount = interferenceCount+1\n",
    "                if np.mod(interferenceCount,10)==0:\n",
    "                    print('excluded {} kids for reported inference...'.format(interferenceCount))\n",
    "\n",
    "        elif (this_collection == cdm_run_v3):\n",
    "            image_recs = this_collection.find({'$and': [{'sessionId':s}, {'dataType':'finalImage'}]}).sort('time')    \n",
    "            interference = False\n",
    "\n",
    "    if image_recs.count()>3 & interference==False: ## if they made it past the practice trials & no reported interference\n",
    "            for imrec in image_recs:                                                            \n",
    "                category_dir = os.path.join(sketch_dir,imrec['category'])\n",
    "                if not os.path.exists(category_dir):\n",
    "                    os.makedirs(category_dir)\n",
    "                fname = os.path.join(category_dir,'{}_sketch_{}_{}.png'.format(imrec['category'], imrec['age'],imrec['sessionId']))\n",
    "\n",
    "                ## if this image exists already, skip it\n",
    "                if os.path.isfile(fname):\n",
    "                    skipCount = skipCount + 1;\n",
    "                    if np.mod(skipCount,100)==0:\n",
    "                        print('Weve skipped {} images...'.format(skipCount))\n",
    "                        if (this_collection == cdm_run_v4):\n",
    "                            timeSave.append(imrec['startTrialTime']) \n",
    "                        elif (this_collection == cdm_run_v3):\n",
    "                            timeSave.append(imrec['time']) \n",
    "                else:\n",
    "                    ## timing info was different in different collections, switch here\n",
    "                    if (this_collection == cdm_run_v4):\n",
    "                        stroke_recs = this_collection.find({'$and': [{'sessionId':s}, \n",
    "                                          {'dataType':'stroke'},\n",
    "                                          {'trialNum': imrec['trialNum']}]}).sort('startTrialTime')   \n",
    "                    elif (this_collection == cdm_run_v3):\n",
    "                        stroke_recs = this_collection.find({'$and': [{'sessionId':s}, \n",
    "                                          {'dataType':'stroke'},\n",
    "                                          {'trialNum': imrec['trialNum']}]}).sort('time')  \n",
    "\n",
    "                    # don't do adults for now or blank images\n",
    "                    if stroke_recs.count()>0 and imrec['age']!='adult': \n",
    "                        \n",
    "                        ## Append session ID, trial Num, category, age                            \n",
    "                        session_id.append(imrec['sessionId'])        \n",
    "                        trial_num.append(imrec['trialNum']) \n",
    "                        category.append(imrec['category'])\n",
    "                        age.append(imrec['age'])\n",
    "                        \n",
    "                        ## again, regularize based on timing info change\n",
    "                        if (this_collection == cdm_run_v4):\n",
    "                            start_time.append(imrec['startTrialTime'])\n",
    "                            submit_time.append(imrec['endTrialTime'])\n",
    "                            trial_duration.append((imrec['endTrialTime'] - imrec['startTrialTime'])/1000.00)\n",
    "                            readadble_date = datetime.datetime.fromtimestamp(imrec['endTrialTime']/1000.0).strftime('%Y-%m-%d %H:%M:%S.%f')\n",
    "\n",
    "                        elif (this_collection == cdm_run_v3):\n",
    "                            start_time.append('NaN')\n",
    "                            submit_time.append(imrec['time'])\n",
    "                            trial_duration.append('NaN')\n",
    "                            readadble_date = datetime.datetime.fromtimestamp(imrec['time']/1000.0).strftime('%Y-%m-%d %H:%M:%S.%f')\n",
    "\n",
    "                        ## readable date (not just time, has other info for sanity cecks)\n",
    "                        submit_date_readable.append(readadble_date)\n",
    "                        submit_date.append(imrec['date'])\n",
    "                        \n",
    "                        ## Count number of strokes and timing information as well on stroke basis\n",
    "                        num_strokes.append(stroke_recs.count())\n",
    "                        _svg = [] # this keeps track of the strokes from THIS final image\n",
    "                        _svg_end_times = []\n",
    "                        _svg_start_times = []\n",
    "                        for strec in stroke_recs:\n",
    "                            _svg.append(strec['svg'])\n",
    "                            _svg_end_times.append(strec['endStrokeTime'])\n",
    "                            _svg_start_times.append(strec['startStrokeTime'])\n",
    "                        ## draw duration\n",
    "                        draw_duration_new.append((_svg_end_times[-1] - _svg_start_times[0])/1000) ## in seconds\n",
    "                        draw_duration_old.append((_svg_end_times[-1] - _svg_end_times[0])/1000) ## in seconds\n",
    "                        svg.append(_svg)\n",
    "                        svg_times.append(_svg_times)\n",
    "                        \n",
    "                        ## get bounding box and mean pixel intensity\n",
    "                        this_image = load_image_data(imrec['imgData'],imsize)\n",
    "                        this_bounding_box = get_bounding_box(this_image)\n",
    "                        this_intensity = get_mean_intensity(this_image,imsize)\n",
    "                        #\n",
    "                        bounding_box.append(this_bounding_box)\n",
    "                        mean_intensity.append(this_intensity)\n",
    "                        \n",
    "                        ## Write out image data\n",
    "                        imgData = imrec['imgData'];\n",
    "                        filename.append(os.path.join(sketch_dir,'{}_sketch_{}_{}.png'.format(imrec['category'], imrec['age'],imrec['sessionId'])))\n",
    "                        writeImageCount = writeImageCount+1\n",
    "                        \n",
    "                        with open(fname, \"wb\") as fh:\n",
    "                            fh.write(imgData.decode('base64'))   \n",
    "                        if np.mod(writeImageCount,10)==0:\n",
    "                            if (this_collection == cdm_run_v4):\n",
    "                                print('Weve written {} images at ... {} '.format(writeImageCount, imrec['startTrialTime']))\n",
    "                            elif (this_collection == cdm_run_v3):\n",
    "                                print('Weve written {} images at ... {} '.format(writeImageCount, imrec['time']))\n"
   ]
  },
  {
   "cell_type": "code",
   "execution_count": 53,
   "metadata": {
    "scrolled": true
   },
   "outputs": [
    {
     "ename": "NameError",
     "evalue": "name 'sessionId' is not defined",
     "output_type": "error",
     "traceback": [
      "\u001b[0;31m---------------------------------------------------------------------------\u001b[0m",
      "\u001b[0;31mNameError\u001b[0m                                 Traceback (most recent call last)",
      "\u001b[0;32m<ipython-input-53-9f90bd2117c1>\u001b[0m in \u001b[0;36m<module>\u001b[0;34m()\u001b[0m\n\u001b[1;32m      1\u001b[0m \u001b[0msaveTime\u001b[0m \u001b[0;34m=\u001b[0m\u001b[0;34m'111'\u001b[0m\u001b[0;34m\u001b[0m\u001b[0m\n\u001b[1;32m      2\u001b[0m \u001b[0;32mif\u001b[0m \u001b[0mreally_run_this\u001b[0m\u001b[0;34m:\u001b[0m\u001b[0;34m\u001b[0m\u001b[0m\n\u001b[0;32m----> 3\u001b[0;31m     \u001b[0mX_out\u001b[0m \u001b[0;34m=\u001b[0m \u001b[0mpd\u001b[0m\u001b[0;34m.\u001b[0m\u001b[0mDataFrame\u001b[0m\u001b[0;34m(\u001b[0m\u001b[0;34m[\u001b[0m\u001b[0msessionId\u001b[0m\u001b[0;34m,\u001b[0m\u001b[0mtrial_num\u001b[0m\u001b[0;34m,\u001b[0m\u001b[0mcategory\u001b[0m\u001b[0;34m,\u001b[0m\u001b[0mage\u001b[0m\u001b[0;34m,\u001b[0m\u001b[0msubmit_time\u001b[0m\u001b[0;34m,\u001b[0m\u001b[0msubmit_date\u001b[0m\u001b[0;34m,\u001b[0m\u001b[0mnum_strokes\u001b[0m\u001b[0;34m,\u001b[0m\u001b[0mdraw_duration_old\u001b[0m\u001b[0;34m,\u001b[0m\u001b[0mdraw_duration_new\u001b[0m\u001b[0;34m,\u001b[0m\u001b[0mtrial_duration\u001b[0m\u001b[0;34m,\u001b[0m \u001b[0mmean_intensity\u001b[0m\u001b[0;34m,\u001b[0m \u001b[0mbounding_box\u001b[0m\u001b[0;34m,\u001b[0m \u001b[0mfilename\u001b[0m\u001b[0;34m]\u001b[0m\u001b[0;34m)\u001b[0m\u001b[0;34m\u001b[0m\u001b[0m\n\u001b[0m\u001b[1;32m      4\u001b[0m     \u001b[0mX_out\u001b[0m \u001b[0;34m=\u001b[0m \u001b[0mX_out\u001b[0m\u001b[0;34m.\u001b[0m\u001b[0mtranspose\u001b[0m\u001b[0;34m(\u001b[0m\u001b[0;34m)\u001b[0m\u001b[0;34m\u001b[0m\u001b[0m\n\u001b[1;32m      5\u001b[0m     \u001b[0mX_out\u001b[0m\u001b[0;34m.\u001b[0m\u001b[0mcolumns\u001b[0m \u001b[0;34m=\u001b[0m \u001b[0;34m[\u001b[0m\u001b[0;34m'session_id'\u001b[0m\u001b[0;34m,\u001b[0m\u001b[0;34m'trial_num'\u001b[0m\u001b[0;34m,\u001b[0m\u001b[0;34m'category'\u001b[0m\u001b[0;34m,\u001b[0m\u001b[0;34m'age'\u001b[0m\u001b[0;34m,\u001b[0m\u001b[0;34m'submit_time'\u001b[0m\u001b[0;34m,\u001b[0m\u001b[0;34m'submit_date'\u001b[0m\u001b[0;34m,\u001b[0m\u001b[0;34m'num_strokes'\u001b[0m\u001b[0;34m,\u001b[0m\u001b[0;34m'draw_duration_old'\u001b[0m\u001b[0;34m,\u001b[0m\u001b[0;34m'draw_duration_new'\u001b[0m\u001b[0;34m,\u001b[0m\u001b[0;34m'trial_duration'\u001b[0m\u001b[0;34m,\u001b[0m\u001b[0;34m'mean_intensity'\u001b[0m\u001b[0;34m,\u001b[0m\u001b[0;34m'bounding_box'\u001b[0m\u001b[0;34m,\u001b[0m\u001b[0;34m'filename'\u001b[0m\u001b[0;34m]\u001b[0m\u001b[0;34m\u001b[0m\u001b[0m\n",
      "\u001b[0;31mNameError\u001b[0m: name 'sessionId' is not defined"
     ]
    }
   ],
   "source": [
    "saveTime ='111'\n",
    "if really_run_this:\n",
    "    X_out = pd.DataFrame([sessionId,trial_num,category,age,submit_time,submit_date,num_strokes,draw_duration_old,draw_duration_new,trial_duration, mean_intensity, bounding_box, filename])\n",
    "    X_out = X_out.transpose()\n",
    "    X_out.columns = ['session_id','trial_num','category','age','submit_time','submit_date','num_strokes','draw_duration_old','draw_duration_new','trial_duration','mean_intensity','bounding_box','filename']\n",
    "    X_out.to_csv('MuseumStation_AllDescriptives_{}.csv'.format(saveTime))"
   ]
  },
  {
   "cell_type": "code",
   "execution_count": null,
   "metadata": {
    "collapsed": true
   },
   "outputs": [],
   "source": []
  },
  {
   "cell_type": "code",
   "execution_count": null,
   "metadata": {
    "collapsed": true
   },
   "outputs": [],
   "source": [
    "### Notes: It won't write out an image if it already exists. \n",
    "# Every time I get through a certain set of the  images, I record the time threshold \n",
    "#(since images are written out in chronological order)\n",
    "\n",
    "## Time stamps every 100 images.\n",
    "# [1525899407923.0,\n",
    "#  1525980096385.0,\n",
    "#  1526061840113.0,\n",
    "#  1526072921014.0,\n",
    "#  1526152365279.0,\n",
    "#  1526160570739.0,\n",
    "#  1526239856392.0,\n",
    "#  1526251698552.0,\n",
    "#  1526254954475.0,\n",
    "#  1526418747635.0,\n",
    "#  1526495927262.0,\n",
    "#  1526503859627.0,\n",
    "#  1526581190700.0,\n",
    "#  1526593428928.0,\n",
    "#  1526666014298.0,\n",
    "#  1526680293892.0,\n",
    "#  1526760285554.0,\n",
    "#  1526766056162.0,\n",
    "#  1527018277044.0,\n",
    "#  1527793231321.0,\n",
    "#  1527881543709.0,\n",
    "#  1527960926822.0,\n",
    "#  1527970125532.0,\n",
    "#  1527977827733.0,\n",
    "#  1527982709894.0,\n",
    "#  1528059661642.0,\n",
    "#  1528064507404.0,\n",
    "#  1528068114827.0,\n",
    "#  1528140581078.0,\n",
    "#  1528225691857.0,\n",
    "#  1528238270169.0,\n",
    "#  1528321410290.0,\n",
    "#  1528396097251.0,\n",
    "#  1528409134891.0,\n",
    "#  1528482501089.0,\n",
    "#  1528492105365.0,\n",
    "#  1528501366255.0,\n",
    "#  1528579092501.0,\n",
    "#  1528584985113.0,\n",
    "#  1528661341497.0,\n",
    "#  1528741749248.0,\n",
    "#  1528747687974.0,\n",
    "#  1528761045959.0,\n",
    "#  1528835768499.0,\n",
    "#  1528841240592.0,\n",
    "#  1528916818096.0,\n",
    "#  1528923498102.0,\n",
    "#  1529005606993.0,\n",
    "#  1529015740138.0,\n",
    "#  1529092461367.0,\n",
    "#  1529102005265.0,\n",
    "#  1529178354515.0,\n",
    "#  1529183429730.0,\n",
    "#  1529190138056.0,\n",
    "#  1529272790915.0,\n",
    "#  1529351265769.0,\n",
    "#  1529360098520.0,\n",
    "#  1529435563121.0,\n",
    "#  1529443877705.0,\n",
    "#  1529518216924.0,\n",
    "#  1529529413026.0,\n",
    "#  1529690851878.0,\n",
    "#  1529705056613.0,\n",
    "#  1530311006680.0]\n",
    "\n",
    "\n",
    "# time_threshold = 1530650649659.0 ## first ~7000 images! (cdm_run_v3)\n",
    "# time_threshold = 1533252327962.0 ## all images up until morning of Aug 3 (cdm_run_v3)"
   ]
  }
 ],
 "metadata": {
  "kernelspec": {
   "display_name": "Python 2",
   "language": "python",
   "name": "python2"
  },
  "language_info": {
   "codemirror_mode": {
    "name": "ipython",
    "version": 2
   },
   "file_extension": ".py",
   "mimetype": "text/x-python",
   "name": "python",
   "nbconvert_exporter": "python",
   "pygments_lexer": "ipython2",
   "version": "2.7.14"
  }
 },
 "nbformat": 4,
 "nbformat_minor": 1
}
