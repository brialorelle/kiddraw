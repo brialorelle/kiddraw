{
 "cells": [
  {
   "cell_type": "markdown",
   "metadata": {},
   "source": [
    "### Load required libraries"
   ]
  },
  {
   "cell_type": "code",
   "execution_count": 1,
   "metadata": {
    "collapsed": true
   },
   "outputs": [],
   "source": [
    "import os\n",
    "import urllib, cStringIO\n",
    "import pymongo as pm\n",
    "\n",
    "## plotting libraries\n",
    "import matplotlib\n",
    "from matplotlib import pylab, mlab, pyplot\n",
    "%matplotlib inline\n",
    "from IPython.core.pylabtools import figsize, getfigs\n",
    "plt = pyplot\n",
    "import seaborn as sns\n",
    "sns.set_context('poster')\n",
    "sns.set_style('white')\n",
    "\n",
    "import numpy as np\n",
    "from __future__ import division\n",
    "import scipy.stats as stats\n",
    "\n",
    "import pandas as pd\n",
    "import json\n",
    "import re\n",
    "\n",
    "from PIL import Image\n",
    "import base64\n",
    "from glob import glob\n",
    "\n",
    "from scipy.spatial import distance"
   ]
  },
  {
   "cell_type": "markdown",
   "metadata": {},
   "source": [
    "### Load VGG feature analysis libraries and scripts"
   ]
  },
  {
   "cell_type": "code",
   "execution_count": 2,
   "metadata": {
    "collapsed": true
   },
   "outputs": [],
   "source": [
    "# import torch\n",
    "# import torchvision.models as models\n",
    "# import torch.nn as nn\n",
    "# import torchvision.transforms as transforms\n",
    "# import torch.nn.functional as F\n",
    "# from torch.autograd import Variable\n",
    "\n",
    "import scipy.stats as stats\n",
    "from scipy.stats import norm\n",
    "\n",
    "import sklearn\n",
    "from sklearn.model_selection import train_test_split, cross_val_score\n",
    "from sklearn import svm\n",
    "from sklearn import linear_model, datasets, neighbors\n",
    "from sklearn.cluster import AffinityPropagation\n",
    "from sklearn import metrics\n",
    "\n",
    "from imblearn.over_sampling import RandomOverSampler\n",
    "from imblearn.under_sampling import RandomUnderSampler\n",
    "\n",
    "from glob import glob\n",
    "import os\n",
    "\n",
    "import embedding as emb\n",
    "reload(emb)\n",
    "from embedding import *"
   ]
  },
  {
   "cell_type": "code",
   "execution_count": 3,
   "metadata": {},
   "outputs": [
    {
     "name": "stdout",
     "output_type": "stream",
     "text": [
      "Number of sketch paths = 8037 before filtering\n"
     ]
    }
   ],
   "source": [
    "# Retrieve sketch paths -- pngs rendered out in another step\n",
    "def list_files(path, ext='png'):\n",
    "    result = [y for x in os.walk(path) for y in glob(os.path.join(x[0], '*.%s' % ext))]\n",
    "    return result\n",
    "\n",
    "# extract metadata\n",
    "path_to_sketches = 'srcd-features/museumstation_sketches'\n",
    "sketch_paths = sorted(list_files(path_to_sketches))\n",
    "\n",
    "## number of sketch paths \n",
    "print 'Number of sketch paths = {} before filtering'.format(len(sketch_paths))\n",
    "png_sketch_count = len(sketch_paths)"
   ]
  },
  {
   "cell_type": "markdown",
   "metadata": {},
   "source": [
    "## extract features"
   ]
  },
  {
   "cell_type": "markdown",
   "metadata": {},
   "source": [
    "**Dec 28 2017 (updated Jan 14 2018):** <br>\n",
    " - From command line, extract features using `extract_features.py`. The default arguments are for the kid's drawings. <br>"
   ]
  },
  {
   "cell_type": "code",
   "execution_count": 4,
   "metadata": {
    "collapsed": true
   },
   "outputs": [],
   "source": [
    "# z-score normalization to \"center\" the sketch embeddings\n",
    "def normalize(X):\n",
    "    X = X - X.mean(0)\n",
    "    X = X / np.maximum(X.std(0), 1e-5)\n",
    "    return X\n",
    "\n",
    "def get_class_means(X, labels):    \n",
    "    # load in and normalizes features first\n",
    "    _mu = np.zeros((len(np.unique(labels)), np.shape(X)[1]))        \n",
    "    X = normalize(X)\n",
    "    for vi, v in enumerate(np.unique(np.asarray(labels))):\n",
    "        Xv = X[labels == v]\n",
    "        nv = float(Xv.shape[0])\n",
    "        if nv > 0:\n",
    "            _mu[vi] = Xv.mean(0)\n",
    "    return _mu\n",
    "\n",
    "def get_class_means_not_normalized(X, labels):    \n",
    "    _mu = np.zeros((len(np.unique(labels)), np.shape(X)[1]))        \n",
    "    for vi, v in enumerate(np.unique(np.asarray(labels))):\n",
    "        Xv = X[labels == v]\n",
    "        nv = float(Xv.shape[0])\n",
    "        if nv > 0:\n",
    "            _mu[vi] = Xv.mean(0)\n",
    "    return _mu\n",
    "\n",
    "def normalize_RDM(MAT):\n",
    "    X = MAT - MAT.mean(0).mean(0)\n",
    "    X = X / np.maximum(MAT.std(0).std(0), 1e-5)\n",
    "    return X\n",
    "\n",
    "def plot_rdm_by_class(Features,X,layer_num):\n",
    "    layers = ['P1','P2','P3','P4','P5','FC6','FC7']        \n",
    "    sns.set_style('white')\n",
    "    fig = plt.figure(figsize=(6,6))\n",
    "    labels = X.label.values\n",
    "    means = get_class_means(Features, labels)\n",
    "    CORRMAT = np.corrcoef(means)\n",
    "    plt.matshow(CORRMAT)\n",
    "    plt.colorbar()\n",
    "    if not os.path.exists('./plots'):\n",
    "        os.makedirs('./plots')\n",
    "    plt.savefig('./plots/RDM_by_view_{}.pdf'.format(layers[layer_num]))\n",
    "    \n",
    "def load_features(cohort, layer_num):\n",
    "    layers = ['P1','P2','P3','P4','P5','FC6','FC7']    \n",
    "    F = np.load('srcd-features/museumstation_features/FEATURES_{}_{}_Spatial_True.npy'.format(layers[layer_num],cohort))\n",
    "    M = pd.read_csv('srcd-features/museumstation_features/METADATA_{}.csv'.format(cohort)) \n",
    "    M = M[['label','age','session']]\n",
    "    return F, M\n",
    "\n",
    "def remove_practice_trials(KF,KM):\n",
    "    '''\n",
    "    remove \"circle\" and \"triangle\" trials from dataset\n",
    "    '''\n",
    "    practice_objects = ['circle','triangle']\n",
    "    _KF = KF[~KM['label'].isin(practice_objects),:]\n",
    "    _KM = KM[~KM['label'].isin(practice_objects)]\n",
    "    return _KF, _KM\n",
    "\n",
    "def flatten(x):\n",
    "    return [item for sublist in x for item in sublist]\n"
   ]
  },
  {
   "cell_type": "markdown",
   "metadata": {},
   "source": [
    "### Get sorting indexes for plotting dprimes and RDMs"
   ]
  },
  {
   "cell_type": "code",
   "execution_count": 5,
   "metadata": {},
   "outputs": [
    {
     "name": "stdout",
     "output_type": "stream",
     "text": [
      "Number of unique kids who contributed drawings = 1447\n",
      "Number of features for 7326 images in layer 6 = 4096\n",
      "Number of excluded drawings = 711\n"
     ]
    }
   ],
   "source": [
    "## CHOOSE LAYER IND FOR PLOTTING RDMS ETC\n",
    "layer_ind = 6\n",
    "\n",
    "## load in kid features\n",
    "KF, KM = load_features('kid',layer_ind)\n",
    "KF, KM = remove_practice_trials(KF, KM)\n",
    "KM = KM.reset_index(drop=True)\n",
    "\n",
    "print 'Number of unique kids who contributed drawings = {}'.format(np.size(np.unique(KM['session'].values)))\n",
    "print 'Number of features for {} images in layer {} = {}'.format(np.shape(KF)[0], layer_ind, np.shape(KF)[1])\n",
    "feature_sketch_count = np.shape(KF)[0]\n",
    "\n",
    "excluded_drawing_number = png_sketch_count - feature_sketch_count\n",
    "print 'Number of excluded drawings = {}'.format(excluded_drawing_number)"
   ]
  },
  {
   "cell_type": "code",
   "execution_count": 6,
   "metadata": {
    "collapsed": true
   },
   "outputs": [],
   "source": [
    "_labels = np.unique(KM.label.values)\n",
    "ordered_objs = ['an airplane', 'a bike', 'a car', 'a boat', 'a chair', 'a couch', 'a house', 'a cup', 'a bowl', 'a phone', 'a person', 'a bird', 'a dog', 'a fish', 'a rabbit', 'a tree']\n",
    "ordered_objs = np.asarray(ordered_objs)\n",
    "sort_inds = [np.where(_labels==ordered_objs[i])[0][0] for i in np.arange(len(ordered_objs))]"
   ]
  },
  {
   "cell_type": "code",
   "execution_count": 15,
   "metadata": {},
   "outputs": [
    {
     "name": "stdout",
     "output_type": "stream",
     "text": [
      "We have 207 2-year olds who contributed 729 drawings\n",
      "We have 271 3-year olds who contributed 1266 drawings\n",
      "We have 218 4-year olds who contributed 1049 drawings\n",
      "We have 196 5-year olds who contributed 1115 drawings\n",
      "We have 161 6-year olds who contributed 933 drawings\n",
      "We have 113 7-year olds who contributed 649 drawings\n",
      "We have 108 8-year olds who contributed 582 drawings\n",
      "We have 68 9-year olds who contributed 409 drawings\n",
      "We have 105 10-year olds who contributed 594 drawings\n"
     ]
    }
   ],
   "source": [
    "for age in range(2,11):\n",
    "    ind = KM.index[KM['age'] == age]\n",
    "    KM_subset =  KM.loc[ind]\n",
    "    KF_subset =  KF[ind.tolist()]\n",
    "    print 'We have {} {}-year olds who contributed {} drawings'.format(np.shape(np.unique(KM_subset['session']))[0],age, np.shape(KM_subset)[0])"
   ]
  },
  {
   "cell_type": "markdown",
   "metadata": {
    "collapsed": true
   },
   "source": [
    "### Define subfunctions relevant for calculating RDMs and dprime metrics"
   ]
  },
  {
   "cell_type": "code",
   "execution_count": 22,
   "metadata": {
    "collapsed": true
   },
   "outputs": [],
   "source": [
    "def get_class_mean_vectors(F,M,ordered_objs):\n",
    "    class_means = np.zeros([np.shape(ordered_objs)[0], np.shape(F)[1]])\n",
    "    for ci, class_label in enumerate(ordered_objs): # go through each list of classes\n",
    "            class_features = F[M.label.values==class_label]\n",
    "            class_means[ci] = np.median(class_features, axis=0); # MEDIAN ovver rows, i.e. images\n",
    "    return(class_means)"
   ]
  },
  {
   "cell_type": "code",
   "execution_count": 23,
   "metadata": {
    "collapsed": true
   },
   "outputs": [],
   "source": [
    "def get_all_image_distinctiveess(F,M,ordered_objs, class_medians):    \n",
    "    discrim_all_images=[]\n",
    "    for ci, target_class in enumerate(ordered_objs): # go through each list of classes\n",
    "        # get target class mean\n",
    "        target_class_features = F[M.label.values==target_class]\n",
    "        target_class_median = np.median(target_class_features, axis=0); # MEDIAN ovver rows, i.e. images    \n",
    "\n",
    "        # open variables\n",
    "        num_target_images=np.shape(target_class_features)[0];\n",
    "        dist_conf = np.zeros(np.shape(ordered_objs)[0]) \n",
    "        discrim_target_conf = np.zeros(num_target_images)\n",
    "        dist_conf_relative = np.zeros(np.shape(ordered_objs)[0]) \n",
    "    \n",
    "        # for each image, get distance to category mean and to distractor means; subdtract and sum\n",
    "        for vi in range(num_target_images): \n",
    "            dist_target = distance.euclidean(target_class_features[vi],target_class_median) ## get euclidean distance to mean\n",
    "            for ci, class_label in enumerate(ordered_objs): # go through each list of classes\n",
    "                conf_class_median = class_medians[ci,:]\n",
    "                dist_conf[ci] = distance.euclidean(target_class_features[vi],conf_class_median) ## get euclidean distance to conf mean\n",
    "                dist_conf_relative[ci] = dist_conf[ci] - dist_target\n",
    "            discrim_target_conf[vi]=np.sum(dist_conf_relative) ## subtract -- higher values: more discrim\n",
    "        \n",
    "        discrim_all_images = np.concatenate(discrim_all_images,discrim_target_conf)\n",
    "    return discrim_all_images"
   ]
  },
  {
   "cell_type": "code",
   "execution_count": 24,
   "metadata": {
    "collapsed": true
   },
   "outputs": [],
   "source": [
    "def get_image_distinctiveess(F,M,target_class,ordered_objs, class_medians):    \n",
    "    # get target class mean\n",
    "    target_class_features = F[M.label.values==target_class]\n",
    "    target_class_median = np.median(target_class_features, axis=0); # MEDIAN ovver rows, i.e. images    \n",
    "    \n",
    "    # open variables\n",
    "    num_target_images=np.shape(target_class_features)[0];\n",
    "    dist_conf = np.zeros(np.shape(ordered_objs)[0]) \n",
    "    discrim_target_conf = np.zeros(num_target_images)\n",
    "    dist_conf_relative = np.zeros(np.shape(ordered_objs)[0]) \n",
    "    \n",
    "    # for each image, get distance to category mean and to distractor mean\n",
    "    for vi in range(num_target_images): \n",
    "        dist_target = distance.euclidean(target_class_features[vi],target_class_median) ## get euclidean distance to mean\n",
    "        for ci, class_label in enumerate(ordered_objs): # go through each list of classes\n",
    "            conf_class_median = class_medians[ci,:]\n",
    "            dist_conf[ci] = distance.euclidean(target_class_features[vi],conf_class_median) ## get euclidean distance to conf mean\n",
    "            dist_conf_relative[ci] = dist_conf[ci] - dist_target\n",
    "        discrim_target_conf[vi]=np.sum(dist_conf_relative) ## subtract -- higher values: more discrim\n",
    "    return discrim_target_conf"
   ]
  },
  {
   "cell_type": "code",
   "execution_count": 25,
   "metadata": {
    "collapsed": true
   },
   "outputs": [],
   "source": [
    "# Gets mean of each class (e.g., category) in a feature space\n",
    "def get_class_means_bl(F, M):  # just adapted to take in features and metadata directly  \n",
    "    X = F;\n",
    "    labels = M.label.values\n",
    "    _mu = np.zeros((len(np.unique(labels)), np.shape(X)[1]))        \n",
    "    for vi, v in enumerate(np.unique(np.asarray(labels))):\n",
    "        Xv = X[labels == v]\n",
    "        nv = float(Xv.shape[0])\n",
    "        if nv > 0:\n",
    "            _mu[vi] = Xv.mean(0)\n",
    "    return _mu\n",
    "\n",
    "# Gets \"std\" of each class (e.g., category) in a feature space\n",
    "def get_class_std(F,M,this_label):    \n",
    "    class_features = F[M.label.values==this_label]\n",
    "    class_mean = class_features.mean(0); # mean ovver rows, i.e. images\n",
    "    num_images = np.shape(class_features)[0] # number of images for this class in this set\n",
    "    # open variables\n",
    "    _dist = np.zeros(num_images)   \n",
    "    _dist_sq = np.zeros(num_images) \n",
    "    # for each image, get distance to category mean and square it\n",
    "    for vi in range(num_images): \n",
    "        _dist[vi] = distance.euclidean(class_features[vi],class_mean) ## get euclidean distance to mean\n",
    "        _dist_sq[vi] = _dist[vi]**2 # square each distance\n",
    "    dist_sum = sum(_dist_sq) / num_images; # sum these distances and divide by the number of IMAGES\n",
    "    return np.sqrt(dist_sum) #  get square root to make it a std (RMSE)\n",
    "\n",
    "def get_class_distances(F,M,this_label):    \n",
    "    class_features = F[M.label.values==this_label]\n",
    "    class_mean = class_features.mean(0); # mean ovver rows, i.e. images\n",
    "    num_images = np.shape(class_features)[0] # number of images for this class in this set\n",
    "    # open variables\n",
    "    _dist = np.zeros(num_images)   \n",
    "    _dist_sq = np.zeros(num_images) \n",
    "    # for each image, get distance to category mean and square it\n",
    "    for vi in range(num_images): \n",
    "        _dist[vi] = distance.euclidean(class_features[vi],class_mean) ## get euclidean distance to mean\n",
    "        _dist_sq[vi] = _dist[vi]**2 # square each distance\n",
    "    return (_dist_sq) # should be numImages x their squared deviations\n",
    "\n",
    "# Use mean and std to compute a higher-dimensional d-prime matrix\n",
    "def get_class_dprime(class_std, class_means,ordered_objs):\n",
    "    d_prime = np.zeros((len(np.unique(ordered_objs)), len(np.unique(ordered_objs)))); # n-class x n-class matrix      \n",
    "    for i, v in enumerate(ordered_objs): # go through each list of classes\n",
    "        for i2, v2 in enumerate(ordered_objs): # and each pair of classes\n",
    "            if i==i2: # if we're in the diagonal\n",
    "                d_prime[i,i2] = 0; # give dummy value when looking at same category, 0 = the same category\n",
    "            else:\n",
    "                sd1=class_std[i]; sd2=class_std[i2]; # grab class variance for each pair of categories\n",
    "                m1=class_means[i];  m2=class_means[i2]; # grab class means for each pair of categories\n",
    "                num = distance.euclidean(m1,m2) # distance between two mean vectors\n",
    "                denom = np.sqrt(.5*(sd1**2+sd2**2)); # calculate denominator \n",
    "                d=num/denom;\n",
    "                d_prime[i,i2] = d;  # fill in matrix\n",
    "    return d_prime;\n",
    "\n",
    "def get_class_rmse_only(class_std, class_means,ordered_objs):\n",
    "    rmse = np.zeros((len(np.unique(ordered_objs)), len(np.unique(ordered_objs)))); # n-class x n-class matrix      \n",
    "    for i, v in enumerate(ordered_objs): # go through each list of classes\n",
    "        for i2, v2 in enumerate(ordered_objs): # and each pair of classes\n",
    "            if i==i2: # if we're in the diagonal\n",
    "                rmse[i,i2] = 0; # give dummy value when looking at same category, 0 = the same category\n",
    "            else:\n",
    "                sd1=class_std[i]; sd2=class_std[i2]; # grab class variance for each pair of categories\n",
    "                m1=class_means[i];  m2=class_means[i2]; # grab class means for each pair of categories\n",
    "                num = distance.euclidean(m1,m2) # distance between two mean vectors\n",
    "                denom = np.sqrt(.5*(sd1**2+sd2**2)); # calculate denominator of dprime -- rmse\n",
    "                rmse[i,i2] = denom;\n",
    "    return rmse; \n",
    "\n",
    "def get_class_mdm(F,M,this_label):    \n",
    "    class_features = F[M.label.values==this_label]\n",
    "    class_median = np.median(class_features, axis=0) # MEDIAN ovver rows, i.e. images\n",
    "    num_images = np.shape(class_features)[0] # number of images for this class in this set\n",
    "    # open variables\n",
    "    _dist = np.zeros(num_images)   \n",
    "    _dist_sq = np.zeros(num_images) \n",
    "    # for each image, get distance to category mean and square it\n",
    "    for vi in range(num_images): \n",
    "        _dist[vi] = distance.euclidean(class_features[vi],class_median) ## get euclidean distance to mean\n",
    "        _dist_sq[vi] = _dist[vi]**2 # square each distance\n",
    "    _dist_median = np.median(_dist_sq)\n",
    "    return np.sqrt(_dist_median) #  get std?\n",
    "\n",
    "\n",
    "def get_two_class_discrim(F,M,target_class,confusion_class):    \n",
    "    target_class_features = F[M.label.values==target_class]\n",
    "    target_class_mean = np.median(target_class_features, axis=0); # MEDIAN ovver rows, i.e. images\n",
    "    num_target_images=np.shape(target_class_features)[0];\n",
    "    \n",
    "    conf_class_features = F[M.label.values==confusion_class]\n",
    "    conf_class_mean = np.median(conf_class_features, axis=0); # MEDIAN ovver rows, i.e. images\n",
    "    \n",
    "    # open variables\n",
    "    dist_target = np.zeros(num_target_images)   \n",
    "    dist_conf = np.zeros(num_target_images) \n",
    "    discrim_target_conf = np.zeros(num_target_images)\n",
    "    \n",
    "    # for each image, get distance to category mean and to distractor mean\n",
    "    for vi in range(num_target_images): \n",
    "        dist_target[vi] = distance.euclidean(target_class_features[vi],target_class_mean) ## get euclidean distance to mean\n",
    "        dist_conf[vi] = distance.euclidean(target_class_features[vi],conf_class_mean) ## get euclidean distance to conf mean\n",
    "        discrim_target_conf[vi]=dist_conf[vi]-dist_target[vi] ## subtract -- higher values: more discrim\n",
    "    return np.mean(discrim_target_conf)\n",
    "\n",
    "def show_confMatrix(confMatrix,ordered_objs,age):\n",
    "    sns.set_context('paper')\n",
    "    fig = plt.figure(figsize=(40,40))\n",
    "    plt.matshow(confMatrix, vmin=-2, vmax=10) # maximum pairwise value in data?\n",
    "    plt.xticks(range(len(ordered_objs)), ordered_objs, rotation=90,fontsize = 12);\n",
    "    plt.yticks(range(len(ordered_objs)), ordered_objs,fontsize = 12); \n",
    "    plt.colorbar()\n",
    "    for tick in pylab.gca().xaxis.iter_ticks():\n",
    "        tick[0].label2On = True\n",
    "        tick[0].label1On = False\n",
    "        tick[0].label2.set_rotation('vertical')\n",
    "        tick[0].tick1On = False\n",
    "        tick[0].tick2On = False\n",
    "    for tick in pylab.gca().yaxis.iter_ticks():\n",
    "        tick[0].tick1On = False\n",
    "        tick[0].tick2On = False \n",
    "    plt.savefig('./plots/RMSE_{}_Layer_{}.pdf'.format(age, layer_ind), bbox_inches=\"tight\")"
   ]
  },
  {
   "cell_type": "markdown",
   "metadata": {},
   "source": [
    "### Try getting image wise distinctiveness"
   ]
  },
  {
   "cell_type": "code",
   "execution_count": 26,
   "metadata": {
    "collapsed": true
   },
   "outputs": [],
   "source": [
    "class_means = get_class_mean_vectors(KF,KM,ordered_objs)"
   ]
  },
  {
   "cell_type": "code",
   "execution_count": 27,
   "metadata": {
    "collapsed": true,
    "scrolled": true
   },
   "outputs": [],
   "source": [
    "distinctiveness = []\n",
    "ages = []\n",
    "class_labels=[]\n",
    "for ci, class_label in enumerate(ordered_objs):\n",
    "    this_dist = get_image_distinctiveess(KF,KM,class_label,ordered_objs,class_means)\n",
    "    ind = KM.index[KM['label'] == class_label]\n",
    "    KM_subset =  KM.loc[ind]\n",
    "    KF_subset =  KF[ind.tolist()]\n",
    "    age_subset = KM_subset['age'].values\n",
    "    labels_subset = KM_subset['label'].values\n",
    "    class_labels.extend(labels_subset)\n",
    "    ages.extend(age_subset)\n",
    "    distinctiveness.extend(this_dist)"
   ]
  },
  {
   "cell_type": "code",
   "execution_count": 31,
   "metadata": {
    "collapsed": true
   },
   "outputs": [],
   "source": [
    "## make into data frame\n",
    "# distinctiveness = pd.to_numeric(distinctiveness)\n",
    "data = [ages, distinctiveness, class_labels]\n",
    "df = pd.DataFrame(data)\n",
    "df = df.transpose()\n",
    "df.columns=['ages','distinctiveness','class_labels']\n",
    "df.to_csv('distinctiveness_try.csv')"
   ]
  },
  {
   "cell_type": "code",
   "execution_count": 8,
   "metadata": {},
   "outputs": [
    {
     "ename": "NameError",
     "evalue": "name 'get_two_class_discrim' is not defined",
     "output_type": "error",
     "traceback": [
      "\u001b[0;31m---------------------------------------------------------------------------\u001b[0m",
      "\u001b[0;31mNameError\u001b[0m                                 Traceback (most recent call last)",
      "\u001b[0;32m<ipython-input-8-4c636f402c89>\u001b[0m in \u001b[0;36m<module>\u001b[0;34m()\u001b[0m\n\u001b[0;32m----> 1\u001b[0;31m \u001b[0mtest\u001b[0m \u001b[0;34m=\u001b[0m \u001b[0mget_two_class_discrim\u001b[0m\u001b[0;34m(\u001b[0m\u001b[0mKF\u001b[0m\u001b[0;34m,\u001b[0m\u001b[0mKM\u001b[0m\u001b[0;34m,\u001b[0m\u001b[0;34m'a rabbit'\u001b[0m\u001b[0;34m,\u001b[0m\u001b[0;34m'a dog'\u001b[0m\u001b[0;34m)\u001b[0m\u001b[0;34m\u001b[0m\u001b[0m\n\u001b[0m",
      "\u001b[0;31mNameError\u001b[0m: name 'get_two_class_discrim' is not defined"
     ]
    }
   ],
   "source": []
  },
  {
   "cell_type": "code",
   "execution_count": 32,
   "metadata": {
    "collapsed": true
   },
   "outputs": [],
   "source": [
    "# df['distinctiveness'] = pd.to_numeric(df['distinctiveness'])\n",
    "# g = sns.factorplot(x=\"ages\", y=\"distinctiveness\", hue=\"ages\", data=df, \n",
    "#                    kind=\"violin\", size=22, aspect=4)"
   ]
  },
  {
   "cell_type": "markdown",
   "metadata": {
    "collapsed": true
   },
   "source": [
    "### Look at distance metrics by age"
   ]
  },
  {
   "cell_type": "code",
   "execution_count": 138,
   "metadata": {},
   "outputs": [],
   "source": [
    "def get_two_class_discrim(F,M,target_class,confusion_class):    \n",
    "    target_class_features = F[M.label.values==target_class]\n",
    "    target_class_mean = np.median(target_class_features, axis=0); # MEDIAN ovver rows, i.e. images\n",
    "    num_target_images=np.shape(target_class_features)[0];\n",
    "    \n",
    "    conf_class_features = F[M.label.values==confusion_class]\n",
    "    conf_class_mean = np.median(conf_class_features, axis=0); # MEDIAN ovver rows, i.e. images\n",
    "    \n",
    "    # open variables\n",
    "    dist_target = np.zeros(num_target_images)   \n",
    "    dist_conf = np.zeros(num_target_images) \n",
    "    discrim_target_conf = np.zeros(num_target_images)\n",
    "    \n",
    "    # for each image, get distance to category mean and to distractor mean\n",
    "    for vi in range(num_target_images): \n",
    "        dist_target[vi] = distance.euclidean(target_class_features[vi],target_class_mean) ## get euclidean distance to mean\n",
    "        dist_conf[vi] = distance.euclidean(target_class_features[vi],conf_class_mean) ## get euclidean distance to conf mean\n",
    "        discrim_target_conf[vi]=dist_conf[vi]-dist_target[vi] ## subtract -- higher values: more discrim\n",
    "    return np.mean(discrim_target_conf)\n",
    "\n",
    "def get_imagewise_two_class_discrim(F,M,target_class,confusion_class):    \n",
    "    target_class_features = F[M.label.values==target_class]\n",
    "    target_class_mean = np.median(target_class_features, axis=0); # MEDIAN ovver rows, i.e. images\n",
    "    num_target_images=np.shape(target_class_features)[0];\n",
    "    \n",
    "    conf_class_features = F[M.label.values==confusion_class]\n",
    "    conf_class_mean = np.median(conf_class_features, axis=0); # MEDIAN ovver rows, i.e. images\n",
    "    \n",
    "    # open variables\n",
    "    dist_target = np.zeros(num_target_images)   \n",
    "    dist_conf = np.zeros(num_target_images) \n",
    "    discrim_target_conf = np.zeros(num_target_images)\n",
    "    ages = np.zeros(num_target_images)\n",
    "    \n",
    "    ## target_category meta data\n",
    "    ind = M.index[M.label.values==target_class]\n",
    "    M_subset =  M.loc[ind]\n",
    "\n",
    "    session_id = []\n",
    "    target_label = []\n",
    "    conf_label = []\n",
    "    \n",
    "    # for each image, get distance to category mean and to distractor mean\n",
    "    for vi in range(num_target_images): \n",
    "        conf_label.append(confusion_class)  \n",
    "        target_label.append(M_subset['label'].values[vi])  \n",
    "        ages[vi] = M_subset['age'].values[vi]\n",
    "        session_id.append(M_subset['session'].values[vi])\n",
    "        dist_target[vi] = distance.euclidean(target_class_features[vi],target_class_mean) ## get euclidean distance to mean\n",
    "        dist_conf[vi] = distance.euclidean(target_class_features[vi],conf_class_mean) ## get euclidean distance to conf mean\n",
    "\n",
    "    out = pd.DataFrame([dist_target,dist_conf,session_id,ages, target_label, conf_label])    \n",
    "    out = out.transpose()\n",
    "    out = out.rename(index=str, columns={0: \"dist_target\", 1: \"dist_conf\", 2:\"session_id\", 3:\"age\", 4:\"target_class_label\", 5:\"conf_class_label\"})\n",
    "    return (out)"
   ]
  },
  {
   "cell_type": "code",
   "execution_count": 146,
   "metadata": {},
   "outputs": [
    {
     "name": "stdout",
     "output_type": "stream",
     "text": [
      "(44, 6)\n",
      "(80, 6)\n",
      "(124, 6)\n",
      "(57, 6)\n",
      "(181, 6)\n",
      "(65, 6)\n",
      "(246, 6)\n",
      "(47, 6)\n",
      "(293, 6)\n",
      "(35, 6)\n",
      "(328, 6)\n",
      "(36, 6)\n",
      "(364, 6)\n",
      "(26, 6)\n",
      "(390, 6)\n",
      "(25, 6)\n",
      "(415, 6)\n"
     ]
    }
   ],
   "source": [
    "target_label = \"a person\"\n",
    "conf_label = \"a bowl\"\n",
    "for age in (2,3,4,5,6,7,8,9,10):\n",
    "    agei=age-2\n",
    "    ind = KM.index[KM['age'] == age]\n",
    "    KM_subset =  KM.loc[ind]\n",
    "    KF_subset =  KF[ind.tolist()]\n",
    "    \n",
    "#     print(np.shape(KF_subset))\n",
    "    temp = get_imagewise_two_class_discrim(KF_subset,KM_subset,target_label,conf_label)\n",
    "    print np.shape(temp)\n",
    "    if agei==0:\n",
    "        out=temp\n",
    "    else:\n",
    "        out = pd.concat([out,temp])\n",
    "#         print np.shape(out)\n",
    "\n",
    "out.to_csv('{}_v_{}_by_age.csv'.format(target_label,conf_label))  "
   ]
  },
  {
   "cell_type": "code",
   "execution_count": 126,
   "metadata": {},
   "outputs": [
    {
     "data": {
      "text/plain": [
       "2"
      ]
     },
     "execution_count": 126,
     "metadata": {},
     "output_type": "execute_result"
    }
   ],
   "source": [
    "ind = KM.index[KM.label.values==\"a rabbit\"]\n",
    "M_subset =  KM.loc[ind]\n",
    "M_subset['age'].values[1]"
   ]
  },
  {
   "cell_type": "code",
   "execution_count": null,
   "metadata": {
    "collapsed": true
   },
   "outputs": [],
   "source": [
    "### Get confusiong matrixes by age"
   ]
  },
  {
   "cell_type": "code",
   "execution_count": 11,
   "metadata": {},
   "outputs": [
    {
     "name": "stdout",
     "output_type": "stream",
     "text": [
      "1.80550602215\n",
      "1.64739763642\n",
      "2.86658295458\n",
      "4.65215876902\n",
      "4.79461618418\n",
      "5.49237238933\n",
      "5.69836466391\n",
      "5.89237217957\n",
      "5.83481068446\n"
     ]
    },
    {
     "data": {
      "text/plain": [
       "<matplotlib.figure.Figure at 0x10df39890>"
      ]
     },
     "metadata": {},
     "output_type": "display_data"
    },
    {
     "data": {
      "text/plain": [
       "<matplotlib.figure.Figure at 0x10df1bdd0>"
      ]
     },
     "metadata": {},
     "output_type": "display_data"
    },
    {
     "data": {
      "text/plain": [
       "<matplotlib.figure.Figure at 0x1a1c514210>"
      ]
     },
     "metadata": {},
     "output_type": "display_data"
    },
    {
     "data": {
      "text/plain": [
       "<matplotlib.figure.Figure at 0x1a23e13190>"
      ]
     },
     "metadata": {},
     "output_type": "display_data"
    },
    {
     "data": {
      "text/plain": [
       "<matplotlib.figure.Figure at 0x1a23e1e990>"
      ]
     },
     "metadata": {},
     "output_type": "display_data"
    },
    {
     "data": {
      "text/plain": [
       "<matplotlib.figure.Figure at 0x1a23e38190>"
      ]
     },
     "metadata": {},
     "output_type": "display_data"
    },
    {
     "data": {
      "text/plain": [
       "<matplotlib.figure.Figure at 0x1a23e44e50>"
      ]
     },
     "metadata": {},
     "output_type": "display_data"
    },
    {
     "data": {
      "text/plain": [
       "<matplotlib.figure.Figure at 0x1a23e44e10>"
      ]
     },
     "metadata": {},
     "output_type": "display_data"
    },
    {
     "data": {
      "text/plain": [
       "<matplotlib.figure.Figure at 0x1a23e4ac10>"
      ]
     },
     "metadata": {},
     "output_type": "display_data"
    }
   ],
   "source": [
    "confMatrixbyAge = np.zeros([np.shape(ordered_objs)[0],np.shape(ordered_objs)[0],9])\n",
    "for age in (2,3,4,5,6,7,8,9,10):\n",
    "    agei=age-2\n",
    "    ind = KM.index[KM['age'] == age]\n",
    "    KM_subset =  KM.loc[ind]\n",
    "    KF_subset =  KF[ind.tolist()]\n",
    "    plt.figure(age,figsize=(18,12))\n",
    "    \n",
    "    confMatrix = np.zeros([np.shape(ordered_objs)[0],np.shape(ordered_objs)[0]])\n",
    "    for t, target_label in enumerate(ordered_objs):\n",
    "        for c, conf_label in enumerate(ordered_objs):\n",
    "            confMatrix[t,c]=get_two_class_discrim(KF_subset,KM_subset,target_label,conf_label)  \n",
    "    \n",
    "    print np.mean(confMatrix[np.where(~np.eye(confMatrix.shape[0],dtype=bool))])\n",
    "    confMatrixbyAge[:,:,agei]=confMatrix\n"
   ]
  },
  {
   "cell_type": "code",
   "execution_count": 12,
   "metadata": {},
   "outputs": [
    {
     "name": "stdout",
     "output_type": "stream",
     "text": [
      "2\n",
      "3\n",
      "4\n",
      "5\n",
      "6\n",
      "7\n",
      "8\n",
      "9\n",
      "10\n"
     ]
    },
    {
     "data": {
      "text/plain": [
       "<matplotlib.figure.Figure at 0x1a23897e10>"
      ]
     },
     "metadata": {},
     "output_type": "display_data"
    },
    {
     "data": {
      "image/png": "[encoded data removed]",
      "text/plain": [
       "<matplotlib.figure.Figure at 0x1a1c3cd9d0>"
      ]
     },
     "metadata": {},
     "output_type": "display_data"
    },
    {
     "data": {
      "text/plain": [
       "<matplotlib.figure.Figure at 0x10f8cf850>"
      ]
     },
     "metadata": {},
     "output_type": "display_data"
    },
    {
     "data": {
      "image/png": "[encoded data removed]",
      "text/plain": [
       "<matplotlib.figure.Figure at 0x1a31e8bc90>"
      ]
     },
     "metadata": {},
     "output_type": "display_data"
    },
    {
     "data": {
      "text/plain": [
       "<matplotlib.figure.Figure at 0x1a31e026d0>"
      ]
     },
     "metadata": {},
     "output_type": "display_data"
    },
    {
     "data": {
      "image/png": "[encoded data removed]",
      "text/plain": [
       "<matplotlib.figure.Figure at 0x1a23a2b910>"
      ]
     },
     "metadata": {},
     "output_type": "display_data"
    },
    {
     "data": {
      "text/plain": [
       "<matplotlib.figure.Figure at 0x1a23a2b750>"
      ]
     },
     "metadata": {},
     "output_type": "display_data"
    },
    {
     "data": {
      "image/png": "[encoded data removed]",
      "text/plain": [
       "<matplotlib.figure.Figure at 0x1a31decc50>"
      ]
     },
     "metadata": {},
     "output_type": "display_data"
    },
    {
     "data": {
      "text/plain": [
       "<matplotlib.figure.Figure at 0x1a23aed990>"
      ]
     },
     "metadata": {},
     "output_type": "display_data"
    },
    {
     "data": {
      "image/png": "[encoded data removed]",
      "text/plain": [
       "<matplotlib.figure.Figure at 0x1a2b384990>"
      ]
     },
     "metadata": {},
     "output_type": "display_data"
    },
    {
     "data": {
      "text/plain": [
       "<matplotlib.figure.Figure at 0x1a2b367850>"
      ]
     },
     "metadata": {},
     "output_type": "display_data"
    },
    {
     "data": {
      "image/png": "[encoded data removed]",
      "text/plain": [
       "<matplotlib.figure.Figure at 0x1a2b499550>"
      ]
     },
     "metadata": {},
     "output_type": "display_data"
    },
    {
     "data": {
      "text/plain": [
       "<matplotlib.figure.Figure at 0x1a23b17fd0>"
      ]
     },
     "metadata": {},
     "output_type": "display_data"
    },
    {
     "data": {
      "image/png": "[encoded data removed]",
      "text/plain": [
       "<matplotlib.figure.Figure at 0x1a3204e610>"
      ]
     },
     "metadata": {},
     "output_type": "display_data"
    },
    {
     "data": {
      "text/plain": [
       "<matplotlib.figure.Figure at 0x1a320d8310>"
      ]
     },
     "metadata": {},
     "output_type": "display_data"
    },
    {
     "data": {
      "image/png": "[encoded data removed]",
      "text/plain": [
       "<matplotlib.figure.Figure at 0x1a23b177d0>"
      ]
     },
     "metadata": {},
     "output_type": "display_data"
    },
    {
     "data": {
      "text/plain": [
       "<matplotlib.figure.Figure at 0x1a2b488e90>"
      ]
     },
     "metadata": {},
     "output_type": "display_data"
    },
    {
     "data": {
      "image/png": "[encoded data removed]",
      "text/plain": [
       "<matplotlib.figure.Figure at 0x1a322d9dd0>"
      ]
     },
     "metadata": {},
     "output_type": "display_data"
    }
   ],
   "source": [
    "for age in (2,3,4,5,6,7,8,9,10):\n",
    "    print age\n",
    "    agei=age-2\n",
    "    show_confMatrix(confMatrixbyAge[:,:,agei],ordered_objs,age)"
   ]
  },
  {
   "cell_type": "code",
   "execution_count": 32,
   "metadata": {},
   "outputs": [
    {
     "data": {
      "text/plain": [
       "(9, 16)"
      ]
     },
     "execution_count": 32,
     "metadata": {},
     "output_type": "execute_result"
    }
   ],
   "source": [
    "class_distances=np.zeros([np.shape([2,3,4,5,6,7,8,9,10])[0],16])\n",
    "np.shape(class_distances)"
   ]
  },
  {
   "cell_type": "code",
   "execution_count": 36,
   "metadata": {},
   "outputs": [
    {
     "data": {
      "text/plain": [
       "<matplotlib.figure.Figure at 0x1a1e7f1f50>"
      ]
     },
     "metadata": {},
     "output_type": "display_data"
    },
    {
     "data": {
      "text/plain": [
       "<matplotlib.figure.Figure at 0x1a1e80f7d0>"
      ]
     },
     "metadata": {},
     "output_type": "display_data"
    },
    {
     "data": {
      "text/plain": [
       "<matplotlib.figure.Figure at 0x10cc32ed0>"
      ]
     },
     "metadata": {},
     "output_type": "display_data"
    },
    {
     "data": {
      "text/plain": [
       "<matplotlib.figure.Figure at 0x1a23e2dd90>"
      ]
     },
     "metadata": {},
     "output_type": "display_data"
    },
    {
     "data": {
      "text/plain": [
       "<matplotlib.figure.Figure at 0x1a23e3e150>"
      ]
     },
     "metadata": {},
     "output_type": "display_data"
    },
    {
     "data": {
      "text/plain": [
       "<matplotlib.figure.Figure at 0x1a1e6ad450>"
      ]
     },
     "metadata": {},
     "output_type": "display_data"
    },
    {
     "data": {
      "text/plain": [
       "<matplotlib.figure.Figure at 0x1a1e6ad650>"
      ]
     },
     "metadata": {},
     "output_type": "display_data"
    },
    {
     "data": {
      "text/plain": [
       "<matplotlib.figure.Figure at 0x1a3208a810>"
      ]
     },
     "metadata": {},
     "output_type": "display_data"
    },
    {
     "data": {
      "text/plain": [
       "<matplotlib.figure.Figure at 0x1a32455fd0>"
      ]
     },
     "metadata": {},
     "output_type": "display_data"
    }
   ],
   "source": [
    "## Look at distances each age group\n",
    "# for age in (5,9):\n",
    "#     print age\n",
    "agei=0\n",
    "class_distances=np.zeros([10,16])\n",
    "\n",
    "for age in (2,3,4,5,6,7,8,9,10):\n",
    "    agei=agei+1\n",
    "    ind = KM.index[KM['age'] == age]\n",
    "    KM_subset =  KM.loc[ind]\n",
    "    KF_subset =  KF[ind.tolist()]\n",
    "    plt.figure(age,figsize=(18,12))\n",
    "\n",
    "    _labels = np.unique(KM.label.values)\n",
    "    for l, this_label in enumerate(_labels):\n",
    "        these_distances = get_class_distances(KF_subset,KM_subset,this_label)\n",
    "        class_distances[agei,l]=these_distances.mean()\n",
    "        \n",
    "#         sns.distplot(these_distances, hist = False, kde = True,\n",
    "#              kde_kws = {'linewidth': 1,  'shade': False,},\n",
    "#              label = this_label)\n",
    "#         plt.legend(prop={'size': 12}, title = 'Category')\n",
    "#         plt.ylim([0,np.max(these_distances)])\n",
    "        \n",
    "#         plt.hist(these_distances)\n",
    "#         plt.plot(np.log(these_distances))\n",
    "#         plt.ylim([0,.001])\n",
    "#         plt.title('age'+ ' '+ str(age))\n",
    "#         plt.savefig('./plots/Class_distance_distribution_by_age_{}.pdf'.format(age), bbox_inches=\"tight\")\n",
    "\n",
    "\n"
   ]
  },
  {
   "cell_type": "code",
   "execution_count": null,
   "metadata": {
    "collapsed": true
   },
   "outputs": [],
   "source": []
  },
  {
   "cell_type": "markdown",
   "metadata": {},
   "source": [
    "### Try imagewise MDS"
   ]
  },
  {
   "cell_type": "code",
   "execution_count": null,
   "metadata": {
    "collapsed": true
   },
   "outputs": [],
   "source": [
    "## Import libaries\n",
    "from sklearn.metrics import pairwise\n",
    "from sklearn import manifold\n",
    "from sklearn.metrics import euclidean_distances\n",
    "from sklearn.decomposition import PCA\n",
    "seed = np.random.RandomState(seed=3)"
   ]
  },
  {
   "cell_type": "markdown",
   "metadata": {},
   "source": [
    "### Single class MDS at each age"
   ]
  },
  {
   "cell_type": "code",
   "execution_count": null,
   "metadata": {
    "collapsed": true
   },
   "outputs": [],
   "source": [
    "## Make an MDS plot of birds at each ages\n",
    "# for age in (2,3,4,5,6,7,8,9,10):\n",
    "#     ind = KM.index[KM['age'] == age]\n",
    "#     KM_subset =  KM.loc[ind]\n",
    "#     KF_subset =  KF[ind.tolist()]\n",
    "    \n",
    "#     class_features = KF_subset[KM_subset.label.values==\"a bird\"] \n",
    "#     imagewise_distances = pairwise.euclidean_distances(class_features)\n",
    "\n",
    "#     mds = manifold.MDS(n_components=2, max_iter=3000, eps=1e-9, random_state=seed,\n",
    "#                    dissimilarity=\"precomputed\", n_jobs=1)\n",
    "#     pos = mds.fit(imagewise_distances).embedding_\n",
    "\n",
    "#     plt.figure(age)\n",
    "#     s = 20 ## size of the dots\n",
    "#     plt.scatter(pos[:, 0], pos[:, 1], color='turquoise', s=s, lw=0, label='MDS')\n",
    "#     plt.title('age ' + str(age))"
   ]
  },
  {
   "cell_type": "markdown",
   "metadata": {},
   "source": [
    "### Look at multi-class MDS for each age"
   ]
  },
  {
   "cell_type": "code",
   "execution_count": null,
   "metadata": {
    "collapsed": true
   },
   "outputs": [],
   "source": []
  },
  {
   "cell_type": "code",
   "execution_count": 33,
   "metadata": {},
   "outputs": [
    {
     "ename": "NameError",
     "evalue": "name 'pairwise' is not defined",
     "output_type": "error",
     "traceback": [
      "\u001b[0;31m---------------------------------------------------------------------------\u001b[0m",
      "\u001b[0;31mNameError\u001b[0m                                 Traceback (most recent call last)",
      "\u001b[0;32m<ipython-input-33-3d8a9ecca1cd>\u001b[0m in \u001b[0;36m<module>\u001b[0;34m()\u001b[0m\n\u001b[1;32m     20\u001b[0m \u001b[0;34m\u001b[0m\u001b[0m\n\u001b[1;32m     21\u001b[0m     \u001b[0;31m## Compute distances on this subset\u001b[0m\u001b[0;34m\u001b[0m\u001b[0;34m\u001b[0m\u001b[0m\n\u001b[0;32m---> 22\u001b[0;31m     \u001b[0msubset_distances\u001b[0m \u001b[0;34m=\u001b[0m \u001b[0mpairwise\u001b[0m\u001b[0;34m.\u001b[0m\u001b[0meuclidean_distances\u001b[0m\u001b[0;34m(\u001b[0m\u001b[0mKF_subset\u001b[0m\u001b[0;34m)\u001b[0m\u001b[0;34m\u001b[0m\u001b[0m\n\u001b[0m\u001b[1;32m     23\u001b[0m     mds = manifold.MDS(n_components=2, max_iter=3000, eps=1e-9, random_state=seed,\n\u001b[1;32m     24\u001b[0m                        dissimilarity=\"precomputed\", n_jobs=1)\n",
      "\u001b[0;31mNameError\u001b[0m: name 'pairwise' is not defined"
     ]
    },
    {
     "data": {
      "image/png": "[encoded data removed]",
      "text/plain": [
       "<matplotlib.figure.Figure at 0x1a16306cd0>"
      ]
     },
     "metadata": {},
     "output_type": "display_data"
    }
   ],
   "source": [
    "first_class='a person'\n",
    "second_class='a cup'\n",
    "third_class='a house'\n",
    "fig, axs = plt.subplots(3, 3, figsize=(9, 9), sharey=True, sharex=True)\n",
    "\n",
    "for agei, age in enumerate(range(2,11)):\n",
    "    ## Subset to the age and classes of interest\n",
    "    ind = KM.index[KM['age'] == age] & (KM.index[KM.label.values==first_class] | KM.index[KM.label.values==second_class] | KM.index[KM.label.values==third_class])\n",
    "    KM_subset =  KM.loc[ind]\n",
    "    KF_subset =  KF[ind.tolist()]\n",
    "    \n",
    "    plotColors = np.zeros([np.size(KM_subset.label),3])\n",
    "    for i,v in enumerate(np.asarray(KM_subset.label)):\n",
    "        if v==first_class:\n",
    "            plotColors[i]=[255,0,0]\n",
    "        elif v==second_class:\n",
    "            plotColors[i]=[0,0,255]\n",
    "        elif v==third_class:\n",
    "            plotColors[i]=[0,255,0]\n",
    "    \n",
    "    ## Compute distances on this subset\n",
    "    subset_distances = pairwise.euclidean_distances(KF_subset)\n",
    "    mds = manifold.MDS(n_components=2, max_iter=3000, eps=1e-9, random_state=seed,\n",
    "                       dissimilarity=\"precomputed\", n_jobs=1)\n",
    "    pos = mds.fit(subset_distances).embedding_\n",
    "    s = 10 ## size of the dots\n",
    "    ## sublot indexes, messy but OK for now\n",
    "    if agei<3: ## 0,1,2\n",
    "        plot_row=0\n",
    "        plot_col=agei\n",
    "    elif (agei>2) and (agei<6):\n",
    "        plot_row=1\n",
    "        plot_col=agei-3  \n",
    "    elif agei>5: # 6,7,8\n",
    "        plot_row=2\n",
    "        plot_col=agei-6\n",
    "    else:\n",
    "        error('badly specified plots')\n",
    "    \n",
    "    axs[plot_row,plot_col].scatter(pos[:, 0], pos[:, 1], c=plotColors/255.0, s=s, lw=0, label='MDS')\n",
    "#     axs[agei].title('age' + str(age) + \" \" + first_class + \" vs. \"+ second_class)\n",
    "    axs[plot_row,plot_col].set_xlim([-200,200])\n",
    "    axs[plot_row,plot_col].set_ylim([-200,200])\n",
    "    axs[plot_row,plot_col].set_title('age' + str(age))\n",
    "    \n",
    "plt.savefig('./plots-MDS/Distance_MDS_{}_{}_{}.pdf'.format(first_class,second_class,third_class), bbox_inches=\"tight\")\n"
   ]
  },
  {
   "cell_type": "code",
   "execution_count": null,
   "metadata": {
    "collapsed": true
   },
   "outputs": [],
   "source": [
    "np.unique(KM_subset.age)[0]"
   ]
  },
  {
   "cell_type": "code",
   "execution_count": null,
   "metadata": {
    "collapsed": true
   },
   "outputs": [],
   "source": [
    "# class_features = KF[KM.label.values==this_item] \n",
    "# imagewise_distances = pairwise.euclidean_distances(class_features)\n",
    "\n",
    "# mds = manifold.MDS(n_components=2, max_iter=3000, eps=1e-9, random_state=seed,\n",
    "#                    dissimilarity=\"precomputed\", n_jobs=1)\n",
    "# pos = mds.fit(imagewise_distances).embedding_\n",
    "\n",
    "# plt.figure(age)\n",
    "# s = 20 ## size of the dots\n",
    "# plt.scatter(pos[:, 0], pos[:, 1], color='turquoise', s=s, lw=0, label='MDS')\n",
    "# plt.title('all ages' + this_item)"
   ]
  },
  {
   "cell_type": "markdown",
   "metadata": {},
   "source": [
    "### Look at which items are far vs. close to the center of a category"
   ]
  },
  {
   "cell_type": "code",
   "execution_count": null,
   "metadata": {
    "collapsed": true
   },
   "outputs": [],
   "source": [
    "## Get all squared distances in a given class \n",
    "avg_bird = np.where(bird_distances == np.min(bird_distances))\n",
    "weird_bird = np.where(bird_distances == np.max(bird_distances))\n",
    "M_bird = KM_subset[KM_subset.label.values=='a bird']"
   ]
  },
  {
   "cell_type": "code",
   "execution_count": null,
   "metadata": {
    "collapsed": true
   },
   "outputs": [],
   "source": [
    "bird_distances.sort()\n",
    "plt.hist(bird_distances)"
   ]
  },
  {
   "cell_type": "code",
   "execution_count": null,
   "metadata": {
    "collapsed": true
   },
   "outputs": [],
   "source": [
    "bird_distances[weird_bird]  == np.max(bird_distances)\n",
    "M_bird.session.values[weird_bird]"
   ]
  },
  {
   "cell_type": "code",
   "execution_count": null,
   "metadata": {
    "collapsed": true
   },
   "outputs": [],
   "source": [
    "bird_distances.sort()\n",
    "this_bird = np.where(bird_distances == bird_distances[-22])\n",
    "M_bird.session.values[this_bird]"
   ]
  },
  {
   "cell_type": "code",
   "execution_count": null,
   "metadata": {
    "collapsed": true
   },
   "outputs": [],
   "source": [
    "bird_distances.sort()\n",
    "this_bird = np.where(bird_distances == np.min(bird_distances))\n",
    "M_bird.session.values[this_bird]"
   ]
  },
  {
   "cell_type": "markdown",
   "metadata": {},
   "source": [
    "### How consistent are category distance measures across age?"
   ]
  },
  {
   "cell_type": "code",
   "execution_count": null,
   "metadata": {
    "collapsed": true
   },
   "outputs": [],
   "source": [
    "# for age in range(2,11):\n",
    "#     ind = KM.index[KM['age'] == age]\n",
    "#     KM_subset =  KM.loc[ind]\n",
    "#     KF_subset =  KF[ind.tolist()]\n",
    "#     class_means = np.zeros(np.shape(class_list)[0])\n",
    "#     class_std = np.zeros(np.shape(class_list)[0]) \n",
    "#     #\n",
    "#     class_means = get_class_means_bl(KF_subset, KM_subset)\n",
    "#     ordered_means = class_means[sort_inds,:] # order these in same order!! \n",
    "\n",
    "#     agei = age-2\n",
    "#     for l, this_label in enumerate(ordered_objs): # goes through ordered list\n",
    "#         class_std[l] = get_class_std(KF_subset,KM_subset,this_label)"
   ]
  },
  {
   "cell_type": "markdown",
   "metadata": {},
   "source": [
    "### Calculate dprime in each age group"
   ]
  },
  {
   "cell_type": "code",
   "execution_count": 15,
   "metadata": {},
   "outputs": [
    {
     "ename": "NameError",
     "evalue": "name 'class_std' is not defined",
     "output_type": "error",
     "traceback": [
      "\u001b[0;31m---------------------------------------------------------------------------\u001b[0m",
      "\u001b[0;31mNameError\u001b[0m                                 Traceback (most recent call last)",
      "\u001b[0;32m<ipython-input-15-148a4aefc7b6>\u001b[0m in \u001b[0;36m<module>\u001b[0;34m()\u001b[0m\n\u001b[0;32m----> 1\u001b[0;31m \u001b[0mdprime_this_age\u001b[0m \u001b[0;34m=\u001b[0m \u001b[0mget_class_dprime\u001b[0m\u001b[0;34m(\u001b[0m\u001b[0mclass_std\u001b[0m\u001b[0;34m,\u001b[0m \u001b[0mordered_means\u001b[0m\u001b[0;34m,\u001b[0m \u001b[0mordered_objs\u001b[0m\u001b[0;34m)\u001b[0m\u001b[0;34m\u001b[0m\u001b[0m\n\u001b[0m\u001b[1;32m      2\u001b[0m \u001b[0mnp\u001b[0m\u001b[0;34m.\u001b[0m\u001b[0mshape\u001b[0m\u001b[0;34m(\u001b[0m\u001b[0mdprime_this_age\u001b[0m\u001b[0;34m)\u001b[0m\u001b[0;34m\u001b[0m\u001b[0m\n",
      "\u001b[0;31mNameError\u001b[0m: name 'class_std' is not defined"
     ]
    }
   ],
   "source": [
    "dprime_this_age = get_class_dprime(class_std, ordered_means, ordered_objs)\n",
    "np.shape(dprime_this_age)"
   ]
  },
  {
   "cell_type": "code",
   "execution_count": 16,
   "metadata": {
    "collapsed": true
   },
   "outputs": [],
   "source": [
    "dim=16\n",
    "class_list = np.asarray(np.unique(KM.label.values))\n",
    "dprime_by_age = np.zeros([np.shape(class_list)[0], np.shape(class_list)[0], np.shape(range(2,11))[0]])\n",
    "rmse_by_age = np.zeros([np.shape(class_list)[0], np.shape(class_list)[0], np.shape(range(2,11))[0]])\n",
    "rmse_avg_by_age = np.zeros(np.shape(range(2,11)))\n",
    "rmse_std_by_age = np.zeros(np.shape(range(2,11)))\n",
    "dprime_avg_by_age = np.zeros(np.shape(range(2,11)))\n",
    "class_std_by_age = np.zeros([np.shape(class_list)[0],np.shape(range(2,11))[0]])\n",
    "\n",
    "for age in range(2,11):\n",
    "#     print age\n",
    "    ind = KM.index[KM['age'] == age]\n",
    "    KM_subset =  KM.loc[ind]\n",
    "    KF_subset =  KF[ind.tolist()]\n",
    "    class_means = np.zeros(np.shape(class_list)[0])\n",
    "    class_std = np.zeros(np.shape(class_list)[0]) \n",
    "    #\n",
    "    class_means = get_class_means_bl(KF_subset, KM_subset)\n",
    "    ordered_means = class_means[sort_inds,:] # order these in same order!! \n",
    "\n",
    "    agei = age-2\n",
    "    for l, this_label in enumerate(ordered_objs): # goes through ordered list\n",
    "        class_std[l] = get_class_mdm(KF_subset,KM_subset,this_label)\n",
    "    class_std_by_age[:,agei] = class_std\n",
    "    dprime_this_age = get_class_dprime(class_std, ordered_means, ordered_objs)\n",
    "    rmse_this_age = get_class_rmse_only(class_std,ordered_means, ordered_objs)\n",
    "    dprime_by_age[:,:,agei] = dprime_this_age\n",
    "    rmse_by_age[:,:,agei] = rmse_this_age\n",
    "    dprime_avg_by_age[agei] = np.mean(np.ravel(dprime_this_age[np.triu_indices(dim,k=1)]))\n",
    "    rmse_avg_by_age[agei] = np.mean(np.ravel(rmse_this_age[np.triu_indices(dim,k=1)]))\n",
    "    rmse_std_by_age[agei] = np.std(np.ravel(rmse_this_age[np.triu_indices(dim,k=1)]))\n"
   ]
  },
  {
   "cell_type": "code",
   "execution_count": null,
   "metadata": {
    "collapsed": true
   },
   "outputs": [],
   "source": [
    "ordered_objs"
   ]
  },
  {
   "cell_type": "code",
   "execution_count": null,
   "metadata": {
    "collapsed": true
   },
   "outputs": [],
   "source": [
    "for l, this_label in enumerate(ordered_objs):\n",
    "    matplotlib.pyplot.plot(np.arange(2,11),class_std_by_age[l,:])\n",
    "    np.std(class_std_by_age[l,:])\n",
    "    \n",
    "sns.color_palette(\"muted\")\n",
    "sns.set()\n",
    "## relative distances between categories -- correlation metric\n",
    "## absolute distances between categories -- nominator\n"
   ]
  },
  {
   "cell_type": "code",
   "execution_count": null,
   "metadata": {
    "collapsed": true
   },
   "outputs": [],
   "source": []
  },
  {
   "cell_type": "markdown",
   "metadata": {},
   "source": [
    "### Output average d-prime stats across category pairings"
   ]
  },
  {
   "cell_type": "code",
   "execution_count": null,
   "metadata": {
    "collapsed": true
   },
   "outputs": [],
   "source": [
    "dim = 16\n",
    "for agei in range(0,9):\n",
    "    print 'average d prime of {} year old = {} '.format(agei+2, np.round(dprime_avg_by_age[agei],2))\n",
    "#     print 'max d prime of {} year old = {} '.format(agei+2,round(np.max(dprime_by_age[agei]),2))\n",
    "#     print ' {}-yrs, M={}'.format(agei+2, np.round(dprime_avg_by_age[agei],2))"
   ]
  },
  {
   "cell_type": "code",
   "execution_count": null,
   "metadata": {
    "collapsed": true
   },
   "outputs": [],
   "source": [
    "dim = 16\n",
    "for agei in range(0,9):\n",
    "    print 'average rmse of {} year old = {} '.format(agei+2, np.round(rmse_avg_by_age[agei],2))\n",
    "#     print 'max d prime of {} year old = {} '.format(agei+2,round(np.max(dprime_by_age[agei]),2))\n",
    "#     print ' {}-yrs, M={}'.format(agei+2, np.round(dprime_avg_by_age[agei],2))\n",
    "\n",
    "dim = 16\n",
    "for agei in range(0,9):\n",
    "    print 'std rmse of {} year old = {} '.format(agei+2, np.round(rmse_std_by_age[agei],2))\n",
    "    \n"
   ]
  },
  {
   "cell_type": "markdown",
   "metadata": {},
   "source": [
    "### Quick plot of average dprime x age with std as errorbars "
   ]
  },
  {
   "cell_type": "code",
   "execution_count": null,
   "metadata": {
    "collapsed": true
   },
   "outputs": [],
   "source": [
    "# Quick plot of average dprime x age with std as \n",
    "# vals_to_avg = (dprime_by_age[np.triu_indices(dim,k=1)])\n",
    "# dprime_age_means = np.mean(vals_to_avg,0)\n",
    "# dprime_age_stds = np.std(vals_to_avg,0)\n",
    "# matplotlib.pyplot.errorbar(np.arange(2,11), dprime_age_means, yerr = dprime_age_stds )"
   ]
  },
  {
   "cell_type": "markdown",
   "metadata": {},
   "source": [
    "### Define a set of plotting functions for dprime/RDM"
   ]
  },
  {
   "cell_type": "code",
   "execution_count": 14,
   "metadata": {
    "collapsed": true
   },
   "outputs": [],
   "source": [
    "def show_rmse(rmse,ordered_objs,age):\n",
    "    sns.set_context('paper')\n",
    "    fig = plt.figure(figsize=(40,40))\n",
    "    plt.matshow(rmse, vmin=0, vmax=100) # maximum pairwise value in data\n",
    "    plt.xticks(range(len(ordered_objs)), ordered_objs, rotation=90,fontsize = 12);\n",
    "    plt.yticks(range(len(ordered_objs)), ordered_objs,fontsize = 12); \n",
    "    plt.colorbar()\n",
    "    for tick in pylab.gca().xaxis.iter_ticks():\n",
    "        tick[0].label2On = True\n",
    "        tick[0].label1On = False\n",
    "        tick[0].label2.set_rotation('vertical')\n",
    "        tick[0].tick1On = False\n",
    "        tick[0].tick2On = False\n",
    "    for tick in pylab.gca().yaxis.iter_ticks():\n",
    "        tick[0].tick1On = False\n",
    "        tick[0].tick2On = False \n",
    "    plt.savefig('./plots/RMSE_{}_Layer_{}.pdf'.format(age, layer_ind), bbox_inches=\"tight\")\n",
    "\n",
    "def show_dprime(d_prime,ordered_objs,age):\n",
    "    sns.set_context('paper')\n",
    "    fig = plt.figure(figsize=(40,40))\n",
    "    plt.matshow(d_prime, vmin=0, vmax=.8) # maximum pairwise value in data\n",
    "    plt.xticks(range(len(ordered_objs)), ordered_objs, rotation=90,fontsize = 12);\n",
    "    plt.yticks(range(len(ordered_objs)), ordered_objs,fontsize = 12); \n",
    "    plt.colorbar()\n",
    "    for tick in pylab.gca().xaxis.iter_ticks():\n",
    "        tick[0].label2On = True\n",
    "        tick[0].label1On = False\n",
    "        tick[0].label2.set_rotation('vertical')\n",
    "        tick[0].tick1On = False\n",
    "        tick[0].tick2On = False\n",
    "    for tick in pylab.gca().yaxis.iter_ticks():\n",
    "        tick[0].tick1On = False\n",
    "        tick[0].tick2On = False \n",
    "    plt.savefig('./plots/Dprime_{}_Layer_{}.pdf'.format(age, layer_ind), bbox_inches=\"tight\")\n",
    "\n",
    "def showRDM(RDM,ordered_objs,age):\n",
    "    sns.set_context('paper')\n",
    "    fig = plt.figure(figsize=(30,30))\n",
    "    plt.matshow(RDM, vmin=0, vmax=2)\n",
    "    plt.xticks(range(len(ordered_objs)), ordered_objs, rotation=90);\n",
    "    plt.yticks(range(len(ordered_objs)), ordered_objs); \n",
    "    plt.colorbar()\n",
    "    for tick in pylab.gca().xaxis.iter_ticks():\n",
    "        tick[0].label2On = True\n",
    "        tick[0].label1On = False\n",
    "        tick[0].label2.set_rotation('vertical')\n",
    "        tick[0].tick1On = False\n",
    "        tick[0].tick2On = False\n",
    "    for tick in pylab.gca().yaxis.iter_ticks():\n",
    "        tick[0].tick1On = False\n",
    "        tick[0].tick2On = False  \n",
    "    plt.savefig('./plots/RDM_{}_Layer_{}.pdf'.format(age, layer_ind), bbox_inches=\"tight\")"
   ]
  },
  {
   "cell_type": "code",
   "execution_count": null,
   "metadata": {
    "collapsed": true
   },
   "outputs": [],
   "source": [
    "np.max(rmse_by_age[:,:,0])"
   ]
  },
  {
   "cell_type": "code",
   "execution_count": null,
   "metadata": {
    "collapsed": true
   },
   "outputs": [],
   "source": [
    "show_dprime(dprime_by_age[:,:,0],ordered_objs,'age2')\n",
    "show_rmse(rmse_by_age[:,:,0],ordered_objs,'age2')\n",
    "\n"
   ]
  },
  {
   "cell_type": "code",
   "execution_count": null,
   "metadata": {
    "collapsed": true
   },
   "outputs": [],
   "source": [
    "show_dprime(dprime_by_age[:,:,1],ordered_objs,'age3')\n",
    "show_rmse(rmse_by_age[:,:,1],ordered_objs,'age3')"
   ]
  },
  {
   "cell_type": "code",
   "execution_count": null,
   "metadata": {
    "collapsed": true
   },
   "outputs": [],
   "source": [
    "show_dprime(dprime_by_age[:,:,2],ordered_objs,'age4')\n",
    "show_rmse(rmse_by_age[:,:,2],ordered_objs,'age4')"
   ]
  },
  {
   "cell_type": "code",
   "execution_count": null,
   "metadata": {
    "collapsed": true
   },
   "outputs": [],
   "source": [
    "show_dprime(dprime_by_age[:,:,3],ordered_objs,'age5')\n",
    "show_rmse(rmse_by_age[:,:,3],ordered_objs,'age5')"
   ]
  },
  {
   "cell_type": "code",
   "execution_count": null,
   "metadata": {
    "collapsed": true
   },
   "outputs": [],
   "source": [
    "show_dprime(dprime_by_age[:,:,4],ordered_objs,'age6')\n",
    "show_rmse(rmse_by_age[:,:,4],ordered_objs,'age6')"
   ]
  },
  {
   "cell_type": "code",
   "execution_count": null,
   "metadata": {
    "collapsed": true
   },
   "outputs": [],
   "source": [
    "show_dprime(dprime_by_age[:,:,5],ordered_objs,'age7')\n",
    "show_rmse(rmse_by_age[:,:,5],ordered_objs,'age7')"
   ]
  },
  {
   "cell_type": "code",
   "execution_count": null,
   "metadata": {
    "collapsed": true
   },
   "outputs": [],
   "source": [
    "show_dprime(dprime_by_age[:,:,6],ordered_objs,'age8')\n",
    "show_rmse(rmse_by_age[:,:,6],ordered_objs,'age8')"
   ]
  },
  {
   "cell_type": "code",
   "execution_count": null,
   "metadata": {
    "collapsed": true
   },
   "outputs": [],
   "source": [
    "show_dprime(dprime_by_age[:,:,7],ordered_objs,'age9')\n",
    "show_rmse(rmse_by_age[:,:,7],ordered_objs,'age9')"
   ]
  },
  {
   "cell_type": "code",
   "execution_count": null,
   "metadata": {
    "collapsed": true
   },
   "outputs": [],
   "source": [
    "show_dprime(dprime_by_age[:,:,8],ordered_objs,'age10')\n",
    "show_rmse(rmse_by_age[:,:,8],ordered_objs,'age10')\n",
    "np.max(rmse_by_age[:,:,8])"
   ]
  },
  {
   "cell_type": "code",
   "execution_count": null,
   "metadata": {
    "collapsed": true
   },
   "outputs": [],
   "source": [
    "rdm_by_age = np.zeros([np.shape(class_list)[0], np.shape(class_list)[0], np.shape(range(2,11))[0]])\n",
    "rdm_corr_age = np.zeros(np.shape(range(10,2,-1))[0])\n",
    "\n",
    "for age in range(10,1,-1):\n",
    "    agei = age-2\n",
    "    ind = KM.index[KM['age'] == age]\n",
    "    KM_subset =  KM.loc[ind]\n",
    "    KF_subset =  KF[ind.tolist()]\n",
    "\n",
    "    class_means = np.zeros(np.shape(class_list)[0])\n",
    "    class_means = get_class_means_bl(KF_subset, KM_subset)\n",
    "    ordered_means = class_means[sort_inds,:]\n",
    "    this_rdm = np.corrcoef(ordered_means)\n",
    "    this_rdm = 1 - this_rdm\n",
    "    if age==10:\n",
    "        oldest_rdm = this_rdm\n",
    "    else:\n",
    "        rdm_by_age[:,:,agei] = this_rdm\n",
    "        rdm_corr_age[agei] = stats.spearmanr(np.ravel(oldest_rdm[np.triu_indices(16,k=1)]),np.ravel(this_rdm[np.triu_indices(16,k=1)]))[0]\n",
    "        print 'rdm corr for age {} is {}'.format(age, rdm_corr_age[agei])"
   ]
  },
  {
   "cell_type": "code",
   "execution_count": null,
   "metadata": {
    "collapsed": true
   },
   "outputs": [],
   "source": [
    "for age in range(2,10,1):\n",
    "    agei=age-2\n",
    "    print ' {}-yrs, r={}'.format(age, np.round(rdm_corr_age[agei],2))"
   ]
  },
  {
   "cell_type": "code",
   "execution_count": null,
   "metadata": {
    "collapsed": true
   },
   "outputs": [],
   "source": []
  },
  {
   "cell_type": "code",
   "execution_count": null,
   "metadata": {
    "collapsed": true
   },
   "outputs": [],
   "source": [
    "# colors = sns.color_palette(\"cubehelix\", 16) \n",
    "colors = sns.cubehelix_palette(16, start=.5, rot=-.75)\n",
    "colors = sns.color_palette(\"muted\",16)"
   ]
  },
  {
   "cell_type": "code",
   "execution_count": null,
   "metadata": {
    "collapsed": true
   },
   "outputs": [],
   "source": [
    "fig, axs = plt.subplots(3, 3, figsize=(15, 15), sharey=True, sharex=True)\n",
    "s=20\n",
    "current_palette = sns.color_palette()\n",
    "\n",
    "\n",
    "for agei, age in enumerate(range(2,11)):\n",
    "    print agei\n",
    "    print age\n",
    "    this_rdm=rdm_by_age[:,:,agei]\n",
    "#     print np.shape(this_rdm)\n",
    "    \n",
    "    mds = manifold.MDS(n_components=2, max_iter=3000, eps=1e-9, random_state=seed,\n",
    "                       dissimilarity=\"precomputed\", n_jobs=1)\n",
    "    pos = mds.fit(this_rdm).embedding_\n",
    "\n",
    "    ## sublot indexes, messy but OK for now\n",
    "    if agei<3: ## 0,1,2\n",
    "        plot_row=0\n",
    "        plot_col=agei\n",
    "    elif (agei>2) and (agei<6):\n",
    "        plot_row=1\n",
    "        plot_col=agei-3  \n",
    "    elif agei>5: # 6,7,8\n",
    "        plot_row=2\n",
    "        plot_col=agei-6\n",
    "    else:\n",
    "        error('badly specified plots')\n",
    "\n",
    "    axs[plot_row,plot_col].scatter(pos[:, 0], pos[:, 1], c=colors, s=s, lw=0, label=ordered_objs)\n",
    "    for i, txt in enumerate(ordered_objs):\n",
    "        axs[plot_row,plot_col].annotate(txt, (pos[i,0], pos[i,1]))\n",
    "    \n",
    "#     sns.set_palette(sns.color_palette(\"cubehelix\", 16))\n",
    "#     axs[plot_row,plot_col].set_xlim([-200,200])\n",
    "#     axs[plot_row,plot_col].set_ylim([-200,200])\n",
    "    # axs[plot_row,plot_col].set_title('age' + str(age))    \n",
    "    # plt.savefig('./plots-MDS/Distance_MDS_{}_{}_{}.pdf'.format(first_class,second_class,third_class), bbox_inches=\"tight\")\n"
   ]
  },
  {
   "cell_type": "code",
   "execution_count": 13,
   "metadata": {},
   "outputs": [
    {
     "ename": "NameError",
     "evalue": "name 'showRDM' is not defined",
     "output_type": "error",
     "traceback": [
      "\u001b[0;31m---------------------------------------------------------------------------\u001b[0m",
      "\u001b[0;31mNameError\u001b[0m                                 Traceback (most recent call last)",
      "\u001b[0;32m<ipython-input-13-89f04a812c6e>\u001b[0m in \u001b[0;36m<module>\u001b[0;34m()\u001b[0m\n\u001b[0;32m----> 1\u001b[0;31m \u001b[0mshowRDM\u001b[0m\u001b[0;34m(\u001b[0m\u001b[0mrdm_by_age\u001b[0m\u001b[0;34m[\u001b[0m\u001b[0;34m:\u001b[0m\u001b[0;34m,\u001b[0m\u001b[0;34m:\u001b[0m\u001b[0;34m,\u001b[0m\u001b[0;36m1\u001b[0m\u001b[0;34m]\u001b[0m\u001b[0;34m,\u001b[0m\u001b[0mordered_objs\u001b[0m\u001b[0;34m,\u001b[0m\u001b[0;34m'age3'\u001b[0m\u001b[0;34m)\u001b[0m\u001b[0;34m\u001b[0m\u001b[0m\n\u001b[0m",
      "\u001b[0;31mNameError\u001b[0m: name 'showRDM' is not defined"
     ]
    }
   ],
   "source": [
    "showRDM(rdm_by_age[:,:,1],ordered_objs,'age3')"
   ]
  },
  {
   "cell_type": "code",
   "execution_count": null,
   "metadata": {
    "collapsed": true
   },
   "outputs": [],
   "source": [
    "showRDM(rdm_by_age[:,:,2],ordered_objs,'age4')"
   ]
  },
  {
   "cell_type": "code",
   "execution_count": null,
   "metadata": {
    "collapsed": true
   },
   "outputs": [],
   "source": [
    "showRDM(rdm_by_age[:,:,3],ordered_objs,'age5')\n"
   ]
  },
  {
   "cell_type": "code",
   "execution_count": null,
   "metadata": {
    "collapsed": true
   },
   "outputs": [],
   "source": [
    "showRDM(rdm_by_age[:,:,4],ordered_objs,'age6')\n"
   ]
  },
  {
   "cell_type": "code",
   "execution_count": null,
   "metadata": {
    "collapsed": true
   },
   "outputs": [],
   "source": [
    "showRDM(rdm_by_age[:,:,5],ordered_objs,'age7')\n"
   ]
  },
  {
   "cell_type": "code",
   "execution_count": null,
   "metadata": {
    "collapsed": true
   },
   "outputs": [],
   "source": [
    "showRDM(rdm_by_age[:,:,6],ordered_objs,'age8')\n"
   ]
  },
  {
   "cell_type": "code",
   "execution_count": null,
   "metadata": {
    "collapsed": true
   },
   "outputs": [],
   "source": [
    "showRDM(rdm_by_age[:,:,7],ordered_objs,'age9')"
   ]
  },
  {
   "cell_type": "code",
   "execution_count": null,
   "metadata": {
    "collapsed": true
   },
   "outputs": [],
   "source": []
  }
 ],
 "metadata": {
  "kernelspec": {
   "display_name": "Python 2",
   "language": "python",
   "name": "python2"
  },
  "language_info": {
   "codemirror_mode": {
    "name": "ipython",
    "version": 2
   },
   "file_extension": ".py",
   "mimetype": "text/x-python",
   "name": "python",
   "nbconvert_exporter": "python",
   "pygments_lexer": "ipython2",
   "version": "2.7.14"
  }
 },
 "nbformat": 4,
 "nbformat_minor": 1
}
