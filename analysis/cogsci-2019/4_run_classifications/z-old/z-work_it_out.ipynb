{
 "cells": [
  {
   "cell_type": "code",
   "execution_count": 4,
   "metadata": {
    "collapsed": true
   },
   "outputs": [],
   "source": [
    "## libraries\n",
    "from __future__ import division\n",
    "\n",
    "##\n",
    "import os\n",
    "import urllib, cStringIO\n",
    "import numpy as np\n",
    "import pandas as pd\n",
    "\n",
    "## scikit learn\n",
    "import sklearn\n",
    "from sklearn import linear_model, datasets, neighbors\n",
    "from imblearn.under_sampling import RandomUnderSampler"
   ]
  },
  {
   "cell_type": "code",
   "execution_count": 9,
   "metadata": {
    "collapsed": true
   },
   "outputs": [],
   "source": [
    "def load_features(cohort, layer_num,dataset):\n",
    "    layers = ['P1','P2','P3','P4','P5','FC6','FC7']    \n",
    "    F = np.load('/Users/brialong/Documents/GitHub/kiddraw/analysis/museumstation/feature_space_analyses/features/{}/FEATURES_{}_{}_Spatial_True.npy'.format(dataset,layers[layer_num],cohort))\n",
    "    M = pd.read_csv('//Users/brialong/Documents/GitHub/kiddraw/analysis/museumstation/feature_space_analyses/features/{}/METADATA_{}.csv'.format(dataset, cohort)) \n",
    "    M = M[['label','age','session']]\n",
    "    return F, M\n",
    "\n",
    "def balance_dataset(KF, KM):\n",
    "    rus = RandomUnderSampler(random_state=0) ## always have same random under sampling\n",
    "    KF_downsampled, class_labels_downsampled = rus.fit_resample(KF, KM['label'].values)\n",
    "    new_samples_ind = rus.sample_indices_\n",
    "    KM_downsampled = KM.loc[new_samples_ind]\n",
    "    X = KF_downsampled\n",
    "    Y = class_labels_downsampled\n",
    "    return(X,Y, KM_downsampled)"
   ]
  },
  {
   "cell_type": "code",
   "execution_count": 13,
   "metadata": {},
   "outputs": [],
   "source": [
    "layer_ind = 6\n",
    "test_index = np.asarray([0])\n",
    "dataset = 'rendered_111918'\n",
    "\n",
    "KF, KM = load_features('kid',layer_ind,dataset)\n",
    "X,y,KM_downsampled = balance_dataset(KF,KM)\n",
    "\n",
    " ## delete test index from test index array  \n",
    "train_indexes = np.asarray(range(0,np.shape(X)[0]))\n",
    "train_indexes = np.delete(train_indexes,test_index)\n",
    "\n",
    "## get train/test indexes    \n",
    "X_train, X_test = X[train_indexes], X[test_index]\n",
    "y_train, y_test = y[train_indexes], y[test_index]\n",
    "\n",
    "num_categories=np.shape(np.unique(y))[0]\n"
   ]
  },
  {
   "cell_type": "code",
   "execution_count": 14,
   "metadata": {},
   "outputs": [
    {
     "name": "stderr",
     "output_type": "stream",
     "text": [
      "/Users/brialong/anaconda2/lib/python2.7/site-packages/sklearn/linear_model/logistic.py:459: FutureWarning: Default multi_class will be changed to 'auto' in 0.22. Specify the multi_class option to silence this warning.\n",
      "  \"this warning.\", FutureWarning)\n"
     ]
    }
   ],
   "source": [
    "clf = linear_model.LogisticRegression(penalty='l2',C=1,tol=.1,solver='sag').fit(X_train, y_train)\n"
   ]
  },
  {
   "cell_type": "code",
   "execution_count": 15,
   "metadata": {
    "collapsed": true
   },
   "outputs": [],
   "source": [
    "this_image_score = clf.score(X_test, y_test)\n"
   ]
  },
  {
   "cell_type": "code",
   "execution_count": null,
   "metadata": {
    "collapsed": true
   },
   "outputs": [],
   "source": [
    "# correct or not\n",
    "correct_or_not = clf.score(X_test, y_test)\n",
    "\n",
    "# probabilities\n",
    "probs = clf.predict_proba(X_test)\n",
    "\n",
    "## target label\n",
    "target_label = KM_downsampled['label'].iloc[test_index_numeric]\n",
    "\n",
    "# target probability\n",
    "target_label_ind = np.where(clf.classes_==target_label)\n",
    "prob_array = probs[0,target_label_ind]\n",
    "target_label_prob = (prob_array[0,0])\n",
    "\n",
    "# age/sessionid\n",
    "age = (KM_downsampled['age'].iloc[test_index_numeric])\n",
    "session_id = KM_downsampled['session'].iloc[test_index_numeric]"
   ]
  },
  {
   "cell_type": "code",
   "execution_count": 28,
   "metadata": {},
   "outputs": [],
   "source": [
    "# print it all out in a dataframe so we group metadata with outputs for easy reading into r \n",
    "_data = pd.DataFrame([test_index_numeric, age, target_label, session_id, correct_or_not,target_label_prob])\n",
    "_data = _data.transpose()\n",
    "_data = _data.astype(object)\n",
    "_data.columns = ['index','age','target_label','session_id','correct_or_not','target_label_prob']\n",
    "## append probability for allc classes to dataframe\n",
    "image_probs_2_df = pd.DataFrame(probs)\n",
    "image_probs_2_df.columns = clf.classes_ + \"_prob\"\n",
    "out = pd.concat([_data,image_probs_2_df], axis=1)\n",
    "\n",
    "out.to_csv('museumstation_subset_classification_ind_{}.csv'.format(test_index_numeric))"
   ]
  },
  {
   "cell_type": "code",
   "execution_count": 29,
   "metadata": {},
   "outputs": [
    {
     "data": {
      "text/html": [
       "<div>\n",
       "<style>\n",
       "    .dataframe thead tr:only-child th {\n",
       "        text-align: right;\n",
       "    }\n",
       "\n",
       "    .dataframe thead th {\n",
       "        text-align: left;\n",
       "    }\n",
       "\n",
       "    .dataframe tbody tr th {\n",
       "        vertical-align: top;\n",
       "    }\n",
       "</style>\n",
       "<table border=\"1\" class=\"dataframe\">\n",
       "  <thead>\n",
       "    <tr style=\"text-align: right;\">\n",
       "      <th></th>\n",
       "      <th>index</th>\n",
       "      <th>age</th>\n",
       "      <th>target_label</th>\n",
       "      <th>session_id</th>\n",
       "      <th>correct_or_not</th>\n",
       "      <th>target_label_prob</th>\n",
       "      <th>airplane_prob</th>\n",
       "      <th>bear_prob</th>\n",
       "      <th>bike_prob</th>\n",
       "      <th>bird_prob</th>\n",
       "      <th>...</th>\n",
       "      <th>frog_prob</th>\n",
       "      <th>house_prob</th>\n",
       "      <th>key_prob</th>\n",
       "      <th>person_prob</th>\n",
       "      <th>phone_prob</th>\n",
       "      <th>rabbit_prob</th>\n",
       "      <th>scissors_prob</th>\n",
       "      <th>sheep_prob</th>\n",
       "      <th>train_prob</th>\n",
       "      <th>tree_prob</th>\n",
       "    </tr>\n",
       "  </thead>\n",
       "  <tbody>\n",
       "    <tr>\n",
       "      <th>0</th>\n",
       "      <td>0</td>\n",
       "      <td>2</td>\n",
       "      <td>airplane</td>\n",
       "      <td>run_v31530385056869</td>\n",
       "      <td>1</td>\n",
       "      <td>0.0618463</td>\n",
       "      <td>0.061846</td>\n",
       "      <td>0.042038</td>\n",
       "      <td>0.040822</td>\n",
       "      <td>0.045119</td>\n",
       "      <td>...</td>\n",
       "      <td>0.0371</td>\n",
       "      <td>0.030933</td>\n",
       "      <td>0.041185</td>\n",
       "      <td>0.045706</td>\n",
       "      <td>0.037717</td>\n",
       "      <td>0.042405</td>\n",
       "      <td>0.048308</td>\n",
       "      <td>0.043199</td>\n",
       "      <td>0.039406</td>\n",
       "      <td>0.041561</td>\n",
       "    </tr>\n",
       "  </tbody>\n",
       "</table>\n",
       "<p>1 rows × 29 columns</p>\n",
       "</div>"
      ],
      "text/plain": [
       "  index age target_label           session_id correct_or_not  \\\n",
       "0     0   2     airplane  run_v31530385056869              1   \n",
       "\n",
       "  target_label_prob  airplane_prob  bear_prob  bike_prob  bird_prob  \\\n",
       "0         0.0618463       0.061846   0.042038   0.040822   0.045119   \n",
       "\n",
       "     ...      frog_prob  house_prob  key_prob  person_prob  phone_prob  \\\n",
       "0    ...         0.0371    0.030933  0.041185     0.045706    0.037717   \n",
       "\n",
       "   rabbit_prob  scissors_prob  sheep_prob  train_prob  tree_prob  \n",
       "0     0.042405       0.048308    0.043199    0.039406   0.041561  \n",
       "\n",
       "[1 rows x 29 columns]"
      ]
     },
     "execution_count": 29,
     "metadata": {},
     "output_type": "execute_result"
    }
   ],
   "source": [
    "out"
   ]
  },
  {
   "cell_type": "code",
   "execution_count": 145,
   "metadata": {
    "collapsed": true
   },
   "outputs": [],
   "source": [
    "# from sklearn.model_selection import LeaveOneOut\n",
    "# loo = LeaveOneOut()\n",
    "# for train, test in loo.split(y):\n",
    "#     print np.shape(test)\n",
    "#     print type(test)\n",
    "#     print np.shape(test_index)\n",
    "#     print type(test_index)\n",
    "# #     print np.shape(y[test])\n",
    "# #     print np.shape(y[test_index])\n",
    "    "
   ]
  },
  {
   "cell_type": "code",
   "execution_count": 141,
   "metadata": {},
   "outputs": [
    {
     "data": {
      "text/plain": [
       "array(0)"
      ]
     },
     "execution_count": 141,
     "metadata": {},
     "output_type": "execute_result"
    }
   ],
   "source": [
    "test_index"
   ]
  },
  {
   "cell_type": "code",
   "execution_count": 142,
   "metadata": {},
   "outputs": [
    {
     "data": {
      "text/plain": [
       "array([6111])"
      ]
     },
     "execution_count": 142,
     "metadata": {},
     "output_type": "execute_result"
    }
   ],
   "source": [
    "test"
   ]
  },
  {
   "cell_type": "code",
   "execution_count": 146,
   "metadata": {
    "collapsed": true
   },
   "outputs": [],
   "source": [
    "y_test = np.asarray(y[test_index])\n",
    "this_image_score = clf.score(X_test, y_test)\n",
    "# image_scores_2.append(this_image_score)"
   ]
  },
  {
   "cell_type": "code",
   "execution_count": null,
   "metadata": {
    "collapsed": true
   },
   "outputs": [],
   "source": []
  },
  {
   "cell_type": "code",
   "execution_count": 163,
   "metadata": {
    "collapsed": true
   },
   "outputs": [],
   "source": [
    "test_index_numeric = test_index[0]\n",
    "\n",
    "# probabilities\n",
    "probs = clf.predict_proba(X_test)\n",
    "image_probs[test_index,:] = probs\n",
    "\n",
    "## get metadata - index\n",
    "indexes.append(test_index)\n",
    "\n",
    "## target label\n",
    "target_label = KM_downsampled['label'][test_index[0]]\n",
    "target_classes.append(target_label)\n",
    "\n",
    "# target probability\n",
    "target_label_ind = np.where(clf.classes_==target_label)\n",
    "prob_array = probs[0,target_label_ind]\n",
    "target_label_prob.append(prob_array[0,0])\n",
    "\n",
    "# age/sessionid\n",
    "ages.append(KM_downsampled['age'][test_index_numeric])\n",
    "session_ids.append(KM_downsampled['session'][test_index_numeric])\n",
    "\n",
    "# print output just so we know what's happening.\n",
    "# print('loop index = {}, image score = {}'.format(test_index_numeric,this_image_score))\n",
    "\n",
    "# print it all out in a dataframe so we group metadata with outputs for easy reading into r \n",
    "_data = pd.DataFrame([indexes, ages, target_classes, session_ids, image_scores_2,target_label_prob])\n",
    "_data = _data.transpose()\n",
    "_data = _data.astype(object)\n",
    "_data.columns = ['indexes','ages','target_classes','session_ids','image_scores','target_label_prob']\n",
    "## append probability for allc classes to dataframe\n",
    "image_probs_2_df = pd.DataFrame(image_probs)\n",
    "image_probs_2_df.columns = clf.classes_ + \" prob\"\n",
    "out = pd.concat([_data,image_probs_2_df], axis=1)\n",
    "\n",
    "out.to_csv('classification-outputs/museumstation_subset_classification_{}.csv'.format(test_ind))"
   ]
  },
  {
   "cell_type": "code",
   "execution_count": 161,
   "metadata": {},
   "outputs": [
    {
     "data": {
      "text/plain": [
       "array([[ 0.11770293]])"
      ]
     },
     "execution_count": 161,
     "metadata": {},
     "output_type": "execute_result"
    }
   ],
   "source": [
    "target_label_ind = np.where(clf.classes_==target_label)\n",
    "probs[0,target_label_ind]"
   ]
  },
  {
   "cell_type": "code",
   "execution_count": null,
   "metadata": {
    "collapsed": true
   },
   "outputs": [],
   "source": []
  }
 ],
 "metadata": {
  "kernelspec": {
   "display_name": "Python 2",
   "language": "python",
   "name": "python2"
  },
  "language_info": {
   "codemirror_mode": {
    "name": "ipython",
    "version": 2
   },
   "file_extension": ".py",
   "mimetype": "text/x-python",
   "name": "python",
   "nbconvert_exporter": "python",
   "pygments_lexer": "ipython2",
   "version": "2.7.14"
  }
 },
 "nbformat": 4,
 "nbformat_minor": 2
}
