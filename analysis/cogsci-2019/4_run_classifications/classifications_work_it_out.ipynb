{
 "cells": [
  {
   "cell_type": "code",
   "execution_count": 1,
   "metadata": {
    "collapsed": true
   },
   "outputs": [],
   "source": [
    "# libraries\n",
    "from __future__ import division\n",
    "\n",
    "import time\n",
    "import pandas as pd\n",
    "import numpy as np\n",
    "import os\n",
    "import thread\n",
    "import subprocess\n",
    "import urllib, cStringIO\n",
    "import scipy.stats as stats\n",
    "import multiprocessing\n",
    "import subprocess\n",
    "from multiprocessing.dummy import Pool as ThreadPool \n",
    "\n",
    "\n",
    "## scikit learn\n",
    "import sklearn\n",
    "from sklearn.model_selection import train_test_split, cross_val_score\n",
    "from sklearn import svm\n",
    "from sklearn import linear_model, datasets, neighbors\n",
    "from sklearn import metrics\n",
    "from sklearn.model_selection import LeaveOneOut\n",
    "\n",
    "## for rebalancing datasetes\n",
    "from imblearn.under_sampling import RandomUnderSampler"
   ]
  },
  {
   "cell_type": "code",
   "execution_count": 2,
   "metadata": {
    "collapsed": true
   },
   "outputs": [],
   "source": [
    "def load_features(cohort, layer_num):\n",
    "    layers = ['P1','P2','P3','P4','P5','FC6','FC7']    \n",
    "    # F = np.load('/data3/bria/kiddraw_datasets/{}/features/FEATURES_{}_{}_Spatial_True.npy'.format(DATASET,layers[layer_num],cohort))\n",
    "    # M = pd.read_csv('/data3/bria/kiddraw_datasets/{}/features/METADATA_{}.csv'.format(DATASET, cohort)) \n",
    "    F = np.load('/Users/brialong/Documents/GitHub/kiddraw/analysis/museumstation/cogsci-2019/5_feature_space_analyses/features/{}/FEATURES_{}_{}_Spatial_True.npy'.format(DATASET,layers[layer_num],cohort))\n",
    "    M = pd.read_csv('/Users/brialong/Documents/GitHub/kiddraw/analysis/museumstation/cogsci-2019/5_feature_space_analyses/features/{}/METADATA_{}.csv'.format(DATASET, cohort)) \n",
    "    M = M[['label','age','session']]\n",
    "    M['age_str'] = M.age.astype(str)\n",
    "    M['label_age'] = M['label'].str.cat(M['age_str'], sep =\"\") \n",
    "    return F, M\n",
    "\n",
    "def balance_dataset_by_age_and_label(KF, KM):\n",
    "    rus = RandomUnderSampler(random_state=0) ## always have same random under sampling\n",
    "    KF_downsampled, class_by_age_labels_downsampled = rus.fit_resample(KF, KM['label_age'].values)\n",
    "    new_samples_ind = rus.sample_indices_\n",
    "    KM_downsampled = KM.loc[new_samples_ind]\n",
    "    X = KF_downsampled\n",
    "    Y = np.asarray(KM_downsampled['label'])\n",
    "    return(X,Y,KM_downsampled)\n",
    "\n",
    "def get_classifications(test_index):\n",
    "    ## get name of model and split type to get predictions for\n",
    "    test_index = np.asarray([test_index])\n",
    "    test_index_numeric = test_index[0]\n",
    "    ## append regularization parameters to saving directory\n",
    "    out_path_specific = OUT_PATH + \"_C_\" + str(REGULARIZE_PARAM)\n",
    "    ### Load features, balance dataset\n",
    "    KF, KM = load_features('kid',LAYER_IND)\n",
    "    X, y, KM_downsampled = balance_dataset_by_age_and_label(KF,KM)\n",
    "    ## delete test index from test index array from \n",
    "    train_indexes = np.asarray(range(0,np.shape(X)[0]))\n",
    "    train_indexes = np.delete(train_indexes,test_index)\n",
    "    X_train, X_test = X[train_indexes], X[test_index]\n",
    "    y_train, y_test = y[train_indexes], y[test_index]\n",
    "    # run model\n",
    "    clf = linear_model.LogisticRegression(penalty='l2',C=REGULARIZE_PARAM,tol=.1,solver='sag').fit(X_train, y_train)\n",
    "    print 'running regression...'\n",
    "    # get outputs and save relevant info\n",
    "    correct_or_not = clf.score(X_test, y_test) # correct or not\n",
    "    probs = clf.predict_proba(X_test)   # probabilities\n",
    "    target_label = KM_downsampled['label'].iloc[test_index_numeric] ## target label\n",
    "    age = KM_downsampled['age'].iloc[test_index_numeric]\n",
    "    session_id = KM_downsampled['session'].iloc[test_index_numeric]\n",
    "    # target probability\n",
    "    target_label_ind = np.where(clf.classes_==target_label)\n",
    "    prob_array = probs[0,target_label_ind]\n",
    "    target_label_prob = (prob_array[0,0])\n",
    "    # print it all out in a dataframe so we group metadata with outputs for easy reading into r \n",
    "    _data = pd.DataFrame([test_index_numeric, age, target_label, session_id, correct_or_not,target_label_prob])\n",
    "    _data = _data.transpose()\n",
    "    _data = _data.astype(object)\n",
    "    _data.columns = ['index','age','target_label','session_id','correct_or_not','target_label_prob']\n",
    "    ## append probability for all classes to dataframe\n",
    "    image_probs_2_df = pd.DataFrame(probs)\n",
    "    image_probs_2_df.columns = clf.classes_ + \"_prob\"\n",
    "    out = pd.concat([_data,image_probs_2_df], axis=1)\n",
    "    ## save it out\n",
    "    print 'finished and saving!'\n",
    "    if not os.path.exists(out_path_specific):\n",
    "        os.makedirs(out_path_specific)\n",
    "    out.to_csv(os.path.join(out_path_specific,'photodraw2_subset_classification_ind_{}.csv'.format(test_index_numeric)))"
   ]
  },
  {
   "cell_type": "code",
   "execution_count": 3,
   "metadata": {
    "collapsed": true
   },
   "outputs": [],
   "source": [
    "\n",
    "#### SPECIFY PARAMETERS\n",
    "DATASET = 'rendered_111918' ## no features yet\n",
    "LAYER_IND = 6\n",
    "OUT_PATH = 'classification-outputs-041919-balanced'\n",
    "REGULARIZE_PARAM = .1\n",
    "\n",
    "# start clock\n",
    "start_time = time.time()\n",
    "\n",
    "start_ind=0\n",
    "end_ind=10"
   ]
  },
  {
   "cell_type": "code",
   "execution_count": 6,
   "metadata": {},
   "outputs": [],
   "source": [
    "KF, KM = load_features('kid',LAYER_IND)\n",
    "X, y, KM_downsampled = balance_dataset_by_age_and_label(KF,KM)\n",
    "y = np.asarray(y)"
   ]
  },
  {
   "cell_type": "code",
   "execution_count": 8,
   "metadata": {},
   "outputs": [
    {
     "data": {
      "text/plain": [
       "2691"
      ]
     },
     "execution_count": 8,
     "metadata": {},
     "output_type": "execute_result"
    }
   ],
   "source": [
    "np.size(y)"
   ]
  },
  {
   "cell_type": "code",
   "execution_count": 79,
   "metadata": {
    "collapsed": true
   },
   "outputs": [],
   "source": [
    "test_index = 0\n",
    "test_index = np.asarray([test_index])\n",
    "test_index_numeric = test_index[0]\n",
    "train_indexes = np.asarray(range(0,np.shape(X)[0]))\n",
    "train_indexes = np.delete(train_indexes,test_index)\n",
    "## get train/test indexes    \n",
    "X_train, X_test = X[train_indexes], X[test_index]\n",
    "y_train, y_test = y[train_indexes], y[test_index]\n"
   ]
  },
  {
   "cell_type": "code",
   "execution_count": null,
   "metadata": {
    "collapsed": true
   },
   "outputs": [],
   "source": []
  },
  {
   "cell_type": "code",
   "execution_count": 80,
   "metadata": {},
   "outputs": [
    {
     "name": "stdout",
     "output_type": "stream",
     "text": [
      "running regression...\n"
     ]
    }
   ],
   "source": [
    "# run model\n",
    "clf = linear_model.LogisticRegression(penalty='l2',C=REGULARIZE_PARAM,tol=.1,solver='sag').fit(X_train, y_train)\n",
    "print 'running regression...'\n"
   ]
  },
  {
   "cell_type": "code",
   "execution_count": 81,
   "metadata": {},
   "outputs": [
    {
     "data": {
      "text/plain": [
       "array(['airplane'], dtype=object)"
      ]
     },
     "execution_count": 81,
     "metadata": {},
     "output_type": "execute_result"
    }
   ],
   "source": [
    "y_test"
   ]
  },
  {
   "cell_type": "code",
   "execution_count": 83,
   "metadata": {
    "collapsed": true
   },
   "outputs": [],
   "source": [
    "correct_or_not = clf.score(X_test, y_test) # correct or not\n",
    "probs = clf.predict_proba(X_test)   # probabilities\n",
    "target_label = KM_downsampled['label'].iloc[test_index_numeric] ## target label\n",
    "age = KM_downsampled['age'].iloc[test_index_numeric]\n",
    "session_id = KM_downsampled['session'].iloc[test_index_numeric]"
   ]
  },
  {
   "cell_type": "code",
   "execution_count": null,
   "metadata": {
    "collapsed": true
   },
   "outputs": [],
   "source": []
  }
 ],
 "metadata": {
  "kernelspec": {
   "display_name": "Python 2",
   "language": "python",
   "name": "python2"
  },
  "language_info": {
   "codemirror_mode": {
    "name": "ipython",
    "version": 2
   },
   "file_extension": ".py",
   "mimetype": "text/x-python",
   "name": "python",
   "nbconvert_exporter": "python",
   "pygments_lexer": "ipython2",
   "version": "2.7.14"
  }
 },
 "nbformat": 4,
 "nbformat_minor": 2
}
